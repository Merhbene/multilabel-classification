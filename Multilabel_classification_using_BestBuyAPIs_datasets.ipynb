{
  "cells": [
    {
      "cell_type": "markdown",
      "source": [
        "# **Challenge:**\n",
        "\n",
        "Using the [BestBuyAPIs](https://github.com/BestBuyAPIs/open-data-set) dataset, We are building an API with one endpoint that receives the **name** and **description** of a new product as input parameters, and outputs the **categories** that this new product should be in.\n"
      ],
      "metadata": {
        "id": "pnW4S1PfrKkn"
      }
    },
    {
      "cell_type": "markdown",
      "source": [
        "\n",
        "1.   Data understanding\n",
        "2.   Features preprocessing\n",
        "3. Labels encoding\n",
        "4. Classifier building\n",
        "3. API building\n",
        "\n"
      ],
      "metadata": {
        "id": "eWmPlQl5sxaI"
      }
    },
    {
      "cell_type": "code",
      "source": [
        "import nltk \n",
        "import re\n",
        "import pandas as pd\n",
        "import numpy as np\n",
        "import matplotlib.pyplot as plt\n",
        "import seaborn as sns\n",
        "\n",
        "\n",
        "import nltk.corpus\n",
        "from nltk.corpus import stopwords\n",
        "from nltk.stem import PorterStemmer \n",
        "from nltk.tokenize import sent_tokenize, word_tokenize\n",
        "\n",
        "nltk.download('stopwords')\n",
        "nltk.download('punkt')\n",
        "\n",
        "\n",
        "from sklearn.feature_extraction.text import TfidfVectorizer\n",
        "from sklearn.preprocessing import MultiLabelBinarizer\n",
        "\n",
        "from sklearn.model_selection import train_test_split\n",
        "\n",
        "from sklearn.svm import SVC\n",
        "from sklearn.ensemble import RandomForestClassifier\n",
        "from sklearn.linear_model import LogisticRegression\n",
        "from sklearn.multiclass import OneVsRestClassifier\n",
        "from sklearn.metrics import accuracy_score, f1_score, hamming_loss\n",
        "\n",
        "from sklearn.model_selection import GridSearchCV, RandomizedSearchCV\n"
      ],
      "metadata": {
        "colab": {
          "base_uri": "https://localhost:8080/"
        },
        "id": "eMmW5eSoy3B3",
        "outputId": "1ba27f95-afae-4efd-ac90-64276e0d9fea"
      },
      "execution_count": null,
      "outputs": [
        {
          "output_type": "stream",
          "name": "stdout",
          "text": [
            "[nltk_data] Downloading package stopwords to /root/nltk_data...\n",
            "[nltk_data]   Package stopwords is already up-to-date!\n",
            "[nltk_data] Downloading package punkt to /root/nltk_data...\n",
            "[nltk_data]   Package punkt is already up-to-date!\n"
          ]
        },
        {
          "output_type": "execute_result",
          "data": {
            "text/plain": [
              "True"
            ]
          },
          "metadata": {},
          "execution_count": 94
        }
      ]
    },
    {
      "cell_type": "code",
      "source": [
        "from google.colab import drive\n",
        "drive.mount('/content/gdrive')"
      ],
      "metadata": {
        "id": "maI62bnhzRsU"
      },
      "execution_count": null,
      "outputs": []
    },
    {
      "cell_type": "markdown",
      "source": [
        "# Data understanding"
      ],
      "metadata": {
        "id": "IcqkOLJ7uJzZ"
      }
    },
    {
      "cell_type": "code",
      "execution_count": null,
      "metadata": {
        "id": "ccB-rICKgSd6"
      },
      "outputs": [],
      "source": [
        "df = pd.read_json('/content/gdrive/MyDrive/products.json')"
      ]
    },
    {
      "cell_type": "code",
      "source": [
        "df.head()"
      ],
      "metadata": {
        "colab": {
          "base_uri": "https://localhost:8080/",
          "height": 617
        },
        "id": "SsPFfSLbufdr",
        "outputId": "83829315-8252-4b5b-e523-3e38b9390408"
      },
      "execution_count": null,
      "outputs": [
        {
          "output_type": "execute_result",
          "data": {
            "text/plain": [
              "      sku                                             name      type  price  \\\n",
              "0   43900                Duracell - AAA Batteries (4-Pack)  HardGood   5.49   \n",
              "1   48530  Duracell - AA 1.5V CopperTop Batteries (4-Pack)  HardGood   5.49   \n",
              "2  127687                 Duracell - AA Batteries (8-Pack)  HardGood   7.49   \n",
              "3  150115            Energizer - MAX Batteries AA (4-Pack)  HardGood   4.99   \n",
              "4  185230                  Duracell - C Batteries (4-Pack)  HardGood   8.99   \n",
              "\n",
              "           upc                                           category shipping  \\\n",
              "0  41333424019  [{'id': 'pcmcat312300050015', 'name': 'Connect...     5.49   \n",
              "1  41333415017  [{'id': 'pcmcat312300050015', 'name': 'Connect...     5.49   \n",
              "2  41333825014  [{'id': 'pcmcat312300050015', 'name': 'Connect...     5.49   \n",
              "3  39800011329  [{'id': 'pcmcat312300050015', 'name': 'Connect...     5.49   \n",
              "4  41333440019  [{'id': 'pcmcat312300050015', 'name': 'Connect...     5.49   \n",
              "\n",
              "                                         description manufacturer      model  \\\n",
              "0  Compatible with select electronic devices; AAA...     Duracell  MN2400B4Z   \n",
              "1  Long-lasting energy; DURALOCK Power Preserve t...     Duracell  MN1500B4Z   \n",
              "2  Compatible with select electronic devices; AA ...     Duracell  MN1500B8Z   \n",
              "3  4-pack AA alkaline batteries; battery tester i...    Energizer    E91BP-4   \n",
              "4  Compatible with select electronic devices; C s...     Duracell  MN1400R4Z   \n",
              "\n",
              "                                                 url  \\\n",
              "0  http://www.bestbuy.com/site/duracell-aaa-batte...   \n",
              "1  http://www.bestbuy.com/site/duracell-aa-1-5v-c...   \n",
              "2  http://www.bestbuy.com/site/duracell-aa-batter...   \n",
              "3  http://www.bestbuy.com/site/energizer-max-batt...   \n",
              "4  http://www.bestbuy.com/site/duracell-c-batteri...   \n",
              "\n",
              "                                               image  \n",
              "0  http://img.bbystatic.com/BestBuy_US/images/pro...  \n",
              "1  http://img.bbystatic.com/BestBuy_US/images/pro...  \n",
              "2  http://img.bbystatic.com/BestBuy_US/images/pro...  \n",
              "3  http://img.bbystatic.com/BestBuy_US/images/pro...  \n",
              "4  http://img.bbystatic.com/BestBuy_US/images/pro...  "
            ],
            "text/html": [
              "\n",
              "  <div id=\"df-c9b15d79-88a0-4358-9655-280919757b77\">\n",
              "    <div class=\"colab-df-container\">\n",
              "      <div>\n",
              "<style scoped>\n",
              "    .dataframe tbody tr th:only-of-type {\n",
              "        vertical-align: middle;\n",
              "    }\n",
              "\n",
              "    .dataframe tbody tr th {\n",
              "        vertical-align: top;\n",
              "    }\n",
              "\n",
              "    .dataframe thead th {\n",
              "        text-align: right;\n",
              "    }\n",
              "</style>\n",
              "<table border=\"1\" class=\"dataframe\">\n",
              "  <thead>\n",
              "    <tr style=\"text-align: right;\">\n",
              "      <th></th>\n",
              "      <th>sku</th>\n",
              "      <th>name</th>\n",
              "      <th>type</th>\n",
              "      <th>price</th>\n",
              "      <th>upc</th>\n",
              "      <th>category</th>\n",
              "      <th>shipping</th>\n",
              "      <th>description</th>\n",
              "      <th>manufacturer</th>\n",
              "      <th>model</th>\n",
              "      <th>url</th>\n",
              "      <th>image</th>\n",
              "    </tr>\n",
              "  </thead>\n",
              "  <tbody>\n",
              "    <tr>\n",
              "      <th>0</th>\n",
              "      <td>43900</td>\n",
              "      <td>Duracell - AAA Batteries (4-Pack)</td>\n",
              "      <td>HardGood</td>\n",
              "      <td>5.49</td>\n",
              "      <td>41333424019</td>\n",
              "      <td>[{'id': 'pcmcat312300050015', 'name': 'Connect...</td>\n",
              "      <td>5.49</td>\n",
              "      <td>Compatible with select electronic devices; AAA...</td>\n",
              "      <td>Duracell</td>\n",
              "      <td>MN2400B4Z</td>\n",
              "      <td>http://www.bestbuy.com/site/duracell-aaa-batte...</td>\n",
              "      <td>http://img.bbystatic.com/BestBuy_US/images/pro...</td>\n",
              "    </tr>\n",
              "    <tr>\n",
              "      <th>1</th>\n",
              "      <td>48530</td>\n",
              "      <td>Duracell - AA 1.5V CopperTop Batteries (4-Pack)</td>\n",
              "      <td>HardGood</td>\n",
              "      <td>5.49</td>\n",
              "      <td>41333415017</td>\n",
              "      <td>[{'id': 'pcmcat312300050015', 'name': 'Connect...</td>\n",
              "      <td>5.49</td>\n",
              "      <td>Long-lasting energy; DURALOCK Power Preserve t...</td>\n",
              "      <td>Duracell</td>\n",
              "      <td>MN1500B4Z</td>\n",
              "      <td>http://www.bestbuy.com/site/duracell-aa-1-5v-c...</td>\n",
              "      <td>http://img.bbystatic.com/BestBuy_US/images/pro...</td>\n",
              "    </tr>\n",
              "    <tr>\n",
              "      <th>2</th>\n",
              "      <td>127687</td>\n",
              "      <td>Duracell - AA Batteries (8-Pack)</td>\n",
              "      <td>HardGood</td>\n",
              "      <td>7.49</td>\n",
              "      <td>41333825014</td>\n",
              "      <td>[{'id': 'pcmcat312300050015', 'name': 'Connect...</td>\n",
              "      <td>5.49</td>\n",
              "      <td>Compatible with select electronic devices; AA ...</td>\n",
              "      <td>Duracell</td>\n",
              "      <td>MN1500B8Z</td>\n",
              "      <td>http://www.bestbuy.com/site/duracell-aa-batter...</td>\n",
              "      <td>http://img.bbystatic.com/BestBuy_US/images/pro...</td>\n",
              "    </tr>\n",
              "    <tr>\n",
              "      <th>3</th>\n",
              "      <td>150115</td>\n",
              "      <td>Energizer - MAX Batteries AA (4-Pack)</td>\n",
              "      <td>HardGood</td>\n",
              "      <td>4.99</td>\n",
              "      <td>39800011329</td>\n",
              "      <td>[{'id': 'pcmcat312300050015', 'name': 'Connect...</td>\n",
              "      <td>5.49</td>\n",
              "      <td>4-pack AA alkaline batteries; battery tester i...</td>\n",
              "      <td>Energizer</td>\n",
              "      <td>E91BP-4</td>\n",
              "      <td>http://www.bestbuy.com/site/energizer-max-batt...</td>\n",
              "      <td>http://img.bbystatic.com/BestBuy_US/images/pro...</td>\n",
              "    </tr>\n",
              "    <tr>\n",
              "      <th>4</th>\n",
              "      <td>185230</td>\n",
              "      <td>Duracell - C Batteries (4-Pack)</td>\n",
              "      <td>HardGood</td>\n",
              "      <td>8.99</td>\n",
              "      <td>41333440019</td>\n",
              "      <td>[{'id': 'pcmcat312300050015', 'name': 'Connect...</td>\n",
              "      <td>5.49</td>\n",
              "      <td>Compatible with select electronic devices; C s...</td>\n",
              "      <td>Duracell</td>\n",
              "      <td>MN1400R4Z</td>\n",
              "      <td>http://www.bestbuy.com/site/duracell-c-batteri...</td>\n",
              "      <td>http://img.bbystatic.com/BestBuy_US/images/pro...</td>\n",
              "    </tr>\n",
              "  </tbody>\n",
              "</table>\n",
              "</div>\n",
              "      <button class=\"colab-df-convert\" onclick=\"convertToInteractive('df-c9b15d79-88a0-4358-9655-280919757b77')\"\n",
              "              title=\"Convert this dataframe to an interactive table.\"\n",
              "              style=\"display:none;\">\n",
              "        \n",
              "  <svg xmlns=\"http://www.w3.org/2000/svg\" height=\"24px\"viewBox=\"0 0 24 24\"\n",
              "       width=\"24px\">\n",
              "    <path d=\"M0 0h24v24H0V0z\" fill=\"none\"/>\n",
              "    <path d=\"M18.56 5.44l.94 2.06.94-2.06 2.06-.94-2.06-.94-.94-2.06-.94 2.06-2.06.94zm-11 1L8.5 8.5l.94-2.06 2.06-.94-2.06-.94L8.5 2.5l-.94 2.06-2.06.94zm10 10l.94 2.06.94-2.06 2.06-.94-2.06-.94-.94-2.06-.94 2.06-2.06.94z\"/><path d=\"M17.41 7.96l-1.37-1.37c-.4-.4-.92-.59-1.43-.59-.52 0-1.04.2-1.43.59L10.3 9.45l-7.72 7.72c-.78.78-.78 2.05 0 2.83L4 21.41c.39.39.9.59 1.41.59.51 0 1.02-.2 1.41-.59l7.78-7.78 2.81-2.81c.8-.78.8-2.07 0-2.86zM5.41 20L4 18.59l7.72-7.72 1.47 1.35L5.41 20z\"/>\n",
              "  </svg>\n",
              "      </button>\n",
              "      \n",
              "  <style>\n",
              "    .colab-df-container {\n",
              "      display:flex;\n",
              "      flex-wrap:wrap;\n",
              "      gap: 12px;\n",
              "    }\n",
              "\n",
              "    .colab-df-convert {\n",
              "      background-color: #E8F0FE;\n",
              "      border: none;\n",
              "      border-radius: 50%;\n",
              "      cursor: pointer;\n",
              "      display: none;\n",
              "      fill: #1967D2;\n",
              "      height: 32px;\n",
              "      padding: 0 0 0 0;\n",
              "      width: 32px;\n",
              "    }\n",
              "\n",
              "    .colab-df-convert:hover {\n",
              "      background-color: #E2EBFA;\n",
              "      box-shadow: 0px 1px 2px rgba(60, 64, 67, 0.3), 0px 1px 3px 1px rgba(60, 64, 67, 0.15);\n",
              "      fill: #174EA6;\n",
              "    }\n",
              "\n",
              "    [theme=dark] .colab-df-convert {\n",
              "      background-color: #3B4455;\n",
              "      fill: #D2E3FC;\n",
              "    }\n",
              "\n",
              "    [theme=dark] .colab-df-convert:hover {\n",
              "      background-color: #434B5C;\n",
              "      box-shadow: 0px 1px 3px 1px rgba(0, 0, 0, 0.15);\n",
              "      filter: drop-shadow(0px 1px 2px rgba(0, 0, 0, 0.3));\n",
              "      fill: #FFFFFF;\n",
              "    }\n",
              "  </style>\n",
              "\n",
              "      <script>\n",
              "        const buttonEl =\n",
              "          document.querySelector('#df-c9b15d79-88a0-4358-9655-280919757b77 button.colab-df-convert');\n",
              "        buttonEl.style.display =\n",
              "          google.colab.kernel.accessAllowed ? 'block' : 'none';\n",
              "\n",
              "        async function convertToInteractive(key) {\n",
              "          const element = document.querySelector('#df-c9b15d79-88a0-4358-9655-280919757b77');\n",
              "          const dataTable =\n",
              "            await google.colab.kernel.invokeFunction('convertToInteractive',\n",
              "                                                     [key], {});\n",
              "          if (!dataTable) return;\n",
              "\n",
              "          const docLinkHtml = 'Like what you see? Visit the ' +\n",
              "            '<a target=\"_blank\" href=https://colab.research.google.com/notebooks/data_table.ipynb>data table notebook</a>'\n",
              "            + ' to learn more about interactive tables.';\n",
              "          element.innerHTML = '';\n",
              "          dataTable['output_type'] = 'display_data';\n",
              "          await google.colab.output.renderOutput(dataTable, element);\n",
              "          const docLink = document.createElement('div');\n",
              "          docLink.innerHTML = docLinkHtml;\n",
              "          element.appendChild(docLink);\n",
              "        }\n",
              "      </script>\n",
              "    </div>\n",
              "  </div>\n",
              "  "
            ]
          },
          "metadata": {},
          "execution_count": 24
        }
      ]
    },
    {
      "cell_type": "code",
      "source": [
        "df.tail()"
      ],
      "metadata": {
        "colab": {
          "base_uri": "https://localhost:8080/",
          "height": 617
        },
        "id": "GwxPsxEhuir5",
        "outputId": "df62a6ff-46c6-41db-82f8-c8058303b9e3"
      },
      "execution_count": null,
      "outputs": [
        {
          "output_type": "execute_result",
          "data": {
            "text/plain": [
              "           sku                                               name      type  \\\n",
              "51641  9995663  Honeywell - True HEPA Replacement Filters for ...  HardGood   \n",
              "51642  9996238  Dyson - Hard Floor Wipes for Dyson Hard DC56 V...  HardGood   \n",
              "51643  9996826      Aleratec - Drive Enclosure - Internal - Black  HardGood   \n",
              "51644  9999119                             Amazon - Fire TV Stick  HardGood   \n",
              "51645  9999678       Proctor Silex - 4-Slice Toaster Oven - White  HardGood   \n",
              "\n",
              "       price           upc                                           category  \\\n",
              "51641  49.99   92926500023  [{'id': 'abcat0900000', 'name': 'Appliances'},...   \n",
              "51642   6.99  879957008960  [{'id': 'abcat0900000', 'name': 'Appliances'},...   \n",
              "51643  35.99  808068004295  [{'id': 'abcat0500000', 'name': 'Computers & T...   \n",
              "51644  39.99  848719037869  [{'id': 'abcat0100000', 'name': 'TV & Home The...   \n",
              "51645  25.99   22333311165  [{'id': 'abcat0900000', 'name': 'Appliances'},...   \n",
              "\n",
              "      shipping                                        description  \\\n",
              "51641        0  Compatible with select Honeywell air purifier ...   \n",
              "51642     5.99  Removes dirt and grime from hard floors; cloth...   \n",
              "51643        0                       1 x Total Bay - 1 x 2.5\" Bay   \n",
              "51644        0  Streams 1080p content; dual-band, dual-antenna...   \n",
              "51645     9.49  PROCTOR SILEX 4-Slice Toaster Oven: Bake, broi...   \n",
              "\n",
              "        manufacturer      model  \\\n",
              "51641      Honeywell     HRF-N2   \n",
              "51642          Dyson  965383-01   \n",
              "51643       Aleratec     350106   \n",
              "51644         Amazon  53-002444   \n",
              "51645  Proctor Silex     31116R   \n",
              "\n",
              "                                                     url  \\\n",
              "51641  http://www.bestbuy.com/site/honeywell-true-hep...   \n",
              "51642  http://www.bestbuy.com/site/dyson-hard-floor-w...   \n",
              "51643  http://www.bestbuy.com/site/aleratec-drive-enc...   \n",
              "51644  http://www.bestbuy.com/site/amazon-fire-tv-sti...   \n",
              "51645  http://www.bestbuy.com/site/proctor-silex-4-sl...   \n",
              "\n",
              "                                                   image  \n",
              "51641  http://img.bbystatic.com/BestBuy_US/images/pro...  \n",
              "51642  http://img.bbystatic.com/BestBuy_US/images/pro...  \n",
              "51643  http://img.bbystatic.com/BestBuy_US/images/pro...  \n",
              "51644  http://img.bbystatic.com/BestBuy_US/images/pro...  \n",
              "51645  http://img.bbystatic.com/BestBuy_US/images/pro...  "
            ],
            "text/html": [
              "\n",
              "  <div id=\"df-e000a685-d949-473c-bee6-ed28f8ffb314\">\n",
              "    <div class=\"colab-df-container\">\n",
              "      <div>\n",
              "<style scoped>\n",
              "    .dataframe tbody tr th:only-of-type {\n",
              "        vertical-align: middle;\n",
              "    }\n",
              "\n",
              "    .dataframe tbody tr th {\n",
              "        vertical-align: top;\n",
              "    }\n",
              "\n",
              "    .dataframe thead th {\n",
              "        text-align: right;\n",
              "    }\n",
              "</style>\n",
              "<table border=\"1\" class=\"dataframe\">\n",
              "  <thead>\n",
              "    <tr style=\"text-align: right;\">\n",
              "      <th></th>\n",
              "      <th>sku</th>\n",
              "      <th>name</th>\n",
              "      <th>type</th>\n",
              "      <th>price</th>\n",
              "      <th>upc</th>\n",
              "      <th>category</th>\n",
              "      <th>shipping</th>\n",
              "      <th>description</th>\n",
              "      <th>manufacturer</th>\n",
              "      <th>model</th>\n",
              "      <th>url</th>\n",
              "      <th>image</th>\n",
              "    </tr>\n",
              "  </thead>\n",
              "  <tbody>\n",
              "    <tr>\n",
              "      <th>51641</th>\n",
              "      <td>9995663</td>\n",
              "      <td>Honeywell - True HEPA Replacement Filters for ...</td>\n",
              "      <td>HardGood</td>\n",
              "      <td>49.99</td>\n",
              "      <td>92926500023</td>\n",
              "      <td>[{'id': 'abcat0900000', 'name': 'Appliances'},...</td>\n",
              "      <td>0</td>\n",
              "      <td>Compatible with select Honeywell air purifier ...</td>\n",
              "      <td>Honeywell</td>\n",
              "      <td>HRF-N2</td>\n",
              "      <td>http://www.bestbuy.com/site/honeywell-true-hep...</td>\n",
              "      <td>http://img.bbystatic.com/BestBuy_US/images/pro...</td>\n",
              "    </tr>\n",
              "    <tr>\n",
              "      <th>51642</th>\n",
              "      <td>9996238</td>\n",
              "      <td>Dyson - Hard Floor Wipes for Dyson Hard DC56 V...</td>\n",
              "      <td>HardGood</td>\n",
              "      <td>6.99</td>\n",
              "      <td>879957008960</td>\n",
              "      <td>[{'id': 'abcat0900000', 'name': 'Appliances'},...</td>\n",
              "      <td>5.99</td>\n",
              "      <td>Removes dirt and grime from hard floors; cloth...</td>\n",
              "      <td>Dyson</td>\n",
              "      <td>965383-01</td>\n",
              "      <td>http://www.bestbuy.com/site/dyson-hard-floor-w...</td>\n",
              "      <td>http://img.bbystatic.com/BestBuy_US/images/pro...</td>\n",
              "    </tr>\n",
              "    <tr>\n",
              "      <th>51643</th>\n",
              "      <td>9996826</td>\n",
              "      <td>Aleratec - Drive Enclosure - Internal - Black</td>\n",
              "      <td>HardGood</td>\n",
              "      <td>35.99</td>\n",
              "      <td>808068004295</td>\n",
              "      <td>[{'id': 'abcat0500000', 'name': 'Computers &amp; T...</td>\n",
              "      <td>0</td>\n",
              "      <td>1 x Total Bay - 1 x 2.5\" Bay</td>\n",
              "      <td>Aleratec</td>\n",
              "      <td>350106</td>\n",
              "      <td>http://www.bestbuy.com/site/aleratec-drive-enc...</td>\n",
              "      <td>http://img.bbystatic.com/BestBuy_US/images/pro...</td>\n",
              "    </tr>\n",
              "    <tr>\n",
              "      <th>51644</th>\n",
              "      <td>9999119</td>\n",
              "      <td>Amazon - Fire TV Stick</td>\n",
              "      <td>HardGood</td>\n",
              "      <td>39.99</td>\n",
              "      <td>848719037869</td>\n",
              "      <td>[{'id': 'abcat0100000', 'name': 'TV &amp; Home The...</td>\n",
              "      <td>0</td>\n",
              "      <td>Streams 1080p content; dual-band, dual-antenna...</td>\n",
              "      <td>Amazon</td>\n",
              "      <td>53-002444</td>\n",
              "      <td>http://www.bestbuy.com/site/amazon-fire-tv-sti...</td>\n",
              "      <td>http://img.bbystatic.com/BestBuy_US/images/pro...</td>\n",
              "    </tr>\n",
              "    <tr>\n",
              "      <th>51645</th>\n",
              "      <td>9999678</td>\n",
              "      <td>Proctor Silex - 4-Slice Toaster Oven - White</td>\n",
              "      <td>HardGood</td>\n",
              "      <td>25.99</td>\n",
              "      <td>22333311165</td>\n",
              "      <td>[{'id': 'abcat0900000', 'name': 'Appliances'},...</td>\n",
              "      <td>9.49</td>\n",
              "      <td>PROCTOR SILEX 4-Slice Toaster Oven: Bake, broi...</td>\n",
              "      <td>Proctor Silex</td>\n",
              "      <td>31116R</td>\n",
              "      <td>http://www.bestbuy.com/site/proctor-silex-4-sl...</td>\n",
              "      <td>http://img.bbystatic.com/BestBuy_US/images/pro...</td>\n",
              "    </tr>\n",
              "  </tbody>\n",
              "</table>\n",
              "</div>\n",
              "      <button class=\"colab-df-convert\" onclick=\"convertToInteractive('df-e000a685-d949-473c-bee6-ed28f8ffb314')\"\n",
              "              title=\"Convert this dataframe to an interactive table.\"\n",
              "              style=\"display:none;\">\n",
              "        \n",
              "  <svg xmlns=\"http://www.w3.org/2000/svg\" height=\"24px\"viewBox=\"0 0 24 24\"\n",
              "       width=\"24px\">\n",
              "    <path d=\"M0 0h24v24H0V0z\" fill=\"none\"/>\n",
              "    <path d=\"M18.56 5.44l.94 2.06.94-2.06 2.06-.94-2.06-.94-.94-2.06-.94 2.06-2.06.94zm-11 1L8.5 8.5l.94-2.06 2.06-.94-2.06-.94L8.5 2.5l-.94 2.06-2.06.94zm10 10l.94 2.06.94-2.06 2.06-.94-2.06-.94-.94-2.06-.94 2.06-2.06.94z\"/><path d=\"M17.41 7.96l-1.37-1.37c-.4-.4-.92-.59-1.43-.59-.52 0-1.04.2-1.43.59L10.3 9.45l-7.72 7.72c-.78.78-.78 2.05 0 2.83L4 21.41c.39.39.9.59 1.41.59.51 0 1.02-.2 1.41-.59l7.78-7.78 2.81-2.81c.8-.78.8-2.07 0-2.86zM5.41 20L4 18.59l7.72-7.72 1.47 1.35L5.41 20z\"/>\n",
              "  </svg>\n",
              "      </button>\n",
              "      \n",
              "  <style>\n",
              "    .colab-df-container {\n",
              "      display:flex;\n",
              "      flex-wrap:wrap;\n",
              "      gap: 12px;\n",
              "    }\n",
              "\n",
              "    .colab-df-convert {\n",
              "      background-color: #E8F0FE;\n",
              "      border: none;\n",
              "      border-radius: 50%;\n",
              "      cursor: pointer;\n",
              "      display: none;\n",
              "      fill: #1967D2;\n",
              "      height: 32px;\n",
              "      padding: 0 0 0 0;\n",
              "      width: 32px;\n",
              "    }\n",
              "\n",
              "    .colab-df-convert:hover {\n",
              "      background-color: #E2EBFA;\n",
              "      box-shadow: 0px 1px 2px rgba(60, 64, 67, 0.3), 0px 1px 3px 1px rgba(60, 64, 67, 0.15);\n",
              "      fill: #174EA6;\n",
              "    }\n",
              "\n",
              "    [theme=dark] .colab-df-convert {\n",
              "      background-color: #3B4455;\n",
              "      fill: #D2E3FC;\n",
              "    }\n",
              "\n",
              "    [theme=dark] .colab-df-convert:hover {\n",
              "      background-color: #434B5C;\n",
              "      box-shadow: 0px 1px 3px 1px rgba(0, 0, 0, 0.15);\n",
              "      filter: drop-shadow(0px 1px 2px rgba(0, 0, 0, 0.3));\n",
              "      fill: #FFFFFF;\n",
              "    }\n",
              "  </style>\n",
              "\n",
              "      <script>\n",
              "        const buttonEl =\n",
              "          document.querySelector('#df-e000a685-d949-473c-bee6-ed28f8ffb314 button.colab-df-convert');\n",
              "        buttonEl.style.display =\n",
              "          google.colab.kernel.accessAllowed ? 'block' : 'none';\n",
              "\n",
              "        async function convertToInteractive(key) {\n",
              "          const element = document.querySelector('#df-e000a685-d949-473c-bee6-ed28f8ffb314');\n",
              "          const dataTable =\n",
              "            await google.colab.kernel.invokeFunction('convertToInteractive',\n",
              "                                                     [key], {});\n",
              "          if (!dataTable) return;\n",
              "\n",
              "          const docLinkHtml = 'Like what you see? Visit the ' +\n",
              "            '<a target=\"_blank\" href=https://colab.research.google.com/notebooks/data_table.ipynb>data table notebook</a>'\n",
              "            + ' to learn more about interactive tables.';\n",
              "          element.innerHTML = '';\n",
              "          dataTable['output_type'] = 'display_data';\n",
              "          await google.colab.output.renderOutput(dataTable, element);\n",
              "          const docLink = document.createElement('div');\n",
              "          docLink.innerHTML = docLinkHtml;\n",
              "          element.appendChild(docLink);\n",
              "        }\n",
              "      </script>\n",
              "    </div>\n",
              "  </div>\n",
              "  "
            ]
          },
          "metadata": {},
          "execution_count": 25
        }
      ]
    },
    {
      "cell_type": "code",
      "source": [
        "df.shape"
      ],
      "metadata": {
        "colab": {
          "base_uri": "https://localhost:8080/"
        },
        "id": "T-83szSPuy30",
        "outputId": "69b12df1-0bff-4338-d8b2-b266c87b1c2e"
      },
      "execution_count": null,
      "outputs": [
        {
          "output_type": "execute_result",
          "data": {
            "text/plain": [
              "(51646, 12)"
            ]
          },
          "metadata": {},
          "execution_count": 26
        }
      ]
    },
    {
      "cell_type": "code",
      "execution_count": null,
      "metadata": {
        "colab": {
          "base_uri": "https://localhost:8080/"
        },
        "id": "DrB7ytBYgYTV",
        "outputId": "5e75b56f-e3a0-417f-d65c-45ad81e65d1b"
      },
      "outputs": [
        {
          "output_type": "execute_result",
          "data": {
            "text/plain": [
              "Index(['sku', 'name', 'type', 'price', 'upc', 'category', 'shipping',\n",
              "       'description', 'manufacturer', 'model', 'url', 'image'],\n",
              "      dtype='object')"
            ]
          },
          "metadata": {},
          "execution_count": 27
        }
      ],
      "source": [
        "df.columns"
      ]
    },
    {
      "cell_type": "code",
      "source": [
        "df['name'].unique()"
      ],
      "metadata": {
        "colab": {
          "base_uri": "https://localhost:8080/"
        },
        "id": "6CuaFmjjwWs0",
        "outputId": "482aa56b-0da2-4990-99c4-592c1281e210"
      },
      "execution_count": null,
      "outputs": [
        {
          "output_type": "execute_result",
          "data": {
            "text/plain": [
              "array(['Duracell - AAA Batteries (4-Pack)',\n",
              "       'Duracell - AA 1.5V CopperTop Batteries (4-Pack)',\n",
              "       'Duracell - AA Batteries (8-Pack)', ...,\n",
              "       'Aleratec - Drive Enclosure - Internal - Black',\n",
              "       'Amazon - Fire TV Stick',\n",
              "       'Proctor Silex - 4-Slice Toaster Oven - White'], dtype=object)"
            ]
          },
          "metadata": {},
          "execution_count": 28
        }
      ]
    },
    {
      "cell_type": "code",
      "source": [
        "df['name'].value_counts()"
      ],
      "metadata": {
        "colab": {
          "base_uri": "https://localhost:8080/"
        },
        "id": "Ii2rY8NeweYx",
        "outputId": "5726557f-8bfc-4bd6-90aa-e7cc149f7a80"
      },
      "execution_count": null,
      "outputs": [
        {
          "output_type": "execute_result",
          "data": {
            "text/plain": [
              "Lenmar - Lithium-Ion Battery - Black                                                         31\n",
              "DigiPower - Lithium-Ion Battery - Black                                                      20\n",
              "Ultralast - Lithium-Ion Battery for Select LG Cell Phones - White/Black                      19\n",
              "Ultralast - Lithium-Ion Battery for Select Samsung Cell Phones - Multi                       19\n",
              "DigiPower - Rechargeable Lithium-Ion Battery - Black                                         17\n",
              "                                                                                             ..\n",
              "Electrolux - Laundry Pedestal with Storage Drawer - Gray                                      1\n",
              "Frigidaire - 7.0 Cu. Ft. 10-Cycle Electric Dryer with Steam - Classic Silver                  1\n",
              "Electrolux - 4.2 Cu. Ft. 11-Cycle High-Efficiency Front-Loading Washer - White                1\n",
              "Frigidaire - 3.9 Cu. Ft. High-Efficiency Front-Loading Washer with Steam - Classic Silver     1\n",
              "Proctor Silex - 4-Slice Toaster Oven - White                                                  1\n",
              "Name: name, Length: 48557, dtype: int64"
            ]
          },
          "metadata": {},
          "execution_count": 29
        }
      ]
    },
    {
      "cell_type": "code",
      "source": [
        "df['description'].value_counts()"
      ],
      "metadata": {
        "colab": {
          "base_uri": "https://localhost:8080/"
        },
        "id": "xcrJ2o2IwiPF",
        "outputId": "89e229f0-6507-46e5-a507-6762c1dddda1"
      },
      "execution_count": null,
      "outputs": [
        {
          "output_type": "execute_result",
          "data": {
            "text/plain": [
              "Perfect gift card? Piece of cake. All Best Buy gift cards are shipped free and are good toward future purchases online and in U.S. or Puerto Rico Best Buy stores. Best Buy gift cards do not have an expiration date.                                                         370\n",
              "Drive evil crazy to save Skylands                                                                                                                                                                                                                                               37\n",
              "Android 5.0 Lollipop operating system4G LTE speedWi-Fi5.1\" Super AMOLED touch screenBluetooth enabled                                                                                                                                                                           36\n",
              "4.7-inch Retina HD displayA9 chip with 64-bit desktop-class architectureNew 12MP iSight camera with Live Photos3D TouchiOS and iCloud7.1mm thin, seamless design                                                                                                                30\n",
              "5.5-inch Retina HD displayA9 chip with 64-bit desktop-class architectureNew 12MP iSight camera with Live Photos3D TouchiOS 9 and iCloud7.3mm thin, seamless design                                                                                                              30\n",
              "                                                                                                                                                                                                                                                                              ... \n",
              "ION AUDIO Classic LP Turntable: Plays 33-1/3, 45 and 78 rpm records; converts records to digital files; built-in speakers; RCA outputs; includes USB cable and software CD                                                                                                       1\n",
              "ION AUDIO Vinyl Alive Cleaning Kit: Allows you to remove dust from records; includes a velvet pad with a wood handle and cleaning solution                                                                                                                                       1\n",
              "ION AUDIO Vinyl Motion Portable Turntable: Plays 33-1/3, 45 and 78 rpm records; converts records into digital files; suitcase-style carrying case; built-in stereo speakers; rechargeable battery; includes 45 rpm adapter and USB cable                                         1\n",
              "Windows 10Technical details: 6th Gen Intel&#174; Core&#8482; i5 processor; 27\" display; 12GB memory; 1TB hard driveSpecial features: Touch screen; built-in wireless networking; Bluetooth; wireless keyboard and mouse; HDMI output; webcamNote: DVD/CD drive not included      1\n",
              "PROCTOR SILEX 4-Slice Toaster Oven: Bake, broil and toast functions; temperature settings up to 450 degrees; 15-minute timer; keep-warm setting; see-through design; drop-down crumb tray; dishwasher-safe parts; bake pan included                                              1\n",
              "Name: description, Length: 38537, dtype: int64"
            ]
          },
          "metadata": {},
          "execution_count": 30
        }
      ]
    },
    {
      "cell_type": "code",
      "source": [
        "df = df.drop_duplicates(subset=['name', 'description'])\n",
        "df.shape"
      ],
      "metadata": {
        "colab": {
          "base_uri": "https://localhost:8080/"
        },
        "id": "FqHfMVVKwxD6",
        "outputId": "f3ae6b0f-558d-4165-e244-ae886bb47884"
      },
      "execution_count": null,
      "outputs": [
        {
          "output_type": "execute_result",
          "data": {
            "text/plain": [
              "(50966, 12)"
            ]
          },
          "metadata": {},
          "execution_count": 31
        }
      ]
    },
    {
      "cell_type": "markdown",
      "source": [
        "We remove duplicates, cause in case of nonrandom sampling, they can bias the fitted model. Including them will essentially lead to the model overfitting this subset of points."
      ],
      "metadata": {
        "id": "jKAx6d15w050"
      }
    },
    {
      "cell_type": "code",
      "source": [
        "df['category'].values"
      ],
      "metadata": {
        "colab": {
          "base_uri": "https://localhost:8080/"
        },
        "id": "BuLjW02pu60-",
        "outputId": "dca4e17b-5a87-4737-cf47-56b4cc1a3c51"
      },
      "execution_count": null,
      "outputs": [
        {
          "output_type": "execute_result",
          "data": {
            "text/plain": [
              "array([list([{'id': 'pcmcat312300050015', 'name': 'Connected Home & Housewares'}, {'id': 'pcmcat248700050021', 'name': 'Housewares'}, {'id': 'pcmcat303600050001', 'name': 'Household Batteries'}, {'id': 'abcat0208002', 'name': 'Alkaline Batteries'}]),\n",
              "       list([{'id': 'pcmcat312300050015', 'name': 'Connected Home & Housewares'}, {'id': 'pcmcat248700050021', 'name': 'Housewares'}, {'id': 'pcmcat303600050001', 'name': 'Household Batteries'}, {'id': 'abcat0208002', 'name': 'Alkaline Batteries'}]),\n",
              "       list([{'id': 'pcmcat312300050015', 'name': 'Connected Home & Housewares'}, {'id': 'pcmcat248700050021', 'name': 'Housewares'}, {'id': 'pcmcat303600050001', 'name': 'Household Batteries'}, {'id': 'abcat0208002', 'name': 'Alkaline Batteries'}]),\n",
              "       ...,\n",
              "       list([{'id': 'abcat0500000', 'name': 'Computers & Tablets'}, {'id': 'abcat0515000', 'name': 'Computer Accessories & Peripherals'}, {'id': 'abcat0504001', 'name': 'Hard Drives & Storage'}, {'id': 'pcmcat186100050005', 'name': 'External Hard Drives'}]),\n",
              "       list([{'id': 'abcat0100000', 'name': 'TV & Home Theater'}, {'id': 'pcmcat161100050040', 'name': 'Streaming Media Players'}, {'id': 'pcmcat748301694435', 'name': 'Remote TV Streaming'}]),\n",
              "       list([{'id': 'abcat0900000', 'name': 'Appliances'}, {'id': 'abcat0912000', 'name': 'Small Kitchen Appliances'}, {'id': 'abcat0912023', 'name': 'Toasters'}])],\n",
              "      dtype=object)"
            ]
          },
          "metadata": {},
          "execution_count": 32
        }
      ]
    },
    {
      "cell_type": "code",
      "source": [
        "df['category'].values[1]"
      ],
      "metadata": {
        "colab": {
          "base_uri": "https://localhost:8080/"
        },
        "id": "Xo1YFl8wu_tY",
        "outputId": "56eabfb1-cfbd-44e5-f91f-ccd8338d936f"
      },
      "execution_count": null,
      "outputs": [
        {
          "output_type": "execute_result",
          "data": {
            "text/plain": [
              "[{'id': 'pcmcat312300050015', 'name': 'Connected Home & Housewares'},\n",
              " {'id': 'pcmcat248700050021', 'name': 'Housewares'},\n",
              " {'id': 'pcmcat303600050001', 'name': 'Household Batteries'},\n",
              " {'id': 'abcat0208002', 'name': 'Alkaline Batteries'}]"
            ]
          },
          "metadata": {},
          "execution_count": 33
        }
      ]
    },
    {
      "cell_type": "markdown",
      "source": [
        "Each simple belongs to one or more class labels: We are dealing with **Multi-label classification**."
      ],
      "metadata": {
        "id": "bOgB6GQ0xZNu"
      }
    },
    {
      "cell_type": "markdown",
      "source": [
        "The only relevant attributes for our problem set are name, description, and category."
      ],
      "metadata": {
        "id": "6RxZfkVevywW"
      }
    },
    {
      "cell_type": "code",
      "execution_count": null,
      "metadata": {
        "id": "E3GpUO9snf1E"
      },
      "outputs": [],
      "source": [
        "df = df[['name','description','category']]"
      ]
    },
    {
      "cell_type": "code",
      "execution_count": null,
      "metadata": {
        "colab": {
          "base_uri": "https://localhost:8080/"
        },
        "id": "8uAl6f2BnKVj",
        "outputId": "12fb5c33-71f6-4d45-de8f-06fced0b748a"
      },
      "outputs": [
        {
          "output_type": "execute_result",
          "data": {
            "text/plain": [
              "name           1\n",
              "description    0\n",
              "category       0\n",
              "dtype: int64"
            ]
          },
          "metadata": {},
          "execution_count": 35
        }
      ],
      "source": [
        "# Check missing values\n",
        "df.isnull().sum()"
      ]
    },
    {
      "cell_type": "code",
      "execution_count": null,
      "metadata": {
        "id": "CjFyYbL8ndDp"
      },
      "outputs": [],
      "source": [
        "df = df.dropna()"
      ]
    },
    {
      "cell_type": "code",
      "source": [
        "df.shape"
      ],
      "metadata": {
        "colab": {
          "base_uri": "https://localhost:8080/"
        },
        "id": "ydOaqmRlyYP6",
        "outputId": "c5c692d4-cce8-474b-dd44-5da59d31d376"
      },
      "execution_count": null,
      "outputs": [
        {
          "output_type": "execute_result",
          "data": {
            "text/plain": [
              "(50965, 3)"
            ]
          },
          "metadata": {},
          "execution_count": 40
        }
      ]
    },
    {
      "cell_type": "code",
      "execution_count": null,
      "metadata": {
        "id": "LmkQv60_kV7D"
      },
      "outputs": [],
      "source": [
        "from sklearn.utils import shuffle\n",
        "df = shuffle(df)"
      ]
    },
    {
      "cell_type": "code",
      "source": [
        "df.head()"
      ],
      "metadata": {
        "colab": {
          "base_uri": "https://localhost:8080/",
          "height": 206
        },
        "id": "c0ZiAeriyTLq",
        "outputId": "578fa498-1205-4483-dc54-5baeaa4301df"
      },
      "execution_count": null,
      "outputs": [
        {
          "output_type": "execute_result",
          "data": {
            "text/plain": [
              "                                                    name  \\\n",
              "14162  OtterBox - Defender Series Holster Case for Sa...   \n",
              "9451                  Case Logic - Travel Wallet - Black   \n",
              "22150  Incipio - DualPro Glitter Case for Apple® iPho...   \n",
              "41229  Nest - Protect 2nd Generation Smart Smoke/Carb...   \n",
              "37474  Whirlpool - Gold 1.4 Cu. Ft. Convertible Trash...   \n",
              "\n",
              "                                             description  \\\n",
              "14162  Crafted for Samsung Galaxy Note 5 cell phones;...   \n",
              "9451   Magnetic closure; ID window; 8 credit card slo...   \n",
              "22150  INCIPIO DualPro Glitter Case for Apple iPhone ...   \n",
              "41229  Connects to compatible devices via 3G, 4G, 4G ...   \n",
              "37474  Touch-Toe drawer opener; Clean Touch console; ...   \n",
              "\n",
              "                                                category  \n",
              "14162  [{'id': 'abcat0800000', 'name': 'Cell Phones'}...  \n",
              "9451   [{'id': 'pcmcat312300050015', 'name': 'Connect...  \n",
              "22150  [{'id': 'abcat0800000', 'name': 'Cell Phones'}...  \n",
              "41229  [{'id': 'pcmcat312300050015', 'name': 'Connect...  \n",
              "37474  [{'id': 'abcat0900000', 'name': 'Appliances'},...  "
            ],
            "text/html": [
              "\n",
              "  <div id=\"df-7f361cac-1360-490f-bd18-d3d38293628b\">\n",
              "    <div class=\"colab-df-container\">\n",
              "      <div>\n",
              "<style scoped>\n",
              "    .dataframe tbody tr th:only-of-type {\n",
              "        vertical-align: middle;\n",
              "    }\n",
              "\n",
              "    .dataframe tbody tr th {\n",
              "        vertical-align: top;\n",
              "    }\n",
              "\n",
              "    .dataframe thead th {\n",
              "        text-align: right;\n",
              "    }\n",
              "</style>\n",
              "<table border=\"1\" class=\"dataframe\">\n",
              "  <thead>\n",
              "    <tr style=\"text-align: right;\">\n",
              "      <th></th>\n",
              "      <th>name</th>\n",
              "      <th>description</th>\n",
              "      <th>category</th>\n",
              "    </tr>\n",
              "  </thead>\n",
              "  <tbody>\n",
              "    <tr>\n",
              "      <th>14162</th>\n",
              "      <td>OtterBox - Defender Series Holster Case for Sa...</td>\n",
              "      <td>Crafted for Samsung Galaxy Note 5 cell phones;...</td>\n",
              "      <td>[{'id': 'abcat0800000', 'name': 'Cell Phones'}...</td>\n",
              "    </tr>\n",
              "    <tr>\n",
              "      <th>9451</th>\n",
              "      <td>Case Logic - Travel Wallet - Black</td>\n",
              "      <td>Magnetic closure; ID window; 8 credit card slo...</td>\n",
              "      <td>[{'id': 'pcmcat312300050015', 'name': 'Connect...</td>\n",
              "    </tr>\n",
              "    <tr>\n",
              "      <th>22150</th>\n",
              "      <td>Incipio - DualPro Glitter Case for Apple® iPho...</td>\n",
              "      <td>INCIPIO DualPro Glitter Case for Apple iPhone ...</td>\n",
              "      <td>[{'id': 'abcat0800000', 'name': 'Cell Phones'}...</td>\n",
              "    </tr>\n",
              "    <tr>\n",
              "      <th>41229</th>\n",
              "      <td>Nest - Protect 2nd Generation Smart Smoke/Carb...</td>\n",
              "      <td>Connects to compatible devices via 3G, 4G, 4G ...</td>\n",
              "      <td>[{'id': 'pcmcat312300050015', 'name': 'Connect...</td>\n",
              "    </tr>\n",
              "    <tr>\n",
              "      <th>37474</th>\n",
              "      <td>Whirlpool - Gold 1.4 Cu. Ft. Convertible Trash...</td>\n",
              "      <td>Touch-Toe drawer opener; Clean Touch console; ...</td>\n",
              "      <td>[{'id': 'abcat0900000', 'name': 'Appliances'},...</td>\n",
              "    </tr>\n",
              "  </tbody>\n",
              "</table>\n",
              "</div>\n",
              "      <button class=\"colab-df-convert\" onclick=\"convertToInteractive('df-7f361cac-1360-490f-bd18-d3d38293628b')\"\n",
              "              title=\"Convert this dataframe to an interactive table.\"\n",
              "              style=\"display:none;\">\n",
              "        \n",
              "  <svg xmlns=\"http://www.w3.org/2000/svg\" height=\"24px\"viewBox=\"0 0 24 24\"\n",
              "       width=\"24px\">\n",
              "    <path d=\"M0 0h24v24H0V0z\" fill=\"none\"/>\n",
              "    <path d=\"M18.56 5.44l.94 2.06.94-2.06 2.06-.94-2.06-.94-.94-2.06-.94 2.06-2.06.94zm-11 1L8.5 8.5l.94-2.06 2.06-.94-2.06-.94L8.5 2.5l-.94 2.06-2.06.94zm10 10l.94 2.06.94-2.06 2.06-.94-2.06-.94-.94-2.06-.94 2.06-2.06.94z\"/><path d=\"M17.41 7.96l-1.37-1.37c-.4-.4-.92-.59-1.43-.59-.52 0-1.04.2-1.43.59L10.3 9.45l-7.72 7.72c-.78.78-.78 2.05 0 2.83L4 21.41c.39.39.9.59 1.41.59.51 0 1.02-.2 1.41-.59l7.78-7.78 2.81-2.81c.8-.78.8-2.07 0-2.86zM5.41 20L4 18.59l7.72-7.72 1.47 1.35L5.41 20z\"/>\n",
              "  </svg>\n",
              "      </button>\n",
              "      \n",
              "  <style>\n",
              "    .colab-df-container {\n",
              "      display:flex;\n",
              "      flex-wrap:wrap;\n",
              "      gap: 12px;\n",
              "    }\n",
              "\n",
              "    .colab-df-convert {\n",
              "      background-color: #E8F0FE;\n",
              "      border: none;\n",
              "      border-radius: 50%;\n",
              "      cursor: pointer;\n",
              "      display: none;\n",
              "      fill: #1967D2;\n",
              "      height: 32px;\n",
              "      padding: 0 0 0 0;\n",
              "      width: 32px;\n",
              "    }\n",
              "\n",
              "    .colab-df-convert:hover {\n",
              "      background-color: #E2EBFA;\n",
              "      box-shadow: 0px 1px 2px rgba(60, 64, 67, 0.3), 0px 1px 3px 1px rgba(60, 64, 67, 0.15);\n",
              "      fill: #174EA6;\n",
              "    }\n",
              "\n",
              "    [theme=dark] .colab-df-convert {\n",
              "      background-color: #3B4455;\n",
              "      fill: #D2E3FC;\n",
              "    }\n",
              "\n",
              "    [theme=dark] .colab-df-convert:hover {\n",
              "      background-color: #434B5C;\n",
              "      box-shadow: 0px 1px 3px 1px rgba(0, 0, 0, 0.15);\n",
              "      filter: drop-shadow(0px 1px 2px rgba(0, 0, 0, 0.3));\n",
              "      fill: #FFFFFF;\n",
              "    }\n",
              "  </style>\n",
              "\n",
              "      <script>\n",
              "        const buttonEl =\n",
              "          document.querySelector('#df-7f361cac-1360-490f-bd18-d3d38293628b button.colab-df-convert');\n",
              "        buttonEl.style.display =\n",
              "          google.colab.kernel.accessAllowed ? 'block' : 'none';\n",
              "\n",
              "        async function convertToInteractive(key) {\n",
              "          const element = document.querySelector('#df-7f361cac-1360-490f-bd18-d3d38293628b');\n",
              "          const dataTable =\n",
              "            await google.colab.kernel.invokeFunction('convertToInteractive',\n",
              "                                                     [key], {});\n",
              "          if (!dataTable) return;\n",
              "\n",
              "          const docLinkHtml = 'Like what you see? Visit the ' +\n",
              "            '<a target=\"_blank\" href=https://colab.research.google.com/notebooks/data_table.ipynb>data table notebook</a>'\n",
              "            + ' to learn more about interactive tables.';\n",
              "          element.innerHTML = '';\n",
              "          dataTable['output_type'] = 'display_data';\n",
              "          await google.colab.output.renderOutput(dataTable, element);\n",
              "          const docLink = document.createElement('div');\n",
              "          docLink.innerHTML = docLinkHtml;\n",
              "          element.appendChild(docLink);\n",
              "        }\n",
              "      </script>\n",
              "    </div>\n",
              "  </div>\n",
              "  "
            ]
          },
          "metadata": {},
          "execution_count": 38
        }
      ]
    },
    {
      "cell_type": "code",
      "execution_count": null,
      "metadata": {
        "id": "hjwIe4mCgbSi"
      },
      "outputs": [],
      "source": [
        "features_df = df[['name','description']]\n",
        "Labels_df = df[['category']]"
      ]
    },
    {
      "cell_type": "markdown",
      "metadata": {
        "id": "Zu_CdHhIg_8r"
      },
      "source": [
        "# Features Dataframe"
      ]
    },
    {
      "cell_type": "code",
      "execution_count": null,
      "metadata": {
        "colab": {
          "base_uri": "https://localhost:8080/",
          "height": 206
        },
        "id": "W9MI5mbyg8Ty",
        "outputId": "b43a1b7c-3164-429e-f232-da0e40167f9b"
      },
      "outputs": [
        {
          "output_type": "execute_result",
          "data": {
            "text/plain": [
              "                                                    name  \\\n",
              "14162  OtterBox - Defender Series Holster Case for Sa...   \n",
              "9451                  Case Logic - Travel Wallet - Black   \n",
              "22150  Incipio - DualPro Glitter Case for Apple® iPho...   \n",
              "41229  Nest - Protect 2nd Generation Smart Smoke/Carb...   \n",
              "37474  Whirlpool - Gold 1.4 Cu. Ft. Convertible Trash...   \n",
              "\n",
              "                                             description  \n",
              "14162  Crafted for Samsung Galaxy Note 5 cell phones;...  \n",
              "9451   Magnetic closure; ID window; 8 credit card slo...  \n",
              "22150  INCIPIO DualPro Glitter Case for Apple iPhone ...  \n",
              "41229  Connects to compatible devices via 3G, 4G, 4G ...  \n",
              "37474  Touch-Toe drawer opener; Clean Touch console; ...  "
            ],
            "text/html": [
              "\n",
              "  <div id=\"df-2a215097-589c-4dfd-9c73-0550b30037ec\">\n",
              "    <div class=\"colab-df-container\">\n",
              "      <div>\n",
              "<style scoped>\n",
              "    .dataframe tbody tr th:only-of-type {\n",
              "        vertical-align: middle;\n",
              "    }\n",
              "\n",
              "    .dataframe tbody tr th {\n",
              "        vertical-align: top;\n",
              "    }\n",
              "\n",
              "    .dataframe thead th {\n",
              "        text-align: right;\n",
              "    }\n",
              "</style>\n",
              "<table border=\"1\" class=\"dataframe\">\n",
              "  <thead>\n",
              "    <tr style=\"text-align: right;\">\n",
              "      <th></th>\n",
              "      <th>name</th>\n",
              "      <th>description</th>\n",
              "    </tr>\n",
              "  </thead>\n",
              "  <tbody>\n",
              "    <tr>\n",
              "      <th>14162</th>\n",
              "      <td>OtterBox - Defender Series Holster Case for Sa...</td>\n",
              "      <td>Crafted for Samsung Galaxy Note 5 cell phones;...</td>\n",
              "    </tr>\n",
              "    <tr>\n",
              "      <th>9451</th>\n",
              "      <td>Case Logic - Travel Wallet - Black</td>\n",
              "      <td>Magnetic closure; ID window; 8 credit card slo...</td>\n",
              "    </tr>\n",
              "    <tr>\n",
              "      <th>22150</th>\n",
              "      <td>Incipio - DualPro Glitter Case for Apple® iPho...</td>\n",
              "      <td>INCIPIO DualPro Glitter Case for Apple iPhone ...</td>\n",
              "    </tr>\n",
              "    <tr>\n",
              "      <th>41229</th>\n",
              "      <td>Nest - Protect 2nd Generation Smart Smoke/Carb...</td>\n",
              "      <td>Connects to compatible devices via 3G, 4G, 4G ...</td>\n",
              "    </tr>\n",
              "    <tr>\n",
              "      <th>37474</th>\n",
              "      <td>Whirlpool - Gold 1.4 Cu. Ft. Convertible Trash...</td>\n",
              "      <td>Touch-Toe drawer opener; Clean Touch console; ...</td>\n",
              "    </tr>\n",
              "  </tbody>\n",
              "</table>\n",
              "</div>\n",
              "      <button class=\"colab-df-convert\" onclick=\"convertToInteractive('df-2a215097-589c-4dfd-9c73-0550b30037ec')\"\n",
              "              title=\"Convert this dataframe to an interactive table.\"\n",
              "              style=\"display:none;\">\n",
              "        \n",
              "  <svg xmlns=\"http://www.w3.org/2000/svg\" height=\"24px\"viewBox=\"0 0 24 24\"\n",
              "       width=\"24px\">\n",
              "    <path d=\"M0 0h24v24H0V0z\" fill=\"none\"/>\n",
              "    <path d=\"M18.56 5.44l.94 2.06.94-2.06 2.06-.94-2.06-.94-.94-2.06-.94 2.06-2.06.94zm-11 1L8.5 8.5l.94-2.06 2.06-.94-2.06-.94L8.5 2.5l-.94 2.06-2.06.94zm10 10l.94 2.06.94-2.06 2.06-.94-2.06-.94-.94-2.06-.94 2.06-2.06.94z\"/><path d=\"M17.41 7.96l-1.37-1.37c-.4-.4-.92-.59-1.43-.59-.52 0-1.04.2-1.43.59L10.3 9.45l-7.72 7.72c-.78.78-.78 2.05 0 2.83L4 21.41c.39.39.9.59 1.41.59.51 0 1.02-.2 1.41-.59l7.78-7.78 2.81-2.81c.8-.78.8-2.07 0-2.86zM5.41 20L4 18.59l7.72-7.72 1.47 1.35L5.41 20z\"/>\n",
              "  </svg>\n",
              "      </button>\n",
              "      \n",
              "  <style>\n",
              "    .colab-df-container {\n",
              "      display:flex;\n",
              "      flex-wrap:wrap;\n",
              "      gap: 12px;\n",
              "    }\n",
              "\n",
              "    .colab-df-convert {\n",
              "      background-color: #E8F0FE;\n",
              "      border: none;\n",
              "      border-radius: 50%;\n",
              "      cursor: pointer;\n",
              "      display: none;\n",
              "      fill: #1967D2;\n",
              "      height: 32px;\n",
              "      padding: 0 0 0 0;\n",
              "      width: 32px;\n",
              "    }\n",
              "\n",
              "    .colab-df-convert:hover {\n",
              "      background-color: #E2EBFA;\n",
              "      box-shadow: 0px 1px 2px rgba(60, 64, 67, 0.3), 0px 1px 3px 1px rgba(60, 64, 67, 0.15);\n",
              "      fill: #174EA6;\n",
              "    }\n",
              "\n",
              "    [theme=dark] .colab-df-convert {\n",
              "      background-color: #3B4455;\n",
              "      fill: #D2E3FC;\n",
              "    }\n",
              "\n",
              "    [theme=dark] .colab-df-convert:hover {\n",
              "      background-color: #434B5C;\n",
              "      box-shadow: 0px 1px 3px 1px rgba(0, 0, 0, 0.15);\n",
              "      filter: drop-shadow(0px 1px 2px rgba(0, 0, 0, 0.3));\n",
              "      fill: #FFFFFF;\n",
              "    }\n",
              "  </style>\n",
              "\n",
              "      <script>\n",
              "        const buttonEl =\n",
              "          document.querySelector('#df-2a215097-589c-4dfd-9c73-0550b30037ec button.colab-df-convert');\n",
              "        buttonEl.style.display =\n",
              "          google.colab.kernel.accessAllowed ? 'block' : 'none';\n",
              "\n",
              "        async function convertToInteractive(key) {\n",
              "          const element = document.querySelector('#df-2a215097-589c-4dfd-9c73-0550b30037ec');\n",
              "          const dataTable =\n",
              "            await google.colab.kernel.invokeFunction('convertToInteractive',\n",
              "                                                     [key], {});\n",
              "          if (!dataTable) return;\n",
              "\n",
              "          const docLinkHtml = 'Like what you see? Visit the ' +\n",
              "            '<a target=\"_blank\" href=https://colab.research.google.com/notebooks/data_table.ipynb>data table notebook</a>'\n",
              "            + ' to learn more about interactive tables.';\n",
              "          element.innerHTML = '';\n",
              "          dataTable['output_type'] = 'display_data';\n",
              "          await google.colab.output.renderOutput(dataTable, element);\n",
              "          const docLink = document.createElement('div');\n",
              "          docLink.innerHTML = docLinkHtml;\n",
              "          element.appendChild(docLink);\n",
              "        }\n",
              "      </script>\n",
              "    </div>\n",
              "  </div>\n",
              "  "
            ]
          },
          "metadata": {},
          "execution_count": 42
        }
      ],
      "source": [
        "features_df.head()"
      ]
    },
    {
      "cell_type": "markdown",
      "metadata": {
        "id": "Ohs2kHp1iWA7"
      },
      "source": [
        "## Features cleaning:"
      ]
    },
    {
      "cell_type": "markdown",
      "metadata": {
        "id": "HCBWoJ8iDCfW"
      },
      "source": [
        "[Text Cleaning Methods](https://towardsdatascience.com/text-cleaning-methods-for-natural-language-processing-f2fc1796e8c7)"
      ]
    },
    {
      "cell_type": "markdown",
      "metadata": {
        "id": "jsjUjv6Aieft"
      },
      "source": [
        "To clean both \"name\" and \"description\" columns, we create a function and then apply it to the dataset:"
      ]
    },
    {
      "cell_type": "code",
      "execution_count": null,
      "metadata": {
        "colab": {
          "base_uri": "https://localhost:8080/",
          "height": 250
        },
        "id": "cNJss8J9krKG",
        "outputId": "8c367274-8089-4fe0-c74c-66585d8f3afa"
      },
      "outputs": [
        {
          "output_type": "execute_result",
          "data": {
            "text/plain": [
              "                                                    name  \\\n",
              "14162  OtterBox - Defender Series Holster Case for Sa...   \n",
              "9451                  Case Logic - Travel Wallet - Black   \n",
              "22150  Incipio - DualPro Glitter Case for Apple® iPho...   \n",
              "41229  Nest - Protect 2nd Generation Smart Smoke/Carb...   \n",
              "37474  Whirlpool - Gold 1.4 Cu. Ft. Convertible Trash...   \n",
              "\n",
              "                                             description  \\\n",
              "14162  Crafted for Samsung Galaxy Note 5 cell phones;...   \n",
              "9451   Magnetic closure; ID window; 8 credit card slo...   \n",
              "22150  INCIPIO DualPro Glitter Case for Apple iPhone ...   \n",
              "41229  Connects to compatible devices via 3G, 4G, 4G ...   \n",
              "37474  Touch-Toe drawer opener; Clean Touch console; ...   \n",
              "\n",
              "                                              name_clean  \\\n",
              "14162  otterbox defend seri holster case samsung gala...   \n",
              "9451                      case logic travel wallet black   \n",
              "22150      incipio dualpro glitter case appl iphon purpl   \n",
              "41229  nest protect nd gener smart smokecarbon monoxi...   \n",
              "37474  whirlpool gold cu ft convert trash compactor w...   \n",
              "\n",
              "                                       description_clean  \n",
              "14162  craft samsung galaxi note cell phone polycarbo...  \n",
              "9451   magnet closur id window credit card slot slip ...  \n",
              "22150  incipio dualpro glitter case appl iphon compat...  \n",
              "41229  connect compat devic via g g g lte bluetooth s...  \n",
              "37474  touchto drawer open clean touch consol automat...  "
            ],
            "text/html": [
              "\n",
              "  <div id=\"df-f5e790f8-2e96-4496-8419-8d1f42890cf4\">\n",
              "    <div class=\"colab-df-container\">\n",
              "      <div>\n",
              "<style scoped>\n",
              "    .dataframe tbody tr th:only-of-type {\n",
              "        vertical-align: middle;\n",
              "    }\n",
              "\n",
              "    .dataframe tbody tr th {\n",
              "        vertical-align: top;\n",
              "    }\n",
              "\n",
              "    .dataframe thead th {\n",
              "        text-align: right;\n",
              "    }\n",
              "</style>\n",
              "<table border=\"1\" class=\"dataframe\">\n",
              "  <thead>\n",
              "    <tr style=\"text-align: right;\">\n",
              "      <th></th>\n",
              "      <th>name</th>\n",
              "      <th>description</th>\n",
              "      <th>name_clean</th>\n",
              "      <th>description_clean</th>\n",
              "    </tr>\n",
              "  </thead>\n",
              "  <tbody>\n",
              "    <tr>\n",
              "      <th>14162</th>\n",
              "      <td>OtterBox - Defender Series Holster Case for Sa...</td>\n",
              "      <td>Crafted for Samsung Galaxy Note 5 cell phones;...</td>\n",
              "      <td>otterbox defend seri holster case samsung gala...</td>\n",
              "      <td>craft samsung galaxi note cell phone polycarbo...</td>\n",
              "    </tr>\n",
              "    <tr>\n",
              "      <th>9451</th>\n",
              "      <td>Case Logic - Travel Wallet - Black</td>\n",
              "      <td>Magnetic closure; ID window; 8 credit card slo...</td>\n",
              "      <td>case logic travel wallet black</td>\n",
              "      <td>magnet closur id window credit card slot slip ...</td>\n",
              "    </tr>\n",
              "    <tr>\n",
              "      <th>22150</th>\n",
              "      <td>Incipio - DualPro Glitter Case for Apple® iPho...</td>\n",
              "      <td>INCIPIO DualPro Glitter Case for Apple iPhone ...</td>\n",
              "      <td>incipio dualpro glitter case appl iphon purpl</td>\n",
              "      <td>incipio dualpro glitter case appl iphon compat...</td>\n",
              "    </tr>\n",
              "    <tr>\n",
              "      <th>41229</th>\n",
              "      <td>Nest - Protect 2nd Generation Smart Smoke/Carb...</td>\n",
              "      <td>Connects to compatible devices via 3G, 4G, 4G ...</td>\n",
              "      <td>nest protect nd gener smart smokecarbon monoxi...</td>\n",
              "      <td>connect compat devic via g g g lte bluetooth s...</td>\n",
              "    </tr>\n",
              "    <tr>\n",
              "      <th>37474</th>\n",
              "      <td>Whirlpool - Gold 1.4 Cu. Ft. Convertible Trash...</td>\n",
              "      <td>Touch-Toe drawer opener; Clean Touch console; ...</td>\n",
              "      <td>whirlpool gold cu ft convert trash compactor w...</td>\n",
              "      <td>touchto drawer open clean touch consol automat...</td>\n",
              "    </tr>\n",
              "  </tbody>\n",
              "</table>\n",
              "</div>\n",
              "      <button class=\"colab-df-convert\" onclick=\"convertToInteractive('df-f5e790f8-2e96-4496-8419-8d1f42890cf4')\"\n",
              "              title=\"Convert this dataframe to an interactive table.\"\n",
              "              style=\"display:none;\">\n",
              "        \n",
              "  <svg xmlns=\"http://www.w3.org/2000/svg\" height=\"24px\"viewBox=\"0 0 24 24\"\n",
              "       width=\"24px\">\n",
              "    <path d=\"M0 0h24v24H0V0z\" fill=\"none\"/>\n",
              "    <path d=\"M18.56 5.44l.94 2.06.94-2.06 2.06-.94-2.06-.94-.94-2.06-.94 2.06-2.06.94zm-11 1L8.5 8.5l.94-2.06 2.06-.94-2.06-.94L8.5 2.5l-.94 2.06-2.06.94zm10 10l.94 2.06.94-2.06 2.06-.94-2.06-.94-.94-2.06-.94 2.06-2.06.94z\"/><path d=\"M17.41 7.96l-1.37-1.37c-.4-.4-.92-.59-1.43-.59-.52 0-1.04.2-1.43.59L10.3 9.45l-7.72 7.72c-.78.78-.78 2.05 0 2.83L4 21.41c.39.39.9.59 1.41.59.51 0 1.02-.2 1.41-.59l7.78-7.78 2.81-2.81c.8-.78.8-2.07 0-2.86zM5.41 20L4 18.59l7.72-7.72 1.47 1.35L5.41 20z\"/>\n",
              "  </svg>\n",
              "      </button>\n",
              "      \n",
              "  <style>\n",
              "    .colab-df-container {\n",
              "      display:flex;\n",
              "      flex-wrap:wrap;\n",
              "      gap: 12px;\n",
              "    }\n",
              "\n",
              "    .colab-df-convert {\n",
              "      background-color: #E8F0FE;\n",
              "      border: none;\n",
              "      border-radius: 50%;\n",
              "      cursor: pointer;\n",
              "      display: none;\n",
              "      fill: #1967D2;\n",
              "      height: 32px;\n",
              "      padding: 0 0 0 0;\n",
              "      width: 32px;\n",
              "    }\n",
              "\n",
              "    .colab-df-convert:hover {\n",
              "      background-color: #E2EBFA;\n",
              "      box-shadow: 0px 1px 2px rgba(60, 64, 67, 0.3), 0px 1px 3px 1px rgba(60, 64, 67, 0.15);\n",
              "      fill: #174EA6;\n",
              "    }\n",
              "\n",
              "    [theme=dark] .colab-df-convert {\n",
              "      background-color: #3B4455;\n",
              "      fill: #D2E3FC;\n",
              "    }\n",
              "\n",
              "    [theme=dark] .colab-df-convert:hover {\n",
              "      background-color: #434B5C;\n",
              "      box-shadow: 0px 1px 3px 1px rgba(0, 0, 0, 0.15);\n",
              "      filter: drop-shadow(0px 1px 2px rgba(0, 0, 0, 0.3));\n",
              "      fill: #FFFFFF;\n",
              "    }\n",
              "  </style>\n",
              "\n",
              "      <script>\n",
              "        const buttonEl =\n",
              "          document.querySelector('#df-f5e790f8-2e96-4496-8419-8d1f42890cf4 button.colab-df-convert');\n",
              "        buttonEl.style.display =\n",
              "          google.colab.kernel.accessAllowed ? 'block' : 'none';\n",
              "\n",
              "        async function convertToInteractive(key) {\n",
              "          const element = document.querySelector('#df-f5e790f8-2e96-4496-8419-8d1f42890cf4');\n",
              "          const dataTable =\n",
              "            await google.colab.kernel.invokeFunction('convertToInteractive',\n",
              "                                                     [key], {});\n",
              "          if (!dataTable) return;\n",
              "\n",
              "          const docLinkHtml = 'Like what you see? Visit the ' +\n",
              "            '<a target=\"_blank\" href=https://colab.research.google.com/notebooks/data_table.ipynb>data table notebook</a>'\n",
              "            + ' to learn more about interactive tables.';\n",
              "          element.innerHTML = '';\n",
              "          dataTable['output_type'] = 'display_data';\n",
              "          await google.colab.output.renderOutput(dataTable, element);\n",
              "          const docLink = document.createElement('div');\n",
              "          docLink.innerHTML = docLinkHtml;\n",
              "          element.appendChild(docLink);\n",
              "        }\n",
              "      </script>\n",
              "    </div>\n",
              "  </div>\n",
              "  "
            ]
          },
          "metadata": {},
          "execution_count": 45
        }
      ],
      "source": [
        "\n",
        "def  clean_text(df, text_field, new_text_field_name):\n",
        "    \n",
        "    # 1. remove punctuation:\n",
        "    df[new_text_field_name] = df[text_field].str.lower()\n",
        "    df[new_text_field_name] = df[new_text_field_name].apply(lambda elem: re.sub(r\"(@[A-Za-z0-9]+)|([^0-9A-Za-z \\t])|(\\w+:\\/\\/\\S+)|^rt|http.+?\", \"\", elem))  \n",
        "\n",
        "    # remove numbers\n",
        "    df[new_text_field_name] = df[new_text_field_name].apply(lambda elem: re.sub(r\"\\d+\", \"\", elem))\n",
        "\n",
        "    # removing stop words with NLTK  \n",
        "    stop = stopwords.words('english')\n",
        "    df[new_text_field_name] = df[new_text_field_name].apply(lambda x: ' '.join([word for word in x.split() if word not in (stop)]))\n",
        "    \n",
        "    \"\"\"\n",
        "    Stemming is the process of reducing words to their root form. Before we can perform stemming on our data we need\n",
        "    to tokenise the text. This is a method used to split the text into its constituent words.\n",
        "    \"\"\"\n",
        "    # Stemming\n",
        "    df[new_text_field_name] = df[new_text_field_name].apply(lambda x: word_tokenize(x))\n",
        "\n",
        "    # The code below uses the PorterStemmer method from NLTK to apply \n",
        "    # stemming to the text_tokens and outputs the processed text to a new column.\n",
        "    def word_stemmer(text):\n",
        "        stem_text = [PorterStemmer().stem(i) for i in text]\n",
        "        s_text = ' '.join(stem_text)\n",
        "        return s_text\n",
        "    df[new_text_field_name] = df[new_text_field_name].apply(lambda x: word_stemmer(x))\n",
        "\n",
        "    return df\n",
        "\n",
        "data_clean = clean_text(features_df, 'name', 'name_clean')\n",
        "data_clean = clean_text(features_df, 'description', 'description_clean')\n",
        "\n",
        "data_clean.head()\n"
      ]
    },
    {
      "cell_type": "markdown",
      "metadata": {
        "id": "WScb3Tqyu6EC"
      },
      "source": [
        "[Stemming vs Lemmatization](https://towardsdatascience.com/stemming-vs-lemmatization-2daddabcb221)"
      ]
    },
    {
      "cell_type": "markdown",
      "source": [
        "![image.png](data:image/png;base64,iVBORw0KGgoAAAANSUhEUgAABAEAAAI5CAIAAABfGLS1AAAgAElEQVR4nOydd3xVRfbAz5m599WEJCQkIQUCoYTeuxRBpAiigr39bKi77trL7qpg112xrh131xVXXZW1AK690XuHEEgoCSEJ6Xnt3jtzfn+895KXEJJQVoXM95MPvOTde2fuvWdmTpsZJEmgUCgUCoVCoVAoWg3sl66AQqFQKBQKhUKh+FlRNoBCoVAoFAqFQtG6UDaAQqFQKBQKhULRulA2gEKhUCgUCoVC0bpQNoBCoVAoFAqFQtG6UDaAQqFQKBQKhULRulA2gEKhUCgUCoVC0bpQNoBCoVAoFAqFQtG6UDaAQqFQKBQKhULRulA2gEKhUCgUCoVC0bpQNoBCoVAoFAqFQtG6UDaAQqFQKBQKhULRulA2gEKhUCgUCoVC0bpQNoBCoVAoFAqFQtG6UDaAQqFQKBQKhULRulA2gEKhUCgUCoVC0bpQNoBCoVAoFAqFQtG6UDaAQqFQKBQKhULRulA2gEKhUCgUCoVC0bpQNoBCoVAoFAqFQtG6UDaAQqFQKBQKhULRulA2gEKhUCgUCoVC0bpQNoBCoVAoFAqFQtG6UDaAQqFQKBQKhULRulA2gEKhUCgUCoVC0bpQNoBCoVAoFAqFQtG6UDaAQqFQKBQKhULRulA2gEKhUCgUCoVC0bpQNoBCoVAoFAqFQtG6UDaAQqFQKBQKhULRulA2gEKhUCgUCoVC0bpQNoBCoVAoFAqFQtG6UDaAQqFQKBQKhULRulA2gEKhUCgUCoVC0bpQNoBCoVCcRiAA/tJ1UCgUCsWvHmUDKBQKxWkG/dIVUCgUCsWvHWUDKBQKhUKhUCgUrQtlAygUCoVCoVAoFK0LZQMoFAqFQqFQKBSti9ZkA6h5cgqFQqFQKBQKBYD2S1fg5wWDk+Wo7tcjj1Cz6RQ/MxiUOSV7ipOFcngoFIqTB5IaoU5LkGTrfqtNjJWt+8EoFAqFQqFQKEfV6UoriwMAAIVlmAV/A6KQJVBrDmDEv6HQAYbOVSj+J5By3SpOHgggARiAVHKlUIRR4/gJEaEqBbsX9SRPfVqNDRAUVgYkQABYEgqLiioqK6sqq30+v8PpcLlc0e6otNQUh4PrHAQBxwjFTLauqROKnwkEy5CrV60Tlhg5ajjTCFGpbIoTIyhBLOKzQtGKIQm5uXu2bt02YsTwxMREpbweFzKoD1VVeFatXp2cnNSnb0+A2vxqxalK68gFIgCEsvKa3Ly9a9es27Bxw5bt26s9HgLiTENkJENPgTPWLj4+o1PHHj2yBg8ZmNo+Kb5tXJTbzRABAaEF4o7h8lrBc1WcIATw9Lzn3nt3IRBMmz753nvvcLkcBC2TNIWiMbxe/+uvv4EgEbF7t+6TJk9SloCiNbNze/att95WUVnRsUOHp5+e16FTmupdjxmUQMzno+uvuzEnZ7du43ffd9u555zDSLkbTm1O8zgAERBCWbl38eIlP/z0U3b2Lo/Hi0EHP2oIRBT8hQMRAAiCktLywuLiVWvWLnjn3aTEpA5paf369Bk3dlzX7h01fvSS6hoAAQEgQa1DV3U3iqNQUly6cOHHElECrVi5ev/+/O5ZXVRfqjhOEADA6/MueO99IRkRTZww/uzJk5REKU5twrnox8d7739YWlEtge/Zl79i1coOnWadvJq1HhgArFixfEf2DkI0TevLb76dOH6C2+1QGs4pzelpA1DYZ08ABw5W3HPvH3JycoSwpBSappGUuqYxzgCQcRb08BuGSSQRmWkJAJCSTGHl5xcW7C9cvWL9m/P/ecPsK2+88f+aKhQAAJAw+AvVn2OgUBzJoUNFPl9AanbOebXX56nxhb5QvariWAkHjwjAkmSCjgCCuEouU7RycnP3CeICAUnm5u4FoTJ7j5Ndu3YCEiEQQUlxqWEabnD80pVSnBCnpw0AAARgGLRw4aIXX3rd4/MLEoxRTBt33z49+/bt3aVzZseOHWPiYqOionRdMw3LU1NTU11dVFSyP7+woKAgJydn9+7dxSUlyLkk4XDb+/bvA3D07DcCPCL9B5Ump2gahhIRkJlC2gEJm4g0KRQtBBGYMiMVpw8nasdyRA0AiITGbCejQqcqx7/2hAQA0JiOxAAQADmzAamc51Oe09EGQAACKeHTT//78l9f9/sMAgkohgwZdPvvf5ue1j4qyhV0jsnwGZpDczli2yXEduqUPpxAEni9htfr3Zmd/f57/165cnX3zMyuXTIBmnHQIkDhodK77rp7/Pjx1153hZouo2ia1JQUu80mJBjCim0T3aaNW9mNihMGSQUgFacHCDt37n7siacmTpx0xeWz8LhU2K5dM7fs2MkQkWNWVreTX8lTBCKYPfuWpKSkRx994JhPZgASunXtjCA5MAJISUp0OOwAKtvh1Oa0swFCuf7wxRc/Pv2X56yAQI3HtIm6+trLrrz8Yo0BA5BSEgJCvSA51V0AkEFUlM3ttiUkDBs9ati+vQWFhYXxcbHNFE0ACMtXrN6ZvTurZ6//ze0pTivi4mIuvfiiTz5ZTOQYP25senr6L10jxSkPKc+D4jRixcrVm7ftHDLsDAJgx7W456UXzVqzdm1JWWnPrO5DBg0A3vpaCAEA5OUWbNy4NauHdTzRAAmAMGLEsAED++7M3hUVFT357AlOp61uqkZre6SnC6eXDRBc+x8hb2/J/PlvBfwmR8ZQ/v53N50z/SyNAQKQBEQGR0hsbUwAMDzNPWwlZHROzeic2sKhdc26dZYEIZs/UqFgDG75zc1jzxgjpczK6u60qzRVhUKhCCElbNi4iQANS2DtimlH5t02SZfuGc/Ne/JQSUmHtNTk1CSQEvD4IgqnNmvWrpeEkvhx7pNAoNv1xx5/ODcvNzoqqmdWD5DhNdRBmQGnKqeXDQCABJJgyVdf5+3fq+kMSE6bPmnW+VPqFls8ymo9tcrXcS/LSACWhNXr1hNDAlJbCiiah8Bmw0GDe//S9VCchiC1RkVHcTpBBNu27wTkII3jCwIAACB07prRuWtG+PfWNDAjgJTAGEjYsHGdIEuQAACAyITBFthU4YMT2yUktkuo+ztF/Ks4BTm9bAAMefG//+EHIhJSduyQetddtzUyDBIcdbmM45VmBDh4sKisvFy2hi0XFArFrx9SNoDiFOZA/qHS8goiRkRhT7MS6WOCghlUhimyd2VD7U5HkY9RKSytmNPLBiAAgN179uXk5AAgIowbN8blsDc+Gf5kyz0R7NqVQ1Jt9apQKBQKxYmyYfNmYIwEBTfwURwHJCUiLzh4sLKqChAlkVL6FbWcXkExBkCwes1qISwi0nWtd89eyH8uxwHC7tzc0DQCRAn/c/M6tMfzSS+l2QyCE08x+KUCiHgyKg8ACKfGBtvHvxTc8RZH4UJbrSFMR3xoteDJa3HHV3qDD5FfHVOVag8+Ke+0JVPLKJxgfSIl1t7mKdcYMXT7W7dskVICSGQY7s1O4Im01iZJQAcOHPD5/QQE7Fe5+NyvQUR/wc7ql+P0sgEAgEHhwUIgBgA2m80dHQXwc7R8AjAs2Ld3vySQklq6Nl9Ljjr6MYhI4iSJbMPRurlHdoKPlAHQzyV9jSkihHBCydISkJ8KXcXPPE+rVuE4PdamqRWSYxIVbFzkfm7wV+A4pfoW0c/8NJq4/2OVTzqpIt3Cbv/k2dIkfmWrxbbEBAIQQuTt3QuIyBDCm2+eyBNpnZlxyBgCFhQeNA0TAAio7jkc+wM50aGzkfqFxeGk95nYXG0bfHVym/kpwmmVC0SCkGFRcXFohU+uaboO8L8dfghAEgQMKCo5XHioWEogYEQoBWBYx63NY4yULoYt20SMZEhUKWRp+H0By7SkFF6fjwhcLqfGua5zp8uhHe8eU0QgKFRVjrU7LdcpkQFD+Px+y7JMw/T5fNHR0YwxzjVd19yu+ruuNHjUEfdoWuDz+S0hjIBpGKYUwuV0MM5suu502nWdNVyvoGWDJREEw5tHquWEIAB8XsMwTGEJyzINw3S7XcBQY8xuszkdOtYqyg005vq/Gqb0+QOWZQkhKquqdF13OZyMMbvd7nDYdf14p5JLkEGDCMMr3zVzQuhmGQvVkIAQw04yAiDw+U0jYAohAchvBEzTsDscnHFN0xx2m8OuhyTzWC2ERo8n8JvC5w/KpKypqQEAt9vNGWOc2202h93GIrraBg849AGPPj+nWQhkOFWYnUSrksAKP9JmX42UEAhYhmkapimltEzT4/Fouu5wOTXGNc41Xbfpms1Wt2vvye+Qgosi1zVdAqRfdp/CgEF+v9+yhGVZfr+fMWZ32DlnNpvucjo4b6q5NYMMn9JYkqc3YAWMgGWaliUCAb/LFcU41xjqNt3ptNV1bLWzwhp0OwAAYFjk9/ksSwBgTU0N41zXdI1rNptud9g1PezBOMbBxaLgKoug1Tq1I06XBD6fETAMIYRhmpaQdoddY5xz5nQ4HHZW18yPDgEYhhUIGKZpSiFrPB6b3W6z2RiAw25zOhxMi0gIP2EBkQSGYQUMU1hCCEkkiYAxZAw1jTvsdrtNa6hpHXHjdWAo68fvNQ4cyC8tLQdCkECEQoR6+Eb1NNaoMISLEhIIgBhoTbieEIBAypMQ9QmJFWuBVEfeEYFpSsMwTdMUQshg1g4Dhkxjoa67RV1cZKGEwpIej2/3nn2WBAIEAkuGmw4Bo3pnIAA02RvXnsuhOck/UsDqi4EQ5PcHAqYphLAsy+v1OlwuTdM1xjSNu5xOTTuhvOparYaHusaGdSCAQMAK+A0phJAkpKyqrHS6XDabrjGu22wuh503qiP/zM61/yWnlQ2ADAHB5XQhMQIUkgzDCPmbG7ywkzICE1RVeLbtyN62a/e2HTtzcnYfLDiIwAFo86Ytzz/3crA+AACEhCBBEguuaya7ZGRMn3aOzhqdOxBRVwQQAhgHibl5Bas3bt64ZfueXbtLD5fWeGoMw5CEuq7FxbZJapfQs2fX/v36jBw+PCbWzVhEV9uC+z2Qf+j9Dz4CYMlJSVdcegEJYFrwZDx0sHjV2nUr1qzbnp1TVl7u9XilJRljMW1io6Oi2ye1Gzy498jhQ3tmZaEGQAQReketSuLzWavWbli5at36jZsrq6qrKqt9Hh9IabMxu11PSmqX1a1znz69x4we0759fMPH0ETlEQhgzfqNPy1bKoSYPHFS395ZQY0QESwJu3bnrlizasWyjfn5hVWVVX6vVwjhcNijo6Oio91pqckjRwwdNXJ0WmoCa6AWBztIRAAoKa5cuWb9yjVrsnP2lJaV1VTXeHx+zrhdtzmdzg4d0rK6de3fr8/Y0SPbROkU7kYBqHm/E8KHH3+250AREXXqkDZz+pSg0XpUCL766rvNW7ZLlBdcMKNTRgeGIIAQiCGrrKjZsnHbzh05m7dvKzhQVFPj8XhqvEZAoAAGLkdUfExMZkbH7l27DBk+qP+A3jYN6wzTZlsEhn1wtQvrSdibe+C7H5duzdmTvWdPSfFhw2dYwkJAxpjDZouKjk5NTe3coaPLYQ8aKYRAIZMneElkhIhmZpdOU6dMttn5cXSse3L3fvLxEgAHMWPiWWP69uoO7CRst7x5y46vv/meGHKd3XjdtU67BnX6dZ1oVlb6N27cumHj5pw9uYWFRcXFxUGtV0gBiMiYbtPj4uLatWuX1C6+U+dOXTI79+rRIyWtLQ8OoieX0BtCRCQZ3MNT/nz+dwRJwBBIws7svA0bt2zaujNn157ysnKPx2OapkCyOe3RUc7UlOR+fXv279PrjKEjnA4deJ10NW+zIBTsL1y4cCERdc/qPmnKxNAKbBIAIP/AoaXLVy9dvzY3N6+iosLj8Qgh7DZXTJu4KJetfWq7oUMGjRg2vHvXjGDXxCHYXUkChohgATDwemHZmlVLVyzbvn1bZbmnutLj9Xotkg673W6zdUxPy+zSsXfvHuNHj09sFwUyqGIcWc9Gmj8B/Pfr77fu3AkAF547PbNjKkgCLSRTW7fvWbZy7dr1G/bt319VXe31+00hbU5nTFRUTFRUl8zOY0YOGTyof/v27XjEmhbBZsUg9ASKiip/XLF8zdo1e/fuKy+rqKysDBgmMe60290uR8e09r26dx8wqP/oMWfYbDzUmFviHg/ZKxB6VRKAQd7e/C1btuXk7d1/oKCgoLCivNrn8wUCASGE3W53OLT4+JjOHTN6dO06ZuTwLt0zQ5WOVLEjHdIEgqCsvHLr9u052bt3bt+VvXNXYdFhlJwRX79m03PPzQcCYiYBELCgvAAxAGRIA/r3GH/mqJCCX1+KCg4eXvD+RyZATHTUhedNS46PaTjshlu112u89srriFxKCQzrnBNU76JEiE22KiRAEBdfcl5KWkrkmFI3OtazQaGkonT9pi05u/IO5Bfl5x8sO1xWVV0V8AcCwmQO3cFt8W1iM9I7ZHXpMmBA/2FDB9jt4ZocpcmQJMMwd+3K2bZ9+64de3du370nfz8RB4Di4tJnn3sVUQAQIwBgSITh4ABDbBPd5sILZ7Vp42z01l58fr6QBkM57oxRg4YOIAuOtrt97euNkK/gRyw+XLx+3aZt27J37Mw5VFhYXV3t9fpMISXjDofT5Xa1S4jr2bN7j6zuw/v2zejcMfhaqdZcwQh5PDq7c/Z9/sW3phHondV10uQJkTYJmWL7rl0bt2zduGXbnrz9niqP1xeorvGQkALJ4bDHut2p6elZmZ2G9Os7auxwp8tRdw8s1OhPD/DUSGtuOQgvPP/Km299RIAOu/7oQ386++xRAJHr/4cOO3G++OKbp+c9V+Px+w3LlJIxhgACGGOMhKmRKSVHVmdlEYBAQkTO6Myxw5987DG7Xt+op8ZcQwAeb+D1+X/76KPPanwBSUQkGGLIY8EYAOmaRiQty3Q6HJ0zOj7wwB97ZHWq10iau9+Nm3fccOPNppDxbWO//PzToHxLCZ9+9vmLL71aUVVJjAUMi2tMCMmZJim40wIiCSQrtk107z69H3n4obi2rlDnGS7cMGHVqnXz5j1zqKTUb5gSQEoiIo1xJBJSABIBMZK6jbVLiL/+6mtmzTyX8YhX1qQNIAH+vuDdF//6irTkzbNvuHn21VIA41BdYz7z/HNfffNtjccrBRCBlFLjnDFuWQI5IymlsBwO3eVwnDN16u9/d4vLibVZXCQBGUgB7/574T8XvFNRWe31BTjnRCSJEBiFBnkkKThjNpuWmpJ45523jxgxiAf75Za4ChBu/u0dy1ZvBIRhgwc+/5cnXa6jmuUkCYDmPvrUwk8XE8BD9997/ozpAMAYWAK+/vq7F557qaKyKhAwhKz1YFN4N3cEQJJS48ySwul0Dh8y+I/33pWc1La5KtZVNWRUBm1SCc88/cKS/37h8fl9pimAMeRcMkQGQEIIjkyABAQphMYYIcjwiIVAEDTTAQAIwRp9xsgnnnjM5bA1Yq43R0lJ2fRzL/CbJKQ5dcrZTz0696S07rkPPfXJos8lYs9ePRb842VWX3UBAEPAytWbnp73zIEDBVJKKSVjHEgSEAIjIgIQIDWuSQlASEAcpMaZze7o17/P1VdcOmJov/9FNlxJadXEqdMNiQzY2ePHzntqzs9kAwAAQnWl9ezzL3zx1VemEAHDCC6SFopTAUogzlCSZAh2my2zc+aDDzzQrWsqD1mjMqiHNCUDBGvWbrrpN7dYlnXGqJHPPTtPQwhO+nrr7Q/e+ueCao/Pb1qSBAEgQyklEXLkDACQGEKUy923V6+nnnw8Koo3DO8IWLT46xdeea28ptJnBqSQiIwBAoGQkjMGhICMSNpsekq7xFtunj154pj6C0s3BRHc/+iTHy9eTIj333nHZTPPCzbTihr/gw89vGrNBr8vgAQSiCQgY1IGfSokpeCc6xrGxba55JILb7j28uCjCMUUghcX8Mabb3+w8OOK6irDNBAYSQJAScQ4JyIhpN2mS2HZbFpqavKf/njv4AHHvioxAQn4+usf/77g7f0FB73egCksZIwAQBKQ5IiIKKQgREJAQo1BG5dz/Jgxd991l6tNODLf4IkhAMG/3v/w9b+9VVlVAxJIBF9h0J/DGEMpBEMGSAQYyrdFBoRIiGhdcuH0P9x9W6OvYP3Gbdfc8BsTWFzbNq+98Gzv7p2PdnMlh2smT5mKDE3JWpAVUmeHsWBENgwDYCRfffmZocMHNb5MCAEwMAl27t7z5vy3Vq9bF/AFLMMCZJJIComIgIgIUkrOGAnJGQcim83RrVuX++65vXePzvU9VvUqVVRYdNPNtxQfLvcHDC6ZsKTFges205IASMwKjq+MWNAzw4CIJBKAlOkdOr7y6kspKQmN6tlDh59lCANB/PbG66+/7pq6Qo/m9Q/bwsGrSQlffvXtS6+8VlxUYlqSAIRpIQu2MyYBZTDSDQRIdpsW53RfdOGs2TdcDeHtX1vON98tvX/uo4Y/MGLQgL++8AwwAARBkLev4IE5c/btK6j21CDjEgBE7fMGEQxkIbOkpSG6bXpq+8Q7brtt1JihdW69FiZxnAqcVnGAoMz169cP4AMAZhiBvL37yBp1NDv1BCkuLi6vLDcFEHDGAIAQGUMuhMURGdOQsaDlHbY9kQEBAUoJUjI8QtvHiP8IAEFYsHT1utfnz9+xfYdpiuBgGuVyJCTEO+zOKHeUlOT3+6trag4VFSFiwDCyc3Kvuvq6yy+99Jr/uyo21g6i+bR7ArCEFIIIeI3Hd7isJiEuqri45PXX//bJJ4sloUSJKBPj4qPbuJ0Oh6bZDEv4AoHDpYd9Xq8QvNLjX7ZizW9/d+e999zVt09mbfMoqwh8tmjJm/P/5qnxGiQQweF0tI2LczocdrsdEQzLqqquKisrE6ZlCOtgUclTTz+bu+/A9ddcndA2qiUaIQEA58EIS97eAxIAGGzemvvaq6+tWLkKEEhKzlh8QtvoqCi7w8EYNwzD4/UdPlxqGmgELJC+DxcurKqpvnH29elpiQgAEiTBwfzS11+f//FnHzPOiUDjmsvliI2JtdvtdruDAAzLLC+vKCstk1IEAjJ37/677/3DzTffePnFMzlrkSJKMpjYQwhoGAbR0feWQ0CGUhAwDlxHgLy8fYwBEezOLnjr7X9+9e23AV8gmBek2/S4uFin02GzazaHQwgZCBg+n//w4VLDNLmm+3zmDz8u37/31rkP/qFvnx6sBXMbarPLCWHLtj1P/eUv27duB0RBMrZNm5S0tJTklITY+KioaCml1+ctKy3dn39gf/4Bnz/cozNGUuo2za5pmsacdt2m63aHzabzDh3STcMAp63JKjROu8S2U6dOWbjocwK2dduOvLz8Tp3TjuM6dSDU1Ph/XLpKAgeAcWPHYf3YFhEcKq568ZU3Fn/+X1OYofbPyGbHKHcbp8PhdLgcDocg6fH5DMOorKjyePyMMZQgJfn8geXLVx0s2P/SC/M6prY/oar+4kQYRlLCl1/++MYbf8/dmyeBgAGBiIpytWuX4HK5nA6XsITPHygvrygtKxdSBgy5dXvOtTfcdN3/XX7NVZdwDi1ZUU0SMM0GTAfOaryBGo8vLsaZm1v4+hvz//vVV0zTTCEY44mJSXaH3e6w67pumZbf5y8tLfV5fQC8xuNftXLNXXfec9ddt3ftlhaK2AkoL69Z8K93P1j4nyqPhxAAyGV3xMe3dblcuqZxhoZhVVfXFJWUWpY0AkZBYeGDcx/es+fyqy6/LLqNvSUNPpirJQUQwu49eUGTeO36bS++/Mr6TZuQc5JS5zwpoZ3D7nA4HZxzyzRrarxFRcWWsISgktKyl157ff/+/Ftump2UGBfq2yXk5h587vkXl69cJYgkScaZ2x0VExNjt9vtNhtI8BlGeUVlZWWlBSgMkZuXf98f5t51262Tzhrd8mUzTEN+/PGid9/9IP9goSFE0KEDCBwxOioqoW2c2+mw23RE8PkDnoC/oLDIHzBMKctqvB8v+WJfwcF77rozq3tGOFcm4tIEAHC4pKS8rJyAM+RBVzsRARKBIImIQKFVbUIe9HCHiQACEYgIWf1AXehrBGBAiKghsia9MwjIDCmpzmV/lEOp3lUkAFCECwkRGcbExABBIxEDBCDYtGHbX9+cv3rdRhJIBCiII5MoYqKi4tq2dTqdDodD49zwBwKBQElJSUVVJTA0LGvbzl233nnffXfceua4URoPj++11SEASR6Pp6DgoCAOiAIk6giCTGFJQM64REBkYZ2aIHiryILJg5IkydCaJnjEs2KcoeQAEPJvUp3CAkeTo/AxWzbvemP+m8tXrjKFBAJkDBnGJ8RHR0c7nA5N1w3TqvF4ajyeqqpKAgz4RZnpeW3+P7746rvf3vKbMWOH8pZFAEIvRYIkMIUsLCkBDUBAaZl30eef//3tt8sqKwmQiDFk0W5XfJtYXdd0XbNput8wDMsqLiqp8XkQ0Wdaufvz//jA3Jtvmn3OtHOio/RgDPzniq7+zzm9bAACABg+YlhUtLOqyiuJvvvuhxuvvawlevBxMHLUiNiEtpYkAJ2Aqqtr3lnwXv7BYsZZ//59Ljx/OhGG48ThBsIYggSyUpLjdc6a0nERyIKPPlr83Guv1dTUoARE6JCecs7UKYMHDmiXkOByuOx2BxH5AwGPz7cnN2/xkiXff/+DQARg7733YXlZ5YMP3qXpAM3NG0YAQGZJlICAtkOHDke5o/4095EN6zYBMrvddsboEWeOHts1o0tUtNOma5qmWRKq/Z6K6qp16ze+9fa/qqtrgCA7O+fBB+b+5aknundLA4KysprH/vyXH39cLiwJklJSk6afM3XIoAHt4ts67HabzYac+QJGjdd7+HDpp//55PuffgyYIiDYv97/SAh5562/cThbZL0JiZZAkJBfcMiQsHlz9gP3P3iooJADd7ucZ08eP3bsmOTkZJfTodl0xphlCb8vUFZW9v0PP37yyeKqmkpAWLRkyaGiwgcf+FOH1GQg2NKZmOMAACAASURBVJ2bP3fuIzm7d3PGAaB3755Tpkzp2aNHfFxbxpndbicAwzQrq6pz8/Leeedf2Tt3WcQ8PuPV1+ZHO6LOnT5JazqrJ/jkax1JBKwudezoIkEkJUiJgLTvwEFJsHlLzv333V9YWCwRUWMZ6ekTxp/Zu0+v5PZJLqdT13VN1y0hTFMYhllUVLxs2fLPFi2pqqwmYnl7C++9b+7DD/9pyKB+zabPBKsqJWTn7PvD/Q/kFxRKIk1jU86aNHPGjIyOHdrFx0BEhrdpysOHS3Pz9r39zvur164zpQQCl9Nxw3XXDerfz6GjrmuMo67rmq5Fu9xtopxHBMBayuwbrlv0xdemZRUXl27dkn1CNgACAHz8n09KyioJID4+Zujg/pGZ30RgmvDIo08tW7k6OPBzoJTkdpMmnXXGyKEx0VE23Wa3Ox12hyWsgGn4/f7qGm9xceny5StWr15TWFgcTN/o17dvUmLi8dfzVwMRSAJhyTf/tmDBgve83gDnmpSB9u2TLpx1Qf9+fRLbtdN13Wm3C0H+gKjxeLdn7/rks0VrV68D4r4a/z/e/Gdp0aE77vi9bmu+m0YGBEwCArKKyqrqGq9pwUMPP7Z16zaSYLfpE8dNGDtmbMeMji6Xy2bTNE0zDTMQCJSWlS1btmLhfz4tq6hkwNau3XD3vX98dt6fMzKSGYMDB4oeefzxNRs2BGcQZnbqNGXS5IH9+8fFxTqcds45RxBCVtV48vMLPvroP0uXLSdiAQveWvC+bnPNvubiFo6lKBiTOmo8JztHAixdvuHhhx45XFrGkCXEx541YcKYUWckJyVpnNsddkQSpuXzGyWHy7786qvFi5f4TMMk+HjREk91zSMP3u922UGH7dv2/GnOw/sPFEgJjOOA/gOmTp3SJTMzOiZa07jT5mCEvoBZVlmZs2fPO++9tzs7B5GVFFc8/MhTQDh56hnNKFVItUmeq1et3X+gwCQkIMYwJTV5/IQzhwwcmJKY1CbKpeu6zaZxrvl8voBpFpeWLluz+r33PyqvqDIQ1m3e8tBjjz/56CMdOyYdUQQAwMSzzurUqSsyTUhimnaouPjtt98pLS8jpDOGjZw6aRKilEiIWNdVEAbd5Z07pjZqAAAAogaAQIjEQrrvEQT/5nY7b7/jdkMSJ1kb+TzaQ6kXxSCQglavXrNixSoAQKLLLrmka5cutbd2JAfyC9av22wGiAOSsOJiY0aNGDbyjBEpKe0TEhIcDoeu6ZwzaQnDMMorKrJ35yz41zs7svNIaIeKS++f8/CD9997zpTxUJejGIZhYmLi3IfmCokAIIksIT/5ZPHGbdtIyqT2yTffdC2gxLpILHFASwoGiJJcUe628UeND0sAGXySQf9mRMGNpL4FT5GEDFeuWv/EE/MOHjxkWsQZJyZHjBh21oQJWVndnXa7zWHnmmZZlj8Q8PoCeXl5X371zfLlqwzL4shyD+Q/+MhjN5XMvuyic+o8pc2HabSgAXjocAkhlFWajzz25NLlyy1JkiA6xj1+9NhhQ4d0zEiPc7k1jWu6rjPuN42AZZWVle/YuXPhx5/s3pNrSiivqfnzM8+VlVXecN3VoXzd0yUZ6PSyARCAwGbnQwYP+vrbHxjj2dnZn3z8+YzpU5qyAY6MYbWsrMzMjM6ZGbVW6aGSikWLlhQWlxDIDh3TpkwdHzoywoNYO3UTj6buhFwPSARLvvjuhRdf8gT8DCDa7Zw8eeJNN1wX3zYGIDzDgYIfnMBiMzu1P/uskUuWfPfiX18pPFhsSFi06HMhrQcfuM/uaJE3XSIQgdfv219w4P0P3l27bptN45kZ6Xfecfuggf15pOeGAUhoR9Ekkwb27XbNpRf98f6Hv//xR9OkgvwDD82d+89/zNc4LFjwrx++/0ESxcW2OX/Guf937VVtou3h0sIdOAFiPHRNHzWk//ffrXz0yb8UllcwgM8WLxk1YsjY0cOb8QwGoyXACBEAD+QfrKoy589/s7i42Om2jx426vZbbklJS6jzlEC470Do3Ln9gIG9pk2dcud9dx88VGRZsHrNhq+//v66/7uk9LDnTw/M2Z27B0m0T0qcfcP150ydYrOHBhiqfX0I6Slte2d1nHrWuLffefeNv/+rorrG6ws8/sSTPXp0z+qe0ZLAJVGEfDRnqkoEJNIkSoT8g4f2F5b/5fnn9xcV6hpLjI+75NKLZ51/ntttZxwoOLMtMtQO0KVT8vAhfS+aef6cOY9s255jCjh0qOK1V9/q9cJfoqKa79KEoILCw7fefkdxSSkgxsZE3X7b72dMnxLMgavnHUHQbdi+fbv2Se2GDhn80uvz3/33B35vwF9Zlb15y7WXXqBpYRluNIh8TAiZnJwwaMjApUtXGqb45rvvp8+YcLzXAiAwA+LtBe8AEgBlZHTo0bNb8I6CNbQEzHv25eXLViAynVHnDqm/uWn2+PGjdS3sxQ5O2SYCVhcMIoIpZ42SBGvXb3//3x9u3rzp7AnjHfqpP4wQIICU8t///veb/3wrYAgEiHJHXX7+hTfOvtZlD8+cDU1jRyAgiu2WmTJj6rj33vvkldf/XllV7fX73vtwodMd9Zubrm/Wcg5maBORaVmVnppDh0vffe+VjZu32TgfPKDPXXff2iMrs55QhWcLdE5PGtq/xyWzzpvz6COrl29A5Pv2HXjpldcff+xBAHj1b/NXrV+LnMXGxl5+0UVXXn6508WgNh0keEEBye3jumWmjR837PPPvnp83gtVNb6AJf/2zwWjx43s0S29eRmmYKwDJcG+fQf27it67oUXSkpKoqPcI0cNu+2237ZPSmRh1z4BIIYc3pmZqUMH9Tlv2jl/ePDBfYUHGfKfflq6fNmKiZPGFRUevuWO35WWe5FYp4wOt9xy44TxI4K3TuGZUUHS02P79e44eeL4V15++YP3PzQJ/H7fSy+/2rNXVnrHxhM/Ip47AUjNzs+9YNp3Py1tEx2b1a3TVVdcMnTwQLudhR51be8lwd3GDgCp7dsN6Jt1zlkT77znD3v27gXC7duz3/zHWw/PuSd0Sl0ciQCxR4+uPXp0Df8Ge/MOfLhwoSznGlGPbp3PO2ccCUAeylzBoCkAEe8IjuKgZUhAyJBQNnKTEbq+y8muuGRG3dXqLt9QzY78LkhJqef9998hZjHEgf363vr72SHHSoOMnbBQDR0yKKltfGlZRVpqysyZM6ZNPbtNjLvhxRGIAMmVlBSblZUxYdyop+Y9v+TzbwxDekzj7wveGThwQHJy3JEJBW63e+qUibV/lBLWb9y8fvNWBC3aFTtj8pkNRppg5w3hxQ+Cc+qaclBSOEYS9mM2khsT7t4Zw6+/+eH+Bx7y+oEzpml6VrfMO+68fdDArGAgB8ODMkEoatM3q+P0yeM2b8176plnduVkG4FARWXl008/LUz/rAtmuJ3NK64EobwdSVBZ7SkorPnow4U/LF1ORG63/YxRI2bfdEOn9GQkQB7uJSCcgcwgo2Niv/7dp503+eXX/7bwo4WGT5Bk733w4ZjRZ/Tundls6acQfO6cub90HU4eFNKzNdSXLlshJQCwNWtWd8jo2Dk8rSTUmzdozscb1olU8rxe35L/flVSViql7Nmz+5gzRjIEFhy0INQXIwISMIAmtz1HkLB06dpHHn2ixushKdNSk++849Zrr7nM5XTU0+pq23G4KXbp0qlX795r1qypqfEAw/yD+WnpaV0yw8ro0W/z4KHSTz5dFLyhokOFG9avA5JnTRj3yCMPd+3SMbQETW1OdPg6Qc8102DwwIEFBQf27NkNiBVVVYntkrduzX7jjfmmsOLj4v54370XXXSe06ZFxD1CMwZCeqoExqBzp7QePXqsWrPKCPiNQODA/n3nn39uM8sgIBDAxs3Zq1euYYDCskqKi3768QeS1tVXXXn7rbfEt4sOVRjr3wKF+ruEhNix487cvHlrUVEp12z78vaNGzP+n2//c+mKFQTUv2+/R+bMGT1qKOcI4UUe6mn2EgCAcejds5em62vWrRZkSmmCFMOGDde15v2any3+Mr+gCAHT2iedM3liU65QBCnppx+XZe/aTcAM09yzJ3fd+nUaypEjhjw098EJZ55hs2kheauv/dfCEGJjoiZOHH/ocNHO3TmEUHy4yOV2DujfGxttGmGIKGBazzz7woZNmwHAoen33nXbtHMmc147hBJExr0xFIHnDAYPGagzfeumzUgyf/++5KTUrKzMkxaaQwQEj8e/cuVqkFhWWjp92lRXlOPYGjWGZAkRflq++j+fLbYEMoQbZ1/XMyszMm1vw6adTzw1jzMOZPXu1f2xR+cMG9qPBSf3U2Q7D8+JqZUZAkRo377dxAljx44Z3aNbF62FGWPHiNcXePuddwUhAmZ2ypg0cdz/MGpNAAjffffTvGde9PtNkNQlM+PBP9530azpus4BZViLwaABUNt8EKBPz6yumd3WrV1X5a0BZPsL8nv17puS2q5ebRsTyIMHiz9b9DkwEMLKL8hfumwF5/yCc8/90x/uSe+QFHrsslYaQ0UGxTva5RwxdOiW7VsPHTpERKXl5d279fj++5/+vfBjZNghPfXh+/8449zJuoYhtSD8BkOVCYtB166ZCQmJa9evNU3DsozNWzaee+6M5ps7wfc/LMvO2c2ICdN/IH//pi1b3U7nzTfN/v3vfhMX665TvDC8yFMQCcggKSlh0MAh6zdsqCivBMCt27YPHDTwhdde27pjF0M2fOjg+//0hyGDe4WeMIWGm7rKSwAAmw6D+g/gDDZu3GCR9Ph8cXFxA/qFm3+jhHxXDAHbJyXbbPqVV15+4/WXZ6SnaFrtYFCva40cKeLaRo8dN3rXrp0FB0sIed7evLGjxyQkxNZXW0MelmDAIfhNZXnl4v9+XVXtBcIB/XoPHzYIGQCDUOo2RpSLR6jaERQWHf7400UE4HQ6pk+d1C4htv7dNXCVNLxIw0nTDaZQSwAET03g7vv+tCNnDwHFRrnvu/vODmnJ9XxPkZdFAAB3lCvK7Z406aybb7phyOC+drut3gMMv7jIsdtm10cOHyaEsWXrVkuIiory6GjXkEH9KSzedUNz5F0RmCb98NOyndm7AVliQttLZp1T10th6NzIxdmwsccY5I2/v20JiQQjhg4ZMKB3E0NGbXvJ2bX30ceeKquokgwYo6uvuvzee27vkpkK4VGi9gYjRy4ESE6KGz/uTLtN27R5E0lgyLdu2dKta5eM9HSAunUXj8aevPxvv//RtARjrKy0bNGixYZhpLdPvfvOW2+84ar4uChEACLE+hIQFiRG4LBpw4cMaRsbt3nTFn/ANIzA3rw908+ZiqeR8/z02h8g3ITGjhgxeMAABJAEfks89NgTn33+LUFYBYxoG3UpdMcH1TuXIQbzF4MrGgf1RhZe9rH2Mx5xYoN7OHy44vnn/1pZWY0MXU7bfffcNXnSmRCsP6uvyEI9qUWE/v16vPrqX11RdmKyqqb6b//4e8AQoYOPkm0ePJUBIgBDvmP7zoAv0KdX97vuuqNtfJva7ii0vSA2KJdAQlxC9P333xsb60YGEvCvr7724kuvGKZgCA/NnTNh/Cheu0parXlee/syXAmEIYP6nnfO2RwlIuzatXvlyjVNZMjXPi+NQhmtUsivvviChHnlZRfffNN17mhbSO9nYUmPHBHDn5MT211z9dVul5uAFRQeuuHGm//94QdCWO2Tku++6+4evTrXOzdy4IG6F6Hb2GUXXzB8aD8Ei5hYu2FNadnhZqpe+wwoUmdsjrCa4PP5ly1bblkio0PqY4/M6dY1IzTqR85QbLR3RnC79RtuuDK9U7JAwyTrzX/83eMNNNMWEHfvyVuxarUlBABcecXl06ZOqbfU5RFLZdTKDBJcefklfXv1kNI0hfnsC89VeSwI6mknDhIA9O3dKz6urRRU4/G+veCdOlE/akNrSFAwDUP+uHyFz5Jc0xLi46ZNmVi7HCEgSAlff/OdJUkIYhzuufeObl06QqTPjI7oVer/ywA4QkaHFLtda/ztnEIQAEBhQfGcOY9UVfmQMCU58eE5D4waMajO7QER6h3UF0gGZ4wYOO/PT0S3iSaGxYfLHv3znwMWyOD8kaO9NQKGAISMMcsy161dRyQnTpxw552/j4tzRVw8rP/WtSoKOsYT4tv+5anHYuOiAKmquurRRx955ZWXfQFpmuKP99wzfNig0MGh02v/rV9/BpPPnjByxDApDSIrd8/ujRs3hr5qsstCAAbECUjK5StWEsBFF110+WUzbXqde6ThQ47w8mZ1y7js4osZgiTMP1T8+7vv/OrbH5DpXTI7PTT3/qzu6Q0lsHZ0qO1mARxObfb11wwY2JvraAjzyy+/YRHT1hp95sF8eiCw6fy6a64YOrgnixyJIqtad0pdF5ScGHfNVZc5nU4J6DfNl159ueHONrW3GemqA2REwTFVAFLw29os/SNre/QeL3RWo5FZauxUivzBej+138q65/yfTxetWbdJEgdgF82aOXxI/7ocC2pYVu1fZpw7deJZY2JjXXXfRh6AjZzusGtXXDqrT5/uDElK+dF//hOwBEZUqt7AVPcAanc6Id5E9PHI7qvxpxX81Fz/haEQ3BOPPZWffwgYRyZuvvmGm2++Lr5tdP0bPqIO4VtoG+u8/urL773rDo0jSKqp8jz77POGIY6S0tXwGhDqAth/v/jC6/NqjD8058HJZ48JhTssibyxAE/tXyToALOmT5s44UxTGoSwacuWlavXHL/G+Ovj9LIBghDobv7He+/p2iWTGFhSVnl8Dz36+NzH/rxt+24Stc6GI39OXg1QNt4+mi0HASz44MMP9x04wDSu6fy3t9w8YuTgFk2HD/ZlBB3SE6+59v+4xjnTcvfkfvzxx00Z66FiZdCdK6UEAl3Trr766ri4qBasWB9qQu5o96WXX0YIphAl5RVVfo/U6PwLLxg5emCoY2rQ4zf4AAAEjMM5UyZpnAOBEPTvDz9qyVsJrzCDREhCduva5brrrtZYw4sfrfoah6EDB3bt3JlIcq4XlxwOSMEQL5o1K6t7h9CJzWZtEDgc2vXXXuOw64CwL3//7tzdLaj7sYER3h7LEpKobbv4Z595JqZNm+C9tFCtRMbTU1OnT5rMEVCSt8b7zTffNHvWF19+W15RqWm2lJSUC2bO4LyRGWN1RCpOCLoOV1x1GXKQDMuqq7/89mshT9Jy/kQA0K1L5949ewBIkvTpos+rqrzBOrT4IoAEjKCqsnLjhg0cECzrgvPOtYdXMQkur+Q3/PmF+cRAcOreI6tXz64n4wZOWRD8XvOVV+f7/QbjoNvZ9ddf07NHl5D7XMrmtQQNunXvMmXyRCSBSHm5uR9/sggZSmk19HTUKzbYhQeRcTHRF184y2Gv8zuGz4pwjdZ3NraNiZ04fgIiSimLD5dYUiDi9ddeM3xY/7AmiuFFM8M/DfRABJsDr77yCs44MJQEq1aukpFabKOEDIpgNRhJ6tUj64YbrmWNrWh5tGc+adLEdgkJBISclxwuJxKaBlddcXlSuxig5pyjwefAADhMPPtsQMa5tisnZ+fOPS2vQF3WhGzG4AlBAMQGDx7cs2d3BAJia9dtKCoqOaYhFwnrK7nHTWNp/seqAkT0e4SQnbf/nfc/NKRkDEcMGzJ79rXAAEQLrsMiJLalRbO2beMnnTVBA2KAJSVl336/rLEMp0agk7FhSIQ1zCKfW+NbcQl48/W3t2zdIUkKy5g2ZdIlF1+oB92NwW19mgVB1/kF506/6sorGBADKigoeOzJp/yGaOKNBXtsGV4TL7g6mcNmu+33twwY2DXUpiUw3mRrCVtTjOHMC86323QiElK8/8EHsiVif4pwOtoAACAhJTXuicfnDhrYR0iTkCwSHy385Pa77rl/ziPbtu8KKb2hCDU17h44LhgAEqI8/ivWePwf/ucTIYWUYvzYMRdfeEHdS2phP0Uw5eyzO6SkMkAE/sYbf/d4/OHKNdPpIIIkOWLEsNGjhnOoc6VhrTPlKBVAgLGjx0S7oxEYEQgpY2LbTJkyCSSw2nnRDZTySF9RuAfp3Cmje/duyJgE2Jdf4PH6W3DDwQsSETHGJ599dmytTgzN9bAEQBDtto8fMw4kSkmCgAAT28VfNPO8ulkQLes5MzpkdM7oLk2OYFu3bpNssVLeQoJDhsDgZ6Yhv+LiSzt2SGkktNWCS114/vmazoEhMp69Y6cUTZ1pSVi6fDkgR8DBAwe2jY0LaQMtKI4BAMHw4cPat09D0KSAbdt3NNWFHxOIAMQZXDRzFhJIxKpKz4qVq1uknYSh8NLTW7fv2rv3AALEx7aZMG5sMAxFYREwDaOmuhokIVFaatqp7sc/IQhAwt79BT8uW2EKIGTnTZ923vSpdTuTtKQLlGC3wxUXX6RzxhCklJ999ll1jY9xvQm1jOoikoiIZ4wY1r932BiLbKoNr1BXHwYwaMAAp8OBXEPkCCy1XfzM82aQdXSnUGO/9ujRqW/fvkQoJNu3v8A0whv+HU22CUACAhIRAnPabNdffaXbGfbiNuGPjPhLTLR9ytSzhbQkgCUZAk+Mbzt+3NjG69koEoCgd6/ebWPjpCTg7PvvfwI6RnUgotNuycG6rs2aOQNRAIJpidy9e5s996R55qhhOs9JAEPh5UBAPvn40/kFhxhAWkrSrbf8VtfCBzRfseMaIBDGjRnNOBKQBLZh/UbWgsvIJgbvY6JR/13jf4D8/NIlX35rERKC3aFfe9UVUU69biueFrs2NQ0unjkzqV08Z4wk/vDj0m07dhKEM6COIKirYNgrqiFDgr59ek88axyLTGk+Ui1pFISsbp0G9O0bXFoqv+BQZWV1C2p+anA62gDhvqlzRvKTjz08ftzYKLfbskzOeWFR8Wf//eKaG39zxz0Prl6/paLCCwIA2MndSAcBGqa7tBwBCxa8W1peKYmio93Tpk7WWMu2j4V6Km9CfNuhgwcTkSSsrPL89MNPAOHYZZN6W7BdzZo1k/Nj6OGDdkKbqKiEtvGcaQCcc56S0j6zcyfGmvQVHVEA4zB69GjGkHFeWVNz8FBRi4qHkC7odNoHDOgXeYctfAkD+/dHIMY5AQDj58041+3S6lkpLSDaHdUhLYMzuxR8y7adx+paar4QCm6aCQAghUiIix86cFCLS4goiQAA2sZE9+jWFQAsIQ8ePBgwAk2cVFRcdiD/oCUk49ilS2f9mBIiEQCAc+jXr7+UgMjz9uZ5anwtcQO17OoIAMOH9e3cuZNEMC25YsVqyzyGq2M4mv7vDz4SQnLOu2d1S0tJiYgJB2EsmPtPuG/fPgYt8mSdniAAwmeLl1RWeXS7o01MzNVXXaFpDY5oDgYAkJHRfvzYsQiADPfu3b99+46m/bKhsAwRImqczzzvXF4vgaRhJetG+tofDdLT0qLcUQAoJCCyYYMHJCbEYdPKVAPzQAIJGDCgHxBKwMKiYo/H28x9Y2gOlQRpCZHcPrlbl061Cd+Nn9dYBHX8meO4xiVAcKusC2fOdLuanEzdQF9HAIQOaWmx0W2AiBiu27Ax6BltEcehTBIAwJgxozgHABSC9u/Pb7a4SL2dMOyLOp5h9X9grSMAgrDk/Pl/27ZlBxDTOV4084KeWR0RGhPFJmj6hhq8OwIASGmfnJ6WJomkpJycPYLAEhHJXo2X8T/oqprzr23ZtmN/fmFw08bf3/LbzM4dOTvWyoTKSE6MvfvO2xkDQFbj8a1atRbDpTR6DgKELD8kkhIBRgwb0j41tt4pLdD+azuQyZMmIoIkqqyu3p9f0OL6/9o5HW0AqMv7T4yPnvfnRx+ZM2fY4MFcA+QokVcFrC++/+k3t955y213Pf3sX1esWucNWI1Hso6R2s68mVXFjnYyweHDVf96/wMhEZB17tSpb+9eGJxEfCyQJLsdZpx3LiGZUkqCLRs3gUV1VWziXKL09PTu3brXq1jLiHK5E9omkAACDsj69e0bG+1s6gpH+fuAAf0BUAgRCJhlZeXNFxxe5AwA4hPisrK6QtBFAsfg/cnq3kXXGZFAZJpmO2v8+Nqet6U9liSHXU9Nbg/ACFlu3t6Wlh28iWMMHTGGnTp37NY185i797AGwxAG9e3LJHHGikpLPV5vEyft3XsgYFiEBJySkuO1Fq6EWF+zSe/YkRCAYXVVlWEEmp3U1UJCyeMMLrzoAq4BcLZuw6bS0spjeDIEAJC3O2/1qjUkiaQYNmx4mzZ2qI19ERCA3eVyR0cHB5a8vL3VXqv1hgIQSksrF3++RAIIScOHj0iIjwOkhipL01Do3xuuu44DAmF1Tc2e3Lym1WgAIKBgNCAlKal/v94NC222DgISE9rpukZEyBnj2LNnN5u9rgenljiFGHAG/fr0kQgEWF5eEQj4m40ZBpe0J0bIWUZGx5T2iXVS2uJWnJHR2abbgkvGaDo/7/wZx9aUEADB7bYlJSYCogW0M3vnsZx/nLgcWkZGByCQxMoqKo/x7F/ZbqYEJGDjpi2ffbbYMExGOPaMUbMuODe4j9xJI5wAFYp7hYsGBgMHDuKcA2BNtcdT4w9/0dSlfmYkwWdLlhiWJaVsn5Q8Y9o0FupM8RheZvhARBg7emRGp3SDhAT27Xc/er3yaAlXoZOQCCUAIGMuh33E8GHHFByuA4ExGDliONOAkDw+3+Fjlt5fL6epDRAGETQOE84c9sYrz734zLzOaeloWnYiClhWgLZs3vnee5/+7nf3Tp9x8dvvLKzxWHU9eCiY1MKExxAMgQEDaLHnvq6iof+Xr1zpNQKo6xJgxMgRbWLcx5GnFNyVMyurY7vEBM7RJLnnYKEnEKhbUfSIwjGcnYcMO3RIczntjV24GbiuuaPdhIQMOMNBAwZgbQFHpv0c/bY6dcwwLQHIpSUCAV/TnVdE8IM4Z4MGDnI47ADBHUzMoQAAIABJREFU1MFI66DpqoPdDcgJAKWk+ISENrHRtZU86kWwkR93m2jGkIgqq6qgufTL8AIX2HIDoPbJIZddumc4a6dBHusIiQAAXTK7ACEA9waEaYkm3NplZWXBNqGhFh0VVVdosxUPH0AEbRPigAMx8ni9gsTJGtVrqzBi+KCUhBjGML/g4MZNm0P7FbSwFIQPP/3cbwlgDIAmTx4XkioMmfUIoOssLaW9FKbF0G9any5a0ojO10ATPX355PPPSysqgDNgMHTQEJtdq4tStZDg8yHI7NIhOSUZACXxndkRE2mOfHcUeqWIiID9+w9kwTVYm56x06CdMrA7HJxroR03GGvfMS18GIWCpUe8u4ZdFwEwSEpsF9yuyuf3BwyrmZfOgAAkEQFYAJndunFNa5F8RhYsQdM0h8MBRIygfVJyTIzrmIUNAQBSU9OD61B7fV7DsP7XUS0hID01HRGJqNrjsY4UFWro/I9sTlh7wPFUEwGwLkW8WSKPajhsEaAgIEkwb96LRSXlyHjH9JTHHn04OlqHFo44LeRoGWUE3btngQQkaYpAIOANrjHWeDAJAZEhIENkIfk+URDqDb2NFmsJWLNmNQFwhmeMHOl2OOqOQ1ZvjnVLYMBsOG3aNI4oTLFnd25+Qb5sTGKDV5VYOw2eJJDusHXr2fnYPBT1SU6Ot+tc45ppCL/fdzyX+FVymtsAIRAYg1HDhrz39ttPP/H4OZPO7tQxHUEQEUmQxMrKquY98+KMmRc99uTzK5ZvCHgJBITGihY6WBAguEQOUu3id8dAOIs0OyfHsIQlJNe0sWPHHI+whodVROjVq0dQ4gsKi5rzu/w/e98dHkd1vf2eO7NFq94sybItV2xcMeCGDdjBYHoIEEICISSQD0j9JdRAaIHEQAiBQBqQEEIJCTWUhGDAGPdu494bltXrrrRl5pzvj5ldrSxptbuSK/s+eixZmr33zC3nnnbPEZBY1TGLiorSkqrYqjSldCUQiDDzqJGj2lEV97ukZ3g0TYGImUOhULdCXCSYWyAnjhgRlhESpJ6QkZHBpglQcXGxy9VeC4rrnCYGXG43i5AiEQm0hqyW4+g8boQpMU1z3NjRbbw4CRAyM7Osm5EBfyhkGDGeNdkAxDq/dV236TgoOqJD+9FQCqTIEoC0OP0I8SBsImNBcXHh2FEjFGCa/NI/Xgn5Aa0b6dCinQWVVc1Ll68SpYho1tlnlxTl2Qwg/CqWWHj+ubPS01zCBguef+GlNeu22oGEcnCbxzeCBhYvXU5KN0xT17Qxo0fG9THpbM0QlEJZWRkRaaTv2LHL5LY/HdxAm9hAIhg0aFA7pStuuNJcSrM1dF3XBgwss8UJMsOuhrjeRdc0h6YDCAZDVkKFeOaeCaRUv/79SSUjlAiz2+VWpAgYOmyoSFSOmjhbAACk2SYEYZGWltbeuRfXBUMgQFPweNIFwsKBUIi6L4/Ruzq0FT0e3zC171kitkCb2yjD4N8+/vvNm7cRaW63+/rrv53mTlABjg9WXDtFKAiTn52VAxCRChlBv9/fppd2xYp7bSyjxPaIaa8zLFy4JGQYUHA49fHjT9L1MB3JMUcGgJGjRmZnZQNkmuaChQu7qnB/kGIiwqNGj+rR6lYgQpo7zTTFNDkUinVWHlv4YugAIhCGabpd2qxzz7z/7rv++NRv77/vzpNPHi1ksBkSkwVUWV33r9fevO2un/+/H/zgfx/PDzHMRPgqk2VSSUoAIIARDBrl5QcA0nW9qLho8JABECR+kV8i38eMGW3ZzRoamlpafPHQpZQqLi6yLgMkDLt0iF0IpyCShjnBthw6dIcDIoZhBAOxgtQjsAIDRHjM2NEJEm193jYXKKURkJmZqeuO5GbS6XCKiGXfD/jjvtCcBETGjRlr28aSRVZWloCVpkIhwwgZMaZqwID+1jAxm03NTQlYDCV8Agnq6+stctPT0x26nrC7LEYXAAFut2PKlMkQ1nV905atGzZvivw1FgiGic1btn6+vxwETVPXX/fttvAMCRuFBQBGDB9y0QWzdDARqiprZ8/+9cZNO9plsI163+NYFWhsajpQUSmiSKhPYcGggcUUUyDoEmHL3MCBZUopYd7/+f62+P5Yn1MEKisro8hoxw+BIlLKnlWlVF5OrsmAJCxKK6Ucuk6gYDBomGacxgJrwQ4cODARots6jf6xsKAwdmWPGPB40iyCAPL7/dFaWa/CYq9CgNvtFhFTJBgMmceKHGUnmA2f7QIwzZ+/5PU33xIQQaafefrMmTOsq65s9qoeIB2+wsjOzgGDSBmmaTLHa6zsDYq6BwHA0qXLWEQRpaen9y0psT+cNEtUgKCgoCAvLw8AkVq4cHGM1tq89wQoK8A4eVhhEp60dBAZbIZCoZ60dlThi6EDWOnXNc1aRg4nBvQvuviimc/99clXX3npG1+/YtDA/h63k8Rk4YbW1lXrNtzx8/tuvuWe7dv2GaEkGWLCS53Q1NS0Z+8eAKZplpUNJMv2iCTcCvYn+paUWAJ5IOAXK/AilkZhR6ZkZGQkt0+tz4sIRDIyMhzdlfzsHHZFUcXMiJfjMJNdWLNv375JHmCWAkMkgMfj0WJlUe4CAgBKkQqz45ARTIqUuOB0Ogvyc3ooZTqdTgDMLCwisdzYg4cMhGLTNABqqGuKK3jpoNOQsG/vPiJy6HpWVqbDkYyvKQasRKXTZ0zX3bpBZsAIvfPOu917hAgCOJxYtGRJi79VA40dPWrQwH5A1OILH10k0BXuuO2WKZMn6gQR2bRlx7evv+HPTz//+f4qg8FkR6gmKpQeczhQUdXcErBq9g4bPMQZX0hLJ7DkQxP5eXnMTEQtXh93Jx1as+p0ONPS0pLp1HLbinWpQJRSbrcWO09gly0RWbyCRaTbTWErlqJAItynsDDhUbPWISnYhg/JzMiInBKJgsi6+iBCMEzuqegf2WsCNgUMsQViCp8t0HVdKUWw70UkRip6XTmJGxLlTSTU1/n++vcXWkMhAU4YOviuO25xu+0/dZNuMo6O2tS5yM8HXXlnQOB0OIkUxBJPj8ZclcuWLSfowpTmcpUU9+lpcwKQpQPkkiIitX79+lAwrv0jLGUDynqYFlVpUJpmFfMxjxn9tXt8MXQACwexDwEJhgwtue3Wm/78hycfvO/uC887x+3WTQ4aMAOG8cnc+T/64c3vvvcBd1p+vHfBANDa2lpXW2d1NmjwIHvFJutagCArI0sRMXMwGDI5LhZPRE5ncsI7ACJFAhCRJz096eDSSPJdSvByta5r7rQelF4igghB3E6HSiZ3vZ33GxT2K1hj3qvCIIX1OI/H0/MsxRFRXiCxxfqsDHdBfp5SygiFtm3bHpcdJDr7NSNk8OIlS5jZZB48eEhamvtQhB9nZ2dd+bXLrbCltZ99tr88rjTk3hb5YM7HzFBEM6af2YWH2Y4pdmj42W03n3HaZJKQIUbQ4Gee+/sPf3rLk3/885Ztu4lgCljAIm3H9nGHqsoqX7OPRYhoyJDBgg6BJJ2+OLX/Cj8mgDvNLWAApsGtLd0sLysvkK5rut7VXHWHSPFgkMfjCZvSk2hM7FjE7naQBba8hICIpKenJ9xbuAf7DhFRWpobSIrJUPSPvbRM2ZZZlU5QoCiB2PKw2EkCiKxQrvgR20JxOMEGnvzjnzZs3mIw52Rn//iHP8jI1Hstu3i0/7AtlqX9f63be0Rir1iiOJM0t2/vUIEAwN/qr6mpFRFmzsjKyMvP6RVh0+3W8/PzrNxswYBRcaCq+8+IAMjOzu7hHCkgaiaOjrXYGziOSh7HQOSA6iiQMSDoU5g1c+bUGTOm/qDmpl/M/tX8RUs00jToVVW1v/zV7H2f77rpxhsccdmFk3XKAgBMwwwGQ5Yo6nI6t27bq3NQ4nCxt70TCSCakIhiUlU1dSxESmOBz9fSvU0UAOBwOJNd4GIfcEQulyuu3BqdQdcgwvZN2URacDgcSZjvI7AoZ2an05FU+SoBkQgTCMLWMZ88NV3DWsUej0epzpZ0UghH03T9AOPsmTNf/sdrBvOKVat9La05WWndzE44gJUNU+na6tXrqqqqSemapkaPGunUyTRY76HZrDNcc/XVr/zztWDA3LuvfOu2HcXFhTFWhfUG7773n7r6Bmbk5OWcfNL4WLPPUITBZUVP/OZXv3ni9y/+81UzJCFgy/adO3bveOHFlyZNPPW7131nzOjRipKMjjkmEPAHLE8dFKVnZm7eukeYEU7Xg0gCkChYxvfo37C9Z6A59Nq6RpDGLBpRQ0NjekZBtzQoTWl6cmGLYZJIAex2u5Pm2lExGnE1YL8/QUGluZNzPbT7n9vltkc6WX7b1mZyHm8BC0SwccPmbdu21dbVVVdX19bWNnt9gdaAPxjw+/0t/tbWoB8me32tTJYDsJMVEpO4IwtBOJD9vx988ubb7wpBTD5rxoxJE0/qFQIF4cqlQEVl7arVq6urqxsbG2tqampq6lpbWv0BfzAUDPoD/tbW1kAwaBBIhYyjNCjF7/crpawgbHdamtZbkiYhJzfbZINIOR1Or88Xz2eIJDs7u3eWkW0oPH7wxdABECUnHTR7UUxY01BaVPC7h2bPXTDv7y/8c/OGPaLIFP7Lc885nPq111zrdmoUU9+2QlStPhJbJQoAjJAEAwYBSuS5v/z1ub88B1EAJGZ1j5hpEmw/oinw+QNxCou2YSkpWOVvANGUSlLtJrBp+TclfhmaiATidCarvdjWF2KBHcufTCtiUyK9kmm2A4VRZnsAHk+aXXuhV3qyBNaux1snXHLeRXM+mFfb0Lhj566XX375xuuvs6u/Resh0ce6tWwVlFNrqPM/+6cXlDhMmGWD+k89bQoLdD1mwfdkkZudMWXSlE8+XegP8Icfz5t+5mTLzxF+0/BzbFcva/H7/vHPfzIUKRo8ZOgJwwaH/3Qwwo4eS3TFj3/w/dOmnvbaa/9euWpVY3MTi2kYxqKFS1YuWXPCCSdMm3baqRNOHT1mpNvZZj+yvx/rcUIEf7A1GGzVlC4sj//uqSfIivYIx6iAO6YfifBGhP9GYU5pGYlZHCQmk9HkaypF9zqAQ9d1PXml37IyiD2fiYvQ4Q9Y6W7F+lUkiqPzLiOeBnI5HEnqv9Sug8Nkk4ycMuFXDLQEN27atGHz5pUr1+3cu29/RYURCAJ23QYRYZAIiEgpZbIJZTqsVUHW3QDr4IqLdhJl39Q4PMIXSbtjNXKeK+zaXvnss3/X4IBhjh4x6ns33qAcNpeLj5VZDzEAWHeiBUHD3PV5+dp1G9auXbd107YD5ZU+r880TYapSFnZawWmkG38J6WzAMQgaLoGhIezK7ZCgBwqg1QnYEChsbEpGDKESCCZmZma1mveh4ysDCgSJsPghuaGOD4hAGVnZ/WkGGxS6d6PDXxhdIC44XK7Zp41c+yYk3/zm6fmzPlY00lpjpf/+dr48RMnnDKm7cDpwI8iQRXJQABCY2OjCEcyiwqs5KQRb3nniJnrK2KfksQ8r0mjzV8Z/im5bo+Iot175aIPH3qDZCKSg020nWDIkLLRo0fMnb8QQs+/8I/cvPwrLr9Ea6sLC1j6qqUKRUUBAXjt1TfWr19vgtPczvvvvisn091rF4I7QjBt6mmLliz1B4x58z9t9v0kK8PZTlGJ/Cxg0MpV6ysrDigxCXTpJRc7HLFOdIpqx6HhtInjTxozZteePW+8+eZ/33+/taVFKS1kGp9tWL9hy+ZXXnutf2n/Ky6//NxzZ2i6LT8dg4usA8TyA5i6rgmJCNtpeMWEJQUCEDs2JvLKkUy5kaENx4dQ+DKK7fmLU0eK/8nYjfS8ARGBbf7o7mmyo/cFkrQTr52AmqCztGvC4u06EMLceQuffebZmupqn7c1ZJggBSIRaJp1wQDMrCn7tBTT1EgUKSXCgGGakYWRCHlhhamXPJ+x0KbrR/8SYuCvf3t+7/59phkqys+//9578/PSrLM7wRkgW6kS7NxT/rs//GHt+g1NzT6/P+BQZIZMXdOJWCfrvoYIQtYJThAoBRIF3aoWT0k5rA8tCAACAb/YHECyc3KkPefsCTLS002TLS9rc1Oc9XqFIrlljwf+25tI6QDtQQCgQfUtLnjg/rt9Xu+KlStMUENj8xNPPvXcs3/WevkeYxQEXq+X2c5CMnjQQLfLDRGJmW8sHoO1QJRCVqYVe3o4doAcTqtD74F653w5tCMcLUQmHW0VQQLTJHC51fdu/O6uPXv27t7n94ee+sMzpinnzzo7LzcjQgZFn4cEGFJX2/jiP/758j9eDQYNd5rz2mu+OebEIb1nFeoEmo7xJ43Nycmuqq5r9vpefe2N66690qYngvA4mozlK9b4A0EhrV+/vmd9aVqMIWlngVVAyAB0j0cfdeKQUSNu+c63vvXWv99asHDRgfKq+qYmgdQ1NNTXNW3YsPmZvzx39Te/fsbppxcWZKheC74+kmht9WvKwSYryMgTh4tSlpXBVgEBkjYFgOyREw5bJdopA7aRjUgUGJriNLcrzjE6CkYy7K+MhNPEsbJ7qAr29t6xlKmYFAkAmCY2btn5p6f/smjZcmEWk5UQhHKys3JystwuR1FRYV5+bp8+RR6Pp09hUVZmltud5knzeNI9LrcrzeO64867Fi5ZwYnfYY0iTg6rVTY8oWLi329/8P77HxhsOnX1ta9dPmRw38j6ToQee/Jrqhv+9tI/XnvzrdZA0AiFIHDoDo/bmVuUnZaWlpeb16dPn5zcnPz8/Ly8nOzsbJfblZWR7va40zzp7rTsN//97pNP/SFklUM/CrZBGwgQ2IGCECJyupw9scG3a5vgdLpEhBQRcDzl5zlSSOkA7dFmN4fHpd1z189uv/PO9Zs2CWPzpi2rV6+bMnGM/WRnCzp5wVcBYidpEYA0dffddw0fMgSmQHGUTTUBhE0IJBBF7HY5jy5O0bvoLZWjnQybXAOHxjAT9X4Ra+ph9VsQIBgxbOAjDzzws7vu3rVrr7e59bePPzV37idnTT9j2tQpAwaET0QGFEJB3r1397xPF3wyd9HGTZuEIEquvPTSb37961pUMMghIZUxqKx0/Ngx//ngY0Xq1dfe/Ppll3syLV4nEUneGj1fc2D5spUMjUXOv/BcTYtZ4E/a/6zpIIGdCkiV9i38/o3fvfqqqzZv2rJ46YoPPvpo/4FyATHU3v0VDz/8+Btv/PuKKy678IKzNQU7DuTY05QBggicrjSwRgRI8HePP+ZOc+pMRGKSLZMoQJgoEmRGXUbIWboDQSPowkJKXGlxR/jQIciIkqCQGeE98QUUEYXN+L25+nu2kLq9b2v5Ced8OO/Jp/68/0AVkyLAk5Y2edLEyadOGD5scHFRgcftyM7JRrRjMJoqQogBO8eF1eYxsvoFIGxcv+2Pf/qTYRoKdPLYMV/58kWIREIm0JTtNdi1a8+vHn50xWfrgyZDRFcYNXzEl848c8SIEcXFRbl5uTk5mURQXSTJZUATYcM8JHGnPYawZGZmkn3zm30+X1IiTKdNw+8PapqCIGSE4rtVT7ZnJ+UE6AwpHaALMKBQUpQ/Y/qZ6zZudOgO0+QXX3xp4ikPaRpirKZ4EsR19jFAkJ2TRRqJgE1WSqWlEZlEmmrXVXKL2D6G4zwqkt4obW7pw+wHCM9HT7e4HJtSWdJI4OID2Yto5MhBd915+733PlBT0xAKGSuWr1m5YtWvH/tdQUFh376l+YUFwUCwublp3959zU1NoWCQhDSl0jPdP/jh977ylYt6cmk7fmg6vn7lFR/N/TTEUlPfsGzlyulnTrLeAoBYhyggwK7du7ds2SHMuXnZp0+bktgVU9vSrdoKmhKysz2TJo2fNHH8jdd/94M5Hzz97HMVNdX+UJCUvmHzll8+9Oi+8orrv/3NNNcxGxckEII7zc3EulJsstfXlJfXVyMAwhG5SICE7s5Zz1oa2NGY6rBLHIshhN2ggzZDhAXzVt/78weIlDLZoatTTxl3809/NGRQmXJE3UqKvqHUYX0TQUXlMTgmXMUiIAUjiBdf/kdNXYMJyc3JnP2rB3LzM5LavSTA/vKqa75zvc/nZ5BDaX1Li3/6g+/PnDEtYkDpsmVbuRJlRdbE6U45zOPMII2ysrLIKuAtaGhsFAGZvZOHsqmxkaCZLLrD4cnMOByxYcc1UjpAF7AOdA0TJ05Me+5v3pZWiNq3v7ylJZCZ6YpxdrdxzsSXptvtdjj0UIghUlNdw+ZgDR26itFmR6IiD0u3pi1C9N+T2lcU9a2H8g1FmovL0ynhuOIedHlwa4mjQ/dxkdOWnTNhaaKpqTU3K6n86PGgwxoIm1Mw4ZQxL734/GuvvvXmW+9UVlUzTNJQXVtbUVUjgFJKEUGIwErT+xQWTJ085dzzZp40fnTkAicdUs6tIIzxJ404ccSw1es2BEgWLlsybdqkSO+RCTYZz7/wosGiKRo9csSA0r4KcdPVtj7to87e/KZ9irtduOjCc740c8acjz9689//XrduA6CFDP7r889Xlu+//ZafZGe7DskY9NxkEEcPLrfL6XRyKKjpWn1D/YABJVaaQhX9UATdWuAkvN44Lt5BoNhBkt0gfOczfHnFslhG9RuPk62N31nsKn51uhcWf9uN2nCV9Pib7NJf0UUjLNi6ec+DD/4SgMlGRob7+uu+fc3VXyUtai9FZrBdu+HmbK2AmCOx9ondY+iJdaZtQUnCiof1Qm+8+e+58z41IekZnu//4Ma8PllJUiPibQn99onfN3oDlqv+vHPOuvGmG8r6FtrLWYvqFVEeFUSmTcJxWaYApFRCUUi9xG/E/up0AglgZGRkuNwuaQkQUXOzt+2aY4879vp8ViyQyUZGZkanj4WVULFuKfWCce/wBqAdTqR0gK4hADBw4ECr6oeA/P6Az+fLzHR1ykHbPMJR0aEJQdM1p8vZEmolaJWVNbqe4LqNpR50Q459R6tn18usi6V2egKWnp10USdrzEYk/I91EvY4i7RIb0qn3dMS9URcVlOKOqnr6upys0qTJK17tF/l4dNITJBCXl7a1KlT3nr7XYYQQcEkBSs0WpFoSsvLzx83bsyM6WecdNL4vOwsd7TibDd1CM2n1tr76mVfWbdxY9AIrVi9uq6hqU9+VvQ7CWH33vJP5y8EyDADkyeempvpTm7qJfptIkE+CkRIz3BccvG508+c+tobbz797MutAYNN4z//+W//kuL/d/21WtKlOLpGextErznhD4Lb6XQo5Rc2TN67b9/4cSPtBdPpAMYzqtHiTjzo8SZlCIc9OJ10G2/7YfGiUxNMZ69DAPdcB2hrPpyMNREh5SCZqHOBTuyhCYXw+ptv1jXWs2mC5Fvfuuqab36VogtXWYl0DmqAOjRGaGlpiTLwJKIDUDcm8hiwvVJIJqmjMNas2/jEE0/6gyFDeOLEU887f1biJITpUGrVqtVzP1koopOGyRPG/+z2WzMyXGJpzxEZIkImUbupiiK/qakJFDMhSOcU9IqLXsL3+bvshxTl5uVV1TYK0NDY6Gs1sjOSriPYBpNRUVVFSrFpaorycvO6apMsHSAsF0Qt8OQ5YkoH+CIhLGe53brb5W5q9mmaZppmY2NjcXFe1x/r0SJxu9z5eXl1TZ8rhTVr1l55+flaD83pRwqH3csbM0FqYjjah/yIlsqxJEp/AO9/8L/f/PYpr7flhBMGf+eab5x7zgyv19va0ioinvT0jMx026CrgSXs4m6zXNovcigJBQRjx4wqKS4ur6zasXvnlq1b+5x2asTDZO3v9z+YEzIMUrrH5Z551pcSUyDbnGxdfCpqTWZnZV5/7TXpnpyn/vjnplZDQG+/++75s2aWDe6X/DseOZCgMC833ePyt/pYZOmylZdceC7Q9Zwe1TuqpzhqYlp6ItxQl+KxwNvsXbx4qWGIgjZhwvjrrruKVPt4rY4KANq7cC3jP6GhoV56nsrgcEGAhibvn/70TKs/qJRW0if/e9/7bnqazsxKUfQOj5GZs11zwNvvvmearGmOrJz0W2++OSPdFe0IjoMr2hy0qrZWAD5qFl87EEygsLBg27ZdIuL1+srLy7OGDej5rDc0NlfV1DKgdC03OzM/P7sXqP1i4+hLLHWUQdNg3W6xEtZzzNKsbWp8EotdITMrvbikGIAAa9auPeql0RSOAI7sihACE9557/1Hf/N4Y3PT5CmnPvabh86dNQMKGZkZhX0K+xT3ybAyUIUFbSUgOxF/lAJwyAkFgH7FJaNHjABzKCR/e/7FtvrTgAJqar3LlizXoRSbs2bOLOqT35tR6O3niQhEuOLSi2+87jqNiYCKqqpP5i84di1L/fuVZmakCUQpfcWK1cYxFcHfi5B2N4Ljms6jcs5jHTarV689UF4pDKWr8y847+AiOXE7eZhRW1snHMcHunjkcEu8gjdee3vtmvUAZWR47rjj1iFDBsCO+2o3XHGxZUJ1Te3ChYuZxTSNU08+qbRvScISmIgVl3KgvNxKwBdXzwRAkkjHFDdV7UdEoICzZky3NMVQMLi/vKJX/L7VNTX1TY0szCZPmjRJTwlIPUZKB+gGIQO1dXVWclmXy5mRkQEkGOIRN9LS3GVlZbqugaiysnLnzgNHZH6S36vUayH5yXR+lKVcPKqI6R0QGNj3ef2jjz7u9QUGDhxw+60/LS3Ob2cBO8htfdAJdTiPcIFDU2dMPU0DSOlr1q7bsePz6L9v37lr967dEHHq6tprrtYVtF6fs/axVBrhwvPOHTl8OJEyWD6Zv7C3+zt8yMvNLioqBIQ0VVtfv2v350enbHsIcbAcGJc4JnHG/B12HEx8VNDh5i1bmIU0LSsna9iwIfbTib/Fpk1bm73RCd0TWDHCVim2hDtNGmJi44Zdf/3L88GQSYQLzj9n6mlT7FRAqn2IDuJVhPbtL/cHQqSUQ9dGDh+W5k48D51rTx5YAAAgAElEQVQQgKAfmzdtJqJ46wMQQKKUEljXsnsP0RGeUYNAggvOO9eTlqaUavUHdu3eY5o960gEQEVVZU19PZRSmjrzjDMoZSftMVI6QEwQqmrq/cEACzOLUprHY13B7OaKid/fmnBfAtJwwrBhEIiIUvTWW29JyCYjtdCPLVghssfbpAmU4KHZD/sDIVLapV++YGC/IjJNOw5ctZf7KerrSMGBs6afkZ+bLVAG83v//a/1a2EYjJWr1jT4fEHhMSeNHdC/hNDb6Wg6vDhpyMr0DB8xNGSwKOeu/RXH7hJRChMnTtAdymAjZJrzFy6Mx7x7HOPoDMqIEx3UknA9NwIIe/ftgUYgOJy6y+1M+OZGGHM//lgpRXYZdukmlr39H4OhUDeHbu+CcOBA3S8enB0IGkJS1Lfo61+/wqlFcbik7iWUH6hksVQIzk73RP0t7tNCgxDWrF/XEvBzuAxfPBCBaZrCfNhy6rtdNGHCKcJissz9ZF7I0gGS53gEwpyPPgqEggzJyMg49ZRTjl3+efQgpQN0AQFYAKxcvpxDpkZgNgoK8nKzs7p6XtM0zeEkUiA6cOBAMkeC4IzTpzkdGsQ0hRcvX7a/uqatmcMlUR2jh5l1pByjxMcPiZKxexAA3AliHyciDEFNRe2y5UugRJi/NGMmM+DQrItrdqL2o0FfjYrUT89K+8oll4J1MyRLliytrm4EgRQ0hQ/nzIFAU9q0qVOcut67g2mBOqhCugu5+fmKoIR8jXEWuUwMdoW+Q70RCJdf9lW3w6WEYNKSRSu8voBpCsthKIZsrTbrmmcHi2x8LUjPKwyHkajvkwAlSJJXkVXy1O6SJI4w9B5C4GtpMdmAYofDYXdNHLkx3M10W2HzAl+z99NP54Mji7OLYbN+y4BA10gpAkSI9+zZ3VuFZmMhbAkQE6+89vrm7TsMpUh3zH7oof79SxTZyhElq454vV5SyjRNFna4XFFO06jBiD2kAiIsXbZcGIqUikd3IAjgcjgIEJH6+nqJNtMcSkyZPEVTihibN23buWu/pWqaHMey6QiBz2vO/XC+ZirFdOqpJ2dlu5Pa+ym0Q0oH6BqKAq3mosVLQiGDiJxO/fzzz1P2JepO1p2u606nk9kkoKamJpnNRSjIy7jm6m8oYRD2lZfPX7wEdEzW3P2C49DNWCQnYKexNocOpBQU9u3bY4oBMEHy8wuUBgHYIqWjwHtkEabq8ssuy83K1HWtoqJy167dwhDBipVr9uzZKyL5ebmTJkw4ZERIuy+GMEwWRYqEiwr7HLJ+Dz0Eudmuyy69VCOlQBvWb1y3fiM0IhUWkA7NGoi0apmTkww+jCU4H8K1a2cnESuEIcmYIIFwOPXc4dhngpzcHCgIpLm5yev1JtBx+DFSWLh4yYGKSiillJ3dvpNZiFwY0gDA6XQ4HJr1WHVVNfMhPQotlZJBCoQly9e8+vobAjgdjm9d882RIwb3fKhFkJOdDSIWYaC8okIiPdtCuUQI6RKE8v0Vn8ybD5CK1qMo6t+DOwYpSvek67qulGrTAQ6xAK0Uxo4ZXVSYrxFMw5w9+5GmliADpJLpOWTIbx57wt8SVAyP0zVj+ulaKqNNbyClA3QBBRCWrVgzf8ESIQ2isjIzZ50zE0BXq9eh626302JwtbV1yTErInznmqtL+hRqSgUCgeeff7G23tcu6VtKHTjqkdBBFWWwjfeUOWJiNovb7aKwYW/fvj1m2BUhBCERKxkbRSVcPLKKgQBAQX7m5AnjAGn0epcuX8ECk/GPV/4lDF1TJ5wwZMQJQw49JXZkRSiEyopKZpMghfm5h7zfQ4wLzj8vLztTQVpbWx9+5NGqmqbI6X7ILbbWQuzdRZWU7kK28Bb/GxN6viF6VxyOqROV9i81xTSFGxubmr1eAHFKDvaoCEIGv/rWWy0BPxGRIoh0E/0igMCT5nE6ndaLWq51OuQXAgjAns8r7nngAV9rq4IMHzrwa5d9xdEblQ1J0K+kGMyklGGaVdW1oVBXd5+7vhXN8va77+3avQcKByVz6moOrUvYHo9HhAVg06yvbwAOB0MeNqRsxpmnKcVEWPvZurfeeY+TLW+/eOmy9//3PyJoLEX5ORPGn6Rb5qeOIZc9p/uLhONIB5De02sJYmLDup13//x+vy+oQVNKXf+da7MzHeH11cnSS/e4SvoUEgmAllb/6s/WJ7cY09P0K796uaaUwfx5xYGbb761xReKerVEvL/J2IqP9A46DKEEMTrvSY5Ri3JJUAQKP3ikx707eUoA0LDBw7Jzc1lEgBf++qK3NkBGRMK3L2i1+cojX1aYEPfqJo0HZAXpYdrkCbquM9OChUsEaGhsWb36MxYR5iu/9lVS8d1Wi3a+JHdzQGHvvvJVq1YpEzpkxvRpSbXSPexZOEStR2HwoLIZZ55OYgph5+59jz76W29LCFH23HiRIK222ZSOfCIADaQzHGJqsTOm9x4kqoSJSO9spy5ZroBNnnnWWbrSRMRkWbliVfwvKgxhCRnyy9m/Xr58jQgRETNzPLmBFDKz0/Py8gAQUTAY2Lp1xyGfbCJfS/CZp/9aUVVNGpxO7dabf9KnIKOXJlZGjRyRl5NFIFL6lq3bvF5fQi0bjA/mfPLM088ZoZCuaWxyPANCGmkKRUVFREoRCTBnzhwQxDzEy1XgcuKmG64vLioUk4Xx8sv/2rJtV9vcd9t/eF1WVzc9/8LL3hYf2HDpdOMN15eW5KHrRdvudjJAggSKP37BcBzpAFG2RuEehEoTRGTBwiV33n1vk7eFIYYRGjP6xFnnzIw4NrtqetjQQSIGkRjM/3z19UAgcUlBAIVLv3zRhJPH6iRKqc/Wb7jnvgcqq+rAUZJHnLbVtsjxeEHhG1vJQWClj0yiGEuEAusbU9yqjhD3VvhzJMQ4uVAuAFHxCXEdz5GOhETQw9QJiaBNHFcARXSX2HCkOX/6fz92OhzM/NG8+TfffuffXnzjo7nLFyxe89n6HZu37N20ec+mLXs2bd27acueTZt3b9/x+d59VTX1Xl+raRKEwAKow8WNw3vk1JPH5eZmM2HTtu1bduxbunJlSyBISg0cWDZt2iQBx7VHGFUVVWyy3XJilCgANTWNv/ntb6urqqEkvyDvtCmTD4lGRNYubFvNh0pOZrgc+H/XXzd4UJki0kj79NNFv/71497mUMwUyl2AbJ3tMB7VHXuy7rYnhqhMke03Ue8OO0U4jGVMD7Nqav9MYojW16NbaDvrlK76FBQMGTJYKc1k+de/Xl+0aGWcrSugyed/6k/PvPnvdwU0a9assePGKlLxx3CNHDVSKbIM2P/9738NIxkOaevD8QXyL1i48NP580jIqTt+9P2bTho3rNfmkYiIZn5pBolAsGXr9hdffKn7QzzKkPfxh5889tgTQmr4CSdcftlXdAUxTbsYbgwIRNC/X6nHk2bN9auvvtpY39gdtTHasx2/3bQgACEnJ/22W36akZ5GoAPlFXffc9+az9bHK6EJAOzeXf7ze+9ftXqdputKo8sv/fL5538pFqPo1DMgR8p7frTj+IqoIixbtnLtZ+suufjiwj553VT86UI+bvEFHn/yd+++9z+fzyBoAna79Z/8+IeF+VkAxJSu3JFEmHraJIJpmqKUtmbthl179o4YNjCxV1BW/GXGvT//2RVXXd3Q3GIIPvpk3u49ex68794Thw/uxJFGsdja3r3lr/zzldtu/Wm3PZMtDPbQFA6xz5Ue5lgRIC4bFwHWLUhCTyvPRoyKSV6zsxUHJkg4MKZ7giJ8ieI2L0s3c54QyCrx2SYztiOt/Y8CEM45+6xt23a9+OI/W0KhZWs+W752ne7QrKt71lVHO92dACKKSCmNNGgOvV9pv4mnnHLBeecOHVTCBO2wiXqCAf1Kxp809qN5CwKh0Jtvv6M05Q+GBHTxxRcpAlG8nv4Hfjnb40m/6aabygaUdj+1El6RAhB27y2/6677tmzdSaRMhCafNmnAgP49ea3YPbfFaPXAHtINCBAUleQ9+uuHv3XdDQ2NvlDQfPed9z/fte+ee+4aNLgogTXKYMGePXsWzJ9/xRVXuNzO7nu2pBBKks9Q1G1iy7Ie3lTJmo7CkobEYEThR3oSLqVAmrASJknS8xBm9RAwwARSoiKx6O1ot8S4zLSzZkzfufN5IfE2+2bP/vUf/vS7/v26u81C8PlCd9x1z+Kly1nojGlTbr3l5r+/8NLKVWutljsZpA5jd+65s/787N8s9WPZ8hXVNXUlxYXJvPRBqk7Hji17c23jw7/+ta+lhQ1MmTb5ki9fjDBfT6LgdiefULjkkovnzP20sqY2JHj5H6+MGT3ySzNOj1DZgWz7OzOeffb5559/0RsM5OTl3Xrbrbk5ua/961/R3tsuCRQQYdyYsVlZmV5fC0gqqqoWLFx0wYXnJTGSBAgRpHvVwxJmQJg2ZfLMs6a//c5/GbR9x87b77jrrtvvmD59Sjzdbd284657frF91z6DAeKRw4dedfWVmgqHmXWO6JEIH2yRQz1Kp0oK0k2N5GMNx5MOIABV19X9/pm//OXv/zhp7LhTxp80bOigwvzC/LzczAxPmjtNaZ3vkmDQrKup27Nv/7KVqz74YM7e8gPMQgJNGYMHlt1798/HjD7BmvTY8Yhl/fudN2vWf97/kKCVV9X87N5f3HbzT8aPHe12EBhCVj1wWMoJm+iEHrFdASV9C3//5OO/mv3Ixk3bIWrHjj3fveGm886fdfbZZ5X269unT6EWEVijQhRYYBqoqavbs2/frl17P/54/uo1nwWDrd3qACSkhJhFc0CzM+wk5aC3REEiIJDYh9taEaWIrOuT3WruAgI0aCQkEFBcvtFO2wEgYLLfPSn/mK0DGCDDYpAmuhMuBcSsWJQSgnQb7CoiArJkbSIaMrg0GTqjELYkirLabk8bEGGhDNEsr6Gb6Hs3frcgv8+fnvmL1+cTRjBoEpG0leBq9xrMrJQSSG3Nhs/Wrn/++RdOHDH80q98+azpZ+RmeSCAmFBk3xQ7RHYawtXf+MbcefMJ8sH/Pi4sKmLR8/OzT50wAYS4HBMCKNQ1hT5ZtPiDT5ZMPnXUaVOmnTDshJLiPoX5eWkeV7tDhwEFNmGYUlNT//n+ivkLFr/99nv1jY0AdE0beeLI66+7zuE4JO8r1m6GEqL6uqYVqzbpcSysTn5JJMIkTECayzVy5LDOngEIAwf1vffeOx/97ROff34AQmvXr//O9Tdc/OWLps84vbRvSV5Opq6izPyRDwKhgFFRUV1ZVbtly7Y5H87ZtHnj0CGDLvvqVyMHt60at4dGIAGTmDAgSSU6JCIRDaSF3V/Jqv1QgCZKM6F0kFIikZq50ok3kSAUMskAEg9jioqg0Nl0ieGCyRI+Qg7aOzEEHZKIcUKJqYM1UU5mTaTdRyziwzvjovNnfTpv7vatOyGyb//+m77/k29de+XUKZNLigvBIAUREEEIhon6Bt/+A+ULFy564/XX6xrqIWrcqBNv/78f5WamDRk0QIMyxXYKxnpNAMCgASXTT586b8FiCG3fvvf2n9330x/9cNyYEaTZWxKACRBDEYTBVpWP9o2YBIaAuvRyC4kAjb6W+385u7bOK6zcLv3Ciy5oamlt9Jm2nC1sj2vEzWuF40cabOdxEyLJycp2Og8uOjJ48KCzzpr+r9deB6mWEN957wNfWXnxxRddMGTwIKcOkPU+VvYntLQG9x8o37Bhyyuvvv3Z+q0KlF/U986f3z56/AgY0DXdhEkQtJ+6DjMOAE4Hrv3mN2c//LAJ9gbwxB//bIicfdZMT5oT1hRaK5bDOmIXULCVb5HYvYb/JHA4cMvNP3Z5nG+9/Z4/YFRVNdxy2z0zZ5395YvOHVJW2qcon8wwfzBt9bSxwbdt1655Cxa89to7LS1+0h0mjFEjR9591+2l/YvaFMhOe7f1A4IoATGUiuy35PY5hfcysSBExICRTDtHJY43HQAAQD5vcPGSVYsWLXc6HXk5OZmZnvR0t9PlKsgv8Hg8brfT6XI7XW4jZHp9zQ2NDbW1ddXVddXVtS2trcwionRNAcHJkyb9+IffH37CwLhipgQA/d+Pf7R58/Zde/YxsHXbjtvv+PmY0WOGDxs6ZPDg9Ix0v9/f2tJSU131+e7dY8aOuuzySzphSOFfjTpxxC/uu+8XDz702bpNpLSm1uCrb73znzkfFRYUDCwrK+s/ICsrKzc31+FwhELB1tbWxsbm8v3ltbW1B6qqampqvU1egRKOKwmeEJiYSViI2+y4ickoSkGBFQyC9OAOFQnbzFpIxbVlhYhJQZGQPVFJ2smFwEpZ3DCJT9ttCEQU4k5iQXaqwHhdlSSEyPHZjbOr+7Zshq9AFEk5FA3bsm9nxhZGozf47n/e/3T+fAjbllQhYSYisY9Jij4rSRFBWEQRCcgw5LN1G7ds3f7eu/+5586fDSorgdIg8UXj9ACjRw0ZMWL4yjXra+uaauqbQDLshKH9+pfGu8zDHiJSYrK5ZPmyxUtXp2dk9SksyMxIL8jPKy4uys7KcblcLqerNRBsbfFV19QcOFBRU1dfVVXd2NTMbAkhmHLa5Dtu+2lpSe7B9VZ7CQQiKCIQaPWaNT+95VZd64Z/HbRSI/+187gzFxUWvP7KCzFaOHPalH59+95z7y+2bd8lUPVN3ueef+nNt98pKe7Tv19pv9K+OdlZ2dnZutMV8PsDgUBdfV1lVXVFZWVVVXV9XUOz1yvMBAZp1q6njgJ0G32K2gSMZNV1+96RkKWAJ9OItSpYiE0She6jF0mYYIBCIKUo2fSkAlumFaVEhQ0W7ZWlWJIZtT0gBNEIqp1sFK0/hNnLgP4lv3zggZtvvm3Pvv3Koe8/UD774d8OHFjWv7S0pLi4b2lpVlZ2s9fX7PPu3bd/x46dB6oqmhsbxTB0XZv5pRk/+v73+5UWQKGkqMShuyQYhGgSxylBgh9877vbt2/Zt+8Aw/HZ+k0/ufVn48aMGTp06NChQ9wej6+ltaWlpaamev/+3ZNOHX/heed2XBFCVirYLk8FgmLInI/mLl+5xmANoBDjj08/q5QSsYwjotorDx3CsA6GAt9+8w9POWWclWooMqRpaXTjDdfv27d36fIVppDPb778zzfnfrKgbMCA4uI+fUv7FOTnB0Oh5qbmmuqaXbv3HqioPlBRGTRFaTR40MCbb/7R1EmjGTB15PTJL99/gKMinGw/SgeHriUVX/Ll8xcvWfDpgkWm8IHq2gcfeeyd/8wZMmTQsGFD8/Lyg8FgwB+or2vYu3dPusfzk/+7SUWtlMgCaTOnR7vgYh+4hMxM5203/7ikuPTpZ571+4Mhw3z/v+8vmP9Jad/igQPLSkv65uflZ2RmeJt9jU1NVTXVW7ZsPVBZ2dDcbJisKyUcOn3ypDt/dmv/vnkxxjyKGusbK/vtRXoSmNDGH+yq99Ktde/YwXGjA9i8yuNy52ZlNzUGQyEDpLW0BE2zvrKmhsUgBeGwwkzKknwspxaI2AQzQ8ShOxy6KirMu/qqr111xSWWlTBe/xEhLyfn/378g1899OvyqiqH7mhsbPp0/qJPPpnvdOpsMmkQ0yQRHZKe6YklBDAU0bChZX977o9/fvrFN956p6qmOmRKs8/f2LR327Zduu6ACEAsTKREBCBNaczMEBIiUZpGOXnZw4cNjmP4IBAiEYRj6xMXoy3JwbLik8WJk5DFxYrJEQVo8Qm4AgGYiKyaDskJk2JLwwI2k5TMyF6GCvZYULcjKRGjRdxdCiAUFth7AEtAJ1FgEermBocABJ9XXnr5lWeeeTZkGqSpjIz00uKC0r6lpf1KszKzMjIzlNbO6CUigUDAHwhUV1eXl5dXVlZ6va2+llaGFggYq9as++ktdzz2yMODBhWjd0tXdvaminDRheet/mwDs+i6gyU0dcrkzAy97ZnYwylgxsABffft29vsbWIWEDV7fc0+H9g2/lqiJItomm5lbxQBw/orlEJ2Vuasc86+8cb/l5fjVElsjfgQXkwEwGRubE62CoHt+YSA3Wnu2P1phBMGl/35qaeefvav7384t66+QYDGxubGxqZNm7aGIxbahBUrS7oosLBGpAhOl56blXniiSc6HN2cSmHZ3eo8qe3OYAGDRQQs0oPrS0LCilmxhKXC7uIjrB0nJMk6vqJ9F0nqQABs9Z4krOrZUxTl/4sGY+jgAY889ND9Dz64dfuOYMgU1rZt271jxx5mUZoSsSzttmOawUqQm5N71dcv/+ZV3/Ck2Zw1MzMrI91TF/ATiKh72pXCsMFlN15/7WOPP1Xf5GOhusbmj+cvnvPJfKvqrTArsUQyo7hPQRdNsmUTVgLLTtHJEyxLlyz3+wOkKUWaiLlt+w7rT+GSZhw2bViicWSq24YqynQkCmZzY7OlkdsggMCM/BzPk48/ev+DD/3vw7nBoAGllR+oOXCgRsCG+EFQII00ItLIwSaJJm6XY8KEU+6447a+RVmmCU0DCEXFRfs+3291F8/J53bgRz/4XmVV9aatWxloCYSWrFi9eMUqpRQzI2wSIsLY0aNZ7LO4/SvaxnQ62KYu7bIXHgQCAF3Dtd+8PDcr5+lnnq2ta2jxtzQ1Njc2NW3cso2IhEUpBVLMopQy2bRuvWgk+XnZl335kquvuio7S2dOYMuQtTvtgDcJSyjJhwy3RT8dnbW+k8KxrwNIeC0KQfjMKac9+cij6zdvX7N23a7du/fvL2/xtzKzCWggIYIoojaro4iI9X+BUsjLy51w0vjTT5968kljS0sLSYVDv6gzx25nxDgddMbUSZkPPvD6W2/O/3RBS4vfIBFFhsEEZgMakVLQSGm6LhwrcpQAEBRw0w1Xzzr77I/mzVuybNnGjRtbWlqFlGkKKSJRImSKaJouIibAAAmVDRhwwrChUyadPH78uAH9S7olnEQ5lG5wUIEFRnLSCUMT0lhAgIiGNrd4IiCICR3ihDhF9NiUEBhgZUILQbFBQVZQiduUxQrfUMqy99gmvURPaAUwNMUOFlMgIIfSJGYqNGEQiUbMpuHQKJbjwBbZiYg0AtjUFVk6bU9uQRBYV2KKaV3khgo7Fii8sQgAmLFz2/4//fHZBQsXwkTZgAHnXXjOxAknDx86ND3NFZEaOp6utiuAIIzGZt/mzdsXLln21tvvNDb6BLRjz75nnnv+wftvP+RJGwQATh43dkBp8ef7K5QgKyP9vHPOjlO1BwCCUrj35z/btHnLwsVL1m1Yv2Xztvr6RhbFsCpOEQThmkZi64NEisTldp544vDJp54ybeqU0aOGqCiSDgVYBES65jBNtk/sxPuybAphq6IYsS/5hldgdk7arbd8/6KLvvzBRx+tWLly586dvpYW0ZSIsKUgMYsiTekgxQIRU3c6BvQrHT1y+OQJp4wfO2Zg/1JLII39iopNAYg5uWv0AkBZzkoWK1tl0iAr6orte7qxH2blUJouMJiFhU0knOPcEkfJ8vOYBNa18F6NikPphmCxPSEOpQgCYV3Tpb1Vtx3CRubhJwx87OHZH3w09z//+3Djxq1QGguINFMEBGa2JF6laMSwoVMmTDxr+pljRg3RwjZTpSHd48rNSfM2s66zFdLY7etqii65+MK+xSX/ev2tTxYubQkwi10gl0hpGpFpQsTpcLocbnQWQKoTnAQW6CJsmh0VfmFopHQiYYNIs8JQo+wSlnFLwr4pASDRXh8rJkhF53m2Mnh0EIsF1lpz6rjz9ltPm3zahx/NXbp8eUtLACAipak0ZjZNE1BKKRIp6lN48sTxp0+dfMbpUz1pml2VEQBQVtZv7Zo1umZdEA+fV13sHQUwY/DAfrN/+cCrr7/x/v/m1NTWmYCdUkOIiMxwrReX06mF34aoXaigZooyTd2hVMRN0O3uifiUCJdcPHPqpIkfffzp3Pmfrt3wmbfFqzRNBMriEhAosLAi5UlLO2HokCkTT5l1zszBA/tZnCiunWpzPBIxSUIuBWbRiDpzkcQNgrBlM2aCgI+fWCCKJ0nXUY/wvpewMqpgmggGDJPV1m3bt27ftnfv3qqq6vL9B1pafK2trf5QoLW11elyeTxpuXm5ebl5J48bN+20KWVl/Z0OpevEIVNZOYHt4YlPHiTbKmYaAKGysmbu3E8WLlxYfqCyqbkZxOmZmfl5eWNGjjx75pdOPHG4w6XFtSYFIBimmMyBYHD+/EVLl62orKqqqa6pq60XUF5+bnFxUWFhYWFhQVFx0aSTJxTm5zsdpDmjWogJw4Q/EBCIAtwup6YnmbolGDCCwZBSmkNXDlfyGmZrS4CgicDl1lV3bjdDEAgaZiikK/J4ujZYxgALNGr1hlhASmm65urmUmJnEBMEwzBDIYYoZklLc3VLvBngoGEIs9Op626922EPBjgYMh26RgSHQ9lxsQmTCgAgwEQwYJogVirdCQCi2la6dcoxY/2Gjbfccmd1TR0Jxo0e/etHZ+cXZNu3ibWw5TnG/oj8iWEyqmoar7/he/v3V7DJuq798fePTZo4Ftz+yd5FOBDAHxAWsMFElOZRibkfKNIQjKAZMnjnzl3r1m3YvGXb3n376+rrvS3e1la/YYQy0jMyMjOys7PHjBp1yiknjzxxRE5Wptupou2GSTusuoUAvlaDwwkkO1jsEkAkwxVB0mNvCWn3LzNCIdPv93+6cP6yFSvKK6oa6hvrGxpYzNzcvD59Cvv3H5CTk1NU3OeUU08uKihw6UoRq4i0GDOuQBitLaZARELpmS5K7vYO0BoIQsAsDt3hdCZrT2e0BgwoCoVCmRluu0qypdR2JosboVAwGFK6k5k9HmvLJdijAISQP2SaJiAOh1NzaJA45aN27bAhgUCQoDSlO9KIxSqQ1VmPETBACBqyZ8+BDz/6eOXq1VVVVc2+ZoONfv1KCwoK+vXrd+455wwfNkRX0G56uuIAACAASURBVPXw4WyBAEYowCKsNOjO7g8IFis4EywwBfvLqz744KOlS5dXVFQ0eZsdDkdWZmZ+Tu7Y0SPPmjHjxBOHdapTCcHvM4ihkXKkKXTkmQQAhmG2Bgz7tlXbdf4uENE0IrPcXgBXBI/DQVr7EbAJanM8BkNoqG9asGjRoiVLd+3a09BUHwgE8nJzS0pK+vUtPXn8uDNOPy3d41YksPQ1Aocta4EQgq1BpcGT5lTKEnw6I7m9JmIZ6erqmxYtXvrhxx/t3fd5fX1Dq9+fl5eXm50zbOiwM88846SxY/Oy0iTi14mCv8VkEYE4XLpTT4SXtScsFEJVTd3yFcsXLF60c+fOuto60zQzc7IKCgvysnNOHX/yzC+dlZ2V7XYrWHEbibNLNsUfDAqUaUpWphPhgNRkIIBCoCUUMk0Q3C6nrh8nSTWPDx0gag3a25IBiFjlSMKqgUT9PTx91hVQsjYPhX/V3fbvEgfpmRS2MIeZjm21jdgq4uyC2/I4RF6UOazWRkytkZ8jHwn32X1H0RZRKzolyQKc4bfr3KMcH8S2qbejrWtY/kGloihPep9bM5/k21uRmard2R+bP0rUtMYjRkdLWr0aTc7W0RcOLQ6vVwLQ0hq6+ebbli5fJSKTTj31sUce8mQ4rQo1tvE/2vDW2eHathgEAEwTcz9ddN/9s30tfmbzzDOmPPHYL6knCyZRWEpLouoThZ3JgnbyFgNkR6FZ29DaidYlxYgt3d4ah/fgiPP9CAePfCde827bajOCRi1UyzhjeROitpXJ0LX2TCL6zzF1ACDMHKLCrBND9HbjHm+lMH9u59ftlL3bS+ig06oHXR801EkgetbifDIy7FaQtYCU7fK1H2FAoDTAiIqkBSAMS1Y12/8+NsI82bbyAQBME6TCIYSRkjkRHbvjkEbOlE5PXoJdITh8WnYvKcZt/G63uqK5fYRmtrzQYIYASoEshkxRH7dfW6Bsb0Q7jaMr9tsZqfY+ixx2HZ5tk5Q65ckMKLRdckgIkQYjI0AwGSrs2eDovxuwNajoEUgIZNPJHBYP4he6OmstesoO01F16HHsxwIB7WbDnmAFtHl+IgEJbR+Qjp+MfLYHgdbS2X+jWIC9rxJl/dFHXfhTKsLvwn0dzBQirxMPDlJdkl7gkbfryQ7pViBuD3WQKNCTTW59T5L4zpwnsZuiDv92hegB6bno0AHqIDk+vHlY8OZb7y5fthZQebnZ11337bACEH5URVIsdkF2h581DVMmnVJU0mfr1l0KWL16bWNDa052Wo/0xoSQkAYegaBNyT54v4T3o0TtHmkvEeIIlGNJYCzbjwZ19ssEOmu/pKmDRqGr8FhFfyae7qIXSQ8ZdXvVNHlEJNFuVabIEorxTEKIX4LvCvF/sKOgSW22M5KoRyL76yAvKIU5ZEI3KqNE0ggJunYwJQc93wnxMU5eQRv3jvOKSfxzF0Vk2/wTQOEjW9krKNot2Xa+R69VRehUP4lNTMetHdVmx5elTn6KgnXRLzlWdtASIgDQogSk6FbtjM2q/QcTQljbUQcNY3KIFjCOFwUAx1WNsBQ6BR1X67V7HMfv26tCfxydCYBg0Hj66aetep+DhwweM24MYHnPwlw8KarS01zjTxpvZdwI+gO1NbVWY8ft3KXQKVIznkIKvQWrCFrnX0eathSOVqR0gOMdMWy0KaTQFcJph9Zv2OD1egFomjZu3Fi3K1zmwhLfkjClh3WHwoICTdMsx7PVRQpfOKS4Uwop9Bqoy6/ULkuhCxwfsUAppJBCr0MB2LVzJxExICKlfUtFoiKeeuZXDQQCppUnV9PS3End5E4hhRRSSMFCStBPIXGk/AAppJBCl2hqajIMw0p0l56Z2TvHjABAVVW1XbaTKCs7qzfaTeFYBsVzEzOFFFJIIYVeQ8oPkMLxheOoeMeRRPjynMPlEk2BFJumt9lrp+Do8TXKllZz89YtAtaInA4tNzcXFK4mkZIDv5g46L5sCikcB2h/WfngbBMpXpfCkUbKD5BCCil0Aut4ysvNFcBgE4TPP9/fWymJ1m7YVFlVCTDAF190octNAMzUmZhCCikcx5D2XymkcKSR0gFSSCGFTmBJ+8OGDlMQggibq9esaWo2e3RyEQCYgnf/87/mZh8BHo/7yq99NXUcppBCCimkkMJhRkoHSCGFFDogbKYaPmzw6JGjlFJKaRs3bVqxcpUdspFQ1Eb7xP8fzFn47nv/FZOdmn7xRReU9MnvKlN1CimkkEIKKaRwiJDSAVJIIYWuQbjpxhvT09xE4vf7n3jyqeUrNgrbpUDjRCTSu77W+9Tv//bzu+9lNggydMigq75+JbRw3ZmUGpBCCimkkEIKhwvafffed6RpSCGFFI5WCPqVltTU1K9bv15pqrGxceGiRYA2auQoTYtbZlcIGfLee//71exH5s1faDATcXFxnwd+cd+wof0jtUXtO8EppJBCCimkkMKhBwmnQnFTSCGFWKisbJr9yCMLlywOBg2rRMDAgWWXzjr/lFPGZ+VkZ2RkuNxOTVNKaYAws2GYpmk2+xqbfd6a2oZP5y1cuHBJ+YFKZlGaUiTjx42+/757+/ctAFLG/xRSSCGFFFI4AkjpACmkkEInaIvhJwBoagq8+vobL738Sl1doxApkDIlPSM9JzcnOyfH7XE7nS6HwyFAKBQKhUL+QKCpqbGuoc7r9bEpbDKIlEYD+pVeecVlZ0yb0q9fEbhDsrwUUkghhRRSSOGwIKUDpJBCCp3A1gEIIhCG0sCM/furH3r4N6tXrQ0GQgIwm6SUKQJFzEKkCUFEiMg0GYCua4AQ2OHQcnKzL774wm9+48rcTJfJIiKaUikVIIUUUkghhRSOCFI6QAoppNAJInzhYDFdsGPHgRXLV2/ZuuVARUVVdXVtfV0wGAyFDIOFiDSH7nK53W53TlZOUWGfoqKCfv1Lxo4bPeLEYW6XUoACrDpjqZSgKaSQQgoppHCkkNIBUkghhU7QpQ4QLhJsGvC3BAKBYMgICYvJJgsTkaZpSlNEyuVwul0u3aFpTgAQCVfKFIgCpRhPCimkkEIKKfx/9u47vq3q/B/4c869mpb3iFccO3H23glhl1VWEmahFFpoIaWhLdCW9tuWssvuYvT7o4UGWug3BQJlB7K3s8l0HDuJs+wMT8mWrHvP8/vjSrIcO4lJQmxFn/frvhxb0b33SLo65z5ndp0zNwZAJwOAU4I7+lOE1xCQ0Y9zxx38BZEK/xKeKhTtAKdeh+8nckIAAOjIGRoDoI4RoPs57tdSkOjgSdZdrMLt7FF04m0FAAA4gt7VCfgaCGIUevGumwSBuA6/GqZwQwK3fZTwXgIAtHPcjLGbFIbQLcVUDND+5iD68WM9APEGl8AZgkWoVY/RfegIot0vAABHQP7QTXTLwitmYgAW4R7FnVhMtFu+1QBwHKLtb0xkEmmCJJMi0rosXd0Uh7aTzfAEddgHC84E3Imusd3kAuhMUo/rxF7LEaf+mt4Qa1qEr/ss8HWwrpCjf2THj7SE6I6fdrePAQQparN1Rvd7nwHgK2MiRaQT2QRJfKuPwMSCTGIj8ne7nI/D07CiKjCOxdA3pwuTetpOHUMfB0T7yuOujsh47d0yH+72MQCRSVRF9KdP1++1JRNrphDHiASYmASp0GQlHRSKR9G+lDz+vt3n40SmAmeKI7+GOqmcoPdHlw7uTSS705euy4RHRwQE/W/Z7KXNlV6tJfw/HeQE/BXfNBE11VP0QTpZ//J1stqA+RjtHuH+Ysd+guCvUDScyFlOSVKP5ogPIqYCvFNSUp2Olys69b6y1Uvx60/OV3VEko7Wi7r9czqrw1ziCKpbvjVHEFFT3ImoP9WJpD36PWQWxESCRYLShmgZ9w2aqpPWDZuyu3sMYH02h4k+3F1fanMR6cfrDGR9cqckBqBYuIYBziBHTi3KxEZeS8N1RL2sGAANAhQqr4JECxp3vdv4Jem+oz7zBO6XuMPdTs88C8dtK5fHy9WPe7sTXeifsFNyls7cmX3FtfRYfOVdTqtYiQFE6J08/hNP7kI62uDGoy7OcmLHPfUxQEe5BIdiotZDdqLfdpeLfqs56reT7ZUWuTAEmfZSrdePSXG3rMXq7jEAhauggkKELqnjxOeCiEiJ1t9PkCQWdKwmB4AzSAc336fhLO2pI/vlStqviYA1MKATlU/xQxK5TY2URvK42dRXKXs6fuLpKrrEcT/hzlTQduYJJ/+KTslZOvGN+AqfnQgvxtGmSrITrTiduEJOwTi848V43ecG6SvcAp5EokXbN020fbzDu5hOpavDJJ3SN7eDg8VUi1SE6PD3tq9FtN7PH/kLtfsQI5hIMUkmkoKPn0d3le4eAwgiG1Ey0WCqdxnUIoRh9QXiDm5SNLZ2EZKFPObthmgX5XPb73yomfaYl3Q3aerqjqElwAniSEOedVUbFCwIenMVuYgkLnSLICLSiXoZrmKfZ3vz8VqYOzkotBMnDfm6Mr5OfMDHfkpnppH9qr2jTuwgp+QsFF56r7Mip/w6PqFOXEUn+ZKZjqxL7uAkZ1wu8JVe0El2UWl/tM41R3V0WEHUic8rVkTeh/ZvyInFABRqCekTlJMSkpykyW55pxYDa4QpQXVEdURWg/cxwinR7pevVfd547rjlQVwoiJdM61fEojSiZKwRlhbimi3aK6h4PFqzvm4PWy4EzFAh/WVx3tieyf1EZ5895pIPflJJuO4B5HHe0Inb706+X6J44U/xz5RJwKWrxaLnJiTbKs6hU5nc8XXfa5jDFo47mVzjP9s/2j3uSM6AZG6Jz5FjeCRL7iLpIdEDnkkdcf3KAZiABIUDOen0fVd4pg9VNVX/ep0pgIJAE5Cp+qMROvNk/V1lKR0ksQcXiMAQm9NgNgg0368HlLH7V7DxMesWwk1i3Y6cUc72En1FhCdiAHkMU/fyYOcfEpOSVJPID10zBjgGInpROl3ku9ZZx33Gx5q7P+aHffDjTVHe0HRsWp0WBpdK35icSXF3Pt0SjKH8KFaW0kksUY6Gd10cutuHwNYF6Hi1hbAGLuuAODEv7YcqcZmjAUICxfQrUNAT96ZVqCfKU6yfMandsbDN7f74/CAtu6n28cAEainB4hpJ/XlPd7onHhzjE6oAADQrZyqAUKnWuzEAAAAAAAAcCqgeR0AAAAAIL4gBgAAAAAAiC+IAQAAAAAA4gtiAAAAAACA+IIYAAAAAAAgviAGAAAAAACIL4gBAAAAAADiC2IAAAAAAID4ghgAAAAAACC+IAYAAAAAAIgviAEAAAAAAOILYgAAAAAAgPiCGAAAAAAAIL4gBgAAAAAAiC+IAQAAAAAA4gtiAAAAAACA+IIYAAAAAAAgviAGAAAAAACIL4gBAAAAAADiC2IAAAAAAID4ghgAAAAAACC+IAYAAAAAAIgviAEAAAAAAOILYgAAAAAAgPiCGAAAAAAAIL4gBgAAAAAAiC+IAQAAAAAA4gtiAAAAAACA+IIYAAAAAAAgviAGAAAAAACIL4gBAAAAAADiC2IAAAAAAID4ghgAAAAAACC+IAYAAAAAAIgviAEAAAAAAOILYgAAAAAAgPiCGAAAAAAAIL4gBgAAAAAAiC+IAQAAAAAA4gtiAAAAAACA+IIYAAAAAAAgviAGAAAAAACIL4gBAAAAAADiC2IAAAAAAID4ghgAAAAAACC+IAYAAAAAAIgviAEAAAAAAOILYgAAAAAAgPiCGAAAAAAAIL4gBgAAAAAAiC+IAQAAAAAA4gtiAAAAAACA+IIYAAAAAAAgviAGAAAAAACIL4gBAAAAAADiC2IAAAAAAID4ghgAAAAAACC+IAYAAAAAAIgviAEAAAAAAOILYgAAAAAAgPiCGAAAAAAAIL4gBgAAAAAAiC+IAQAAAAAA4gtiAAAAAACA+IIYAAAAAAAgviAGAAAAAACIL4gBAAAAAADiC2IAAAAAAID4ghgAAAAAACC+IAYAAAAAAIgviAEAAAAAAOILYgAAAAAAgPiCGAAAAAAAIL4gBgAAAAAAiC+IAQAAAAAA4gtiAAAAAACA+IIYAAAAAAAgviAGAAAAAACIL4gBAAAAAADiC2IAAAAAAID4ghgAAAAAACC+IAYAAAAAAIgviAEAAAAAAOILYgAAAAAAgPiCGAAAAAAAIL4gBgAAAAAAiC+IAQAAAAAA4gtiAAAAAACA+IIYAAAAAAAgviAGAAAAAACIL4gBAAAAAADiC2IAAAAAAID4ghgAAAAAACC+IAYAAAAAAIgviAEAAAAAAOILYgAAAAAAgPiCGAAAAAAAIL4gBgAAAAAAiC+IAQAAAAAA4gtiAAAAAACA+IIYAAAAAAAgviAGAACAGCS6OgEAALFM7+oEnC5My5Yt2727Mi8vf9LZk7o6NQAAcKIEEVFjfeP8+fODweCYMWMKehV0dZoAAGJMfLQDCGLmv/zlL7fc8p1HH32EFXd1ggAA4EQxkaLKysr77rvv1ltvXbJkCXJ1AICvKj5iACIhhBCCWUmpCQ1NyAAAsUySkFa+LpRSyNUBAL6quOkLJEmxYmYiIlQYAQDEqHAGbtX9M7OUkig8PADZOwBA55wR7QDHrQBCqQAAcGYQoU0IwcwcqdzpqsQAAMSmMyIGOLZI5RDT8UsKRAsAAN1c+M5biLa5+teRgYuj3+iL8E9u+2AnAwPEDwDQpc6UvkBMRNTc3Hz48OGGhgZmdjgcHo8nKytL6tLKapmZiZUyWTEz19bWVldXW890u93Z2dlSl61ZedvcucXfUltb6/V6DcMQQiQnJ6dnpOs2nYhItZYETd6murq6pKQkT6KHmLxe7/79+5ubmx0Ou9udkJGR4UpwRVLbShCb7PV5Dx867PV6icjlcjkcDiEEhUcyJCcnuxPcrS9WECuur6+vra31+rxulzstPS05KbnNSwAAiFGCiEO5XF19XWNDo67rbrc7MzMzlBMyMTMzm6bJzMRkBI2DBw8ePnxYSul2u5OSktLS01pv0KN7CgkiRXV1dV6v18rVExISkpOT09LSQtViUbscPni4paUlJyfHOtSBAwcO1xxubmpOTk72eDyZmZlSl232isqBDx86XF9f39DQ4HQ6PR6PlaUTkZSSmbOysnR7m0Ik2NJy+HBNXV0dMyclJVmnaA0quF28AQBwEs6IGIApEAi89dZbM2fOrKqqOnDggFIqKSkxIyNzypQpP/vFz0iFGjwECZfLXVNT88ILL8ydO3fXrl2BQCAxMTElJeWSSy6ZPv1HPXpkh7LpcD5bc7jmgw8++Oyzz8rLy+vq6nw+n9PpzMjImDRp0r333ptfkB+djP/8Z+ZLL71844033nfffTNnznz99de3bt3q9Tba7Y7U1NQhQ4bcf//9I0eOFFJE70VMn3/++UsvvbRjx47Dhw8rpZKSkhIS3FbGb8UAd9999/du/15oF0nBQPCZZ56ZN3/evr376uvrExM9+fk9r7nmmmnTpgkhUL0EALGNqbam5plnnl2+fHl1dVVtbZ2UMjk5uaio6Ic//OEVV11BRFJKImG323RdL9u27amnnl6zZk11dTURp6am9ezZ89vf/vbNN98sNRk5ppU3lpeVv/XWW4sWLzpQfaCuri4QCKSmpvbo0eOGG2649dZb3R536FabiRU/8MADGzZseP+/72tSvvDCi3PmzKmsrAwEAh6PJyMj46KLLrrnnnuyc7Jbc10mklRXW/faq6/NmjWrurq6rq7ObrenpaXa7fZIq4Wu6y+88MKYsWMiO24r3fbMM09v2rS5qmp/S0swOzs7Pz/v3nvvO+/8807f2w4AcYUVx/xm8vS7f+R2ujWh2XSbx53gcricdqfD5rjnR/ewadUW8Y3X3yhJXn/tdTdcd4Mk6bQ7PW5PSlKKy+GyaTYiGjt6bLOvOXTMUBUT//bXv3XY7JKkw+bwJHjSU9NdDpcuNU1oE8dPPHzwEJsc2eXxRx8nomumXHP/vfdrQnPYHS6HK8mT5HF7XA6XLvW0lLT5c+e37qKYTX71b6867Q5Nar169rp26rXXTr22qFeRLnVBQpdaZnrmuDHj3vrXW5FdDlQduPTiS+263abZEhMS01LSPG6PTbMJEtdOvbahriGU/i7/XLBhw4btBDaTN23YOHjgYF1qutTtuj0xweNyuKxM79OPP7Xyt80bNxf3Lva4Pb/42S8y0jJsmi3BlZCcmJzkSXTanVYW+pN7fmIGQ22/VlkQDAQz0jI0obkcLrfTnZGWnp6a7rQ7BQm7bn/xLy8ekXlOGD9BE9qb/3zzsksutWk2h93hcXuSE5NdDpcmNE3IK755hdFiRJ5vGqa/yX/zt24mIrfTPXb02FtuvuXib1yckpRiVc84bI7CgsLzzz1/88bNkXNt/HJjr569NKE57c7kxOTkxGS3061LPcmT9NrfX2tNDzJ2bNiwnbotxmMAZjb5h3f90Mptfzjth5989MmuHbv2792/bMnSv77017Wr10aeacUAOT2yM9Iz7vnRPcuXLq85VGO0GFs3b3304UetDP2Jx55gxZGwgZkXL1x8zZRr/vSHP61ZtbqhrsEMmtX7q3/34O+SEpOcducr//tKdHoee+QxQSI5Kdlhc1x1xVUfffDRnso9wUBwT+Wev/2/v1lZ/Ldu+FaTtymyy9rVazPSMhJcCb/59W+8DV7rwcb6xkceekSXekF+QfX+6tArZWaTW/wtt3/3dkly0IBBM16bsXf3XmWovbv3PvPUM1kZWQ6b/eknnzaDJjMbQSO0Y5d/TNiwYcN23C0sGAhOHD9REPUu7P3s08+WrCjZv3d/WWnZp598+twzz4XyZ8WbNmzq26evVbdS3Lv4z3/885ZNW5q8TY31jUsXL73+2ut1qWdlZK1YtqLNKUz+8x//fNcP7nzrzbcqtle0+FvMoLlyxcorL79SkMjpkXOw+mD088ePHS9J5GbnZqRl/Oy+n61csbK+tt7f5F+/dv3P7/+5JjS7bn/9H6+Hkq6YFb/+j9ddDldaStr7s95v8bcoQylDVe6svPLyKyXJiy68KJLVW6fYsH5Demq6TbNdf+31C+YtaKhrCDQHVpWsvPWWWwWJvJy8XTt2KUO1qTzChg0btpPeYjkGMJmZlyxeYtWvvPDnFwLNgdaMOPKLGfrTqv7XpHbfT+9r9jWHbqqDJis2Woxbb7lVE1rvwt5Wfh06BTObbN2yGy1GJIv3N/nPP/d8TWh3fv/O6JtsKwbQhDZ08JDaw7XWf1l5tzLU448+Lknm5+XX1dRFjv/H5/9o02wTx0/ct2dfdMr9Tf6hg4dKIZ975rlISljxxi83JnmSNKF9+vGnyoi8Tg4Ggvf+5KeSZJ+iPt4GL5tsnRTFBjZs2GJoM1qM5599XhOaw+b4ct2XVo1GKAO08rRwZmjFAESUmJC4ds3a1qcxM/O6Net65vUUJF5+8WVWUSUCczAQDDQHjsgbaw/XpqWkEtGsd2a15urME8ZNsPr7P/DzB1r8LZHHraReevGlkuTokaOjC4IRw0bYNP1XD/xKGSYrjpxo/tz5aSlpKUkpSxcvjaQ2GAjef+/9kuSkiZP2VO4JJdNQrLihrmHYkGGSxPnnnh8qlVCngw0btlO3xfS8QGy0GO++8259Q/2ggYOuuOIKu8NurR/JkTUjRZtZGhQpXddvuOEGp9NJRKRYCEFMmk27/PLLidjr9VZXV7fpUi/J5XKRIM2mhQ7I5HA6Bg8ebLK5e3clm0cO0dI07bHHHk9OTiZFRCQ0YS1nc+mllypSB6oPNDc3h16AyRUVFUEzmJWVlZycTNQ6qszhcgwePFiQKCkpsZJuJenee+/1er2TJ0++9NJLQ89nIiLdpk+ffo8iVb6jfNWqVSSJJGFsAADEEkENDQ2PPPKIYvO2224bMmSI1CURkSJmJiIhROs0DGEXX3zxwAEDrcw/8l8DBgzIz89n4srKXW2ezaTbdLvDHun0b+2SkpbSu3cfQWLdunXKUJFhuMxMxC6Ha9q0aTaHrfUwijVdu/rqq5jU9u3bg4Gg9XhzU/PmzZuZ6JxzzhGajB4onJmZmZKSEgwGKysrrdKBJFVXV8+aNYuIbr311rz8vNDboAkSlJiU+POf/5yJFi1etGvXrkhuDwBwSsRyDCCEYRrl5eWCxNixYwsKCsKPU+ug20j+q0gIoQnN7XKPGj0q9LqlCD1TUUZGhs1mb2lp2b9/v1XYtBYz0eVNuMDIycnRhFZf39B+fcq0tLQRI0YIIVoni2AioqKiIiJqMVoqKytDB2M2DMOm2ZRSkSkjIrm8aZqKla7rRESSSFDAH1i6dKkQdP3115NVHHLo1RFTYWGhx+0RJJYtWxZ9HIQBABArKioq6hrqHHbnHXfcEcqfObQqMIlQTmjdvlt5pi71MWNG2+12ojYzQTscjrS0NEly//79bU7A7X4Jy8zMJKLa2trQomPh3J6J+vfvX1hUGD1fkJXzFxYWEYmGxoa6ujrrcdM0DcNQpjIMI/RkGdpF0zRrVWNd1yNlb11d3Z49e5j47LPPjiQ+Umr079/fYXcIErt27YocBwDglIjleYGYmnxN1dXVRJSbm9s6+UOHwllnbm6urunt/0vXdWu+Nl3Xom/r2WTDMHbu3Ll06dItW7aUlZVVVVX5fL4jy5UoqampLpfryPBKkK7rkqQiZZqm9ZjUZH5+vhBUWVlZVVVV1KeIZHieU1/zmjVrmPi8884jIqvSaN++fb5mnyDx+OOPP/vss9GFGDNpmmZFL2vXrrXOyFZDBwBATFC0a9cuSTIhISEjI4Moqh6nw2kxBRFRWlqa0ET7OZet9l6O7BuexJkV+3y+devWrV69urS0tKysrLGxsbGxcc+ePVJIIm6d+D/0r+jdu3frEYisueZMw3Q6nYKEEMI0TSsBniRP7969t1ds/+ijD6+88spQaSKImHbu3HnwqHGCvQAAIABJREFU4EGXy2XVB1nHKS0tNQyDiW/5zi2a1IiYObL8GQeDQau82LNnd2SCOwCAUyKWYwBBwWDw0KFDUsqUlJQ2GfTRZWdnC9lBaaGUIqJQVh5mtBgzZ86cMWPGsmXLfD5fUnJSSnKKx+NxOB02m83Ko6MPY/3pdrs1TWt/ahlunbDOZbn66qv//Oc/b968+eGHH7rrrmmDBg3SNK20tPSFF17YtWvXxPETp06dGrmbr6ys1IRGRJWVlcxH3t8LIaSUiZ5Eq5upkCJU/KD5GABiATPv3btXCJGYmKhpWgf3/W3/ZMWaprndCUc7miKllNl69yxo7+69L7/88kcffbRp0yYSlJyUnJqa6vF4kpKSiFix4o7ijfT09DZpkERMmqZpWuiuXSkV2kvRk08+eeutt86Y8Xpxcd+rr766V2GvhvqGlStXPvrooz6f765pdw0YMMCaeFRIsbV0KxFpQtu5cydxa0kU7vtEbrdbCGGaipmFQvdOADhlYjkGIJJSWl1lIj3sW7UrKojIquY/drnC3Frn9J///Ofuu+9ubGw855xzHnjgF6NGjdY0KYTUNO3Rxx79wx/+wMxHnohY02R0IBE5PjMpCuXvkf8ZPHjwzJkzp06d+uabb/33vx+43W7TNP1+f2NjY+/evZ9//vmMrIzILna7XbHSpPbhhx/06VMcarAOi6wpZrfbQ7ViuPsHgNghNOFyORUrwzAMw4hegbH1Z9tsTQihaVqHTQRCkCARXVHTUNfwi1/8YubMmW63+7bbbrvnnnuys7OllFYvnSuvvGL58uXtT8HENpuNjiDINMxQCiJ9hgQR09SpU6dPn/6nP/3pd7/73TPPPG23OwzDqK+vN03z+uuvf/655x1OB4U7c3oSPIqU0+Zct3adw+EgokjtUqSkYObU1FTU6QDAqRXLMYAgm03PysraWrq1pqYm0oumwyZjIY9YLvI4Ryai2prau+66y+vzXnvNtW+88YbT6bSq3plZaMLn9RJR+442ggSRYOb2A9eijt3m77PPPvuhh373q1/9T05OTnJysq7rWVlZ48ePnzZtWmJyYqgGSxAJKi4u1qRmKrO6+sA5553bepDoHq7WCaLPjqUlASBG5Of3ZOKGhgZmFaq8V1GZWNsMtE1b6BFNwUxEgimqnoappGTFO++8I4R49tln77jjDilla+8apqamZsUd55Udzq8QXlAyah8mkiSl/NnPflZSUrJq1crCwiIhRGJSYnaP7MmTJ0+efLUtMnRBEBENHz5MkAgGg01NTQW9CqKHNERGPkS9onYvEwDgRMVyDKDI4XBmZ2dLIbdt29ZY35iYmNhaXRRVnR+qo/mK98GLFy/2+Xw23fb000873c7IEDQhBSkqL684WqMsM0tNHpl9d0gQMX3wwQdPPPH7Cy644Pnnn09JSXE4HImJiR0sPs+UmZmZk5OzZ++ejz/++LrrrwsdgdqeqP1JjxKNAAB0L4oKCgo0oTU1NZWUrCzu2zeUgat2tRuCRLgPJ3eYuUcv3BveZc6cuYYRTEtLv/nmm6Quo+cFMg1z586dHR/h6JjZWsy9dRcmZaonn/z9kiVLfv3rX0+bNk1KmZiY6HSFapFaX44iklRQ0MuT4PH5fCtXrhwwcEBrgjl0qFCgotrMcQcAcPJieYSRJKfTefbZk4iopKRk48aNbWpQwl02j5hLQXSmUpyJiOrr64lCk0sQRcUVROvXry8rK6PQo0c9QrsT8ZGPMbHip5566uDBg9OmTSvuV5yRmZGYlBgqHjhqTglBJIiZb7/9dl3T3nzzzVUrVymzdVxB660/Eytuky4UGwAQEyQNHDhw1KiRhjIeffRRv9/PzK31KXzEfbAgIillm0nVOConbBcbHK45zMy6rrtc7jb164peeeUVK88XkVMcr6SI9MZkZhHZRZDf73/77Xd0Xf/pT3/ao0ePzMxMp8tJIqoxQYReLBGlpqaOHTuWiWfMmFFTU8NmeFyBJJIUqk4KPxktugBwCsVyDMAkNHHDDTcWFxfX19c98MADixctJmqt8Pc2NO7YsaOTB4uUIpFfBg8ezMRNTb5XXnmFTY5M51xWWvb4449XVVV1fBwSRNxhw3HUE9qcVymlWM2YMeOjDz5cvGjx8mXLli9btm7duuqq6sic01ZIIIS4//77x4wZGwwG7/nxPfMXzI9MDGodurKy8tNPPg3NSUe4+weAmKJIaOKVV/6WkpSyddvWn/7kp/v37w+twSLJVObOnTv3790fPSNa674iarMeOKKzJtPQIUOZ6PDhw4sXL259WPF///v+Y489ZtXnt0YO4X+PkY9aT5ZSclRPVGZWygwEAs8999ycOXOWWBYt2bJ5S21N7RFzHKWkpEyf/iOnw7l06dL/+dX/7Ny5K5SlMxGTaZirV61+f9b7uPsHgFMulvsCERFTVo+sF1988dprr12yZMlVV101fPjwc889t6WlZfv27StWrLjwwgtmvPE6m2zNmcN01LkyrRodTdOs4bxs8vDhwy+95NJPZ3/68MMPL1q06LrrrvN6vStWLP/ggw+FEPfcc8/zzz8XGhPcpktquGk4OssW1tRDrAnNWhMg6sT0/PPPX3XVVe++++57773ncDiEFMpUSqmEhISCgoInnnjikssuCbVphFeN+e53v7uyZOXUKVMGDRo8fvz41NSUnbt2lZaWbtm8pUePHqtXr7bZbVZqul5UA0XoTwCADgkipuHDh//gBz/44x//+Morr3z66adjxowZOHBgTU1NaWnphg0bnnji8Tu+/31rCh1rQh6lzA4PpZSSFJ6hgYkEXXTRRQU9Cyp3V950003f+973Bg0aVF5evnTp0kWLFvbokX3LLbe8/sbrpqlaMytF1vhc0zRJkDXfWuho1hOIFSlJMhQ5KCJJbrfrllu+89xzzz3zzDN//OMfKSqucDgc55133rPPPltYWBg6lKCrrrr6pptvmvGPGa+++uqsWbNGjRo1YcIEr9dbWVm5ZcuWXbt2jR07dvKUyV/rG38c7RpGWLQ+3C0KGgD46mI8BiAiom9c9I2PP/74wQcfXL169ZIlSxYsWmDVtSd6EjMyMolalwzTpNbhvG9kZfHESikrGBCaECT+/ve/33777fPnz//www8/+PADIYTT4ezZs+evf/3ryy+//OWXX7am5I/EFVaYQZEBZO366Ftz1UXPGlRRXlFSUpKZmcnMSUlJDodD0zTDCPoDgYb6hnXr1l5xxRVPPfXU9OnT7Q67tcvUqVMLCgoeeuihZcuWlZSUlJSUWCeVQmZlZQ0bNrTDmUm7TCQAwFA2AOgMQQ8//HBeXt5f//rXysrKd2e9K9+TJpuSZHZ2dmpqWqSyX0opBOm67cj8loiYNC1UsxP53379+j3yyMO///2TZWVlj//+cU1o1jykF1xw4Z///OdVq1b9+9//FkJYs3YSEUnSNE2Q0DTNWmgyOpHWNG+asLojhW6K2eTly1c0NDQkJCS43W6Xy6XrOjNbE74dOnTo/fff37JlyzvvvDNw0EDrSLpN//vf/n72pLP/8Ic/7NixY/bs2bNnz7aanm26vaioaNSoUV//m/4VtM3OmUS76bYBIBYIa9LMmCdo/979O3bu2Ld336ZNmwzDyM3NHTBgwIABA3LycthUQpMb1m84cOBARkbG8OHD29+M1tXWrVmzRggxduwYjycxUsbUHKpZt27dps2b9uzeM2DggD69+/Ts2bOoTxEpWrBgQUJCwphxYyJ1Qrt27KqoqHC5XKNHj7bZo4olQcQUbAnOnz9f1/UxY8YkJicS06GDh6677rrFixfffvvt3/ve99LSUjVNJ2KlOBAI1NfXv/jii/+e+e8B/QbMmz8vOzs78mJJUV1dXXl5+cGDB9etW1dXV5eTk5OXl9e3b99evQpSUlNP09t+XB1N2AcAcCyClKGIqLy8fP/+/RUVFdu3b/d4EgoKeg0cOHDAgAEul4uImpub16xZYxjGoEGDMrMy2x9kw/oN+/bty8/PHzx0cOSmVRlqx44d69ev37x5czAYHDlyZHZ2dv/+/VPTU+tq6tatW5efn1/ct9g6AjGtWb2mvr4+JycnNGA36vhWPrx+/ToicdZZZ9kcNiJ6859v3nvvvXa7/bHHHhsyZIi1XIw13WdLS8vevXunT5++c+fOqVOnvv3225H8UCklSOzYsaOqqmrXrp3r13/pcruye2QXFRX17t27oKAgUgfUNaLaAVS4BUBQ1PBlAIhBZ0oMcFzdLZ8SREQP/ubBRx9/dPzY8YsXL25dPT6qNqt0S+ngwYPdbveqVav69e/XRWk9CdFD9Np21QUAOKpOdh08xuDdqEnhTirzP2Jf0e5/I0N4mar2V02efPWaNWuefvqZn/70p0KISDfOyCt65z/v3Hjjjenp6fv37z9yefvonpOdmVmuS5hEWndNGwB8FbE8Jvgr6Ya5FdMXX3xBRNdff71u0zv4KBRJKU02qf3gthjhbTIWLCxpbAi0CQBi8qUAwGl0xADfo2UafPS8nY/3hBNISftkRJLHREQ1NTWVlbt13TZmzBihiTb39BRqOtB1nYkdDkcHuXq77kzdCBMR1dUE5swvOVTrNw0M8QKIeXETA3Q3TMSUmJioS72qqqp9awwrJuIv5nwhSOTn5yUkJHRJMk+GybR09ZcLlq/958z3d+6qYSZ1tIZjlCIA8DX5urOXthGCzaYTUUNDQ+v0PtFxgqB//OMfitWkSWfFUs2ONUu1SfMWlyxdu/X1tz+urKoLEploDQCIZdpDv3uoq9MQp5jZ6/V+8sknmzdvLioqysrMcjldgoRSqqmpaevWrW+//c6jjz7a3NR85513Xn7F5d1rpG8n7D9Q//nCVU0t3NAU3Lh1e12jPzU5LcFpa12iIVw0cvj32CkSAaC7Os3dDqMyNF3TFy5cWFpW2lDfUFRUlJ6eruu6IGEYRn1dfcmKkgd/+9uZb88s6lX0xBOP9yrqdbqSeNKYiGhn2cGlqzZ6Dfb6WzZt3na4rtmTkulJ0IUKL7yDHBwgpsTNeIDuRhApqq+vv+OOO2bNmpWUlFRQUJCRkeF2u73exuZmf1XV/qqqamZ15513Pf7E40nJSTFX3bKr8sCsD+bUNfoNkkoIITgt2T1u5NCxIwY4beEnidAcc9arQwkCACcrko+c9jyTFa9YseLyyy9vbGzMzMwsKCjIysoyDMPn89bXN+zbt6+2tiY5OeWll1669rprNanFUpZn0s7yg+99Pu9wsz9IpCkWQiR43KOHDp44ZqDLRnr7XgUx9OoA4hJigC4iQjNJ+7y+v73yt7feenPv3r1+f4CIdF3XNC0hIWHChAk/+clPrFnhFKvImpSxghXV1gU+nj1/575qvylMlqwMXXJRQe5lF52fmWq3aeHqf1yDAHCqdF0MYNmze89TTz01e/Zsn8/b3OzXwzIzMydPnjx9+vTUtNTW6UdjQnhYxaEG49P5C8t27TValCKpiOxSKyrIufSCczJTdbvWbkwzAHRjiAG6hSZfU2VlZUNDQ3NzU0KCx+PxZGRkpKenC02Qiu2cNGjQptLdS0vW769qNCSxJhRTisc5YlCfCaMGpSRpgkkQZpkAgDPK3j17a2tr6+vrDcNISUlJSkrKyMhITEwMzRQUowQ1G7SlfO+SFWv2VdcYJAVpkk2PQx85bMCEsSPSPaLNOOxYLrwAzniIAboLViw00SbrPAOmXjaJJDFRkOnzuStXri/1G5KFbrKhCTMt0XXj1Rfl56boko584URExCI8BTUAQGyJvv1lClX8R0+UHIM5GwsyiZgoYNKiZRuWlqxpMRQp1qWUUnM59asu+8aQPlkiPFlqB2LzhQOckTAmuLsILS18hk2iL4kkCSZNo6LCvNycPF+jz9fYaCpFpLUEjS2bNnubAu7EFI/HLjk0PKC1nBRnzjsBAPGl7aRArQsJRy0tH3tEaIogIaigZ4+CnLwWf7OvoVGQVKQ3BYKl28sbGv1JSaket1203TH8E2OHAboLtAPA6cNMzX7atHXPFwuXNAUMUwhrRdCUJOeEMYPHjhxkk6RpbaIA1BgBwBklpu+BQ3kzMwlBJJia/bRxc8W8hctr/YYpBQu2SU73JIwfOXj8yIE2ve0akYRcHaAbQQwAp5tiqqlt+WL+0orKA00tymRTCBaC+hbnXnD2mJxUj02XVi8goYgolstLAIAzmyAyqcFH/507v3RHZVBJVlIzlJRmcZ+8b5w9MTc9QdOO3jUIALoO+gLB6SYEuV1a396FaSlJB2sONfv9TJJIHq6t2VZWEfRTj5wemiTJJGJsJiQAgDjDREQOBxX2KczMTPc21PsavDbpYKZDNbVl5eXNLWZWVrZdJxHTDSAAZyK0A8BpxhTV1cfPNHvO6vUbSv1BFTQNKaVd2N0Ovm7K5b0LkoXEtKEAAN1VVP5sSiIiX5DmfLHiyy+3KZamYIOCmuAkl2PqFZf1K0onotBMdxgYANANoB0AThdrEtDQFhrtqxP1KczNzurR0NDY0NRskmYo9rfwtu0VTU1mUlKy02mLoUm0AQDiRdsKGmugsEOj4t75PXrkNgea6+obiIiF7m8xS8t3eeua05PS3R6dKBIGIHMH6EpoB4DTKLIkcNthYSzI28wbNm+Zv6SktllItmskdakSkm3nTxg7ekgvXSNSkXFoVvlhTboh0ccUAKCLMXG46yYzMVFTM23aWr5gwVJvwAyyZKk5TU5PThg/fvjY0b2lIDKJyAodFBG17g8ApwtiADiNIjHAUR6vrvF+PH9Fxc4qwxDMQklDZ2NQcdF5Z43LzXRrWpu59tp0KwIAgK7Dbev0mYmZDhxunrdoxdaKyiBLzdR0IUi19O2Tf85ZY/NzE0VodqEuSjFA3EMMAN2GIGJq8lNZZdXCZav3Hahjk5VkISnd7Ro9rHji6BFuh1VvhCkmAAC6EW53Ky+IWpj8QdpWvnvpilVVVY2SbFKRlGZionvQgOKJY4ckeaSMPBsATi/EANC9sCBS5G2mz+evWLultIWlYZo2yTbmjOTEqVdfltvDE1pXGGUGAED30D4G4PBmKmoJ0Oz5KzZs3BYMKqEkCUmkstISJl91Wc98t2A61tLCAPD1wJhg6B5E67+CyGGj4uL87B65vsbGhvoGlkKx3hwwNm/d1uw3kpJSPG5blyYXAACitG8H4FCrrRTk0Klvn/yszB6BgN/X6GMmoelef9OW0m2NjUZyUqbbJWN39WSAGIV2AOgeIkMFonr8K4N8LbRm47YFy0qaA0opKRRJaWamuc+fNHr4oN4YRAYA0C20HZwVmtbZ+hnOqQ2Dmlpo06aKhYtWeAMtpiRSZJcyPdlz3jmjhw0uYEb7LsDpgxgAujcmVrTvgO/zhct37tkfMEwlbEIYdk0N7td3/OjBBbkpksIlzdFGGwMAQNdqXRiG9lc1zl+4bMfew80tBpMgITVT9e/fa+KkUXkZCTZBQpAikpEdAOBrgBgAujcRWlPGF6Cy8t0Llyzff9hvSjK5xabpKYmu4YP6TRwzwuMmyW0LDAwYAADoPsI5MzMRUdCgzdt2L1q++sDhembNyuuTklzDBvSZOH5kgpukIMlta3aQpQOcUogBoHsTRKyYmYSmFDX56f3PFm4p3xlUbDBpmqYL7pWbecUlF2al2e2CWnuU4roGAOiGoqpp6n302ZzFZWW7/EGl6XbDMCUZPbKTL7v0vLzsFAd1tFQ8IgGAUwQxAHRvoXUAWmedCAraUla9dNmGHXv3m1JTRJogt66NGT5w/MiB6Wk2wSRFByuRAQBA12jfMBtutlVM27ZXLSvZsHP3gYDSTGFITTntcvjg/hNGDs1Od0qB1gCArwViAOj+ODoSUEIwkc9Pq9eVLVq2uiUoSHFLMOiw25ITXZdcMHFgvyxdI6FQVAAAdA8dxgDhm3tm8gVp9fpti5avbQoapiJWSiOVmeQ876zxgwcVOvTw3sjVAU4dxAAQC0IxABMLEkIRKSJiqtznXbBo+Z49VUGDWOimUk6bObB/0YSxI/IyPVIjorZlDy52AIDuIzIXnKQWRZV7GxctW1m5rzrQYhCzTqwL6te37zlnjc5Kd+hauGsQIgGAUwExAMSaqMkliKg5SF9uKVu8cKW32Ww2SNoEmZSSkDB6RJ+J44fYdSFJWLtYKw900LsUAAC6HBMR+fy0ZXvlgiXLaxvqWTmIbEqprDTX0KHF48cMS7QTMZEi0oi4ddZRADgBiAEgNoXrgRSTKSjgpw8/XbStYldLkEySQkipWnrlZV1y8bnpGW6X3lpSIAYAAOi2lCKS1OynT2cv3LRtl9+QSkgplVRGfo/0yy+5MDfTrcvWZWRIcgdrFANAJ2CdYIhZIvSDBWka9e3TKzMtrcnr9Tb5gsqUQmtsbNqytazZH8zIyLTZQ4tQYilKAIBuSwgSiuw69e3dKys729vU2Oj1KtKUST5v87btFV6/kZLWI8ElQlU7HC4JiIgYWTxA56EdAGIeh7v6KIOag7Rk1ZeLVqwmUzJLZtKEdDrVFZdf1K9PjkMjVqRLDAwAAOjGwrPBNRu0ZOWW+YtWWuvEkxS6plwO+c2Lzh/YP89mrSEgw2PGQnNBSOTwAJ2BdgCIWaGBwiLU0V+wEGSziYKCHgU985v8vgaf1zBZmdJgWba9orGxOS0lNSnBTiYL1BUBAHQrglgQidYRv0KQTVJBfmZRcd9mX6PP22iSCJqmwaqsoqy23peUnJbgtkstPN7LGiKArkEAnYN2ADiDCGsNSmvyUN5SunPB4pV1Xr9iKTVBKpiRmjhq2MCzxg6yR7qT4vIHAOgmOsyWBTFRo4/Kd+6ZPX9Jg9fPLIQkVmZSomv0iMHnThxqlyQ6XBOGo0YOILcHaAsxAJxZQuUAKSJmqvfRJ3Pml5btDJqkmIQgKbhndsbkS87NzEyWkrSuTi8AAByHIGIyieqb6LMvlpRtr2wxFAtiMpmMvMy0Ky6+IC872aaHl5OJQAwAcHToCwRnmHAPISIpyGGjfn3ystKS62tq/X4jSGwKe50vsHV7ma+5JSMj023XMNU0AED3J4icdurbuyAnK6+hvqGxsd5kUqR5fU1lFTua/UZycmqCQ2+zhgCyd4CjQzsAnIFYtJ0DVJCviZesWLu4ZJ0pbSYJwUyqJTM16bKLz+9XlCkUaSLcoxRfCACAbomZhCBTUXOQVqzctGT5qoApDRWw2TVWZmpi0mXfuLBfnwwpSJPEJkmBMADgqBADwBkqPFlQ9DrB5bvrFy1buXP3voApNSFNI+iwyyGD+k4aMywnzY16IwCA2CBImVS5u35xyZqK3ZV+0zBZ2KVDkDFkSP+xo0fkZjht1hpiyNIBjgIxAJxxmIhIhVcFE8SCBCkiIlOQ18dlFbs/X7SiocFPJKWuGSqQneI8f9zQEcMHCUwbCgDQ3TEJQYrIpOYgbd21//P5i+sbm4m1oDRJmGmJCeOHDxs/coBbx1rCAEeFGADiDhNV1wTnLVi+rWJPk0GmNCSZmhks6pX/zfPPycvwSBuTCE00LZiIODTUGFPOAQB0JyaTSXS4luYvWLJ9x86GYFDqNt0gVmbvwrxvXDApP9Np061ORKHcnLBgPAARIQaA+KRMCpi0uXzf0jXrd+87IFiSqYSkdI9rxKC+Y0cNSkx2CGENEFChlgGBdWcAALoNQUTE1sYUNGhbedXiFav27j8kSVcshRQJHueQ/r0mjBuWnKjbolYeaM3MMQYM4lhcxgD4zoMgIgoy+QyaO2/VurWbifUWpYhMm6TM1IQrrrigIC9dMmlSEbcuRAkAAN0HCxYsSBAzmYoMk+YtXLdy7XqD7C0mBU3l0IOpKc4pV15amJeq8RE9g0KtArglgPgUNzFAZOURrAwFFHU/r0gRVew8uGT52u2V+0xhM022aWyzqVHDBowfNiQrM6H1+bhsALoVRmwOUThUY7OjsnbBinUVldWGKYlahFTEwdFDBo8fPTwvyyVUaEFhotYlZQDiUHzEANYXXIVbAPB9j3OCmJSgcN8eRSSoyU+btu6Yu3hFrbdZkzpJQWymJydOHDds1LBiuySBywag21CmklIiS4c2osZtNfpp87bdCxYtr6v3kdRYki4o0e2YMGb4hJH97TqJSI8AXD8Qr+JjjTBBpOjf//fv12e8vnv37pGjRnZ1gk5KwB+QQgqJfOtECRLERwzw1W2Ul53ap6i4vvZwwOcLGsJkvbE5sGPnnuoDtRkZPRKcNkw1DdAtCBJSHKg+8OJLL86ePTstNS07J7ur03QSmBsbvQ67A9nLyRJkdQqSgmw69chK7ldc7G30NnobDdNkzeYPBHfsqty//3BGj55Op6ZFzweN7B3iT3zEAEQk6InHn3jllVcCgcAt37mlq1NzQgSRoH179919991r1qy56BsXIcM6CaL1X0EkFAtDsJbo1ocPKM5MTjx4uMHb1EJSE2Q/cKhha9mulibOzMh02EK7KiKKrERmzR+ElgKA00MQEVXuqvzFz38xe/bsCRMmDB06tKvT9NUJIkEtgZZ///v/HnroIYfDMWjQoK5O0xlBhH5ogjwuvV+/wtS01Lq6mppGL5MUwn6otrF0e3kgYGRnZdptItwpiMhaX9L6iewc4oDe1Qk4Lc6YQcBMb7755ttvv20q8/vf/36f4j5dnaDYF57zJ7SUDJOw08AhvfsP6/3Rp6vXbdgaZJNI1jf45ixftqFsw5QrL+6Zk6oJkhxVewQAXcQ0TWHN4RVzmTwTMfn9/n/84x/z5s1TSl122WUJnoSuTlaMa5ch23QaPrDnwOKen81fvXb9ZkMpFprX61+wuGTz5s1TJl/VMztBD68ME8rUY+5aAjghcbR4BsdeEdGWIiI666yzevToMW7suPz8/K5O0BmEw9eGZlUfkSS6/KLRN0y5uCgv3aGbuiZY16vrGmf8e9YUq3shAAAgAElEQVTsBasP1baEGxAiR8DMEgCnFTMrpayfVvYYYwSRJKfTOXz48KSkpHHjxrnd7q5O0xlIEmmKnJK+ecHoG6d+s7gw2yYN0whI3VbT2PL6/73/2dw11QebDY7JiwjgZMRHO4Al1m/RBBHRxIkTFy5cmJCQ4HA6ujpBZxBBoesjauYoTaP+xVn5eRev37R97uIVDQFTavZmw1y2esPmTWXnTBw9akRfXQsPLMPYMoDTi5mJWEopZWxWZjERkd1hf/DBB3/wgx/k5uYKDVUJp560KvglOQX1751RkP+NLzdsn7dwUXOLqYTTMLXlqzdt2rT17HPHjR5a7NBD1W3IzCEexEEMcGbN6iiE6F3c+4x5Od0Rhyv4mYgowU0TxxT3LMyes3D5zsqqQIsIsn7YG/hozpKde6vOPmt0RqrboWNyEoDTTYiolrhY/vYlpSQlpSSROnPKqe6JiXSiRDtNGlNc3Cvn8/lLy/ccbDZagpIbgubnny/ZvWPvuZPGpae5bLbWeiGAM9gZFAMw7dy5c9OmTaWlpb4mX35eft9+fcePG29z2CJPUaSYQ53+SpaXrFmzpqampkd2j8JehWeffbbD0cG0DKxYCHHgwIF169bu2lVZW1ubmprat2/fCRMmOJ3ONs8XVL69vGxbWZ8+ffr278sml5WVzZ0799ChQx6Pp1evXpMmTcrKyiIZlbOI8IylgspKt61du27Pnj2BQCAvLy8jI0OEByUJIfr27dunTx8StG/fvnXr1pmmedXkqyLH8Tf7586dm5ubO2LUCGKqran97LPPysvLbTZbz549R4wYMXDgwA7KSEFEVFdTt2DhgspdlQ2NDZkZmbm5ubquM7MQgpmTkpImnT3p5D+cbk8Qaa1/RX9AggRRXqbn+ssvLN2+a8mKtdU1jaYQJunrNldU7N43asTASeOGeexERIpZkDWYDPV5ACckMpWzJH+Tf+vWrVu2bNmxY4fdbs/Pz58wYUJhUaH1RKsdwOoOREQN9Q3z58+vqKhQSuXl5w0aOGjIkCFCE6E8Nvr4TKx48+ZN27aV7d69OxAI9OzZc+DAgcNHDG9fZ7R82fKGhoYLL7xQt+vKUIsXL16zZk1tbU1eXn5hYeH5559vd9rZ5NaJ2iLTlTItX7Z869ate/bs8XgS8vLyk5KTjKAhpRRCKKXGTxifnp7OitevX19dXZ2bmzt0+NDIvuXby7dt2zZkyJCePXuSpA3rNyxZsuTAgerU1LSioqJx48Zl9chqMwrCmvCeiQRt/HLjhg1f7tmzl4jy8vKSk5OlFEJIIhZCDh48OL/nmduVtMPZGUTkR0hGesLkKy/eUla5bNWq/QfrgmQzlVxfumN39aFhQwdMGj/YpZOMvnJiOcgEOCpWHPObyfW19Xd87w4K3bAREUkSgsSUq6ewydb2rRu+JUlOvmpyeVn5OZPOISJBpEudiCTJCeMmfLnuSzaPPHjF9oppd05LSUrRpGbTbNYpbJpt5PCRJctLmDl6lycee1yT2vS7p3sbvPffe79dt4cTIzWhZWdlz3hthhk0laGiT9Hib3nyid8neZKIyGFzOO1Ou26XJHWpS5JEZNftjzz0iPXk9959T5Bw2p3RB9m+bbtNs40fO77J2/TCX15w2p2a0ASJyLvx4G8erK+tbz0pMys2Wow3//lmWkqaJGnX7dbpNKFZJ5UkJcnBAwd3/efbTTZmZvb5eeYHix5+7o1f/X7GL5/81y+f+tevnnzt6Rff3Lm3QVkXmmJlXRNdnmBs2GJ3M7m8rHz40GGSpJWVWbmT0+586vdPscnMvPHLjb0Le7td7n++/s8vZn+R0yPHyveISBOa2+n+yT0/8TX6oo/Jis2gOW/OvAvPv1DXdBFaJJY0oWlCu+07tx6oOhCdqytDTZo4yabpWzZt2bJpy/ix4yVJGU6PXbePHT1m/dr1odxBte5Vsb3i0osvtVJu1+1WwiQJ6xdNaA6bY87nc9hkX6P3xutvJKLv3vrd0BGYzaD5+KOP2zTbfT+979CBQ1MnT9WEpglp7asJrXdh77lfzG1TYDErQzV5m348/ccuh0sT0ml36jL0Gm2abv3usDle+/trXf/5dulmXQuGYn8L1/l45kdLf/PMG7988p+/ePKfP//96w888dpTL/zfjt2NymQ2mA1uf2OADduZsZ0J7QAbN26cPn364sWLE1wJI0eOLCzspWn6nj17ysrKRo0aRdTar4OJfT7fzTfftGnT5ksuuqRXr17Jyck7duxYtGjR8pLlkydPnjd/Xq9evULHFcQmz5o169VXX83KyjrnnHN69sz3eBIPHjw4e/bsL7/88tvf/va77747ZNiQSE2MEJIVr1mz5pprrlmwYMGoUaP69u2blpZWW1tbUlKyffv2e+65R2rypm/dpMlQrXOwJfiTn/zkf//3f3NycqZNm9a/f38haOvW0pkz/2/37t2ZmZm33357enr6RRddFH4VLEgYhiHa1XVs3br12WefffLJJ4uLiwcNGpSbm9vU1LRu3bo1a9Y8+eSTRPTwIw+3Ppvprbfemj59ejAYvPXWW8eNG5eQkLB379633/7P2nXrdKnfeuut/fr1Kyws/No+txjDTCTI6aCrv3n2wH6FK9du2rHnEJukSNbUN8/4zwdjhg4aN3JIRqpudUBlEeqHCgCdFc7VXv37q7/97W+rqqry8vIiudnu3bvLysq++c1vtqmUZXrnnXc+//zzjIyMKVOm5ORkK8Xbtm1bsmTJn/7yp4qKijfeeCM5Jbn16cz333//5s2b+/XtN3jw4Pz8fF3X169fP3fu3H/9602n0/Xyyy9H+uULKUzTNE31t7/97ZNPPqmqqrryyitzc3OdTqdVcKxbt+62226bP39+ckpypAWgtrb2O9/5zrJly8aNHXvVVVcXFRXV1tWuLFn57rvv+ny+IYMHT5kyNSsra9CggSRJ03RmliSZW/MLqUmrJXbu3LmbN2+aM2fOWWedVVxcnJqaevDgwfnz5+/YueObl3/zv+//95JLLwnto6ihof7OO+96+523i/sU33TTTQUFBYZhbN++/Y033jh06GBBQa/rrru2R4/sCRMmfM2fYvcWbhMQghw20jWafMnEAb0Ll63dsGP3fmZNY3ttQ8sb//lw5OC+40YOzkh3Uniq0NB8Qej5CWeMLo9CTmozucXfMnH8REEiKyPr/VnvH6w+2OJvCTQH6mvr9+3Z523wRp584w03WjXofYr6fPbJZ3U1dYHmAJvc5G3asH5DanIqEV0zZWoo4g9X6lRsr3j5xZd3lO/wNniVoZjZ1+j77JPPcrNzdak/8dgT0el57JHHNKHpUtel9uTvnzx44GCgOaAM5W/yl27ZOmHcBF3Tz5pwlr/JH9qF+b1333M7XSlJKR/+98NAc8B6UBlqzudzbJrudrq3bt4aSgwzm/zu2+9qQrNpttbzMpeVlkmSgsjlcE278659e/b5Gr1sstFiHDpw6Lbv3EZEDptjy6YtkV28Dd6cHjma1B568KFmX7MZNK3Wkp0VOwf2HyhIPPbIY1Z1VNd/yt1nC18XJrO3SS1cvvXh5179n9///YEnXnvgydd/+dQ/nv3r26vX7zaZlWJldHVqsWGLxc3khrqGvJw8XernTDpn9arVVl7d7GuuOVSze1dlJIu22gEkCeuZWzZtaaxvNFoMo8Wor63/w3N/sGm2BFfC+7Petw4bqc1dtGDRxx9+XLWvyt/kt77SDXUNDz34kC41h82xacOm6PRYdf8Om6O4d/GCefO9DV6rLbfJ6/v8s8+tuvYf/fBHre0AzNPvnm7TbIUFhdX7q60mC2YONAce/M2DgkTfPn0PVh/ksCZv0/XXXi9I3Pad21rPy/z4o48LErrUM9MzZ/57Zs2hGn+TXxmqxd9Ssb1i+NDhgsT5555fV1MXeV3vvfue0+5MTU79+MOPI6/XDJov/uVFXdMLCwpLt5Qe0XYdp1tUu41pslKsFDd6ed7SzY8+989fPfH6r57+1y+ffOOXT/zj2Zdmlqyv9FvFYPj6xBuI7YzZYnM6hQhJH3zwwcaNGxPcCa+99trVU67OyMqw2W12hz0pOSknNychMTzXMoe6CQWDwR/+8IcXX3xxckqy3WknQS6Xa8iwIXfddZcgsXr1mubm5uhOloWFhd///vcLiwoTEhOEJojI7XFffPHFo0aNUkpt2bKlXX0AE9HkyVPuv+/+jIwMu8MupHC4HP0G9J82bZphGqWlpX6/P/LcL7/8MhBoGTly5KRJk6z0EJPQxIUXXnjOOef4/f4ZM2aEpikI1z20n+TUqkBiouzsHr/61f/k5Oa4ExJIkKZp6ZnpL730UnpqmmEYS5cujeyybNmyquqqjPT03/zmN06XU+rS6vveq7DX5MmTpRDz5s3zN/mlFuNXyKnF1oVEkijBJc4e1//2m68d1LfQYdNYMEvtUL3vvU/nzPpwxb4DfhONAABfnWkaP/7xj/ft35fVI+vdd98dOWJkcnKy3W53upypaan5PXsesZ4rE+Xm5r7z7jv9B/T3JHk0m6bpWlJy0pQpU4qLi5ubm8v/P3vvHR9Hde7/f54zs7ta7ar3Xm3ZliwXsDFgamgBGxITEooTQsk3kN/Ni1xC4BJygYSQhNwkQHqDhMCFQMK9JARuAGMw2MbG3VaXLVm991XZ3Znz/P6Y3dWquARcJPu8X3rZ0u7MOWdmd55znuc85cCBSZl8V65cefnll6ekpTicDkuuRsVE3X///QkJiT6/b8eOHWE5f0EEBvv8vrvvvvv8Cy9wRbmELkiQ0xV58cUXX3fddaY033jjjVByMDb51Vdf9Zv+r3/96wGXfQAMu8O+evXqtNS0jo6OvXv3BoZuvcmMQIjzBBjMzLfddtuaNWviEuIcDgdpZHPY8vLybr31Vl3TW1tb2zvaQ11s27bN6/MuWLDgiiuuAAABEIQu1q5dG+mMbGxqrK6uVnFKQFgmN0BQ4KvhduLCs+ffctNn5s/JEWwCAmTrHRx99Z/r//q395o7hliVE1accszmFR7B9JtvvPGGZ9izdOnSZcuWTXNMeHAnmAC73X7ttddaq/nAuwIAVqxYoQlteHi4ra0t7BSQIN2uBw4OCg4SNG/ePABNTU1TRarTGXHPPffodn3ShvVZZ50FYGBgoKenx3rNNMzm5maTzdjYmPHM0BQYVV5evoTctWsXM0+4kCk9EhERBMTnPnd9dm72+GgJACLdkdZoq6qqQoPZvXs3gLS0dE3XJoQ9EdLT04jE4OBgf3+fEnbTEPo0pMxMjv7UFRdfddnF8QkuYj8z+0nfXlbzwiuvvbt1j1R3T6H4lyC0tbW/9NJLDL73G/cmJiVaou3wgmj16tVxsXGBNXQwx3tWVlZaWhqDGxoaQqkXrC6slTFkMCWDlaMzwl5YWEigcTkJAJCSASTEJ9x0002Bl4IOIUIXF118EQGNjY3Dw8NW+319fc3NzQAWL148Ht9saRpRUW632+/3t7a2BkYSJszDfYGCN4MSEhKuvPJKTQ9mLAimrZwzZ47T6RwcHBjoHwgdb428sLCQNJJShhqPjo1OTExk5rLyMmlKJdWnRwBAepLj2k+ef80VlyXGRjMbDM2AXlZd9+L//t97m8o9o7D8PFndQ8UpwWzWARijo6MHDx5kcHFxcVJSUkg0T384g4Ho6Ojc/KCPe9hjHB0dbbfbDcMYGhqa4O3HAEOa0vAbY6NjQ4NDg/2D/X19brcbgM/nY8mTeomJic2zMleEZ2wA0tJSNdJMaba3t1svCyGcTqdG2pDHMzY2Zsl3aUir09bWVo20OXPmkEaTPqhpLEYMIcRZZ51lNWJtdSKYuj42No6Zu7u7Q8fHxsbYbfa+vr7QCEMX0t8/YEjD7XZHRUV/LKMRQYabTE4h8wlZGwJCAHBFYFlpxpdv/NTCwtxIm85Sgmw9faPrN+78xR9erW8b9hoAwbTuhkKhOCx1dXUjYyMup+vKK68EDlGNezwEiwDOzc3Vbfr4kpoBQNO06OhoACGby3iCIAIYhmH4/f7R4dH+vv7e7t6BvoGoqCgAQ0ODUwbFBQUFVmvh5hhpyJzsHAk2TTOwFme4XC7JpoDYv3+/dRgzWwJ8dHR0ZGSEiOLj40Or+dDSf5IOYJkaoqKiMjLSA/2GNArA5XLpuu71+sbGxkI3x+l0ArA0ECEEOHCwd9Tb09NDoLzcvGOwtUsc8IvnQ862s4/gN4cIkU6cUZpy841XLluUrwuDpUlk6xvwvf3+9j8+//eDrcM+A0CoqswpcwsUpyOzOybY6/Va69q4uLjxnG6HWGkREYMzMjICh038l5mFICIyTXO8KYbX692xY8e7775bVlbW1dXV1dXV399vmubw8LB11nhKuKAQj4mJMU0JhJl5CGAIoSEscxEAElRaWiqEqKmuqaioWHHOCsu2BMbePXu3bd9ms9muvfba8esKCJwp5iIiq/ecnBwrPVxASQg3Mk0868ILL3I47K2trX94+g+33HqL4ffrdhsAz6DnnXfeIVBpaWlkZOS02w5HT3iK5VM2jIpAjFin9plVF1Xvb/tgx+7G5m4JIWFv6Rx4/i//WLJw3hlLS2JiNH2yKqdQKCYi0dTUJCDcbreuB6enw4ogm26PiYmZJocjYULtMAYokOt5aGho3VvrNm7cWF9fb0n10dFRv9/f39/PgYyjYecxM5Bl+SCFyXMAVpbPCaMRcDgdq1et/sc/XnvmmWc+/elPx8TEkAjkJ928eXNXV1dKSoq1MWuNioisuWmqZQeAw+GIiooe/3viIcwsedzev3Llypdeeqmqqmrv7r2li0ut+2n6zXXr1o2MjCQkJBQVFU1NfvovwQTLBnKqibKJ2WMFEOcSqy5fWVg4d8u23U0t7dIEk2jv6vvzX18tLpm7bElJUqxdI6KPN0UqFCeX2fwgMwzD6O/vBxAfH3+E55AZgICIjY09VEHwcTOMDJhPRkZG7rrrriuvvPLhhx968cUXKyoqIiIili1bdvHFF+fl5R2qq8jIyIiIiIA5P9ggS57G3kP49JpP5+Xltba2Xn/99b/7ze/aWlt7u3uf+eMza9asGRwYuPHGG84777zxAU9e2E9AskxMTDyMYSLczpSfn3/77V+SUt51113fvP+bdXX1/b39695cd8kll2zYsCErK+uBBx4gjfjjeLUHrUWnPgQw7ALFhWlrr/vkBWcvtgkDkAwx7JObt+997qW/V9Z0Saha9ArFEejs7ATgcrkcDvvRrK40TRt3pJzMxPMJJGjvnr1Llyxdu3btT3/6UyvVT3pG+ooVK1avXp2QkDC1CRIkIAJvhYluMKzSBAQKiFbrTYkf/ehHCQkJmzZtWr161euvv+4Z8lRXV9/7jXsfeOAB0zS/853v5Ofnh+be8XlhuqvVNG3awjUTLjGomVx22WXz5s3r6Oy46aab/uev/9PW0tbU1PT0009/5StfAbBmzZri4mJ8DDEkKbC1IEM34VSy60y8/ZqAQ8P8guQbPnPZJRee7bQLggSRZ9T3wc59L/zva+W17X6GCZgMqSS7YnYym/cBCLquRUVFCQiPxyOlPMwuZ1BEsy1QAHDqAWz51UspA9KZ8a1vfeupp55yRjq/fs89t992e0FBgdUvCPfec++u3bsCf06aaIgATBgMgQQFI3cnGOfjYuPWrVt38803b9q06f/d8f+s3Py6ricmJn7xi7c88MAD4+0cdjq0mhWCDm1vn2DaEpq4//77+/r6/vjMH3/w2A9++MPHrMFFRUWtWrXqu9/9blJyEhjhuxwfAZ+P/SwdDm08JO9UspqEgi6sK9IgNOkEPnH+wvy8tI0f7q6pbzOZJKi7f+R//vbW/gVzzlm2ID3FBT6lpk6F4ljBzHFxcUQ0MjLi9fqO5jkJWNCnkyocfNCsoocAWppabrvttv11+5cuXnrnnXd+5jOfiY2NBQABSJxzztktrS0TmghmZA5uSkwwwwSX70wkwg5GQUHhk08+ee+9976/aeMH11xjSAOAw+YoKiq65ZZbbv7izRN6CNWCnGzkn3jAxDfDK0iGHJzyCvKeeOKJ++67b/uO7Z/97GetHQ1N07Oysu68885vfvObdrt9QpHKfxEh4R3zm9J0OiNONQVgEhyIILEDdhtWLpuTnZa6efO2g00tYyazEJ19g3/9xxvz5hScc9bS9JTIQCHSU2ZqU5w2zG4dwOmMTE5OlpBtbW0Ttn2nHhuUmFLKQ4XVIjRVMAAcrD/4q1/9Skr56HcfveOOO2wOW/hGcEdHx9GMMLyj0Bgm+H0SsnKySkpKtm7dunbt2jlz5thstrlz52RkZJaUlNgd9kmtWWanQ11d4LBDELb/QGDEx8cvWrRIE9oll1xy4YUX6rqemZmZlpa2cOHCuPi4I1/dkZBAxYGGHbvLUlPT8vPzsrLjHQKCoX28zeiZxdSPggGWedmJySmfqKhpeW/Ttv7BUcMkn+A9lTWNTY2LSorOWlriisBhv7AKxekIEVnBVIODg5a/5cdszTL+hBbKGzdu3L17t023PfHEE+edd15gQcyQphQkurq6YVlSJjI1VnfyAn3i60IXS5cudblc6alpt956m81my8zMzMrKysvLs8q9H93gA+1P5yJ0SJYuXZqenhZV7f63f/tqbFxspDMyNzc3Nzdn/vwFlpfpx4Lw4e6K2rqGxKSU/Jys7Kx0twssgyL9EKfMTlEvAhokAYAOZGdGpX/q4qqa1vUbN/cM9UNokqmypq6tvWPJwvnLlyxwOqCF5uZZecmK05FZqwMQAFjV4wGUlZV1dHSkpKZMe1i4afwwAjUkc60TP/jggzHfmNPhXLt27bgCAAAw/EZ9fd2hWwvG4x7dhfzgez/45S9/+fWvf/2x/3os2EBwzBQWx3aUzR0dzLx9+/aHHnqooKDg5ZdfDrj+h3oPb+mjijNTouZAy8GGzvqGrk1bd8XEuUrnz1kwtzA+NtphE7pV0WDS2MP7IsuB9yP2fiKYJk6RAJAgAqIcdMbCzPzszDfXbaxraBvxe01JPf2j723e2dTcduVlF8XH6OE5mcYbDAs6nNGXr1Accwi5uXlENDI28tprr4VXYDz0GUcg3OSyfv16KWVSQuLKlSsD0jUQDCaGPYGkcDL8hPDeDzkSmnQAm3zXXXfV1Nb8/W9/v2rVVROmiUkNHjpkK9RsYJMBkyay0NWNh+cy8z333PPaa68/+uij9953L8tguBpPavIjMuZDTX1TXXNXbXP/hzvLXZGOuYX5ixbPS4yLjbSTroWVpj8FBNfE7RedoDtQWpyemf2Zt9a/faChacwPU3Jv3/D6DVvr6w6uuvKiuBinLqAdpk2FYoYxa02RDAC6XV+1apVNs+3atevNN98cXzpj4nIqTPCFZ0yb3CQDoa1Vht1uB8DMo6MjoXgy68g33nijoqISkyz649CEbJ7j7fPkPNAEMF588UUhxNKlS8ed78O3Wad8ROObv5Nux5RfDwMJ2rhx4/Dw8Ny5cyf4m4a8dqyZ5WPEA3g8ZlfHiGCHYJtOEUMD5vubq5760z+eeeEfr7/14e6yxu7uUZiAGfrUJMgMxBCQZBiz1X+eAz86IykaN3x65acuOzsnJV4nFrruM/Xahs6n/vuVt94v6x70S4wvBcxxPQLd/YM+wwhmIFLOQ4rThezs7JtvvllAPPnkkzVVNZPfDhPyQXvNEZ6NcIuMw+FgsN9v+Hw+ABCAAAny+Xzf+MY3RkdHMdUnB8G+KGxamWD9n3A8M/t8vl27dtlt9oULF45bcyaK1onGHT5Uv+NTDIddPsA87uAU6EKgp6enrKwsIiIiOztbmnLck5NC54PNaeMOjgQBQM+AZ2DIYzJY6D7N2TcqPiw7+Lvn//Gb//7bS69v+mBnTXPnkFeOHz9hzKGf6QMfZh4TE4AyAGZBiHfjs1d/4upPXp6amqSTprFDwFXX3P/Un/6+bsPu7gGfdS4okBLW+p0lOroG/OET2uyc3BSnGLN2HwABwXf11VevWLFi46b3v/rVrw4ODn75y1/WbYF0/u1t7TU1NedfeH5QaAbF5yHMq+NLcwYIZ5xxhl23j/nGvvzlO/7yl79EOCOIiCW/9dabVl/jB0/b1BR5Ps2mAQOEgoKCvXv33nfffXv37snIyLTSRMTFxRUVFRUVFTkjneB/RVk7msUiAwK5ubmmNNevX3/nnXeWli600ha5XJFz5xYtXLjQHeUGH27b5IjYdcrLSujvbRnz+ZlsEHbJpsHU2tnf0t67u6wmwq7Fx0adsXRR0dwslwPEYnxyZQH62DvXMwMiFM/PnDM3c/OWvVu27RrWWJBtdNS3advuqtrqKy+9YE5eogiWHgtFUZeV78/OSsvOSNWVWUlx+sAgoscff/zNN99sbmles2bNc889t3jpYsiAy/7WrVvsdseSM5YgsN96BBkxHrALADjrrLN++ctfDg0NPvfcs7fddrslCQ2/8b1Hv/fcc88JIUxpTpJ5/4IMtBbkzJqmJSUldnZ3rl279qqrroqPj7fez8jIKC4uzs3LHRfpwjrl0E0ewhnIsihZCYVCL0ZHR0dHRw+PDD/yyCPV1dUpKSlWCykpKYWFhZaj6Uf3CGJER0aUFBXsLqsaGhkZNYmFTiyI0ds3ONA3VFVZZ9cRF+suLpm7uLTY7YSdgtc4YcdjltgzJhpeKKimWT6cJXPT8vKv2rqtetOm7T4/iMTQiH/zjrJ9VdWfvOS84jnpesiUF1x07NlbOa+kJCvZHUglNEtug+LUZjbrAAAA3aY//fTTX/rSl7Zs+eDuu+/+0Y9+VFpaahVhqa2tvfqaq8+/8PxxN03ShBBWerhJ7RCFTRUEMHJycr72ta/99Kc//cfr/1i+fPk555wzMjKy/8D+bR9uW7R40YMPPnjbbbdNHc94glEZtnAfVy6mkb7f+rCOMLwAACAASURBVNa3tm3b1tDU8MMf/hczm2wSiEBESEhI/NKXbr/zzq9kZGWEtzOpmVBiicPOVmHvCYCxfPnys1ecvXnL5t8/9fvwjQkGbLrtxptu/MY931hQvOAwLR4eV6S4/JKln7h46f4DbfUNza0dXV09AyNjPgaR0L0mfGPGUFtvy+vv2N6gwvy8/Nzs5KTYhIQol5MExqvhzHYIIEKEjgvPKc3OTNu8fUdjc6fXB9Pkrj7PC//z2sIFRSvOWJySFCEQ2EeWhO5+z4GDH95w3TW6dkpsrCsURwGDSVBUVNQjjzzyyCOPVFRWnH/++VlZWYWFhR6P52DDweam5ieffHLJGUtCNuZxc0toaRUynTMzWNO00JLrwgsvPHflue+9/97Xvvbvf/vb37Ozszs62isrqw4ePLhmzZqsrKzv/+D7/+rTxuFynSGEYPDnP/+FBx98cNPmTVu2bJHBrDEMJlBxcfH99//H5z53vdAFACKyIhB4og+SNfiADnAIS1PgLUv3MNkeYb/99ts/2PJBVVXVt7/z7dCRgkiyzMnO/fKXv/zVr37V5Xb9i5cYuLFRLv3SC5ddeN6yptaeyv2NLZ3d3X39A0MeoQlmSMPuN2VXr+ft97a9t3VHVlpKYU5WZlpKQmxMdKQ+TXaJ2ejraH2SDCHg0nH+2UWZaSlbP9zd1NIx5PX7DfQPjPzt1bfqiuefsXhhSrLTRhBB/ae3b/jNtzfedO0VzohZeOGKU5RZrgMwABTOLfzzn//861//+plnnmltbWlqarIMJKmpqeeec25IRFq5nMPng0lYy/fw6OGHH344Pj7+scd+UFFRXl5ezuDkpOTPfvazDz74YE5Ozt13/zuAcZ9LQNM0S4xrmjZtFwzWSAuMnADgjf9745FHHhkZGZlfNL+goMDlckkpTdMcHBw8cODAwYaDj37/e+3tHU8++aQrygWGrmuB/EKhfiWYWQR8RulQglWQCN9WPrD/wN13371///6crJw5c+dEB1NQDw8PNzU11dXVPfunZw/sP/DGG/90HjLv3pHRBDRC8by04rlpw8P+7oGxhtaumv31Tc0tfslMxCZM0qUUZdXN5QcaIyL0+Bh3TkZaUUFOdnr8uLt8uCVp1mkFwXWJEMjPTcrMuHxf1YF1724dGfGawjYmaduemvrGtqWl85ctmedygAEJ9A97DzZ3b9yy97KVpRN8wxSKU5fQevemm25avnz5t7/97XfeeaeqqqqqqoqIhBCLFi1asmSJdbAW4BCZ0zhQH8Cy71iqQkZmxq9/9etHHnnklVdeee211ySkXbfn5+d/5zvfuf322zdv3vzjH/94YlQSiIhA2tT9OIKma0IIQWQtyK1ODcP/6KPfe/nlvzqdzjMWnJGWliaEYGa/39/d3VVeXlFeXv5v//ZVl8t99aeuBkNKSSQCmkzY3GRdV+DqpsxZRKTrmmGY4a+88j+vPPnkE4JESUlJfn6+pmkAmGVfX39NTU1zc/ODDz7Y1dX12GOPBXbL/4UPJnBLCbBrKMhKyMtK8IyhzzPa1tVTWVvTcLDJ5zelKUkTJjTDJ2vqO2r3t7sjHbEuZ3pK0ryigvy8FCst38fLNndSCdvZEIAdmJsXm5Z8YfX+lnXvvjfq8/tNeMewa29t5f6Dy5YtOGdpiVNAEKSJoeHRhvbuLTv2XHjuIgKmSe6hUJxwaFKZ21kMA0BfX9/WrVsBZGZmzps3T9f1yV40fFjzgxUlFlpxCgDwjfnKy8ubmppKSkpyc3Mt4824lZomrk1DRemnxvJSwL0+IPAZlRWVl112aXd3z09+8pMvfelLuj1MLkv2+43HHnvsoYceSklJ2bJlS3Z2NjOTFlj3T0jxRmCTrXT+07ohWcdII5A+tamx6fLLL6urq//a17723Ue/q2t6eDwAm7xhw4ZVq1cNjwy/9OeXrvvsdYe560dFYEOUAWGYYGB4FHsrKipr6jr7hsfGDGmyJnQ/+0FsB0tT6kJEu5zz5hctnJeXHOey6ZqmYdYvhYMfnQQ8Hrz+5rra+vYxg8ZgaIJ05sKszNWXroyNduh2/OKPr7a39UdHOr7wmcvSU2MDGwSnysOqUByS4DMuTWkVu62vr6+oqHC73fn5eZmZWeNu7tbjEJLwPKWdQ1sN+nr6du/e7ff7ly1bFhsbO0GuTpKuDABSSqGLkAid0KYcF02Gz3jooYd++MMfliwsef6/n59fPH+8EQIk+vr6Vq9e/cEHm88448wPt38IBsugVA8/kidOKNParcJ97oF31r+zavUqV6Tr2WefveSSS7TwhAMSzHzffff95PGfpKWmrVu3rmhe0TQ35SgJxTNoAIEBkzHqRWVN676y8s7u3jFD+nwGgaQ0mUjXdYCZDaeuL5hXWFI8NzUxzmmDXZvFAYkBwj6awVG8/s93GxpbPCOGKQQLhumdk51+xcUXJCe6DYFf/fblvoGR6Bjn2s+sSk2IkJYupES64qRyqukA488kTXxryjbxZGjikZNanrKan6adcIk8UTpPM1QBSNz5lTt/+5vfXnvttS+++OJ4AgcxPoyD9QfnzCkUQtu9e/f84vnjtvBJOZ6P6FwY7NG6M7//7e+/8pU7i4tL/vnPf6akpUzVKMC47NLL1r297v7/uP/R7z162KaPBIVGAIBgWm7vkIBhoq3L09bZ09rW0dLS0dHb6zclQQgWYDBDaLDpnBQXnZqckpmWkp2VER/vsFtT2ySNK/zTn+FQwHdrzIfy2qYtO8ua2rtMhkaazoiK1EpLF5yxrPS3T/9lZNinAYvmF376qrOUR5Di9IKmrMUxnZSmKQccShOY9s9QUyG7z7RL7amWndCEMtFlsamx6aqrrqqqqvrd73538y1hdQBCjRPe/Oebn/zkJ10uV39/vwiZ+XFoGX74aYsBwPAbZy47c9/efY899tg937gnZMACxhWbzZs3r1mzRkr58ssvn3f+eYdo8V8keFGmCdZgGBgY8Hd09jY2tza2tLZ39hgMySw0jRnSNHVN6Bpiol3pyYkZKck5WZkpyW6bDjHtrB3excwkzDtXAl4f9te1fLBtV2tHtyEFk6ZJw+10LCldWLyo+Hd/eG7MJI1oeWnRqkvPEB+jUINCcayY5b5A4dDEX6au46e+OPWAaY+ZKoCmbYePdMCkBgnvv/e+hLzoootIC3p8ivGpRUrZ19dnShkdHeOMdE4YydR57vCEqUbSkAcOHJCS09PTU1JTJqs9FJiuenp6BInCwsIjNX0keOIQg/XXBGAXyE5x56S6vQtyDIn2bs/23fuqauqNMT+T8EtmFoYhGrtGWjrrd5fX2m0iMSH+jEXFC4pyIiPCTUhhs8TUOR4zbAoJhpo57VhSkjVnbtb7m8u2bNtlGKYpqX+U399W9uG+WsNvmpCk2fZUNi5aVDo3x3mSh61QnEgOZY451C/T/nnEA8IX9DiEoOCwOWWSBObJ805/f197exsRzZ8/f5oWCGA0NzczOD09fWLenkNz+GmLAUJnZ2dHe4eu66WLSidcUfBcwzBGR0dHR0ejo6MDZdGOCcE7Y/nYajpS4m0p8Snz56b45ZKeQblnz76yigrP8AhIF5omQWMGe/tGeweay2sa7WJHTHTkouJ5ZxTPdcdokz+Fma8GhH00xIiwY97cjLzCjM2bd239cM+IHxC2wWG5YfOuLTv3jvqlX+g6iz1l1YsWzMvJcH2cem0KxTHhFNIBZh2E4uLi8sry9evXf/GLX4yIiJiwI0wYGhp66qmnABQVFbld7mPSIwChi6ysLAANDQdbmlsyMjMmHeUd87700kuVlRURERGXXnrpMej30OMhExBwCDh05Ka5c1LPHrvg7Obm9oMNLc0d3R09faNeKSVpJJjI4/N5OrrqXt8QsyEyOyM5Pzs9LTUxKSEmyhUM4gjoORzYosZMnTmCaIwYDZ+8oKQwJ2PL1p0HG5rHmEyTx8bGABBBSlOa8tV/rvvijasTjsVXQKFQHC8kIiNdsbFxfX39+/btXb58ecC2HabMVFVW/fznPyfQqlWrjs3SVgCMpKSkqCh3Z2fn1i1bL7vssvF3g4JxeNjz/PPPezyeoqKi3Nzcj93rFILy1sqnqWvQBDISROrFiy46d1FLa9fBhqbWjr6O7r4BzwhLIVkAmkcaI73D3Rt3vr9pR3ZGRm5OenpGQnx8dIzbHoryOMKm+oyBREAXitRw4XlL8vOz3928q6mpwzDJhO71G0K3E4PBXr//9TfeuvFzV0e7Z3FkhOLUQHv4oYdP9hhOVwiRTuff//ZqdXV1a2tLRkZGeno6SwZzU2PTSy+99OCDD7766qua0L73ve8tX77846TpDPUIAAxmfvXVVxsbm6qrq5OSkjIyMqwQse7u7rfefOvhhx/+xS9+YZrmt771rauuuur4LqPDZkcBCMCuIzHeXZCfPregcH5RYVpqArNv2DPA0iQQSxJC+A1/b9/A/oOtVQcaqw40NLd3kR7hinRpBBIYVwA4bAKembKWAYIA4mKchfn5MdFR9S1tpuRA9m+AGALk9fpMv78gL02oMDKFYmbCYGa73b5r1669+/ZUlFdKKfPy8lyRLiIaHRmtral58omffvvb366srDznnHN++MMfxsTGHIN+CQA0TRseGXnnnXd27dzV3d2dk52TmJQIgt/nb2xofO7Z575x773r1r0VGxv39NNPzymacwz6PcRIgMBWJwFE0ACbhoRYV15u2tyC/LkFhTlZGWBzxDMkTZPJlCwB8hmyr3+goaWt5kBDVW1DY0sXCafb5RKhUpJySi8zksBVE2JjIufMyY+JiWtpafUaBoRgK4cVkQA8Q0M2R0RedjJhBk9PitOAUygeYHZBAMPwG4899tjPfvaznp4eKaXNZnO73YODg8xsSjPKHZWenn7//fd/4QtfOOYy4oXnX/jmN7/Z2trqM3x23RYdHePxeAzDMKThjnQnJCTccMMN//mf/+mMdB4D3ePo4YkLd4AF/IyhIVRW7a+squ0b9AyPjkpmw2QDOiB0TcAc0wTHuJwlRYULFhTFREe6nWFpPGayhA27XhMY9WNbeevbG973+3wB1zAmwQJMMVH2G6+7MjPFGZgzFArFjKSzo/Oaa64pLy/3DHs0oblcLiIaGhoCoGlabGzMvHnzH3/88aVnLgWO6bNM+Pq/f/1Pf/pTd283gCiX2253DA4OSimZOSoqKjc35/HHn7joExcd436D8EQdYCpSQmgwJCTBM4wDdS1lVWWdXb1jY6bfDzZNoWmSQUIIYsPvdUc6iwpySouLkhPjIx1ks02JGZiZBEW6H+j3YE9Z/YbN24a9Pl23gSEJmjRtJOOio27+3OWJcRFKnitOIkoHOHkQwPB5fXv27Fm/fn1lZWV7e9vIyGhMTExCQkJaWtry5ctXrFiRlp52XFaxhKqKqnfefWfXzp2trW39/X1ud1RycnJKSsrChQtXrDhrblHRSQixnRxRzcB4ec4xH3r7PB0dPc1tHQebWtt7+03WNNLJtCKyrHM5OSE6MzU+Jys1JzM9KeGjJzY9EQSvVxKaOoY/2LFnX1W91+snEpavMDGBNcHQYBbPy/ns1edpKjhYoZixEAAMDw2vX7/+vffea2ho6OrqMk0zKSkpKSkxP79gxYoVZ511lsPpAI6xAgDG6MjI1g8/XL9+fd2Buo6ODp/PGxcXn5CQkJGRsXz5suXLz0pOTZ4m0voYEVZVl2naN0Jx3gAAK69p/4C3ta23pb2v4WBjd1/fqGEAOgMAMUyYZoRNJES701JT0lKTs7NTk5JdVra/6a0hJzEtRHgYAwHAvgNd23eU1Te2+UzhJyJAgCWBpKmTIPCyBWmfvvKiWaDVKE5dlA4wY+DxGjEB0/uJEQ0nq9+PhCQAkAwJ9HQNf7ht+77KGp9hJ2iAMJkNNiGs6pmGIE5MiDtr2RlLFuTYdQgCy0CVRxMgZrJyNFPQbnPiQ9AkQPCZeH/rnvc/3OllTRpkWhMgEQCNhMaksw1smjy66qoLz1yYq+N4zeIKheKYwUBY4a9DZm0+Pl1PkOqTXOqPt3snDiGdJjq+MI+XRWcGMwY9+HD7vp17y0bGfELTiYRpuUQSswQRADPa7VyyuGTJkvnuSBDAJmwCRIBVKUFDIO1auIrAJzoF6dCw/+13N+6sbDIBU7JkCE2TphRCA0BMDEnENnPk2qsuX1ScG9RplFRXnGiUDqCYVRAQvlvAGPGisamrsaGlpa2zu7d/cHjUECQFgQFmAjRBERrnZKfnZGemp6QkJcZGuYPuTQyBifYbhMUPHO8nI9jRrl2V1fVNHq854jfHRnw+v+H1+03TAAAJYbJgBwBJZlyC66brrkyNc5xMc5dCoVB8BCbpHjxN1ibJ8JpoaRuqO3iwraOzs6tnaHhUMoM1UCCDqGTTbqP0tPjc7IystPTUpKTYGIIEBZPOBfsKxRCIyYnvjic+P3bvKW9p7+odNnx+v9/v8/t9Xp/f7zNMgxnBaC8yBZCVmnjDmiujomxKB1CcFJQOoJiFUFi+PjPwi2dIjvjMhqa28tr9dc0tpmRTgkhjKQHSBOmCbZoWFe1MT0tcPH9eVnaiRtAtGxlNaNnasT7unvdBHcD0w2eCBUbGpGHCb5p+w/D7/cPDw54hT39P/9Dg2MDgyNCwZ9Q/fO7ykk+ct1QVl1EoFKcOYWt0U4I0GBJjfgwNjnZ391VUVdfVNfkNlhAmNGYiQcI0BMFh0yKd9tTUxAULCgsLMyKmFAUNCNlwu1H4lu/xwZQwJXwmTBOGIaWUXr8hTYyOjA0ND/f3Dwx5hgY9/f0DHu+o55wzS1eevSQwNj6uezQKxWSUDqCYPQSX/hwU4xQefBayKgkMeLCven/tgcae/sG+IY9pMEEIQZIBSKGx6fPHxbgLcrMWFRclxcW5nGSzT/QAOnmPBU+MrhMAGAxAwDDh8/pdTttJG5xCoVAcVyYtgyUkMOpHVe3Bitq6jo7+YY/P5zMBYpOERkwSJEFmhF2bP7dwbkFuZmqy0ynsNgDQxJRSkicEK5yNacIOBIUt8iWBrIKZAf3ESoKhdADFCUXpAIpZRShfEAUEu7VEDhAWUiwBk9HV423v7mlsbGtqbu3u7TOgSUCyJDaJQMwOTY+LiUlOis3MSMnNy06Kc9pFQMcgGndXPe4XFRz+1HmKgnlOObTZraYJhUJx6mE58HBY7WQEag5YgtGQGBgy2zt6m1s6Dh5s6ejo9psmCzAFYFPaBMfGuBITE7IyUrIyU9PT4mwELTxJ9AlTBsKtSpPq1RAYbJmwBE97gkJxIlA6gGK2EZTjIeNO2GwRJmiDi2bLsOKXaGkf3rWvvLJmv8/n9xuGBAGagG5K1gQRpKYjJT5uaWlJcXGuwwGNIHjqzvJxYGI9g7CXg3DYv2qOUCgUpyRkJc8UkGHiLuDlz2CwlCANAkwwGT095t595XvLKwaGhxmapjkMQ0rTJAFNExokwYyNdZ+5eHHx/DlRbhDjpKW9CAn38RmLGWLybrZCcWJROoDidILgG5Ot7Z21DZ2NbZ2dPf0DQ6MGWympNWZJRAShaVp+ZmJeZmpGSmJGSnyUSzvxW8kKhUKhODwMjPnR2t7f0Njc1t7d1tE9MOL1GgwInQRLCWZN1zSB1OSEvKz0rKz01KTY+CgiEcxVajHJYB/ORxD+KsBXMUtQOoDitMGSyxIAmDA8hkGPv729q6y8uqGl1WuazCSJAM1vSEHSplOETXdH2NPTkxYtXFCQnaARhJgunYUy4ygUCsVJwkq24/VjZEy2d/SWVdTsrzs45jWkJBKaIQQDkFJjGWHXoqIi45KiliwozstOiXRAn7T3SgxIsBZoeHxv+agjiUMpK9TaSjHjUTqA4jQjXBPgQFKg3kFU19Xt33+wo7t30DPqMySTICHAUhCZUgqBWGfE/KKCuQW58fGxUW4tQg/ODkK5cSoUCsXJILR+CclhhmFibAz1jR0V1bUdnb39I2Nev+H3m3ZNJylJF174hMnRkc6iwrw5+dmJCYkx0XqEHSJ8+R5w3QmPSzi6sYTcjdTaSjHjUTqA4rRkyreeGRDo7vG3d/U2t7XXHmzs6u4zTGmyYE0HNMFSA2lAXGxMUmp0TkZiUVZaSnL0+LavUgMUCoXiZMETnXAYJqPfI7t7BltaOw/UNbS1dRmGwUSGJvyGqemaIBZAtDsqKT4uJyO5KD87PSVShGqxS0D/1/oHlA6gmE0oHUBxWjIpyja0OUCBaDNdoLVjeNvufRXVdSM+OeqVmmazMrcxSJp+h10Q+1ISE85YtHBuYV60mwRBAKQ0AYVCoTjpWO7+ApCQEpIwPIIduyoqqmq7ej0GiAVJ09Q0DZI1kDR9gjguNmrxopLFC+bEuIUQkCLQ0tHIdaUDKGYdSgdQnK5MyNsc9PIPVZokgOFn+A00t/U2t7S3tnS1dnb0e4YldLaS1RFISo0QYdPS0pIy05NzMtLSU5LcLiEIHJ5T6OgVA7WfoFAoFMeQYBpplgDBZ6CtY7S+qbm9o7O1rb2/f0iSgNBMw9REoHC8Q8j01KSMjLS09Iz01KT4GBAF5XlItQhfOk2V2xP+VMW/FDMUpQMoFEeF34uBUV9DS/u+8tq6hiY/Ewsd0FgymJlYI46wa26HlpWeXFoyLzc7NcKKKyOwBMK3CA49Hfj8sErbqEygCoVCcVwgAPD64POhpa13x76y2oaGMa+hkS6lIGGDaYBMIjgdrghdT4yLLiktLJmXGWELnh6+k2wVcZy0BWxFETP8prTrEyseKBQzBqUDKBRHhwQAU0KzoW/AW13XXFPf2t7TN+QZ8RvSb5qAEIIEpGCpgeOiovJy04oKCuLjYqKjHC5nwAoVmCimJptjAHh/a9mcgtyUBDeNJ5NWKBQKxbHDsuXzuP1+zIeautba/Q2tnb19g8N+v4+ZmImEDoBhSvjcdltBTnZRQW56WrzLHemKBGRw5R+qPhaEKaAZbNi0o2huUXqiW+3xKmYgSgdQKI4anuBB5JUYGDR7+gYaWlpr9td3dPUZkqEJEEzD0IQQJO26Fu1yxcVE5WZn5+dmp6VE2qw6xNbudPi0wWBg87aaioqqq1ddmRSnC1JzhkKhUBwfQjqAABgSkBKDQ+jpH2xr66ypPdDc2i5JSNZAgmEKZjYNuy7c7oi42LisrKy5+bmpKRF2PegdhEm16tlk2rx1X2V1/XVXr46LISXSFTMNpQMoFEfNpHK+FFi4GwwGOjpH91VUldfW9g8Pm0wkdMNkAYJkwawRCeLkhNgzFpcWFmS7IoXDBs2qaBysE8lAXdPgM8/9xemMXPu5NRkpDgDiRFQqVigUitMGnmqzB4KBvAxAwpQY8GBPeXlZeY1n2Dvm80vJRARAaAJWfV8pY2IiF5bMK5lfFOfW7XYwQRBCRez9JmrqOl54+fXoyMjP33BNWnJEKNhMoZgJKB1AoThKOKz6SxgEtirJEMA85uWWrr66po7G1u72rsGhIY80JQkiASlNAmmQToeWmhyfm5WZnZqYmZoc6RIIepN2e/Cbp58fHTOTEhNXX7IyPzeKw1NUKxQKheJjElzyB6w6gV/YSvRADBjBlboOw0BHl/dgW3tjY2trR1f/kMdkaR3LzEQATLtOSbFROTmZqelJmSlJSbGRViwYCC1d3l8/81e/KbNTXJ+6bEV6RvpJuWKFYlqUDqBQfDymM+qYDMPEsBcHm1rLy6sP1rf6TdMApNBgsgahESRLR4Rms1FaSsoZS0pzcxJsOoaG8d8vvtbW0Ue65nbgps+szk11I1SMLNSjQqFQKI4JkyTqRJ/PwCsEnwGvDx1dA7v2ldXWNvh8MAwmIYiICAw/BJMQNhslJyYWz5u3uDjHZkdPP5594e89g0MamTFO7cZPr85MjwaDNCXJFScfpQMoFMeBoJ3JbwIEjwe1dfX1Dc0dvQP9vUOG35QgJjLAJEBS6gIx7sjc3JyMrKyt23Z1dPUbDJsmoxzi01dcMrcgMZCyDoFmFQqFQnHiCHr8M0MSRkZx4EBHfX1jR2fPoGd4ZGTMD5NJMBFICkEayKnbsnMzU9Oztu3Y1zM4ALANnBzlvPKKi/NzY3UVG6CYASgdQKE41kx6pAimhKbB78fQEPf09h9sbq2pq2/r7DGhGUyChJDSJgQzmRokseE3NM3BYAEjMcp51eXnFxUkEqspQ6FQKE4eYSkcrMiBIQ/6BoYamtvKquo6uvtNyZJNoQnTlDpFGmxAEIMMlsRSQGpAbIzriksvWJAXq6tYL8XJRukACsVxZLI6YLmdShChs8e7s6yqrKZ+1Gv6R32SpQHJus1vWmEDDKGRZI1lhJ0/tfrSooIUhzZdowqFQqE4rtCUOl9h/kJMIEZvP1dW79+9r2LQM+Iz2WuQYYB0XUICxCRBkqQEyQi7WHPlpaVzUzSVMFRxUlE6gEJxAplY+Usyxvxo6Rhoa+9qamlrbGvr8/glBIM1tqrUCzABZmx0xCcuWLF4QaaupgyFQqE4wUzVAcKQVhVhEyB4/ejuGW5u76hvbm1s6u4d8LAQBE0CkpggQVKQTIyKuuzcRYuK86eWF1MoThhKB1AoTjjEkAbAgB0AE0zCmIHG1v7//sv/eQ0WGsE0AkZ/skmWxGakg664eOWZpbnayR28QqFQnG4cWgewQogFT9ihNYExE5W1Ha++ts4rQaxJEhIQMEFS1wT5pds2cuXl5y9cWKQyvylOFsofTaE48RCEDWRnggkQQUj0dnnWvb1e+g2dWTOlkCSZTAgTkiB1Qd4xc/07WysqGwMFKZXpSKFQKE4Mh94EsIqMBf4TgAZoEBrqmvrefneT3yRmjXUhyRRCagI6oBmmTjxi0PpNOw7UtQdaUSJdccLRT/YAFIrTj6DVhwBNQDI6esf+9vpbHV0DRHYwEwDBRCwg3ZH2xLi4lMTE1KSkuNjo5AQ3ZPBkdG9NLwAAIABJREFUhUKhUMwwmHGwue+tt9/zDI9qQmNTsjTtxBqkTaP42JikhPiUpOTkpOgolz0mygWoKC/FyUH5AikUJw8GCF19Iy/85e9DIz4iTdftdpvN7Y7MLchNTkpIToyPjyYbAVYZsvBy9AqFQqGYOQQLuTQ1d//v3/7pMYTNZteEcLtcySlJaSmJmWkpcTEOuw2CAA7uHqiwYMXJQ+kACsXJg8FAVV1H/8BAlDsyxuWMiYqPdJKmgSa56QWq2Ku5QqFQKGYkDACmRH1Dq2fEFxUbFeV2uSMj7LagxwVNPBSkBLvi5KJ0AIXi5EEAIE0QQCJoECIEvH0mHqZQKBSKmQ4BgGFC1wCAGSwhrGiBcZM/j//LwVCA6UrOKxTHFRUPoFCcPBiSWYAC0wOCM4SaDBQKhWK2wQRIEEELbuQG7DuYJNIp7JXT1cajprkZgNoHUChOOhMrAKt9YYVCoZh1WJJbLamOEqUDzADUPoBCcdIhJQoVCoVidqPEuGK2oeoDKBQKhUKhUCgUpxdKB1AoFAqFQqFQnHA+2uaJKql2jFA6gEJx8pjNgoxn8+AVCoVCMQECSPkznV6cTvEAoZSLqtCSYiZAE1IBzTIIfsAP+AgMRAJ2QKhnSqFQKCxCkn02CEYZWP1TP/kNSB0UA7v2MUd+xKjfjz/5zaqbPAM5bXQAwp+f//POnTvnz59/y623nOzRKBTjzN4ykeX95pYDbcLuum5hXByzfbZeh2JW0tXZ9dRTTw0ODnzuc9cvWrRIffsUMwuePalviBlsgvzA+31VtT3NmVGJ16QscwIfy1J1TO7AtNmWZsVdnQ2cNr5AjFdfffVHP/7Riy++eLKHolAAmJwRdNbBwM5+41dlrX860NcDCJrVV6OYfXR3dz/11O8ff/yJsrKykz0WhWIKDEhrtcoz2u2TGDAIJEH9MP/eW/6N/e+92l7mtRwn5MdbcE86l8I8YI+4RTDppk17Azn4o/hInDY6AEFKSSC1UFHMNAgAgRnMME1ICSmPeNJJhgE/MKLrtcwdxAZgnOwhKU4vGAAkMymxrphphJakwvL5nNle9kyATQA6mGB6SUIzPHJUfGTV5TBnTVqyH+a+8MSfwx+s+KicNjoAwMwAWH2NFDMEQmByYPT1jmzbWdY36BUahIDQTvbYjg6TYAoaAfuVfFacYAQAkBXGqMS6YuZAAKF/cHj7npreQZ9Pwpz5tcMYYBKABphgAELThLWQ/wg6QOhKQ8rAtBb9wysYR9wBUBwLTpt4gCBENGtc9E4BJj266rZPhQFGTExk/cGWzdv2LV04f+mS0kinEFMl4Im/e6F+g4PhMOktAJISgC2gyIApaO+i4JHh/qATr2JqNeTpbWU8eTIIn1946lk0oYvD2d/CB6a+mbMF68swvlHGQeMOn167ARMqi5+0USimh+COdlUeqPtg+86FJQuWLi51R8yMdWyYJA/7KyRISUCYYAhhQugQEhBBn5zxUw71fZvU+KG+ogQE5T+F/pzUxpTjJ58e/HWaaIWpM0L4qA5z5GnJKaEDhD5bAhjSNIWmBV6ZNiRFAtacIWhSsiBpSKFN2RsJXwnxxD8lICZubFHYKRJSSqGLwFsMCLBpPWphX0wBNnn8FQJLDugqAEumSep4+DAAyInXEp71iMLeBaQphS4gj9oh72NC4EkdHGmSPpx8OfXg4LoZIGDRktLqV9e/tWnvjrL6s5cvKSxIj46y6wJCAiQBBk0Uxsd1ZGCQ8EMCghnBr2Dgbx0gIh3QWSRIm8tw2gECRgHB0AQkYAJCwiEC6gATJCABnUEMn4AR/LaGnhg7BTMLkd+EDYDGgAQT/BI2HZLBBB9AgMmwEUwgEoAf0AJ6iQmpkYCEFDAABjSCdQutgVmdCsAE9NBDrNSAGUX4DB+SVEE5yZJJCzwF1gYAEYUEZoBJknkSEz/ugGAMO4tlmEAOjUeMi1PTMDVdC7wVLpmnSuPwOYiD4l1M1GUxUSCHvcUyOF+E3w05/rtpmJqmWWMLTDfH75sc6FRO8SAIdnny17lHimANrD2PdI+mmigmcaS5SiMqnV/yjzfWv7tx156y+nNXnJWdmRobBbt2iCwQx29GJkAyAg+INCGNgGQ1NMuSA2aQkwQDJjCmGRDePjE6CgPQBUkBwxcQ7aQD2qSPP2j4MViaJMK/HBpAkNo0/ibsBRikAyakAAwYJljAZofQrSYlQODgeobGnxhzLKCzSAE2AQFhg0bwCQiGEKwFVzgmQAySIBNsQhKgQQgQQxJIEM1sJ60TwSmhAwQfnoP1B8vK9tXu3z8yMpKUmLRgwYIzzzzTbrcJfdy1QghhCdbt27fv2LGjt7c3MTExNzd35cqVka7IqQqAaRgA9fb27ty5s6mpqb+/PyYmJj8//+xzzo50RU46uL6+vqqqqqCgYO7cuQBqa2vXrVvX2dkZHR2dnZ19zjnnpGWkkUam39RC3h7CWm7R/tr9O3bsaG1tHR0dzczMjI+P1zQNCLi6FhUV5eXnBU5hAPB7/dXV1Tt37mxtbc3KylqwYEFxSbHdYZ8sXwRIUmND46ZNm1pbW0ZHR2NjYzMyMleuXBkXF6fr+nGW2jT5j9P+kQuHAOKAPMtITU1LSa5v7OjqH/rHW+8k7YmZP2fO0tLiOLcAC216o/dxgGHJTR9hGKJVon4IrUNGz+BwpCMi0elYmk4ZgNsA6xAgCRrRzUGgFWg0caDVGBr165qId+lFSVomkBhcwAiYBIIQPmAAaAfqBtDtkb2eEV0TCZGR+fHIi0A84GSbpS1KoFdDRY8xLGlFsuYjdAA7OozWnlGAEqKcmTHawmik22FDQHOxniufwCDQAtR3o2fIGBr12iNsbrddEzAFIhguE3E6F8dRDEFMPycrTh7BT8Pr9VZWVlZUVDQ0NNhstrS0tLPPPjszM9OuBXJQEREzSymllIP9g++9996BA/tNU6ampi5cuHD+/Pl2h30aMxDD8BvV1dXV1dVNTU1erzc9PX3+/HlLliwVECCEdAwAW7dsGRgYvOCCCxwRDtM0N23atGPHjv7+/vT09IKCgnPPPdfpdALBhY8AhZaPhC2bt9TU1LS0tDgcjuzsbJfLBYCZhRAAVqxYERsfOz42iYGBgT179uzZu2dkeGTBggWLFi3KzMwctyJh3Jbk9/q3bdtWUVHR2dXJkpOTk+fMmXP22WfrrGv68XYlnLqkm2hrPZkc3YN8xCX+kVs4Ql8E5GRnxsfFtXT0dvZ6/v5/69KSE+bPLVhUMifKTdpUTeS4am4MK/PPMHx9MKrR0+Tvbe/vYSljHa50Z+wCR3Y6Im3QJISXCMS9kL0wTPgPmM0HBpr6DSPKGZVkjy5xZKWRKwaaXYZuAJlgD3xDJNswXOft6PZ6BkeHo3RHmjtujiM9m1xO6PbgAsAP2WT21I51J0bE5miJwzAOoLOyr7F3zBOhOZIiY/LdqYUiPg7OiGDaDCb4wWPgfngb0F071N476vEbvoSoaN1hA2CTms5wsZYVkbBApNtBgCnBHpjd8O5HZ/1QR+/wYKwrKj8qpRDJCXBEQgc07bS3/pwSOgAwMDBw7zfu/e3vf0sgClMYr7569V//+nLYgazremND49q1az/44AMppYQUEAy5bNnyX//q10uWLgkeGPh+NzU1P/bYY3/+858HBwctaxODmXnB/AV/+MMfzlx+ZljbeOGFFx5++OE77rjj+9///sPffvjnP/+5aZhSmiZLAYqNjXviySfW3rRWs2nhXzu/z/+zn//ske88Mjw8bE1pAKSU1i9CCCJ64IEHHnr4ocAJhKGBoeuuu+7tt982pCEgLKvSDTfc8Lvf/S4iMmJ8V0FiaGjwP//zwaeeempkZMQ6WwiSkoUQ119//Y9//OPklORj/WmE35LAf5bAJD5yCvmPL5xnExz4hwGnkxYtXNTQ/LZkYUhqaR/obN+x7cM9n7hoxZJFhSAIhC0vjsdIwgyuY4QOYFs7nnl7a61nzKPpfqHpzFF+3wJt5J4rzl+R7rIssH6Whl3rADbuH/7rph19fphkB8PJ/lSnuOGcJavzI+MAB0AQBDYAD/BGnffl7fuqevt9um4Im5AUwYiN0G48u3RVoTOLAvsDfkK7gZ+9s61uaOwXt160vxPPv72xZoQ9UgjNJk1/nB2fXpC3dll6AaATNAYgTEIXsHsUv3ljd1v3gCY0adCgLj2s+aR9TKd0YyzTGFmc7M765NkxTgASPEsiME4bWPKBA/uvv/6GHbt2CAgZ9P4h0Pe/9/37/uO+wDYps67rQogNGzasXbu2o6NDsgSgCc1ms916663f//73o6Kjgo0GLOvvvvvuI488smnTRr9hhJqVkDd//ub/+q//SkpJChsHvv71e7Zu3VpZWen1em+99dYdO3Yws7UDoQmttHThn/70bHFJcXClFbD6Nzc233LLLRs3brT0EwQGy9JSABhE9Nprr112+WWBjiTeeuutz3/+8729vVJKk00B4XDYf/KTx2+77TabwzY+JIH6A/W33377+xvfB4OZDRm4ivTU9O985zu33Xbb8VJpgyJiejkUlCFT/UymbWbqW1NbneaAo1yxHf4OHP2y7zA7CkfqIdKNxUuWtL75rp81Ztne1d/R8eG2ndsvOH9Fyfx8ux7YvJzQ3HH64DQyIfsw1oaxlw6+993yTbBJCIJpgqnIcFybOP//W7EmFm6G8AEg7I+kfeh6Zfub77UfqLeNgAikw9RWJebceeaVS5GRSnpo4Aw6yL1/rdv0f7X7ytjnFZbdXgLaJ6LT7l52+TI9Lx66BoAwCvlBW9Uvdq87t6j4+jmXvNa8+aWyLeXkBUsIAYg0zfnwOZ+82FmcT27rfhiAD9yIobcH9v56x9uNfp+XyJAmWEIzAAkWLulY6rNdX3xOQWG6BjbBgzBr0f/Hva+/0Fw+JExoBCa31G7LXfz5eZfnwOUGCNppvgk8m3WA4N5oVUXVnXfeuXHjRneke9GiRfn5+ZqmtbW1VVdXL1u2XLONz+4MjI2NXXvttdXV1RdffHFubm5sbGx9ff2GDRu2b9t+7bXXbtiwISsna1yUS7zyyit/+MMfkpKSVq5cmZOT43K5Ojs71q9/p7Ky4sYbb3zllVcWlCwYN4IwM8udO3euWbPm/fffX7J4ydy5cxMSEnp7ez/88MOqqqo7vvxllvyFL3whdIrf67/rrrt+/Ztfp6el33bbbcXFxVLK/fv3v/jiiw0NDcnJyV/4wheSkpIuvfTS0J7yhnc33HHHHdU11SXFJWeeeWZiYmJbW9vGjRtfeOGFqqqqp59+emHpQuvI4WHP1772788++2xyctI111yTmpqq63pPT8+BAwd27949ODQYHRN9HD8gxv66ht6+McMkBkxhaqwTa4eRcoyZnkHh2MIs2DKqMTPpfpPIZIIgKTTSiWjEa7z61vtbdpWXFs8rnluQFKOL4Dfz2M8Woa1WQoP5/7N33nFSVWcf/z3n3jt9Zndne2cXdoGl9yYiBsVgAYmxJFET9dU3mry+JiZGjS3GkhhLYpJXTTQxaoomURON3agoRQSEhaXDwvZl++7stHvP8/5xp21BMYKg3u/nAsPMnXPPzJx7znk6Hnn/wANbm3p158TCgnE+h92GYERv7+mnQJs3zx01JQAmSOo11Pve7avZtrkkO39WWlq60x2IcHV75xttHTve3hEyJp5dIbIYqiQoZABdwEMbdtVGkV9WWpHhzbS5gjptO9C1orWzcUUN26ZdUAI3QwGihAjQQr71mve+Df3v1my32/2Tx/qz3Z5gxNjT2beipe2OLS0NvXzXCYVpAkxgIAy81Yb/efXdNqmeNXrMrOz0XBf2hI0Vde2vNfQCyqiSkpNyPaO9is9mziGfo9QIxzQp26Df//73119/fUtLS0lRyfjx43NyckKh0L59+3bv3rVs2bIBnjxSPvXUUy+++GJ+fv4ZZ5xRWloajUa3b9++cuXKX//fr+vq9j/22OO+dF9iVpcsr7nmmurq6oqKykmTJuXn5wOoqal5/fXXn/jjEw6H44EHHohpuglgGIYB8P/93/89//zzra2tp5xySnFJsdvl3r1791tvvbX+/Q3nnXfeihUr0tLTErdkV2fX2WefvWbN6lmzZi9durSwsLCnp2fNmtVPP/1MX6CvamzVWWd9KSsre+LEieYHiUQiP73rp/fde18w2D9//vyqqipN02pqat555+2rr75627Zt9/38vsQ3U72xeunSpfX1dZMmTZ4+fXqGPyPYH2xpaaneXF1fV5+WlnbkfhqDsH1bfVd3H5PphUWceu+wMG/AZOYNiglqg1uj5JI5/PPJNge/l5K+JzTMabEnmVNCRoZANGw2lJhjGVKFlIO1wx/okklEzCRZhKMSQmMdkpSoJDYo2ms8/8LKdeu2ThhfWTV6RLpHow93kv1YMMEADMh1OHDX5pde69gJD/IzC6Z40uwQTaE+0d6fk5OjQSNTviMCRSKi+8zNf0Sge+Ko/NPdHp/NsTfQtfJA/XP9O9eu/NPv516wiApUwFyxBWF9264f161CmvOEzJISLc0nHA3c+3TL3tdCe19798//mvuVBSh1QWUgCKNRC62yd68K7Xh5W/2m5rryguxzPSVZiq+ew890NjV1tVy26sl7piz9RsacNGgAokAb+h+o+/cvt65AuvPrBROq0vI0iF2BA79qqEFvK9yec/KnTBKZU7JGaSAD6AHe0Pdeu/6fu/qakOs7Pas00+ZsDfb9q6P+5w3rXwscuHva6VNR5INQQJ9na8CnWQYAAOiR6MUXX7Ry9arMjMzf/e53xx13nMvlIkI4HOnu7vL50lI84UCgFStW5ObmPvPM09OmTXe73apNDfWHdu3atWDBgn379v3v//7v3/4etxtIQGDZsmUul2vx4sUZGRlut1sIYRjG66+/fsEFF+zevfvZZ5+pqqpKuOCbmvv33nuPWd5yyy2XXPJfXq/X7rDrUb22tvb8C85f++7aBx988JxzzrE77GaHXnjhhT/84VGf1/fwww8vPmWx+SQkTj755FNOOaW3t/eS/7qkYlRF4hKRSOSmm27auXPnki8uuf/++wsLCzWbpkf1999//4ILLli/fv1DDz103333mebg5uaWf/zjWSmN3/zmtyeccILD4SCFouFoIBBoa2sTQjicjiM39HXC+9trN2/aLYTdYLCQ5gr8QdF7nysjAMBMgGCCNBiAoijMwlx2mIQuGCAVWnNrZ3vHqvfWr586ceLsqVVu2wBfhcMJAUAAeKeZ/7y5wQdx6YQRZ070ZWkwXUV1wKmPzFGgAgZgMPpIRUdgW2vdRVMql0/yZwqoQARogecnr9Hr9e1/qNl2akVVBsWSHQkgDbhy7qh0r93vRgZBA8JAI7z3vWN7eXvdUys3LCuY4lIBBgE6IUIEUv6ycefXSjO/OrekxA43oAOtnPbi3rxfvbn2pb37ThuV94USxQtIoAn424ZdbSH62oisb83PLQLcQD8wb5QLr+x7rTFUmuk7dbw9G/Bw3ApjcSwQ94zv7e694YYbmlua582d96tf/aq8vMzpdOm6HggEenp6RowYkfqmcDj0wgsvzJkz5+GHH87Pz9c0jYj6+vp++9vfXnfddW+88ebrr7++7MxlifYVVbn33nt6enqnT5/u8/nsdjuAvr6+u+6669Yf3/roo49+97vfqaioHKjZwYMPPlhQUPD0009Pnz7d6XQwEAqGVq1adcYZZ9TU1Nx4440/v//nCXedG2+84b333ispKXn66adzcnJMz49vfOMbpaUjbr/99mAw+K1vfduf5Y9J8oxXX331rp/eBeBnP7v7q1/9qsvlEkIEAoGnn376wm9c+OCDDy5btuyEhSeY7T/++ON79+1dfNLiBx54oLi4WFEVMPr7+3v7ejvaO4qKio7gD8TYUF2za289Q5EsOfGDMcXDlOjYsOR+mC6JD13sP0g7g+JPUl/hmJzCitANZhCgSNNDgUgH6YbeeKC77a1331uzdtb0yVMmV9nsRzAkiRgR4k5Eflv92mstu+B0/G7KmRNdI5zQNIgIwhK6B4402CWYoNukARAaW/3I/9ncL03Sil2wqdC6Edpd3nHOO79vCTY9uumfCyZeRoC5e2ZgTtaYx8d9uTx7RDrcDggF3IvootLdV6z9J/rb3m7aOjW/yAnVjGyDABSJztZNQeXmKSedmDMxGy4fHH0wLhrRefuW51e3bH16z4aTp010I10AIRgbgnt/uXMtNMevpy49Xq1Ih02A+rzG2Lyyb73yJ4R4cdG06cjLgk0BQpAdiDy04+1dPe2L8yq/N35JAXwOqEFEvlXece27T2/srn987+qSsjPcUG2fRIjdscunXAFGeOaZZ9ev3+Dz+B599NHTzzg9IzPDbrfbHHavz1tUVOxL96WK2EQUiUS+9e1vnXDCQp/Pq6oqGA6XY/zE8ZdffjmAd999NxKOmC2bnvojykdcetmlpaWlvjSfoiqkkKqpJ5988uzZsyVkTc1WILmNIAIzotHoGWcs/cG112ZlZ9ntdjBUmzqqctR/X/bfBhvbd2wPBoOxDjE2bdoYDIamTZs2ffp0lvEYWsLCLyycN29eMNj/u0d+l/orvfDCCytXrkxPT7/n3nvKyspsDhsJ0mzajBkzrrjiCgY/8cQTBw60mtNTU1NTR0enzWY/8cQTnW6n6SCk2bX09PRRlaPKR5Yf0aFPAKAxFF1ClzCk0CXpEAYp+sEOKFEWx8KhQznYcTjaV8xDh6IzRZkgNMlksNRBBpEkGARJwoCISGaokkVfILipetPGTRsHRCse1l8LQESgEXixZm+dLk4o9H99mm+KhpHASGAUMBooV5FGSFhzFBIgzMj2nj/FP0GgDChilAATgLNnFXlgrOvs70IsPJcYCuABFubbZ3kwjlAI5AGFwCjglLG5brvWEOWmPhiAOTPrAhFigMu9zvPmlky3owIoAoqAsYQlpcqEHF+Lqm3o6OoHzECyNqCmtRusfGlKSRmQy0iXyGFUEk4Yma8aemtzMwFOwLRNf94kz2MZlmxEjauuuqq5ubmosOjZZ5+ZOHGix+tVNMXusPuz/KWlpbGYbsR0Lqqq5ubmPvXUU+Wjyp0up2pTFU1Jy0g755xzRo0aFQgE9u7dC8Ttxgw2eN68eaecckp2brbdaTdb8/g8P/zhD/Ny8yKRyDvvrBzQJWaAA8HA1VdfveCEBU6nUyiKIhS3x71o0aJzzjmHmZ977jmpy8RHeO6553VDv+qq7+Tm5sb0HQyny2kaY1tbW9etWxdrnRAKhZ544omevp5TTz31/PPP96X7VFUVivD6vBd8/YLly5aHIqFLLrnEXJiikejevXsExIQJE4qKihRNMZcql9uVm5c7evRor897RMYzAQJCgEgAKkNjsjNpTCqTykKRpEgSkoQhSBdIOUin2GEIYQgl5RBH6fhIl1aGP4h0Hv6IgqIgHRTVAShCqAATiECxMSgUHSKiU29vYMOGdZs3bz6iMxAzQuAVfTv+2rEHqrhn5mlLXBPGw18Obwlco+EfjaxC+FTJCpggVWJIiRD/z4jpX9DGjYa/BO5iuEYjYwaKvlk1E4L/0bq3D+GEiYSAEso4LXvqJOSMhKcAjnzYSuA6jkYtzSgG5O6etiCgx6MoCGbQvFg8YsJ5OQvGI7cc/jw4S+GahtyLRsyAECuC7fXo0cESiMDYFWiF7J+bljVXLS+GOxf2bNZK4JmN8kX5ZTDC22q3OCBMU0M/9PXGnldatqbZHZeNP2kaCkvgzoOjDGmzUHp2xTSAH2uoaUaX/Dxv/wF8umUAiXAw/PLLL0cikUmTJs6ePRuIuyQmbMoDg/0MNux2+1lfOksogoRIOkAzZs2aJYSIRCJ1dXWJJ2PQkO9JoLKykkANDQ2xEwCQOT/C4XBce+21A9xDATBmz54FoKuzq7Oz03zS0I3GxkYAfr8/ZsNNuVBhUaEEx0pgxjtz3XXX6YZ+7rnnVo6uTJ5MgMA555xDoK7urndWrjQvnZOTk5aWFg6HH3vsManL2BYpEVt2hCEJRWcFOjgkKEIySkYU0jAzE/BBDrBxLBwH695H6iHL4Q/IWCUwkrEzhYxqxMRSKiQFsbnzkIJYJSEEkdvumDdz5lnLTp81ffIwMY6HjzCwOYJVDW0OGF+dWFQGuCQUQAPsDAfHEvuYKICbDSB63szKEsADaAwb4GL4gCoPcjkCctS2IQoIaY5TaYeRDrgBFZBAGJCAHch3Is1u6yPREtaj8VvQIEQggei8PNdYO/yAxlIANsADlCgoctsh0RDVQ/GP0A30R3QXo8QLN6DqAEMBHEC+jVRhdPb3h+IeBTGbviUGHBuQoKampieeeEKy/N73vuf3ZyZnacB0o0/+FwAQ1fVTTz3V7/cnZzYGGAUFBVlZWcxcW1ubej4JgoiHjcnk+ZqmlZeXA9i5c2fs1KRvEmVnZZ973rkgxPJGmL0SOPHEEyVkQ0NDMBgLuOrp6WloaCBQVVVVQpdk4vG4nU5nNBptb2833w6J9vb2l19+GcDy5cs9Xk/s+fjCcfHFFwPYv3//7t27AWg2rbi4hMGvvfZabW1trN24PWGYpHaHEQYziHXBOlgSgxgESWTqMaJAFIiAwiySBygCETuYBh1RpvCROSKM6AcdFGWKfKxLiAiU6EGOCCkRErpNYZIShgEyBEshDQFdEWbWNHb7PMfNn33mmadOnlL1EeIc/gMEehF5sXMHjK4pGXmLtaoMaDbADtiYFIbGQpMQgpRYvIwEKZC2pflTM+GwQVWh2JlcEOlQp/uKYSj9ZLTKbnMDbWaNc0C4GC6QACg22cML20R3PgzRHuwPQjdAMPc4rJhLwbmVc7Lg9EDVAAGySSUL9rnuMkQJ4b529OuQBmQEemOwGwKZNnc2PC6oqlRUVu2AF2qROw3oikbhAAAgAElEQVS2SH1PqwGWgAG9G5FH330ZavCsklFjkKtAIWiACig2aDMzxsIQMHrqe5otGeDT7AskIKWsr69ncFXVuMzMzOFPS9nyCgiXy1VaVjr0d3e5XJqm6bre29sLIHWbxQaTQtFIVEqp67qu68zs8XoYHA6HB2d/A/x+f15eHjPH8j+IWAuFhTErbUtLi5nkR1EVl8sNoK+vLxAIpGWkJTss0d7WLiAKCvITAklfb9/27dsBPvHEEzvbO83lUEppPlAUJT09vaura+P7G7+0fDlA+fn5xx8//1//euGqq67avHnzNT+4xp/htzvsQ/t8JBCEZafNW3rGPE7dbCH5ES0U08sWUBkS6Anhrl/+zhCqFIJBCoc1glNRqirKTpg/K90HEbe+H5HfjiAJBOxqREfEyPTYx+bENeVDz2UIgmDYDQmbGJU7zFTiAXIc9pqQ7ApEjSyNhOlaK8x9vwD6gHaGwdAZYQUHCKy6hYzqKS64CuCUAoasSPfZTZddkqY7rwo4ALfNBe6ORKX5fQjACQjJ/STagihzm/lJoROiQG/ICMFw2Ww2MzydQQIGkRURfKxA2LNnTygScjlcixYtGia/Jw2euxhcUVExNCemUERmZiYIXV1dUkoxKOqDoEd1wzB0XTcMA4BhGB6PR1GUQCAwdMyPLB/pS/MNjsORKC0tJSASjfT19bk9HgAul4uZJWRLS0vyTDZV/uFgMCiE8Pm85qIAgdbW1o6OdgExbty4rq4umFpSMEBE5PF4HDZHOBKuq9s/tmosgDPOOOORRx7ZuHHjcfOPu+2225afuTzDnzFYaXVkEMB5Xz6F4/m0ZSwoaLAUfVBvoKFT1lGRvVPCTo7oVQho68bDj/45EI4IYgUgGAKGx65OGFdx/NzpaW4QpySQPTJEgX4Y20O9IKXKl5kD5zDTXeq6YpasF2oOpSmAMvB30xTNtGd0c9hI6bQB0knrRSSAaD+MICIRoBXhVi/DJrs4FEEEcMeuQgAzVFsuuRVIM5tDPC6CbbABAHMAIXOPLkAaKWBuj4a6EEqHXRGQkDoQgdEd6kNUz/NmambYL6gTwRc7GuET9oKcPejpRFDE5wwJNKIfbhU67elo7fcZbghBRzKj7rHNp1kGkNzX19fc3Eyg3NzcD60RY85Uo0aNGvbVWM4flmz678Xn+kgosmbNmnfeeWfz5s3NLc0HWg/09vZGo9Genh4g5b6Nn8/MGRkZQggSyQxFJMjMG62Qwsy6oSfeWFVVJYTYsmXzli1b5s6bG7s3QNXV1evWrdM07cwzl8e6D9qzZ4/BBoGuvPJKIcSggCtmDgQCAGpqaiAIgDfNe9ddP1NV7eWXX/rF/b/405/+tHDhwlNPPfWkk07Kzc1N5qj+gETaHw+FkHAaTeXzersNxvQBVQES0Bnr1m0kUliCwKowsnyOqory8RVjivM9yaClI/ZjAWBABxrbulXVVpjuVeN2qWF9axlgghDIcdrtDBXJMgImBJBkCJIpu4II0AvsiqC6IbKrtaOlPxTuCUXD4aButLF9d1TJFrE4CWKAIBgqk5OR47KpZqMxhSQB8TRTgqSUHLfY5QLjMnxtnfK1XcH8Sc4SBQLoB+qBtU1dKusjM9N8ZBZeANgqDnAsIVFbW6sK1ev12u32g8a+p/xeDpvjAwJhY9nVEuk1CWD0dve++uqrb7/99p49ew60HWg7cKC/v19Kbm9v1w09tgQMHBIjRowAD7z7GGbOH7PVePIfaDZt0aJFL7300m9/+9vTTz/dl+4DYtddsWJFe3t7VlbW2LFVsZAeQnV1tQQL0OLFi4kGB8FG9aiu6wDq6xvMDixYsOAvf/nLdddd9/7771926WV33333ySedvGTJkoULF2qadkTnBxMyJ65EVY0h9vaDXX/Q+vyJ3nODJqZhxYDD2iEm6Iw1a9cGo0EDLIQCafh9zjFjR40bXZGb7VXV4fpwBCAgDH11uAdEaXaXMuznTDF5EQmA8jP8KiSBiUkke2lOuwpY6JJ1BQbAQBCyFcGNXFd9YN++7tbOYKA/GIqGom2KXi27oURJsBYvcAMwMUBUaHd4oIi4l5TZAQHSoEBKKGSYmyGQHWKMJxtSXRloX8O1TqrwQWEYQchqND5zoA7snJpb6YBCAEG2oxsqA/LX61f8Xb7rN5IfmYi2KDqiYbDS2dcXHSA9fx75NMsARETU29fLkF6v98OdpBkM9vmGz4TDg2YFATD6A/1XfOuKZ5951jQO5OXlFRUVlZeXZ2RkVFdXr1u/jmOakFgTZqfsdrumacnaLiljzFyQEvFTAL70pS/ddddd23Zs+8pXvvL9739/6dKliqK89NJLP/rRj9ra2s4///xFixaBAUGQ3NTURCBFKOFwWNPUofOHaQzxer1m+8xcUVnxhz/84b333rv11lvfeOONv/3tb88++2xJSfGdd/7kzDPPTP3ERwiRMHOyTEwCludFDEZc98Ed3aGde+pklG2KIiBnTqqaM2OC32tXhy5UR+zrMxfHrr4AAKdNjckAw62XMauOgEFsJ1YpPpUQx/fpgKkvpAFd7gP+3Yhfv7ZuvxHpkUae01HoSMvy56a7HA52bNrXKPXIAM8NBjEpYKdIUS9SrFEBUwhmZmmOLRXIZZw8pmz7qt1Prd8VjYw4dZLXZ0NLL557v+mtPfVjbfKkcflpSGYD+jxlojrmEWhvb9Ol7nA4Dr16iaZpB3uJQKaaH/FaYBvWrz/rrC83NzeHQiG3252bm1tSUpyTk+v1el955ZX9+/cP247P5wOZqu+4pCsAmSygl7p3/8Uvfj579uwVK95aunTp96/5/oLjF+zbt+/3v//9Aw/8XzgSvuOOO8rKyhIG6p07d5oprVOyiIKSmyLKyclhZrvdbvoOATj5lJOnTJny1FNP3Xvvvdu3bd+6beujjz46bty4Rx55pHJM5SF9ZR+PWOcSM0P8Z/ooGnZzCvnEvJEHbvWSq9AAL7HDe73WtsDO2n06MxSoQs6dOWXOlAkuB6lKotC1KW0e2fXQAEsYCPUBcGh2kejfICSgEEEQBJiyNZsCEuZITPaQAIAEZHLa1IF69P12zwv31L+PaAhMcPpmuPwlWXkeh1Ld04j2ToVjw4QTFeaYPUJo8djqxAUUc1dKBIIBJkCAnBDz0ivmefLf6W+6aNWTd1QtmJpeoUHsDNXdt/51DgbOKps41TXKA1UFGEYwGjZLdYDQzHoz5IBBaZBLTUuXarZw2qCIYyKK/ajxqZYBIIRwu9wMdHd3H6J3xMFsBUOfNXTj+uuvf/yxxx0Ox9VXX33xxReNHDkKiFV4ueaaa9atXzfg/RRrP8GgRoe9dFpG2ksvvXT++eevWrXqyiuvvPLKK6WUqqrm5ORc+PULb7zhBkrmMaO8vDxTVnnppZemTJ0y+CMPMZqbwobL7Tr+hONfOeGVtWvW/u53v3vhhRf27q0966yzbrjhhuuuu87msB0pMThRXdy8x5KpGD7Xt9ywSKKde/a1tvXkp/sqy4rnzpicka5CAIYEmWXkzOF1pDrABDKNwIQ0r0OCe4NRCSimw/QgezDFnQEAA8zEGO7miws4BCJTXRQGXm/FrS+sr1NcS0b4zxpXMjtLcQLM6BdY34+tTUabTlIoMr5KMiBJ9ANmzQsCADV1QTelFJWhwFT9IINw+lhnQyD/7p3N99bs+3kNpBHJFja/ZswqSjt/QsVsHxwMkIRZH+xIilUWHw1GVla2AAWDQcMwPuasDgz4ZYUi6vfXf/Obl+/fv3/8+PHf/OY3zznnbJ8vLTHHHn/c8XV1dTw0l2VCzKABKUSYMXiWBwCMqqz4xS/uv+aaa958682VK1fqug6CTdMqKiq/8Y1vfO2Cr5mf1OyeaZomopqampiKKrXJhKI9XoPMvDGyc7Mv/9blF1544bPPPvvnP/9p1arVq1evXrx48R/+8If58+cf/vE8aMMsU/6bci36CNE19MnedQe73JHqAzF2bt8b6O7PSvOPLCtcOHNqRpqStGuJhKrkiH8JBFKhwK6hV4kEI8PfT0NuNI2RzIs6+FUGCQFpbh/7gEea37pn77tQ8b9j5iwpnFyBAjc8ERitiFRob97TWsdSGEn/iqTXGgOxahMMgxCvoWyYuiQCBFgFBNQipN0y59wfbnl2dWfNtRv+YfqCQyEovv8qmnxJ5YkZ0EwhXSUtTfPBUAHb/TPPXIzKDNiNWMusgBmSQQzFDcXO8hAnmc8qn2YZgGG32wsKCjZVbxzgeXkIbzzoK5z0RN63b9+vfvUrXeq333775ZdfriixAtSmN3JTUyMw0PtoUB7hQ7y1GUVFRRMnTlyzZs35559fUVHhdrtGjCgrKCgYN26czW6LdZjAzKNHj3banaFwaPXq1ZMnTx5czX5YK3Bi7ibMmDVj6tSpmzdvvu+++x5//LGHHnpoyZIlM2fPPLSOfnR4oPH3iOZA/pSjR3lXzZYFM8ZXjR6ZnelWk8XWRUxRdIS/PHMyNuXWsmy/U+5o6e4NAhEBu0wpRxDfkQgGCxiGVEF2JiO5miWNADDFQIbBkoEo0Am8tq2hEcqMgvT/XpA/hpCOmE+OCsBAUO8LkzS1YwpDJYAQpYikKKeEYsYemVGdRCAhSdEBw0xYJAAgd0Smtrvh+FzPwlGlNj3i9zr9DpRnogjwxJqIb/+tgXnswCguLgbQ09OTzJ82FDKHK5kz8EFTDRMlZyEGALPKr5Ty/vvvP+644wb99M3NzQMuEX8XJ6b6gdsFRVVMzX0i+XTiNpg0aZLH48nPy7/00kuFECUlJUVFRSNGjDDDjmOnSYBRVVVFRIY0du7cOW3GtOSriQdDRYI4bo/7K1/9yrJly954440rrriidn/tT37yk/nz5x/0e/uPGaJgGv7xoPv/c0wkYtTv3XbinEkVoyv9GU67MvDXjH1pn4QZRAFs4OOdvrdkY0uwM4ioB9pga0DcoYEhdFMvT4ITAzr5g3L892UDUgdLUC23/WzzKjB9e+rJ3/DOzIPNA5sAAKUforunG2DFNC/ErWVMAJMdQgUpcauM+ZWY5cDMb0rEBAGz3hjbYR+Rmbm6zX5h6eQKb64bdr/bk+dMH0k5BXDbIQQDhCiQhYxSxbkPwfb2A2rmaLPIgAAEQ8buVFPrBQExTP2KzxOfbhlAVdWioiJBSnV1dXNjc15+3oe+6YNjBmK3JgOEd999l5kdNseFF16YrOzLgEAkFNm5cxfHfXsS6hBmZjAIwy4YB7va3Xf/7MEHH/zu1d+94447Br+acosSxTJXbN269e9///sll1yi2bTY1l8OmEykIYdJEMEAoGjKpMmTrrnm+6+99lpzc3N9ff1MPmIyAKzF4MOID8aerq4vnXGa22NPmqN5mNOOIPE1wAaMyYWP5D4d6w/Alw2/gGLEFoLEdireIwKTyjG3zbhKJ1U/KAGYLg4G0BnF/u7+DmB0jm8EwW+eJqQBEQIag2iI6BolgwzNq0gyQDJpv49Hl5v/GuZliAzTmg1EGHv68NTr68udnv9eVD5FhRdOM7hNQyw9BAhmatDUfZs1XI8+AmVlZXa7IxQOPfPMM2PGjDlorpuk3RWHfoe8/fYKyTI3NzeWRw7Jaba3u/dgRoCDDoxBl42fFg1Hr7322p07dz777LNLliwBQIKklGaF4Nh0HdfaFBQU+DP87R3tb7zxxrTp0w569UEm35TVweVxLTl1yZ29d577lXNXrVr1oV/CYcMSng9OoLf7y2ee5vSkVOA5yGg50gjAA22ilvmWIqoDB/ahKw0uJTmfDuhPbC4kMuNo4oM1cV7Sb4bBBjgK7OtpgggDtnnecblw+UAaiIEQ9H5EtgXbIaQeUyPJuL0ZADQmBUIkLw4GDEgzMTQGR+XQ6vZNf3t//bmTp/1P3hfz4HZA0aAIsAbYTNt0fNvlgTbdl7Mv2rmqce/SzHn5ZkogBhhxxWkiOAGf83H8ac4NKmC32xcvXqxpWnV19SuvvHwob/pgGSDVgUfTNEMaAPf39w+af19//fVdu3YN38JHGlAMMB577HFmnjplauyZlJcGta2oyu2332Z32N94443HH39cj8Zjiwd62QglxcOBBvaJAcBms5txCzab7dA7a3H44diRlZXh8dop5ZmjgqlDL7djQlG+IbSn3q+tA/oBVsAAE6KEMMVUmAqDCFFIAIocfiqRBICNhMpdgaZpIIoaUR2IAmGAIYJAE/D0hgbdcKtsQ8wFKDarEwtIEnJwZIR5GpPpkMEJ67pB2N1p7O9XClVHsYpMII1hQyytvFnpzLQHmxYOwxIAjiVKS0u/+tWvChL33XdfMk3nIFK3Bh+WCoJT7ilV1cCQUkajkdQha+7aw5HwR+goJ6/OiQ4RwIhEIqtWrxJCTJw4kZRYcghBZPZGSpn0iSBkZmaacsKjjz66a+euWCMYOIEPC8UbkQDD7XYLCK/X+xE+gsWRgACCP9PvdB/BEpyHjmCkw70wcyzIvi3Q9nJgay/0CME8woQwQRcMwRLMYIcEGAojXnh9uM9AAAuGIWFAExDS1OBTLKmQZOgh8EaueyfUDKEHhCGhxz3FWLAEYHpWmCJBysEShnkJprjuBwyIFburo2SM8eV7YbeB7FBUQIAMUL9pmyYAUIF0KGdNmw+yvdS279m+jb3gMBAh6AIGjBCMAPQAInpC7vkc8+m2A4CwbNmyWbNmvf3229/85uWdnV0Jpx0iamlu2bJly4lfODFmdU2dqQ/WJCcLHk6ZMgVAKBL+5je/+Ze//FnTbOZ0/+qrr1522WVd3V2UUHSmzNEM8yb4oAsNeJVRXl5WvaX6u9/97nvvvVdWVmY+nZmZOXr06MrKSofLEWtXAIxTTvnimWee+cc//fF73/tee3v71d+7mg3TUxrSkKtXr/7nP/9588032512MFavXP3CC//6zne+60vzEeJxBRJPPfVUc3NzTk5Ofn7+IOOyxdHkGPghNCAXOG3ciDWtG59raHWttF88N78AIEIE6AMaG/vGZXkKY05qLAFJJA/mjAEGSDALQAEyBHKcJFTxSn37KZPTIwqcAAM7DTy6Yl91fQtUj50IxJxU98c8/hUevrYnwQB0ioUfA4Ad8Ai2qXi5vVdd3TG9wO+WzESagkwvStJQCGQTvAwF0vRF+pwvA8cWAvfff/+rr75SX99w5plnPv7441OnTgUAgjTkmjVrbDbbtOnTYst3LC3D4HnYxJzPKbFXZsycOZMI7e3tTzzxx4svvtgM7jIM49Zbb33ooYcECYMNZjlI0f4BJCbzmP7IdC4j+DP83V3d55577he/+EUzVYOqqnl5eRMnToyVOZMxNavdbr/iiiueeeaZmpqa008//YEHHliwYAEEzE8WCoX++te/bnh/wz333AMgEo7cfvvtFRUVX/7yl212G0tmZqGI1pbWm2++GcC0acNZEiw+SY6xyYQJGni2p+LszJFPNm+96d2XlEnqQv9kF4QGCoHDiPT3d0x3FbthV8FmJL5GJGIOPPF4REABaTDvNSLBGoQDVO7Kgm6HGv7Rjn/lVp6dD5cAgsBa7Ltr1fMIB6GSzsKAQojbjJkBssm4MQ9A/DIKhGJGfMX2/iwhGaRDyfVmomv3zTUv7y1uK3KkO4TGoAybM8fuK0bmCLjToLhgB8NN6nTbyPMKJ/+pdtPN614Oju1dmjPLDaFBRIEg9Hpu2Vm7/7yyuYXkUY+x3+sT5tMsAwAAFFX5zW9+c/nll7/51pvf+c537r777nHjxwFoamzavn37GWecceKiE+Pz8od4ASVdSwkAykeWX/uDa++5555n/vHMjBkz58yZEwqFdu7cuXr16unTp9144w3/demlwMfO1Sjwox/dumHD+3X1dXf97C7TYU5AmOkm/H7/pZdeesUVVxQUFQAAweawff973z/QemDFird+8IMf3HfffRUVFV6v98CBA42NDXX19aUlpTfccIPZpe7u7jvuuPOee+4dN25cSUlJXl5eV1fn+vXrd+zY6XA4rrzySlPOsTg24LiodzSI3xwqw02YX0QXVRU+u33/azV7Nu5pHJWZ6XE6uwKB5u727P7Oq7+0KMcmVEBh9jE5mYZN4y4AhRlgwWxme8gAllSVvle7dmN79JYnN84oLUhTqKunf9+Blj4jev6sKa/Wtbe2NhPHNvQKIAAVEjBUGALDJLZWmMFSYUbcF6gfyCtSy0qK9tY2/atmz6qanemGqVkSKil2hWaNyPzy9JI5XrghFLAExZxDLY46DBAcTsePf3zbTTfdtH379hNOOKG8vLykpCQQ6Nu3f39jQ8M999yb4jOTyDwwTGNElFTIEEBYuHDhnDlzV65cedVVV/3zn/8sKChoaWnZsWPHrl27zjvvvILCgp/+5KeH6h588PXE6XRedNFFt9xyy8rVK1euXilA5vpisAGgaszY66//4dlnn61qKggEmjlr5t13333vfffu2L7jpJNOGjVqVHl5eTQabWlpqaur6+rqmjdvntmylHLjxo233377tddeO2rUqNLSUofD0dLSsnr16tbW1qqqsddff92h9d7iyHOUnH8GwYAAZ8J2+fiTpSH/2r7nh++9VOlaVeHP1ECtgd5AW8/JeZWTppSYy4/pV6PEnOZTXJ0BAikxVb7pfMMalCKkXz9+/m1b3qyp33lhxyML8opFRLb09K1rqR+TnX3a1C/evebZHKmoAGJhvlBAYKgpoViJ6ZcIAmZOcVJiMgAZoCh41tiZv+ndgZ7GRze9E0sxQsI0AOc7nRePmHxm8cwxyLKTzQZkwnZR+dz+YPjZ1j0/2fj6H7XVVemZdtXWHg139PYEuvsrXZnLymYOiuL8HPKplwEAVFRW/PGPf/zlL3/52GOPNTQ01NXXmUOrqKjw+OOPT3rFHBqc4kVz3XXX+Xy+u+66a8uWLZs3bxZCZGdnf+1rX73uuuuLS4qvuuo7HyZXpDDsiYxXXn7lRz+6pb+/f3Tl6LKyMo/HQ0SRaKS7q7uurq62tvaOO+9obW39xS9+4XQ7zTdNmjLpz3/+01/+8uSvf/3r7du3Nzc3S5YEUhRl2tRpF154YcLDZ9y4cV/56leeefqZd9e+u3bt2kRvv/CFL3z7299evHjxka0rafHRGCYr+VHphUoYAXx7Wva4kuwnN+xb1dr9fkunwj2KYWRqthll4z0OYWqHvFLPM8I+I2yPRwgkvOtjpXxl2GfAyboKKIAiMT8bN54649dr61e3tGzcUe8wuFhTJ+Vlnz95xJwc9LTra40+F0kVEBIqwS6RJoPlMuSQUdWsHUPJ+1kAXkMvNiJeGVEBBnQF9cBzqxvbWjoqHVSSXZimaXZWowJhifbe0JrWjq21ndVtHXefMnmyF26AoX82ZsLPDoTzzjtvypQpt9xy87///UZ19SazXLqmaVOmTJk+fXriTqHEsDsUGHkFeQ899NCPfvSjf/zjH88//zyztNnsxcXFt91222WXXbZixYq7f3b3IaZ0G9I2m7YIqcvbb7/9iSeesNlskyZNys7JtttsAOm63tzcvH379u3bd3z72992OBzLly9PqJAuueSSuXPn3n33z15++ZXdu3dt3b5VQBCRy+VaumzpZZdeZl7FZrN97Wtf6+joWLNmTV1DnUKCGQyZke6/7LLLLr300gkTJhzql2xxxBk4mw9MKvVJIiA0xnQquH7SmZWt7z1Wu2lHb9uOphaAIFHqTC8tLDTz9AuQX1cQVbOjA1LzxrdF5JDq6KgqAZuMRQx4Ic7Pm6va7LdseXt/f+tju1sABarn66PGnDV6Tj4yngy9UmZT3PHbVAG5DJEW1dJ1Iczw4JQ7mMy5OKqqUvgMlRRhgIIw3u/f/ezWVxGW8BbNSM9xCkUBFKZOI7qur70p0PrjnW+2Bfu+V7kkHxkOkA9iNgozxp0+u7jm/t2r69qb69q7YCYJldqs/KKTiie6Ybc2QJQwpX4GkIbs7u5eu3atYRjl5eXl5eXxhG7/eZvMrEf1rVu3NjU1jR07pqSkdHBrB9u3DXIyHiSHMECo2VKzaNEXurq677333ksuuUTRFCAlwFfitttuu+mmm7Kzs1evXl06onRAgwIAouHo2rVr29raiouLi4uL/X5/IldGagd27tzZ2NjQ3t5RXl4+ZswYh9Pxn38jFp8DGNAJ/UAACADNIQR6pNsmsnzIEvAATgCMXkI/ACADsCW0rfEhGiQEgRCQBphFxMCQhH5CN9AcRWd/VLNpOU54AR/gAAJAFHADDjMtKdAv0A8Y8SdVxMX0uBTQCfQDDsDFANBB+J9/bdvc3HbC2LL/nlOYH49rY8AAgsDmKO58buvWrv7rppZfPCkj+2BVqCyOEQh7du3ZunVrekZ62Yiy/Px8EpQcZgc3AgxDfBLWo3pfX191dbVhGFOnTvWl+z7C5mzQhoUHv3rTTTfd+uNbp0ye8sQTT4wZMwZIse1J9PT0nHrqqe+sfGfqlKlr164dpqwNobW5de3atTa7raioqLio2O12xwqKpXzSnq6evXv3NDY2AaioqCgvLxdCWCPZYihmGC8xmBCBDEEGINsRbA53RiPRXLcvT6SlweaEUAAd6EFEB2wgHxSBlAK6BB3ohxGCIQAfhApBIAmOgPvAPTBa0R3oD6S7fH54PBAOkAIKQFchHBAuCAOIgnVwBFKFsEPRzEFtpugkSJI6ZCcMAjmhuCBCMN5H06J3fh/u779z+qIvZcxywi6hmxYOA9yB/ufb371xyyuF7P7Tgoumo9QBAcAAopABGH3gIMLtRnd/OKzZ7VmK2w+nC6obig1HTTA7RvhMyQBJT4qPqPv/EGjgVn6o5PiffoWX/telDz/88PLly//yl78MqHVPMUlg39595eXlNptt/fr1ZqH4AV1K/J0iNsRePdgHkR/becni80EiKteA6Uhj2nChmAkWzHMo9pKa3KBwInVE0lIL47AAACAASURBVKF/4HhjghkQLOPj10zXYzrAxYxwiR0eIRFskCxYlnKrGAQZ70Av4c360OWvbCr1p934xdFzbHACkGBiYpKEEKERuPO9zkc31357ZMY180fkx5OTWhy7JAK6zBqLh6tWxqDdfOLJ/xhC7Z7a008/fdu2bY888sj5F5w/oEGKLR8v/uvFJacu8Xl9HR0dgy2xqUpRHvJ8alcHCT/WlG7xAQwcPwYQBXQwg22gWAXf+IjSwQRSgORYTHlvYouRev/JeK0YI3YuaxBK/M2JoRovbpHMycPxRSPZT7CE1EEEYZ7fhvCvdz7/4/rXlxdO+WHl8iqkCbBIBhOLboS3ofX4V+8B2Z458esn0RhnfJfG8Zh5A6xDSoBANgglnirU4rNlASdAIpaC7XDtdAdpNw+X6YgAiXfeeYfBJ598slDFoPyeZv87OjokpNvtcjgOormPuy0l3y6GLB6I3wrx/7LkDy+rbPH5huI7/lgJVh6y7YifkwLHnjX/5QHrBMd3bqa115x6OJmsDaDUpSXeFJFIeSLlyjGURO46ggHs7+xpBE30uDNV2M27QUABE5EprhiAHjUApLltPDitrsWxByNRc51EfA/ysduMDZohxqv/HAKA7u7u5uZmZh4zZkxyyUjoawTY4KamJgA5OTlCDB56bLCp8jdLGg/fvUFCRao3lLWnsRiWgeNHAStEDGJmQYRDHzg8/GwpCCyljWLOeQQhEQusp3idSPMilNj0J+rHDxrbcVc8M4W/AQSg1xzYD4qOyS12Q1MBJVFMDIiCABFECCygaDYaXDLcDEvTiACFU3KbWjeLyWdu+SOIWFmlw9YgMNAOMPT4T1seP348gV548YVQf2hQsiA2uKe75+GHfytAlZWjY/UjU06I/Z3qf424MDDophqiMbIEAItDIqF05/iOXHAiekvGJnEmsKSDFLynuL8nJxRKDGYCEzMxBMdH7ICDk2+PJZvjwUG7Keebr+gGJJDmSZMC+/q6WyS6Y7lHEYWIAhEgALzXhc31bXlSTMzO85iiiKUOOpah+O4fKSqPjzmB0cCp+/D9/l6v1+/3g7Bp0yYpYyVIzbIxACCxY8eO+++/X1XU5cuXD/0UJGK2s1h+5w/uXmIV+JgrkcXnDXOnzhCptlUThgISA5/5cBgKCYIpWADMAiTI1MUmTQk88NYd7pF5khAQpvCgsXRClGTmQlGrG/f3QTeACKI6dB16CHoPog3of6ZhI0g/2ZddjHR1YMMx1VNspaCYrVlad00M5eabbj7affhcwoCA2+X+xz//sbWmprGxsbS0NC83TxpSGrKhvuHJJ5+84YYbnnvuOWb85Cc/mTp16lClETBkOTQfi8OxTFpYpOpuOP6Uqd4nopQ60DSgVCsNaiPlMSH14IMN1OQ5FEvYRTTQTDD4XWYSO4LLra7d0bo7EN7bHoYrg7wIAgeAWuC9Hjy+rvXP79V29/aeObHsy5Uuv4ACGJZQbHFYINht9o0bN27auGnr1q2GoZeXlXs8HgL6+4O1tXvvueeeG2+8saamZvbs2T/96U99ab4Pb9Pi88BhkWw/IjJeLDeuvk/pTLIvKf8O9uAZSMqEnVqAKxFfH1cjJf6kvJGTZ8ROTiwVRAxD+Gx/2l+zo7sjTL1KhiMApR16I0Lb0fFSYOsvt736VEMNQnTtpEUzHOVOqGJg88NAR+c7Pwb5bMUDfNowdOPOO+/85S9/2dbWJqXUNM3tdnd3dwNgZqfTWVxcfPXVV198ycVDzMGMYVNV8EDTjvXbfrpIsdUMeHy0SB11iQcibldKtS8NfTwsQ7yJPlpPhm0/xeOCGQGBt8L4+QvVO7t77ZFwujDSnbZwOBQIsQ4NmtPmch43Mu+CWXmVgB0AYJgeTdbNYnE4aGluWb58+datW7u7uxhIS0sjUG9fr2EYqqL4fGlVVVU/u/tnM2fNtIbcZ5ZDn71pwFkfxS/nY8BAPM5qqBE04bQ5pGfxZ4adxj9gVo9vVwbIDgdb41K+EHPW12G0Ivxw69t/3bSmORLMZOElRSMK63oQ3KxShyYq3K6rRs/5on9aLtyOQXujQ/kJPsd3oiUDHGX0qL5+/fo333xz27ZtTU1Nvb29Pp8vJycnNzd35syZ8+bNy83L/ciNfr7H9KeIZGDGwEmL45MmxZXljGMpgb05nw/v/XP06SHUhvFec3h1S09HJNoXDgGc6XDl2dTKdPfUfNdoD3xyoFrLwuLw0dfb9+abb/773/9ubGxsaWmJRqPZ2dlZWZkjR42aM2fO1ClT3W63lZvhs0xiakzkG0juqSU46aKCwaPgI7nnHxFMHfxh7kOKKx8+oPHhpAImRMF90GtCjes6924M1LeHg2FDd6ia3+EsVDPHeAumZBQVwWuHpiSCXK2b69CwZICjTVzglYYUQkgZC3mLRTVYGUs+00iGZOzb35zuz0rzqKoCSEhGLG2yue8foiOx+GCihAhiRxTQAQI0QAVsgBsQEor1TVocOcwdj8FSSiJiZkVREqnbmNkMcrC2KZ8pKObyHo3KHbv3OlyenOxcuw0CUAgUK3sFSi1HSIP07CkK86PH4ZQBaKBKHx+ooBwYFTAIGctMqochIzAACAgCBMgsV2yDUFITHFkcGp+tvECfRsygMcnmpl8IEdP7SiYiS1f02caMexJCefyJp8JhPd2blpntz/Cnu90uX7rX5XK6nU6vS1EFhIgHv1qb1w9DBRQJF1JSl1I80piSiU0tLI4gDCKKlXxJdXeOV6xng4cWI7P4NBObnRVN2B3OF158pasn6vX4/BnpWRkZWdnpTqfT7fa4XA63U3M6kvnQBkc5He0J6jD3YbAb88FPONjqxgBDEGyATahIiS9GSp4wOoh/tMUHY9kBLCyOMobE/oa+J//2fG9AlwQSALHNrmk21aYKj8Phz/DlZGYU5+fkZqZ7fCpLTtYMshiKaT1LyawY2/4nXKosUcrCwuLwQtLciBoSTKhv6nry7y8H+nXDYGKAopqm2VSb3aY67Eqaz5PpT8/Ly8rPzfT73Voi//Gx6mD5H/KBqv3kOYMCDIZGfA2NQEhM45+53JafMJYMYGFx1DAIBAiGNLBjd+dzL73V3tNP5qymxBKtEUDMbERVAVWI+XMnLJg/OfZ+6949OEzMMAgqAYABVpILiRUwY2FhcXiJ+6Aws5SsKMqGbS0vvryiNxCREBIRQQpYKARiAzKiKjBYdzuVLyyYNWPy+GM8yOpjMex8+8Ef9GBiQCIHevycpNMsYmYBK9XzR8KSoSwsPkGIQSzZkMwgMMfzFAuMKM9YuHCWogqoKlTVAHTAYJJMUUmsqAw5ffq46dMmDs2kZjEUApkOo7HvNxXrq7OwsDgsDMgvyQwQCUVRJGNUae682bM0VWUIkM0gxRBKlKALkooN0ua02U84/rhJE8YB5jT1WRQA8IF2V045Up8cxLB5PCn5SgJrR/tRseIBLCw+IZhg+qkIocQsmQQDMIADHaH1GzZu2bJDkibBDEgQEwSzAKmaIjh8wnGz588Zq9KQGdNiWBgpK8LQ5EsWFhYWh8ygKZeGvhLzSI8aMBi1+zrXr9+wa2+DIVVAiSXKJ5KGNB86bLYlS+ZPGJt/LMQAHAWG/cgfIC0czK3og4UHiw/DkgEsLI48yWBeQUzMkIyOzp6Gtq59Te179jW1Heg0DAlFGFAEQGAmSBAJIkmKjBw3e/LsaWOHFHW0sLCwsDg6yJQUOuEIDrR1NzUf2F3fur++qbunT7IAmeoeg8ggKJBELAQZbqdy4gmzRlfms7QiWeNY9u2jgSUDWFgcMUyFvQJpsFBI6oBCvX28ddvu7Tv3tHX19vaHowydJUsApEIBR0hRDIMJQgUrLJ0anbRw3tQJI8wUIxYWFhYWnzTx1K6p6TwNCZ1xoK2/Ztv23bvrAoFQfyAUYgEhdEmqIqQ0hCAww4xfJagwnE7ltNMWjRqRrVh5/yyONpYMYGFxxCCAICUCIerpDTQ2H9i8bUdtbR0JzZCKzmAIoZCAFMQOm83n82bmZDc2txw40KUIRbDhttMXFsycNmmEaq0WFhYWFoedQ8wQwLG/mGAY6A2gsye4a8+eHbt2Nx9og1DACiQEaWCGlA5VeD2OjLS0zKzsXXtqu3oD0pAkpN/nPOnk48tKsxViYeaJtSZ2i6OHJQNYWBwpgmHsq2utrW/a39B6oKOrPxwxmEnYKVaFRYINwaK8pLCytDg/L9uflWYQ/vjk8zZFkVI6bcpJC+dMGleixpIhWCktLSwsLI4YHNP389A0+YSogd4gtu/as2f//o7Ovra2nnBQJ6EI4WLJZv4BhcjjtI0sLyorKcjJSfene3uD2LNnL0mhEqd5bKectGBkWRYRVBqmSrCFxSeMJQNYWBwaw+ZuM9cMGbcUMyQQlWhoCr6/cfOWXbsCgaCqqIYkoYmooStQFEARUBXK9GdNGj96QlW5yw1wTMPU04/e7m4h2WW3L12ycPzoTLMSCmLGZAsLCwuLj0eqOoUT/zBELIsAATogCLqEZIQj2L2ndd2GDfsbGnWQNFhVtWjUEAoxGwTWFNJUKi0qmDF1clFhusMGgViJko7uYF93DwzOyfCcu2xxbr7nKHzeo44l6hyrWDKAhcUhEhcABk5nLEEC4TDaOvqaWg7sa2yqrW/p7OzTDUgBUrQosxCQMmpTkJ3uKSrIL8zPLS7Mz821UzwtWqLkYW9XvxEO+xzuk0+cN2ZkJsWvbGFhYWFx+ElqWAiAWXg2QgiE0Nza1dDUUlff1FDfpIelIdmABoImCAbbFDicaqY/o6SoqKQgr6AwO80TT2JpRvoSAHR3d7KM5mf5Tzt5QW6OJyl+WLO6xTGAJQNYWBwaPLg0rykRdPTo1TXbd+zY09Ed7A8bUTYkMzNBkEIMSCLpcTurxlZWVY7MzfDZbHBocaMCQAIMBjOBCHSguTnd4zrj1C+WF3nNhHLWUmFhYWFxOKEBpgBGbDaWDENHS2v3e5u21zY0d/cFwlFDshAgmwRBKGCw1ATlZPsnTBxTWlbodtsdNmg0sAaJiBl2mdDS0pSX4z972WmZGRqU+AU50Q8Li6OJJQNYWHwYiV24BACWCISMps7uvU1tu3bsbWg+EGWAWQKKEGCShrQpisdpT09zlBYWjBlVXlSQptogJVQkvYaQrG5IRKYrEPX2dp76xQXlI7yAJQBYWFhYHBGk6fgjAUIkgo4evb29e0/t/r3797d3d0UNxWAiRRCrQpDC7BDweJyZmWklIworK8qzMjRBAIE41oiMb+3j23syDQI2wUuXfCErQ0NqamfLFGBxbEAsrWFoYXFwEjW5JAIB1O5v2LV3X1Nbe2tXbyAqiSVIkRDMLKArgt1Oe1lxwaiyktwsvz/N63ESCQyw/w6d/VOUQZ2dgbQMN9iscJty/mDvVQsLCwuLjw4BQJTBEu1twZ27auuamlraOrq6g4Zks4BjlAFAEayCM9J9I0cUV5QUZqSn+TMcNht0U3sqASU5IUsaMFvHMjgwAt0ht8cBEfc24mQfrMnc4qhjyQAWFimkTM3mjRE1EAobHR09767dvHvvvlBUl6zoLFloDCEQBaRNVRWh5Of5x1VVjBld5nFAJQjEY4XlwMYT8HDPD1sN8WAlEi0sLCwsDg0GmBEx0Bcyarbv3LJlR0tLpy6JIRlMZGcpFVNpI6TH7RhRUvj/7L15fFx1vf//en8+Z2ayTPZ9bbambdom3dKFlrKKoFxAUbkiblzhXuXeH6ggggpeL0JFVLwiwlURkKviTwWvSsvSAoXSvWmbtUnTJG2z7+tkZs75vL9/nJnMJG0BsbRJ83kyj5BmzvmcZea8P5/3vrxscVZmjCEgOdjMixEI6QmJYgUSobV9uIieKBehnbqaaYnWATSzmpDgDkaIWgwGfCZ3dPS0tnU3tXYeb+8dHh0HSQUGSCkIApRySJGZljInKyUnPSknK90dYwgBQWErdv1saTQazZlnwn8rAAWLMTJmHTve1dbedbyj93jPgMfrtRQDAkTCMh1CMHNMRERORlpOZkZ6WmxWVnKEC0KGjabRnHPofADNLCWw+ueAi5YBRVBAd79v3/6q+oamodFxn18xSYYADFbKMIhNvwNIjI9dtKBoYXF+fGy0ywFDAmpSuTmNRqPRnAlOXJ1zoIIDCXh9aGjp2H+gpqurb3jMa5oAGRYTKxIEaQjT8kY6MScjqXTRwrw5OVERiHAEjffWqQ+h0ZwTaD+AZvZiu4ZNC0Oj/sGh4camlvrGls6efoZhMjGkYiZmQSSJ42MiEuPdmempC4qLMzKiDYLECWGdWgnQaDSaM8mEM9f+RWB0DIPDns6e/sYjzS1HW/tHRxWEUoDtpiViZpdhJMbFJCfF5+ZlzCuckxgroCDs6mxTpHp4BL9Gc26hdQDNbCIss5YVBkdV/ZGWQ4ePDA56+vtHvH4/E5kMIYXPsgxpSOZIl5xXXFA0Jzc7JT4h3uVwhkYIVvec0AT0LKHRaDRnCg7mblHA8N/aOnDocMvRts6BodGBoWHFAkwWwMSAcgghhUpIjM8ryJuXl5cYE50UIw0DCgEZPlGzLVDmBwQWWgfQnMNoHUAz0whkXU2t1v+uYFgmj5tWbXPHnv0Hjh5rE8LhNxVgSHKAWSlFxFERkS5D5WSmly5eVDQ3URJIQVJwiggfDv/Y0n8ig0zrDxqNRvP3M+5B34intr6x4kD18MiIRU6LDMWWpZSENFhIVu5IZ1Sko6gwZ+mShUnJEYrhFFAMAniiCJtNKKs3LE5UozlH0TqAZkZxspJqJwnEp0BBBmYQwwI8HrS197S2dxxv72jv6u4f8VpggIjsnu5CMEc4ZUZqcm5WRnp6Sm52ujsKQoSs/CGT/xSz0D/4AJ2qWNDbbM9hp6HRaDTnElOE24S8pZCJXjEG+sxjrV2dnT3Hj7e2dff4FSsSCiAWBJBkZjMmOio3MzMvIz0zIzUjPcYwIEVgSHqb/K2/Vya/zYW8zTgTKctTLlCjOYNoHUAzoyA+0WQ+1VUb1v3R60dHx8ieisrGI0c9Xr/JZIIUQAwipZRpSCKozNTURfPnlS4qio6EBKRxikL+79dFhakxb3O4sOtmi0lo14FGo5nhnNgpJXwprIJ/tAAJJoz7UX3o2IGqQ70dvaN+tkwWzKZiFhAOabFyKBXpMPLys5cuXZSVGe+QiHQEa3Se2cXOlJlqkoMhWLAo8AsYREzBrpEazZlC6wCamcmJa/SgwPX50Tfg7ekbbTraWn/kSO9QP1sGSCgogAQRMTsExcZGJifEFGRnFhfnpyZFhgS0CCvqfCZ5mweRAYbPhN9vEVlR0c5Tb6rRaDQzGQotlYnBjDEPevpGO7p6m1paGluaR7ymYnJA+CEFyAlYyoyMdMXHx2ZmpOblZBYVZLijTh65eUYJlicKEcw6YIbPD9Nnmj6fYSDaHQlBDK0DaM40WgfQzDQozJoSjNSxAFOhu2fscGNLy7H27r6h4VGP5WfFICKwBYKQTMpKSIjLn5M7Nz87OTk+JtoV4Qzr4B6e4Isz4pmd6DEJgKEAP8NnwePB0ODg6MjomGd0aHCgb3DEb7LH4yXlW7a4aOXyhe/zaWk0Gs0ZJCzEkQnMAMGv0NjSd/hIS1tr+/CQZ2hkDCT9ygTIUpbTKYlJQs3JTJtbXJSZmR4bExXjJkNAEMBhOsAZ8+gGD8F2wBLBYvj9GBlRY2OjQ8Mjg0OD/f0Dfp/fO+71+rymzydhrVu9bMGCApAVSEHWaM4guj+AZqZhYaLvuqkwNo7hsdHDTceqa+rb27otkqYSCkJIQcxOIYmV0+C4OHdOblbZgvmZWbFSQpLtfZ0cSBT+80xh+rmhsanxaMfQyHjfwMjg2LjH6wXAlmKACAT2s2QIAifGuDKzc0A6Fkij0cx4QiE/FqSEpeAzMe5Hf/9YXV1DXUND99CwgpQQkgUrySCwcDlkRJTLHRc9vyi/rGRBaiKpYKHnwMzwjglj7yemhb37Dhxt62wf8AwPj3jGxwUJZhAJxQQiVmxbpxxk5qQlZmflALoshObsoHUAzXRlIvQ/PGUKgZ8jo9aRo+2t7V1tXb3HO3q8Pj8DEC4TiqUBFsRWrNuVmZo0Jyc9Nz0xIzU1KopIITAggwlKQQRHnmIkmtry/X1DEiWnpDa09TS2dXjGlaUEYNjTGANgFqwYBoikUCuXLklLiQVDKwAajWZGEy5fBaGra/BoR++R9r7Wto7+vkHTAitYFMEgwUIyC+a4uNis3Iyc7LSMtMSklAiXhCEAE8IA7FjP8JD6MMFu21POTHKXIVFUVDQ8bta3HRkZNwHDYgKBWSgFIQQHnRQu8q9duSImymHfA91mUnPm0bFAmmmGvexnZhArJUlABBLCLIZp4nBT776D1UePt477TcUwFZNhgBkWk2JTWJEOmpOesnRpaUFudpQLwpjGmm6wvjUEjneOPbfxpfaeYdMSUjgU+wC7nw0UKylpTlb6jZ+41OHQtSM0Gs2MgidnWDFAMC2wxKgHVbVHD1bWtHd1Mhk+P0sIMEshICXDRzCdDrl00eKSeXMzUqMdBiSdEOcTZkafJiH1zGjvHnn+hVdaO/tNuCwSAixZWYIFQzBbSp1XVnD15eefhdwzjSaI1gE004Ew001ABwg0a2QFnw89fcPtvf1NR1ubmo4NjZqmgsUKBEF2zhU7nTI5Pj4tKTE7N2tuQU6CW4Bg2LafMxYM+h7gsBOTGPbihdf37z9QxxaYTPvPgglQMdHOj131weKceG0o0mg005KTNdMK+5tiMGAyRkfR0zfQ2tF15Fjr0WPtHo8fJFiwJClZEitJiI6KTEiIS89ImJOXlZ2d6nZBEojD0rcQGJknH/OMuXCnEl4tmgGCxRj1Y9PmvfsOHrKICCxZKYIAJCEpIfazH788Mc6pS4JqziLT10KqmS0QJsXicEimd3aOV9XWN7Yc7x8eHR4b91lgksSShD0ZKCgzJSlu4fzi/PycpDh3XLR0CLv6D8ABgxCDaZovnAkQMC0cb+4+1nIcgfTgUBwUMUqKCrLTtAKg0WimJww71JLDmikGV8N2vL7PQlNLd01dY0dPX+/A8JjXx5KhJDkcbJkOAQexsMzcOZnzi+fmZGbEuo2o6ED2l1QBq9BJmB5SMXitoSrPo37srag/dvw4kWUHnSqQYCJiwCxbODcu1hnaTaM5G2gdQHP2CJeaBABeH3w+9A96DjUeqT5U39Pfz4qUIpYGQQRcwNKMjHDFx8YX5mUtXjA/OdGQ0l5FB2aekKEoIFint3yVsIDeQd721r4DB+vGFRQBxKxY2DBHOeV55WVRzpMb2jQajeZsQzAZJCAEAMWAgCCMezE2js6uvkMNh2sPN3q8flMBJE3FIClhEZTTMKKioxMTo0rmF88tLEyJsQulgcXk/ozhgf7TTRJSMBfZLlZhoqt3bNNrO5paWi0LRGQQFJFlR0WRSoyPXr5kgc7q0px1tA6gOXtQwDvMjKEhdaT56LH2ruOdvV1dPQrEgAkphRREilnCjI2OmJOTmZ2dmZGempEaE2GAAFZhHR9PJVKnq6dVCYx5sfdAw669Vf0DI0QSJKRU7lj30MAI7Dw3iQ9+YH1yvDPQ/FhPGxqNZhoiDABgMMNvob13pPFoS3trZ0/XwMDAsGJhASBJRApKCkjirKSEnJzsnOyslJT4xHiHQ9odHANSblLbx5MUbZhmBIXzwBDv2lNRUVkzNM6AFBIEKykpoaOnl8mhhBnpxNUfvswdOR0vQjPb0DqA5uxg+wD8hLqGtr37Dra0tFqQXgU2HMEwfmZWQhAsqyh/ztpVK+bkxBIjwi6iEOywSBSMqScCTcQUMSiQJjZNUsROhIG23tE//eWlnh6PzySQQbAcQhQUzPnQP6396aO/Hx/3AVZ+fs6iBTnC9nHoSUOj0ZxdJqozA7AluS13GcQYHUPF/tr9B6v6xkbHlGWQAwqGcLCCFGyZfimlQ/DSpaUrli5JiYbTCcWwGIYIWnP8ClJMlnXBro0nC52fFkKRoUxA4vDR/j/9+YVxn1+RsFgImE5Jq8qXrV6z8OGfPOOxWJG5aOGCrIw4HQKkmQ7MDh1gIiuUoMPvJvG+ZiNRMBaUASYTZBAAjI1bnZ2jHd2Dh1taGo+1jftMZoDcChakElBQVlSEMyUpLiM9NT87o2hOdlREoHIa7NkgPO5S0KTpKPzY04HJJzLxvesbMvdXNuzYXzU45lOWICIBlZGavGZpScn8XJcTcTFR415vVIRx0YoFEYb+0mo0YYTnX0I/HSdwukJlTpSitvFFBdpggWAK9Ax6u3sHm493HG/u6G7vEyyV6feLCJaGIij4pBSxMc7kpJiczLT8OdnZGYmGhLANNAyBQFevwDkbJxTK4bAEg3dzku8TYcI8ZFrigIbSO6i27Tmwt6bOsgTYIVhFORyFuSkrly2aW5BqMRLdUZ39Q/GJ7hVlC50CZFe7mybzlGa2Mjt0ABX8hcGsmytN5v0smxMMyBfMMP1oah+oqT989Hj78LDP4/X62WJlW/IV2DJgGaSy01NKSubl5WTHx0RFRoWSBSZmeYET5rbpLEZ50skqgmmhtqH9je1727oGFCshSQllEFaXL1m5dFFKHEHBZMTERHf3dC2etzA/K8O+eL3O0WgCTEnA1JVVJji9NyR8HA5UL7DLNlgWRn2ob2qvPXy4o7vL4/GNjFlgISENYnIIIiXhdUpRPDe/tGR+anJCjBuGhENCADzjjHFhZxsqPUSwCCZhz56GHbsqB0bG/QTBcBCiXM4LLly9eMGcSEegEGpEpOEc4TVlpRnJsZgogafRnFVmhw4gAMbvfvu7ioqK+fPnf/7Gz5/tE5ouHKo99Mtf/jIqOuq2W2+LT4g/zaMzvCbGxnz9AyNNza3V1Q09w6MmCaUEkQCBiQ0ynQ4Z4TIS4mIKtG9HmQAAIABJREFU8+csKC5KTYqAgKSQbkKAYrtj7sxGMboG/Tt37d9/sM5nCZ8FQ8BJKicj5QMXnZ+bGWNQoDWYIEREOFLioy+9YJUh7LgorQZoNGEIdHV0Pfnkr0ZGRj/2sY+VLinVagAAMF7c9OLmzZszMjK+/JUvn4YBw41EjHEfBkfNts7emqrDx9rax/w+v1JMikGGcNnl2iIcFBMTHZ8QM7e4YP7c3OgIGARWEDJkEyGakZpbKEfZjmVVaO0e2bptV33DMYKhGIYgp0HF+XMuv3StOxYGYJlQDBKIjHJkZSavWjrfmGzV0mjOIrNDBwAAPP/883/4wx8uu+yyz//L54GZJ33eDxobG3/wgx8kJCTc+PkbT7sOMDTi2/Lm3qOtXX19w5YlQIKFgwgMRew1iBIS4vOzkwtzszKSEhPjYqQruMwP+lnVhCOBpm9Y/ztDAMNvYffBw9v21fX39bHFBHIZjji387zy0tL5c2KjDTvllwXAkIyUuJglc9fERAQCbQH9jdVoJtHd3f344//T3t4+b968xaWL6ZTFI2cXr7/++g9+8IO5c+eeHh3AhgDCQO/oS1t3NLV3D3lMv48chostSQQQCwEnVFZqSsGcrOys1IzkRHd0IEkYgCJAguylPxhM075g8wkENRZWIEAJDIxix+66A9U1g6NjEA7JMMjKzkhZVb6sKC81Oii6pQQAMNLTE/MLihwyMBTRtAlY1cxiZpEOYMOs3nmjWQMzA3if5k6GaG/v7e4dVBAAG8oEK4eDHC5ZXJS3fGlZZnqCYUzaAQwQB43eJGamrWgKlkJ3n3r+Ly+09vSPkWCWDgEn++fPyfjQFRe5o4TDABRgBa7e7mm/ZF5BfHyM3TsBmPE3QaM57diCi5mFECT0iuoETpepOSiELaaO3r5hj8+CIQyy2OtwQCpfSnxc6aKSRfPnxcWTELAAZU2y9IuJcwk2f5koo2mHBQWPM40/ROJA7jODgcMtw3/464sDIx4iItu+xf4VyxdecMEylwGnCCQJcLDAkQSWl5bEuGOAiZluxqlBmnOQWacDANoJF0KI97FNeXSkkZ6W1NrdCciY6KjMpMSMjKTMrLTcnMxIFwwxaXWrGME0jWBA60xd+wYDRRVA6B1C9aGmnXsqBofHYDgMNgmclZqwsqxkxeICaQDMUIGJIqSLETLSYsBgBZIz8SZoNP8wJ5UAYaLbNmEIIZSaCZad91ugva/jE8CIi4tKSIjv6B92OIyEOGdGWmJWelp+dnZGSmwoj5chCFKCVdhUGzRtTCLw7rR035yYCMHEBD+ju9ez70B19aGm4VEvIAnKKZGXnb62vLQwP1EICIAtkAxoDfYAkpAYF64AnK0L02gmMet0ALKVb72oCsLv270wJIoKMgdG+ucvKMnLyo6NMCIjQSJQ5i2wUg4eXEwq8D8DBWRA3CsiBiQUlMLho/2bt+5s7x0aN30EKS3lJP/q5aVrVi6NdwshAFYQHKp6gckTOdFJJk6N5tzmpE//xIMQbjQO+gHeoyfz7Xc67c8dn+L3Cf5Bscfhv57Wsw8OZhiYX5wXFRNdPHd+RlJEXLTTYRjgCXkV2IyCtZonndXZLenzHpiI2VcAoBg+YPeBxu279/cPDUFJSQaBIp3y4gvOWzxvToxd718BFGhUj1NVpp6B85vmXGXW6QD6+TuTLJw/Z8G8OYICRiDbF/zOZZlCZRcwjap8vhNkl81TEoTeAe/ufVVv7asxWSqABAhWVkbyBWvL5hdk2DeBJ6ZJQsBeBATMRMShYqgazaziHReLYQKEiJjf63MSbo59D2NweIzLO40QLvT+QTPwxNr01EcMeFFP+1xHKF88t7x0LjD5Ks7dSdX2xPoVjneNvbpt5+GmowqC2ZDgSJfMy8q66IK1KUkkRZg7Q8ttzczhnNIBjhw5UlNdU19f7/F40tLSSkpKVqxY4YxwhkmrUKXGXTt37d27t6+vLyMjIzc3d/369YEtp8AA0NXVdeDAgZaWloGBgbi4uKKiojVr1kRERUxsYNPc1Hzo0KGCgoKioiJmrq+v37JlS19fn9vtzs3NXbt2bVpG2klavTIANDQ0HDhwoLm52efzZWdnp6SkIBjwSkTFxcX5BfmB7e0cU5+/rq5u//79ra2t2dnZixcvLikpcbgcU05pgr7evoqKisrKSsWqrLRs+fLldhKw+Ecm0XdCUDAPjP+exXxodTwT5GmoZJ4A4DNRUX1kb0VVZ3e/jwlQkiguOqp8xeLFCwvjo4UM6jgEBBrfTBqNzuUZVaN59xC8Hm9tbW1tbW1zc7PD4cjOzl69enVeft5JH5HhoeFXX331yJEjSqnMzMyFCxcuWrRoaiXooFmXmWtqaurr648dOzY+Pp6VlbVw4cIlS5ZMHZmwa+eugf6BSy69RErp9/m3bdu2f//+/v7+zMzM/Pz8Cy+80OlyhrafCHNnANixfUddXd3x48fdbndWVlZMTIydvWBvu2rVqkAlhuD2gwOD+/fvr6ysHB0dnT9//tKlS3Nzc6dqGhz6pbm5uaKioq6uLi0tbenSpSUlJa4IlxCCwac/PsoOa+HALZwUzT5T4zZPTXDCsgSGR7B3f9XeAzWDHq8FCZAhVEZywrpVK4rzMiJdQav/uXT5mtkDK57xL+b+3v4v3PiF8OsikCBx1ZVXKVPZ23ziY58whLzmqmsaGxrXrlkrSAjYqWQEYGX5ysoDlcyhMe3fjxw+8q833RwfGy9JSpIEsn8pXVS6d/deVsxWcBeL77/vfkPI2/6/2zyjnq/d/rUIZ4SAIJCAEBApSSlPP/m0MlXoKIpZsd/r33D/BneUW0A4DafTcAKwdyEQgQwhv/tf3w3fZaBv4OILL7ZHtjc2pHHD9TeMDo9OuTPMbPmtTS9sSklKoaDcFiSiIqOe/9Pzr215jUApScktTS1n4JOywu5W4ATP+pfnNH0DWbGluHfAeup3L37rwafueuDpuzc8c+eGp7/x4JM/ffIvXX3ss9hvceijt/gkt0O/9Eu/7JfFRw4fKV1UKiYtNclpODfcv4EtZubqyurC/MKoiKjfPPObl198OTU5VZKkQGYNRTgjvvRvX/KMeqYMq0y15ZUtF66/0GE4DGEguL0k+bnPfK6nqyf8qbT81vp16x3S0XCoobqyesWyFYYwbCkqhQSwYtmKir0VHP5oB0/+A5d8AIAk6ZCBAwmQgJBCGsIwhPHq5ldDO1r84sYXU5NTAdiHEBAuh+unP/mp3+vnKSj2jHq++uWvCghJE9OEsap81eH6w9//3vcJmF88/3SKl+Bp2j/9QdE15azOmZflZ7/JfuaGYyMP/+L5uzc8cfeGp+783lN3fu/pbz70v79/YUe/h/0nrBb0S79m3Otc8ANUHay65ZZbtm/fHh0ZvWTJkrz8PEMa7e3ttbW15eXl4XYgZoyOjlx33XV1dbWXfeCynJychIT4I0eaXn311d27d/3TVf/02quvzcmbA4Scrc8///wvfvHLjIyMdevW5ebmxsS4Ozo6t2zZUl1ddd0/X/fcn55bVLpoIhrSUpalrJ07d15zzTWvv/760qVL586dm5SUODg4tGPHjvr6+i9+8YtC0PXXf2rirHxe32233fb4449lZmbdcsuX5s4tJqL6+kO/+92zx48fT0lOuemmmxITEy+55JKJq3jt1de++MUvHj7csHDhwuXLlqWlpbe1tW3btu03v/lNbW3tL3/5y7IlZaG7o/Doo4/ec+89AwMDC0sWrlixPD094/jx47t37/7c5z53zTXXMJj5fcsKmDyqIMyE3L1TQJN9GRxmGGN4xvw7Dtbv3Fc9OjyuhGSwAKenJK9YVly6sCDaAclghhX0jby7IwYPpNHMMp566qm77rqrs7MjKyt74cKF6enpY2NjR48ebWxs/PCVHw5/hJRSzz777EsvvZSamnL11VdnZ2crpRoaGra+sfXRxx5tbT3+9NO/jo2LDdjaBdhUX/3qV2tra0sWlCxYsCAjI4OIamtrt2zZ8swzz7hcrscefyxU0MYQ4+PjpmU+9tjPNm7c2N7ecfnll+fk5ricrubm5q1bt1ZUVHzms5958403A4dQgEBfb9/111+/c9eOVeWrrr766tzc3MHBwZ07dz733HNjY2MLSxZ+9KMfSUxKWrBggW3j93l9P/7xjzds2DA6OnrxhRcvXFhiGI7a2tpt27bdcccd9fX1D//3wyFXgILP57vpppueffbZyMjIVatWlZSUSCmPHj26bdu2a6/96IoV5cDp9u5ORPwziCFF4F/nqnQige5u754DVRXVh8b8iskpLSvCoNyszFUrls6bm2iX+lFkCUgAJ3HvazQzgrOuhbz3l8XKVF6P97zV5xEoIy3jz8/9ube71+vx+sZ9QwNDrcdahwaGWAW09Os+fp2AcDmc+XPyX37x5eHBYdtF4Bn11NXUJSUkCYiPX/txe+QJK0fzkeafP/7zpsam4cFhy2+xYt+4b/PLm9NT052G877v/Fe4AeC+79wHwGk4DWF874HvdXd2j4+Ns6X8Xn99Xf3qlattU83I0MjELn/6w5/cUe64mLiNf9voG/fZF2X6zNe2vOY0nNGR0bU1tSGTi2K/13/B+RcA+PAVHz5cf9jr8dqntGfXnpL5JYYwbvniLfZ52q/9+/a7o9yS5OWXXd7Z3un1eJl53DPe2d75yes+6XQ4AZwxP4B9FWrG2Y0mTjf4xQt/y2dxw7GBnz618e77f33Xd//36//19N0P/Po/H/rf5zft7h9lnwpY+iYNddavSL/0axq+7IfMVIP9g5npmQLi/LXn79uzb7B/0PSZ42PjfT19x1qOTWxcXVldmF9AIId0nL/2/Nrq2rGRMctvWX5reHD4hw/9IMIZ4Y5yP/+n58O9tax462tbN/5tY2d7p2fUYz+fQwND3/n2dwjkcrhqqmrCH9JV5asARDgjCvMLX9386kDfgN/rN/3mYP/g5pdfMYSUJG/54i3hpvIv/duXDCFzsnI62jomHL/jY+P3fPMeAMVzi3u7e5mDksTiv/7fX6Mjo91R7kf++5G+nj7b8D88OPzEL54whIxwRtgeA3soy2/96pe/st3F93zznv7efmUqy2+NDo++/urrcwvnOg0ngeYWzn0f3YwzXY6dePJBbwwrVop3HWj9/iN/vOu+J+/e8L93PPD0nQ88+cDD/7t9z5GhEVYndYKc9SvSL/16T68ZqANMWkXys7991uVwuaPcG//2wtQHcvIv1338Onu2+OFDPwz8MSiC2eKvf+3rAiIvN298bHzqsab8brEy1VVXXkWgT3/q04FYI8Ws+L7v3Gcbea/9yLVTvMPKVE/84gkASQlJ/b39E3+//777pZAXnH9Bb3dvYLYIaiAXrr8QwF133qVMNXGUP/z+D07DmZSQVFdTF1qamoot/tEPfmQIIykhqe14m72xz+u7/Su3C4iigqKGQw2hq7CYFTc2NC5csJBAyYnJzUeaz/QnOINeUxSAsPVEV+/437bsu3vDr7624dmvP/DsN777m3vv//VjT/ytuq7Lb87AK9Uv/TqrL8tvmT7zxs/dCCArI6u7s5vVKVZazNWV1QV5BQTKzc7tbO+cvCjjo81H582dJ0n86Ac/mjovWMGfYYs5z6gnIy2DQE8+8WT4sVauWGnbyx595NHwKcMe5LOf/qwgEb7gVqbKycoh0H8//N+hozAz8+6duzPTM2Oi3Ztf3hwcR40Oj1738esMYXziY58YGRqZOLQylbLUNVddI0AFeQW2+YYt7u/tz87MEhAfveajbKnQ/VHMih//2eN2EOm8ufN0qOEpX2GzefgH5Df5eNvY7/746jceePKu+5/5xv2//eYDv/nOD3/3xO9eaWkdNSdrkvqlX+fA630sD/9+EVYhzu/1b9682e/3L1++vLx85aS8nBMcc8xMIJfLde211wY6fdj5TQIgrDlvjZTS4/EcP34cAKtQ9vDkco0AgSQVFxcTqLW1dWrOGRDhivj617/OzJP8p5LWrFkDYHBwsLu7297SMq2WlhYwUlNTY2NjiYgtnjhKYVGhJHHw4AG2i98RANx7772maX7qU5+at2DexOkREQSuv/56EAYGBnbs2GE7jvv7+rdu3crgiy++OC8vb9LNIeTl5a1fv57BRHRGW2zORPdxsDtMsK8N/H7sO3D0d8+9vG1XjUIUK0FsRUfSxetWfPbaD5UUpRi6rKdG83dCRG1tbc888wyAr33ta4mJiVNzYU/cBXTllVfGJ8SHNlAAkJWVlZmZqZhbWloCchXBoSaybEVopoiIiigsLBQk6urqQtsHW3ekJKVcf/31gb/YOwpA4eKLLwajpaVldHTU3mNwcLCtrY3BS5YssU8pMBcwYmNj3W63aVmtba2AXRGAenp6XnvtNWb+5Cc/Ge2OtqNKWDFJItDNN9+swMeOHWtqarKP/uprr7a1tUdGRn7961/nE+7Mddddl5aWive598uMJyyv2i7nBmDYg9ferPrdn/5WffiYEg6LAXBKQuyVl67/56suycmIkqSr+2vONWZgPkDY0srv97e0tCioBQsWJCUlgcIEIk/dy17pRkdH5+blBmr3hjXrjo2JdTgcXq+3v7/fTihmi0mSLYtBMH2maZper1cI4ff7o6OjiTA+Ph7YIDAOA0hMSExPT6fwyjYCALKysgSEUqq7u3tu8VwAQgin0wnwyMjI0PBQYlIiMbFiu+dlW2sbkcjLzxeGsGe1cc94bW2tglq3bt1g/2AoiN8OXRUiIT6ht7d3+/btH7n2I2D4fL7u7m4GL1++3HBO/qwZQoqiokIAtgnktHw45yb2l8oCJEAwTQyN48Utb9QeajJNCDJgeR1Oys9IuvryS5PjHaQnX43mPUGSmpqafKYvOjL6sssuC4jod1h1cUFBgdPpDG0jAAUhRVxcrCDq6ekhCvTsC9R7sZgkQcHv9/t8Pr/PD4CI3G43gNHR0XDpbTeCLSoqikuIs/8S+EkAkJOTw2DLsgYHB6Pd0WBER0crtgTEkaYj519wPgikAvPI2NjYyMiIFDI5KTlwtgL9/f1d3V2CRGFhYX9fvz00B5seREdHR7oiPV7P4cOHi+cVK0s1HWkiouzs7Ly8PAJNmvUE4hLiiouLOzo7Z0bftLMOAYAitHX7nv/rpvaOPibJJAyC06EWLSy49II18VFBVUHXbNOcc8xAHSAsKdPj8fT09BAoYC4Ks7ufZD9mZs7JyTlpRWcOtpycMJ/YBn7TNHdv3/36669XVVV1dnZ0d/cMDg6apjk6OqrspfOk5lYAEB8fHxHhmloQOvB/JoSM7iRoyZIlhuGorKpsqG9YtWoVM5MkAJUHK3fu3CGEuPaj17KlSAgoHD58GICA+I//+I/IyEillH3a9k/DMIaGhgA0NzfZqWkBlQZISEg4USmCQnx8Ap327LFzhnC3iQjkA497safi8M69FYNjHj8LKUmwlZoSs6J8cdn8wignSJywu0ajeZcwjh07JklGRUU5nc6Al/VtF15SGnF2Pi5O9AMTkQj9MzjO6Ojoiy++uG3btubm5q6uru7ubo/Hw8z9/X2BLcTU5zc7J/skJ8sspZyU5E9wuBwfuuLDGzdufOKXT1xz9TVxCXEBV63CW2+91dvbm5aWtnDhwomzraysJCKLrSuv/LA9hD1V2dOEZVmmaRrC6OnpIUGSZHt7u2LldrsNwzjpqjQjI1OQOKOu3ZmJrTr19Vs79x/YW1Xt8THIASYilZeVsmplWVFhmkPofF/NucwM1AFsCGAopQYGBhiclJQU+CPedu1FiI2NOVWDFTsiJtyFOjI08uUvf/lPf/rT2NiY3+9LT8/IysqaO3euO8ZdVVlVUVEBuxvLZDNVZGRkaOIJU0smRg630Fx11VXf+973jhw58olPfOKuu+66+uqrDcN48cUX77nnnr6B/huuv2HdunUkAzu2trYGz5NM0wxfuytWltey74PT6YKAMpXP7/N4PAASExMnnWTQHpaYmPhOt0wDu2qSAo61DW58eWt717DlNy0BJdjpEEtKFly0bkWsGxKAgrJbIug7qtG8Bwjd3d3M7Ha7A3X33ymmTkrpckWcaqGmOChsg0V79u/bf+2113Z2dvr9fsMwcnJycnNzk5OT4+Li/va3v7W1tU1qzk0BC0tiQiIweTmowBwow8/hvYoZDz300FtvvbVjx45rrrnmrrvuOu+881paWp5++umf/exnlmXdd999AVMUAEJDQwMzS5JKMRExq0D0UCBoHampqUopwzDswfv6+giUkJAQ0AFOuDnp6emB84AOXAEweSK2YTDDZFTVtW/esrV/bIwdBkMSI9JprFmzfO3yQqcBIkic0MRF31LNOcSM1QGCwTwxMW4CDQ8PhxQAmrTNlL0cDudJJIL9JjMzLMsKvMW499v3Pvnkr6Kior/85S/feOONRUVFEwXmvnb71/bv3z/lfGwCk0H40RlgmKZpW4zC1+7Jyclbtmy54YYb3nrrrS/d8qVbbrmFiKSUaWlpX7jxC3fffbfD6ZgYKisryx78hRdeWLp0aeiSJ6xWE+oNQ0jhdDijo6P8A/7+/v7QNmF7eb3egF9CCzVmu30C2yt4Dt5YC2AMDHt3VTfu2rPf62efCQkZ4ZApqXGrVpQuKMqKnPhOBYuZc7A1skaj+buwDRmecY9lWqdcb01+uKQUkzYLykA7lCgU80lob22/+V9vbmpuWlK25Etf+tK1116bkJAwYRNZt3ZdIFJ/sq+YwUKIUDpQWG7YSZ2o80vm//SnP73jjjveeGPr1q1bARCRYRjz58//3Oc+9+nPfjpclygoKLA3qKysjI+PD5n2J0T6hCmaASAhIYHBQ0NDpmlOtWcxAIyPjzMHL2AWCvapHiHm8LhfZoDGFQb6/dve2ldZd2TM5zccDvKbkRKF+dlrV63IzooxJr5QJ368s/CWas5dZqwOAACIiHClpaUB6OjomCIHT/Wgvr2H1Pbt2gK3pbnlkZ88ohTf9937vvhvX5RShkvn9o52Zj7pYGR7fk9+HJ56DoSsnKyysrLdu3d/8pOfnD9/fmRkZGFhYUZGRmnpYocjrMkxIS8vzzAMv9+/d+/epcuXTowQYrLFIiIiIiEhsW+gP5CFTGFxjQJgdHR0wJaKerUa/GQJoeBaKCjg4KHj2/cePNrRwwoEOARHGmLt6uWlpfNj3RA0qY+nRqP5R8idkwvw4MDgyMjIOzoBELTdTP5T6K2Jnzavv/56xb4Kp8P58MMPr1+/fuKhtdN2u7q6KLBmnHqUgEg/4WQCh8AkPwArXrp0aVxcHDPfeOONLpcrMzMzOye7IL+gqKiILQ5XSxYtWiRImMo8cuTIshXLMEUaT4k1FcjKygQwPDxsmv6T3hw7e3j25gNMUdXsWXrCpkPk8eOtPXUHD1T3D45ZlsMpDYIZ44645IK1JcU5EQZ0FJVm9jCzdQCXKyIzM5PBVVVV3V3dKakpIQXgPcXwEZEQwl78vfnmmz7TFxMd8+kbPm04jUB3KwYIlt860niET7Hw48lJY1OOMKkbFwHAgxsefOSRR77yla88+NCDUFBKCdusNSVvgeF2uwsKCmoP1f7xj3/4l3/5FztzYPKxJ43scrmSk5MbmxorKyuVqYQhwiQjWPHx48ffr+5gM4sTo8gIpsKYBy+89HpNQ7MfDj/DQeyUyMlIuuqKy5LinVIGtmULpNPFNJp/HEbenDlCSI/X89e//nXhooWn3NI2c7/TQxeSbwQw3njjDWaOi4tbt25dyKajQJJGhkbsej5TVAoOlXg74QQ4YNCZtIGA6TXvuOOO+vpDzz33/JVXXTlxKgCUpULhpgQAKSkpcXFxg4ODW7duXbZ8WSjHN9whMOHsVcjJybVL0nV0dKakpoafDAC/z3/o0KHA+cxaiXRiOIACDFgWjncNvfDya62d/UqBFUlS0U5ZWDTnqqvWOgBikE4A0MwmZmwFEwIAh9Nx5ZX/5HK4KioqNm7cCARLtlHwyiYL83czsKUsW+BGRkYC8Hq9Y2NjgSMG5cILL7xQV1cHnNwRHH6GJ/tz2BsMMH77298QYfny5Xa4qphwQwbnp4ktAdx3331REVFbtrz61FNPWX5LmWHRrgxWHD5yfHz8xRdfLCBefPHFQ4cOBUYLXkhTU9OmTZvwTr6RWULgxlHgy+MZx1t76h9/9rm9DUfHlYMtCLbSkqMvv2T1xz9yRXKSU0pAMRSgtN1Iozk9sOI5c/I+9/nPEejHP374UN2h4BthEpiCUjHwj1MSkmzBJbLD4VCsLMvy+XyBcRgATJ95xx13jI+PY8qCPrA3TVIEJkalUEGF0FygoJTas2ePlEZZWVng5IPBPAHxTiGRnpiY+KEPfUgI8dRTTx1uOBwYP7y0QPjpCFx66aUFBQWecc8999zjHfeGQoYYYDz11FN2eevZLtV50k8l0DfMG1/b8/Qf/tzS1etlNolIID8n7eoPXXLV5WsjCAKwU9BZsNYBNLOEGasDBMXihz/84fLy8jHP6H/8x3/89Kc/tfxWYHpQ6O7q2vrG1rB93iEKCEGPsL1hWVmpQzr8pv/f//3fveNeAGyxstSLG1+89dZb7Qo8b8e7FCKEwsIiU1l33nnn3Xff/egjjz7+s8cfe/SxZ3/7u/379ntGPaGZTwDAFVdc8aEPfciyrFtvvfUnP/lJoKVAcCbbuXPnN7/xTXsmA2A4jc9//nNRUVHNzc3XX399R1tHoL6Nxe1t7Z/97GcbGxulkJMS2mYpTGA7k5eBtu7RX/3+ry+9uauzd1gYDsWmlNbSBYWf/eePrVo2LzZSBt1NFPh0tBNAozkd2ILo4R/9KCc7p6ur+2Mf+1jFvgpWbFvBlam2v7V9/7797+pxI4jw5i0EEFauXEmg/v7+X//612yxLQ99Pt+3v/3tp59+2i7ZNmXsUL4kGVJoAAAgAElEQVTUlDdOZf8RIKLU1FSf33fDDTdsuH/Dzx792WOPPfbYo49t2rSpqbFJWSoYlwIA7lj3v//7vzscjoMHD1555ZXbt223Rbo9JY2Njv3610/feeedE8vZ+MT4hx9+2DKtv/zlL7fddpvX57XHYeaNGzfee++9dvZwIId4tjH1wwMIFqG6of3nTz6zY+8Bj4+JDIPhIlx43sqPf/SS4rnJgeRzO8HD3k17xzWzg5ktJlixK9L1q1/96qabbtq+ffttt9720PcfWrRokWVZ7e3thw4duuqqq9ZfsD58F6VUoAD/ZOy5Ryk1sRouLCy6/fbbf/jDHz7/5+fLy8vXrF7j9/vr6+t37dpVVlb2zW9+86abbwKm+Bz/zpUgAQrf/va3d+/e1XKs5cEHH2RmBUUB3y8lJ6f867/+680335ydm80Wk6DIyMi77rqrr6/vrbfeuv2O23/wgx/MnVsUHe3u6ek5evRoe0d7bm7uXXfdFbxazJ1b/L3vfe/BBx+srKwsKysrKyudk5fXdKSpsvKgUvyVr3zl/gfun439AcKdxQTbCczA4Iivsqb+zZ0VQ2OWCSlISMuXmZawpnzZ0kVZAhAMkDb8azTvDwJgREVH33fffd/+9rdra2vXr1+fl5eXl5c3MjJy9OjRtra2hx9+eMmyYPstsBDiVAGNzAjF9jAAXHTRReedd962t7bd9uXb/u///i87O7urq6u2trapqenjH/94bm7u/Q/czxwmH+wAHqhJnQqCEackiIjsis8hEcpwOByf+tSn7r333q1vbn3zzTftamEEYiiCWLRo0e23337ddddNFD5atWrVww8//KMf/aihoeGiiy7Kz88vKioyTbOrq6ulpWVwcNDuL2lvDOCDl3/wpptu+vWvf/3EE09s3ry5tLTU4XA0NjbW1tbk5xfcfvvtX739qz6fbzZmKbH9HxHAAqZCd8/Izr3VB6sP+UyLhEtZ7DREfl7W+WtXz8mKkoFGbfa+odAujWaWMLN1ALuXVkFBwbPPPvv4448/+eSTra2tx44fU0oJEmlpaeeff34gDp4hpZRSOp2OU9m8hRCGYYS/e/fdd8fFxW3YsKGqqqqmuoaZU1NTP/GJT3zjG9/Iy8v76le/KqUMz9m1LUaBQcLlCAOAlNKeLQJ1/RkkaNOmTd/97nfHxjwl80vy8/Ojo6OZ2bKsoaGh5ubmpqam+757X3t7+09+8pOIyAgAzLxsxbJnn33297///c9+9mh9fUN7ezsAxUoKubJ85Wc+85mIiIjgDQKAL93ypbKysnvuuWfPnj1btmwByDCMxYsXf+tb37rooosef/xxKeWs8wOExUzZl24yquqat+3a19494FcSZEilIp3y/PJlZSXzkuJlKOWPQLNwctVozgABMyx96lOfKi0tffDBB1955ZXqmurqmmpBwjCMJUuWLF261A6bBOAwDCFEqFXWZOzi/QHhRgAjIzPjf/7n8e9857+ef/75TZs2MiCFzM/P/+5377vpppu3bt0a4XIpVuGuUWlISVJKEWoHGaYG2BqIy+Gk4CygTPWd73znj3/8o9PpXLJkSVZWlsPhYGa/39/d3V1dXV1ZVXnrrbfGxsZefc3VQCBM6Kabb1q7du1DDz20cePGxsbD9fWHiIRiFRsTe/XVV998883h12UYxkMPPbRy5crvf//7zc3NhxsPMzgqMuoj13zkzjvvjI2N/da3vjVL/QAAg+x2jgrYtqdm34Ga3j4Ps4PICSDeHXHB2pWLijKjIkEMMcnvo83/mlkHhSLIZy5hcfN9fX179uzx+/15eXnz5s0zDOMkNTFPNQgHI00nIqQUIGD5rYMHDx4/frykpCTf7toblt3FHOZVeJeHCFJXU3fJJZf09vb++Mc//sIXviANGfDqWgzAb/o3PLDhP//zP9PS0t58882CwoKp4zC8497du3cPDAxkZmbm5eUlJiWe8i4xvF7vvn37BgYGiouLCwoKbA1qdq5lGcECoAQo9A6bm9/aXVFVZ8EQhstUViSZ2amJl126Pj8zJhTOG36vTrbm0Gg0pwcOFOZi5oaGhsbGxoiIiOLi4rT0tMDqNjxd6oSWXoENwsszhP8k9PX0VVRUmJZZvqI8ITEhIAz5ZIlkEzueeJSguJ7oZaZMdc8992zY8EBpadkzzzxTUlISGDCYDzAwMHDllVdu3769vLx827ZtEzJ/QhQrU7W3t+3bVxEREZGVlVVYWOiKdE1KRbC9GsF28p2dnbt373a73UuWLIlPjA/lD8wSwR5sAE0TFy7gMdHVNbbxlS1tHd2WEoIdTDCcoiA/5wMXr010wzXJCazRzF7OFR0gXESeuFzjsLdOkisc9q6NCJP7U7YJH/NUK/4TF9bhG4elYNz8hZt/+ctfXHvtx37/+2eD6UhhZ0JoaW7JL8h3Opz79u1bsGBBqBDQlLoHU4pInJQps+DEjpiVcjB4l8a8OFjbuLuiurNnyE+CmaVAfGzUuuWli+cXxEQTUdgdxiy+YxrNGWOKsJoit0/69L3jPHaCPA8FhYbLQzrhSX97ATtZoh47euyqq66qqan5+c9//pnPfuakh37pxZcuv+Jyd7R7YGBAiLAKEEGxHzjKSTuO0+QTO9U1zh4LBYV9O0yQQPcg7ztQc7Cytn9wSBoOQEhwRmbKiuWl84ozXAYMCu/hOFvNYBoNgJkeCxQg/ClWk/Ocp6yV30YyTtkSJ9uS3/afE5woUsKtDmHT2I6dO4jEhRdeGFIAJp+n3QU5JibG5XIFLFUnPfrbr/7Dt59yabNW+jEY6BtWf/rbpua2bsuSUIIkO8gqzM28/LILUmIdRujDYoTV89bThkbz/jJFWE2R2+9tdXuCaT8Q2BP+7omCdOLvJ507JnQDFcjx7e/v7+joIKIFCxacZEIRYItbjrYwOCcnZ1IbmSlC5VRTFZ/wy7t/95zELuFDMC2wwJHmvhdf2drZM2gpkuRQpnIYWLVy6brzFkW6gsudKZJ89twrjeYEzgkdAKdw107ndRoDhHnF86qqql5++eUbb7zRDvcPQRgaHPr5z38OoLCwMDY2Vq88/yEmz6m9w96KmsO79laNjColnQrKKSgzOXbV8sVli+cEWsRj4nsVzAAILBH0x6DRzGQm4ojejfUEp95minGH4Ha7Y2Nje3p6Kisry8vLpxr1FWpra3/6yCMEuuKKK04sTaF5LxAsoKNveMe+/ZU1DT6fgHSyZBLIz85av3pFXn4sFOSUCZShJ1SN5lzRAXAy4/2pzPnTAGYm0Kc//elNmzZu2rTp1ltvveWWW0rLSgGwUseOHd+48YX//w9/2P7W9ujIqNtuuy05OVnLq7+bwB1TYGE79FnBDxxu6XztjZ1tXf1+JYkMyzRjI+SqJQuWly1IjHNReNffkJUuzFGj0WjOAU6XRJ0QCwppaWnl5eWHDx9+4IEH+vv7b7jhhtTUVGYeH/McPXrsqaee+vOf/1x3qG7N6jW33nrraTr8LIOmzuzjFnbtb9i+p2JgaFSQQYAgKzbadfHa1QuKct1RQQOOlt4azQmcE/kAMxEGCKbf3LBhwyOPPNLb26uUioyMdLlco6OjpmkCiIqKys3N/drXvvaZz3zm5ElvmnfEdvgy2cE//cO+N3bs23OgxmcJwJDSkAJJCe7LL1o7Ly+BJmKOtctFo9H8vRDY4q6uro9+9KNVVVXDI8NSiJiYWGYeHhm2lOWQjri4uJKSkocffnjp0qVTvdZawr8rQi5Z7zi6+8dfeWNb3ZFmJgMsXIbhclBGetJll6xPT3QZWoxrNG+L1gHOMpZp7dmz+7XXXq+prens6PR4PG63Oy0tLTU1ddWqVWvWrEnPSNfTw3snGPrp9eNAZd1b+w919Q5YSrCUQnF8dOR5K5YsLStwR4AUWGBqBrBGo9G8S4IRQaPDo6+88sqbb77Z0tLS3d3NzElJSSkpKfn5eWvXrl2+fHlkVJQWMn83kw06fSPYXVF5oLp2cGQUkFAsWGVlZKwuLyuZl+E0ArJfQM+eGs0p0TrAtIFD3eZDBa0175mwSN/BUTz3102Nx9v8fsHSALFDqaKCrA994IL4KIfT7vFAp6gwqNFoNO+SyRnMdscqm0lSfUq6sObtmVwnSjGa28aef+HlnoFhBoMtoVSEQy5bsujCdcujnaFcbZ5I/T2xhIZGo9E6gGam8k6+ESZYwPCodbCqZtuO/aPjlgUBkBCcnBh73rKy0pL8KOe7Gkqj0WjeI+H2/sl14QLvat6eyfeqo8+ze2/1gcr6Ea/JQhIpl1T5mRlrVi4tyE+RAiI8vOqE5AGtAGg04ZxDOcEaDTAx5SpGQ3Pva2/uaOvqsZRQbAgmhxPlyxaWLylJTXASAwpgQAar++npQaPR/INMsSlM6UhDJ5ilNSdCJwnIVCb2Hah7bd/+wUEvW4ZgCYY70nXR2hVLFhREOk/Ww0Ev/TWat0X7ATQzmUmy3gIpCKmUGBhSOytq9u6vGfP4iISC5ZSUmZx48QVrCuckCHkWz1ij0Wg0b8tEnx+CZUEBfb2+N97cVVV32Cclw1CmFR1hzMlLu3T96qykyEn76uW+RvOu0TqAZiYT3u2FGEzjfjpYc2TX3prO7n6LBQAhOMol1q5aXloyLy420I1N2+E0Go1mOhLmlTWB0XHs2HPg4MGGwaExBcESEpycELv+vJXFczOinBDqhN01Gs27Q8cCaWYgU1fwzEQMGhzx/98LWxpb2k0lFbOEBWVmZWV+4poPxscEEsQsBSlOOqhGo9FozjIM2GWa/YymY0N/2bi5s6+fhEMIKQBJ/uVlCz98WblkKOiq/xrNP4TWATQzjfAQz4AFiMZGrH11h9/cVzU0MGopQWCXgbTE2BVlixcuKHRHhpWJ0AqARqPRTE8YzFBAT59/d0XV/spDHlMp4ZSCHOCC7IzlyxbMK8o0GGQXc4N26mo07x2tA2hmLBYgwIzGo4Mvvbqtu3/IaypmcpCSbJWXLlqzfGlyooOtSd7hKWU5NBqNRjMdYAYJeE1UVje9sW1P34iHLWJAkD9S4pJ1a8tK5kW6QYBSgVIOgJbmGs17R+sAmpkJgQkDg6iqPfz6zt2jXgskBdhpiIzkhAvOK59bmGYA4KCtKLSfRqPRaKYdfkZH1+j2nXvr6pv8ljAhDFIuyXPyci6/5PzUhAjBUBN9grX5X6P5h9E5wZoZBTFAlgUhse/g0Z176to6+yBMFoLZcke6Vi1fWlqSFx/rkMHFfkgHmGjWc+ZPW6PRaGYzpyrTyQDDAnwmduyt3nmwdmhgDCQVwAIZ8dEXnre8qDDbHUGhmqpagms0pwntB9DMHIgB9jENjfILG7fUNR61yEVCCgWntDJS4//p8g8mJjkdxkRZuTC0qqvRaDTThLBQfsvCsa7h5154qXdozGTBEBJKsn/h/HlXXrY21gUAUNr8r9GcfrQOoJneMEMEe74zjY359tUe3bWvurd/RJETAmBfenLsymWLSksKo1wAwTJB9vd6wmikpw2NRqM5i4S37CUAUAwi9PSaew/U7KuqHvH4mASzksTZGcnnrVxeUpxmCHtznjSORqM5TehYIM30Jsxc1Nre/9Lm15vahr0sLGanlGB/6cKiS89fmeA2pDhJa0mNRqPRTAuCwTwKgAAI+6tbX39zV0//iMksAEMIh0Hrz19dtqgwLgrCCmwGKLDQgUAazWlH+wE00x0FdA959lfW79p9YNxrKYpUig1CVlrieeVLFs1PkxQ2L+hqcRqNRjM9ocCPrt7xbXv27q6sU5ZTwCGF5TBUfnb6xetWZ2a4BSAmnAZAoGmwXv1rNKcb7QfQnGWYwLaMn/JNJCgFr4Xaw8fe2r2/o2PAtEAgEEdHGGvKy5YuLI6NNYQAsZ4dNBqNZjoRngRMgcgfCxgdx969NZXV9T0Dgx5lOchBlkpJilu3asWC4uzICEgKFAkNtH/Rwl2jed/QfgDNtCAQxRM+bTAGRswXt2yrbWg2WVomAEhS6cmxV195aXaaW0BPDxqNRjMtCLfh0MSfgiJaARbQ0Tv+t40vtbf1K1NYLJxOijBobl7+By46PzmeoIKOAgofRaPRvF9oHUBztuHJEp8BYHSM99fU766o6+odZDKEEITRlOS4FUsWr1k23yFAChDBAFM9VWg0Gs20gU9QA4YHvTsO1uw7WDc26hNwCFIGWRnpaatXlJUUZzglMLmZo47n1GjOADoWSDNtILCCYnT3+f66afPx9l6/JZgkwxLCVzav4OIL1sTGOBwSpL+zGo1GM51hAGALpkBjS9/LW17rHBhiSGXCIBXhoFXly1YsXRQTBSjIk5Rz1mg07zvaD6CZHhAADI5YFVUNW7fv9pkwLTIEGUIlxLvXrikrnT8nwgHYM4su96nRaDTTG6XQ0+97a8+BfQdrLCJTQQiOMOSc7NTzzyvPy0mUQDAbTCsAGs1ZQOsAmmmBYlTXHNm5t6qla8inhGIIAaeLVy9bXL5kYWyMsPv+WoH5gu12AfavevLQaDSas8bJhLDHxK49BysrD3X3j5lwMISELynWff6aFfPnZsdGC1gAAxITaQAajeYMo2OBNGcKAmAxQBBQBAqIfgZGfNj82q7qqgavn72spJAOQnpS3BWXr8/NihXhE4wu/anRaDRnnRN6foHADGaYjM7e8Rc3v9F8rJ1ZWYCUDqeQxXMyrvjABXExIAIrEE3y6GpjjkZz5tE6gOZMYbd6AQDBDGKA4PHiYO2RbbsO9A6OsmVPChwfG7F6eenShcXRbj0zaDQazfQjXAcAmGABijAygt17D+45eMgzblqWIgGQmZGetGbF/2vvzuOjqs7/gT/n3juTySQhJGTfF0ISwhY2CYigtmpRQVCs1ooVsSiirfVLRf1qFdlqRcStxa0uqP35te4goqwRFBASyAIJSzYSyT7Zk5l7z/n9cWfLEBSUJWE+79eV12Qyd5v4Ouc855z7nBFDkmJMSveZP2h9AJxXmAsE54ogR/FPnEgwsljUj9atP/ZDQ5dNEpIsSZrCRFpiwq8vz+ofoBjw/yYAQF8giDSiA4fqv9601WJpI9nXZuMGSciSlDVu7Lix6X5GUjiRIOLuy8GwE5eFAYBzBuMAcO4IIs5JZtTYquUdOLJj177mtk4uSUIwA7GQUPNFmYNHpaUYfYlzkhgGAQAAeiVGJOwZGjSi6np1d05Bzr58qyoYM2g2bjay+Kjg8VmjE+OCDRIR00jIJx7B8x0AOIcQA8C5wzkRo4Kimuyd3x+va7Sq3MAkTXBJ4uPHjBg9LG1Afx/ZuVYAkv8AAPROgoiIE3WptGd/8e69+fWNrYIUIZjEmJ9RmXzJ2GHpcX6+6MoB6L0w3wLOGrcZn/oIcHMb7fhu3+7c/C5NCEZCaLKkxkSETr50YnJsoOJcGZ45HhwAAIBegrlm/zMilVNjM1//1aZDJeUkG5gskSZMBjkhPuq6KRMDzI5yn9wSgPZ4THfo9wE4hxADwNmizxCVBBGRKmh3XtGevYfq69usNi7LMpHWP8g/K3PQ0Iw0P7NR1ieJMrI/LgwAAL2Bo5kuSBAxQWQlau8Uu/cU7Ms73NTUISQfiXGh2aLCQ7NGjcgYFONjdE34d+7c82gASnuA8wcxAJw1ghgjJlFVHf903ddlNcdlrjDOiEhi1sS4yKuvunxAf0VmjqfEGJGzmsDYMQBAb+BspjOmctIElVbWf/bFpsamNpIMTJIEJ9LU8aPSJl6cZfYlmRNpRIpbux8NfYBeCc8DwNkiGDW0UH7hkV178uqb2zSZKapQBA8L6T9mdMawIUn6ur+SY6EAPAAAANBraUQ19R3f5+TvLyhq71IFkziRIrGE6OjxYzJTk4IkCaO4AH0JxgHgbKmoali/ZU/5sQaNC06Cq5oisazMYWNHZQQHKZJEQpBgJIgY+ooAAHq3oqLKjdm7quuaOFMkEkSq2dc0aWLW8EGJ/XyJ6QEAE0SCxMmm/wNAL4IYAM4CQSSRjfPS2upOoSlMkTmLjwq/LGtU+sAQcswr1bv+0fQHAOjVBBEjwZSGpjYbKZwZzLKaGB915RWXhQQaZE6SZF/1hQnGMJUToI9ADABnASMSFBUekpmamLsvv585YMyIEcOHpQUFSPpvGXM+ZSbsy8Sg1gCA04UhxHODERElJ4RnDIovKDoSHBp08Zis1IFxJh8iIkmyP/3l/BcA+gQ8DwBnDaOmVtsnn3x29VVTBvQ3kb4+jDhh3r9H+ggAAOiVmpq6dn6fM37COH+T4y1nHw6aEgB9DWIAOJuEo2KQHS9O9r8bYgAAgN7J3sZnRI4UDp6/RQwA0Pd4zYM7ztkmGKk8l5gj6eeJ3zlzbAAAp4uRvQMLDdBzxtmnw/GFA1wIvON5AEbE6J017+zL3Zeenn777bdjAvo5xU7y+mTvAAD8lIaGhtdee625uXnmzJnDM4ejVXpWYcIPwIXHO8YBBBHRurXrnl7x9AcffIBG53kknBsjgT8EAPw8gqprql999dVnn322sLDwfF+N12Bu/wJAH3ehjwM4158SpGkaI6Zq6vm+Jq/mqjvQnwQAP+5H5vkIElyoqqppmhA9fQLTPs8g4ZbM7cQAAN8zQN/kHeMAzP0lkhcDAPR5jDFZll0/OzOMnfqDRj+v8fqzH2Tq01UPGvoAF5wLfRzAjd6NYe/MYKf/JJmz+EZRCADQO7j6p8/uaRwvTqvKcE+hc/Yu0+PIqKEA4NRcEOMAjmQFepoITdWIuheL+jpUQhAR59z1W3HCvz0V04ILj1JVcOHKqepxInIrgj1+JQQxEvoFeOzi7Lvy2Pdkh2KuzX559t09L9WVyeHEYwIA9E7M7eEheyEsTizBhBCMMSEEuRernKh7KdvzwfWsZYIEF65eoZNMdBGacJ1auP3oLGAd85Fc2Yo8Cl7ePZ2OR14K59lPTLvZ45vuv+KncMsAACe4IMYBHBVDaWlpfn7+oUOHOjs7w8LDBqUMysoaZzAY3QtQWZGJkxDi+++///777xsaGsLDw+Pj4ydOnGgym1zdNqxb67mmpiYnJ+fYsWMNDQ1BQUFJSUnjxo0z+5n18zqVlpYcPFiUnJyckpJCRAcPHNi6dVtNTY2fv19cbNyECRMiIiIYk7qV/o4Xh4sP7927t7yi3Ga1RUVFhoSESpI9QmOMpaWlJSQm2D8qEQmydlkPHjy4b9++qqqqmJiYIUOGDB482GAweNQWR0uOFhcVJycnp6SmEKdjx4599dVXlZWVZrN56tSpA1MGnpG/AADAmcSJGFm7rIWFhYWFhaWlpQaDITo6euzYscnJye59/5qmEZEQwmKxZGdnHzlyWAiKiIjIGJIxfNhwz74Vx8FVVS0qKjp06FBFRYWqqmFhYYMHD87MzDzxQr777rvm5ubLLrtMYYqmadu2bcvNzW1qskRGRiUkJEyePNnHx4f0CEUfY5aY4ILJjATt2LGjuLi4qqrKZDLFxMT4+/sTEWNMkiQhxLhxF/UPCnLdr0SWBsv+/fv37dvX2taaMXjwiBGZcfFxJ4Yl32z7prOz85JLLjH6GAUXubm5W7dubWlpSUpKuvbaa/sF9jtTfwQAuMDpXdp9fbM0WP4454+MmL5JJDFiiqRcM+UazaYJIYQQv535W4mkGdfNKCspm5A13sfgY5AN+pfAiI0fN37v93uEcBxTCKEJrvLDxYfn3vnHAL8ARVIkkojIICsykzPSM3L25Lg+z4XgYtmSZYok33vPvW0tbX/9nwUmo0m/EokkmckDgoLfXfOualU99uIqf/qppwMDAo2K0Wgw+hh89HPpO/oYfGQmL3lyidBcuzTUNVzxqysUSWbEZCbrn5z1+1ldnV3dDq6JpYuX+hh85s+bLzTxxdovQgeEykwmIoNsWPf5uvP+h8OGDRs216aXckJwlR85dGTMqNF6eaWXh3qpvnjRYv2TBXkFyYnJZl/zu2vezd6WHRkeITNZIokRSSSZTeZ777m32dLcrVTnQmhi41cbJ18y2SAbGDGDbFAkWS/bb7n5luofqt1LWqGJiydcbJANh4oP5e3PGz9uvLPqZMSMijFzeGbevjyuco+7OFZ+7DdX/kZmsiIpBtkgM1l/rW96jbB+3Xr3a/ti7RfRkdHOyksiyagYV/9ztbXT6rokIbjKU1NS/cx+h4oONVua7557t0E26Nc/euTo8tLy8/9HxIYNWx/Z+vI4gN61I9GBgsK77563fft2s695+PDhAwcOZIxVVlYePnz4onEXSYq9313vOmpvb585c2ZRUdGkSZMSExP9/f3Lysq2bNny7Xffzpw5c+PGTfEJ8USubEKfffbZG2+8GRISMmnSpNjY2H79Ampqar/++usDBw7ceOONn376adrgNGcnk6qqRGz37t3XXXdddnb2iBEjUlNTg4OD6+vr9uzZe+DAgTlz5qiqeutttzpvwma13Xfffa+88nJMTOydd96Znp5ORMXFxf/5z38qKspDQkJuv/32sLCwyy+/XO8NElxs3bp1/vz5xcXF6emDMzMzIyIijh//YevWbW+vebugoOCtt94cnJFhPzqzX1Vtbe3q1asXLFjg7+8/YcKEqKiolpaWYcOGnps/FADAKXHMe3njjX8/8sj/1tbWRkdHp6enx8TENDc3V1ZWHj169LrrrnN+XG9Df/DBB+vWrQuPCJ82bVp8fLzVai0uLt6+fftLL71UUVH+1ltvBwQG2It0RpqqPfjgg/n5+WlpaUOGDImIiGCMHThQuGXL1vfeey8wsN+LL73kPnRg7bJyzv/1z3+tXbu2urr6minXxMbG+vv7Hz58eNu2bTn7cm655ZbNmzcHDwh23kJDfcMNN9ywc9fOsWPGTp06NT4hvsnStHPnzs8++6ypqWno0KHTp08PCQkZMWKE/nnVqj7zzDN///vy9vaOSy+9dPDgwSaTT0FBYXZ29p///OfCwslJ7T4AABdmSURBVIKVK591Dn0wxiSJtbe3V1dXL1++/J131iQlJaakDPL19Y2LiwsODiYAgFN03qOQn78JIYRQrbaJEyZKJIWHhn/84cc1x2tsXbbO9k5Lg+VY+TFLg0VwITT7OIDMZB+DT0Jcwob1G5oamzSbptm0tpa2fTn7gvsHM2Izrpuhf1ho9r1Kj5a+svqVspKy1ubWro4urvKujq4N67+MDI9kxJYuXure7/7kE4sUSTHIikE2LFuyrLa6xtZlE1x0dXQVHSjKuihLkZTx48Z3tnc6b+HjDz/2MfgE+AV8sfYLrnL9vJpN27JpiyIpJqNP8cFi+/VwoR9q8iWTFUmZctWUkiMlHW0dmqqpVnXXdzvTBqVKJM2fN1+1qs5LWrZkmURSTFRMSHBIemr69uxv6mvr9e/Hs+8KGzZs2M7vJoTgor21PSoiyiAbLrn4kv25+y0NFmun1dppbahrKCspsxfOmijIK0hKSNIHSydNnHS4+HBbS5veU25psDz91NMmo8nf7P/xhx87j6y/yN6ave7zdXU1tR1tHfpAcUtTy6LHFymyYjaZDxQccB8KGDt6rMxkXx/f1JTUzZs2NzU2cZULIdpa2jZ+tdHHYJQl+Z6773EVp0Lcc/c9MpNjo2NrjtfYTy1EZ3vnE397QmZySnJKfW29+/WsW7vOqBj9zf4vPv9iU2OTzWrTbFpLU8trr7xGREbF+PWGr92/n7RBaTKTLx5/sa+P79w751aUVbQ0tXS0dbS1tJ3/vyA2bNj6ztbHYwBN/N//+z+T0dTPv98Xa9fpBbd98g+3l7zOwWU9BlAk5R9//0e35q8QQoiHFz6sSEpsdKy9ge48Avc8FFc5V/l1U68jolm/n9U9BnhSkRSJ2A0zbtBUzVlX6XXGv1/7NxGFBIfU19a77yIzefIlk+tq6uwxgOOMelt/4V8X6j/qB/nko0+MijG4f7C9onKeXROrVq6SSAruH/xDZZXzIHoMwIjFRMWUHi11vy/EANiwYettG1f5nNlzFEmJioiqq6kTQmiqJrijEHa84CrP35+flJCkl9u11bVCc7XChRDlpeUZ6RmM2LPPPOva3TEdyP6O279dHV3RkdGM2Ntvvu26Hk1cNOYifabN6n+utl+M5jrLH2b9gREbmDTQVXRrQr+q5559Tq8snGfes3tPVERUYEDghvUbnKfubO+8+bc3SyTdeMONzU3Nzu4n/YDTp00nooFJA7s6uuxXrom0QWn6fKfrp1/f2tzqujXtZ37n2LBh886tb+cFUlX166+/tlqtI0aMGHvRRfogsiRLrvw83XMvCCEMBsP111/PJPd3iQSNHj1aCGG1WquqqrrlCHLPRCERMWIyYzJLS0tjRBUVFe5PmzHGBAlfX/NDDz0kSZIzbwOTGRGNGzeOiBoa6puamvTPa6r2ww8/CCFCQkICAwMZY+6JmuLi4jjnhYUF9oPLjAQ9/PDDNtX2u9/9Lm1wmv5wsDPBxc0330xEjZbGHTu+9bhxg6IsWrQoPiHePXNRty8BAOC8Y1RZWblmzRohxAMPPKDPbJGY5JlEwW3JKo1rU6ZMCQ4Opu5JQqOjo0NCQoiopKRE38X9LETULQMEkdFoTExMZET2ItfxKyEEEYUOCL3pppuEJlwXI4iILr30UkGisrKyra1Nf7+xsfHYsQrOtWHDhjHG9MJf5+/v5+dnttlsNTU1zjuqr6/btGkTEd14440BAQFEjnR9EhHRnDlzGFFZWZn9Ltxu0exnfuyxx/z8/Fxv9e36HADOtb78PABRa2traWmpIJGRkRHUP+gnPy9IBAQEJCYnnpgfMyAgQFEUm83W0tJCkut5AL3dT4JsXTabzaZpmk21SUzy8fERRFar1X3mqN6vExgYGBER0S05tCDBRWRkpMxkIcTx48cTkxKJSJZlHx8fQaKlpaWtrS0wKND9WmtraxljsbFx+o/EqL2t/dChYiK6/PLLmxrtgYSzVpAkqX///haLJTc3d8b1M/REE7qgoOBx48Zh4UwA6NUEHTlyxGq1Go3GadOm6R0fP0Lvdhk0aJAke7Z/JUkKDAwUJBobG/UjE3VL869pmtql6vRudH9/fyLW1tbu6ltxnD05Oblf/37d3mREnPSwQdPUlpYWvwA/IvLz8xOCOImKigohBBPMuUtXl7Wzs0uW5YCAAHv5zKimpra2tpYxSk1NbbI0CWe2UyLGmL+/v4/RZLPZSkpKUtNThSYcwQ8bkjFk2PBhrlsDADhNfTsG4JzX1NQQUVhY2Kn0asuSnJiY0GOJKUlMkiR74StcrWfVqu7atWvr1q0FBQU1NdXV1TVNTU2qqjY3N/d4CsZYUFCQPa2n5KotmMRkWdaEJpEknCvbM8oYkiExqbCw4ODBg2PHjrV3GjHK25e3+/vdBoMybdo0Zzhx9OhRfdd75t9jUAz6Wgfuz4q1t7czRoWFhR7p5MLDw7t1FwEA9EKMjh07ppeisiw7H+TtNrDpaIjrRZ9RMQYGBnY7iKN8lSTJviy8INeoKVFba+uXX27Yvn17SUlJTW1NXW1dR0eHqtrq6xu6LSIpXMeKi4s7cekVPXIgYpwL58ozRpPxV7/61Zdffvnaa69NmzYtIDDAuUd29rb6+vrg4ODBgwfrpboQIi8vTz/N1VdfLYRgzL7SgH4lqqrqyU+PHz9O3QdvhwwZ4rnIAADA6ejLMYAgLrjeFvcP8D+VPTjnAQH9euwOZ0zSG+7CuRINUXtb+3333fff//63tbVFlpWwsLCYmOhBgwaZzeb8/Pyc3BxN0zwPxcjX19dz5UrHImWMGO++lMuM6TP+vvzvR44cuemm3y5YsGDq1GmSJG3YsGHx4sWNDY233Tbr0ksvdX74ePVxm2aTmcw1bhPWE4t/fejcPqDsPhfIYDAYDKfyFQEAnEeNjY2a0Mxms8Gg9LACY3eChCRJiqKcpFRnjBh3LssoiIhycnJmzJhRV1fX0dFuMvlGRUXFxcUNGBDcr1/gunXrjlcf5+7LODJ7EBEcHNzjQl2ca4IcAYAjOFm1atVF4y7Kzt42derUhQsXZmVlVVRUvPnmm6tXr+7s7Fy6dGlycrKmarIsM5mVlZXJisw1brVanf1Q+miAHgaEhoYyxvRVCNxvMyiov6ubCQDg9PXtGECWZH3VFUuj5Sc/zhgJ4rIsE/WwaozeNy+EILIvuys08cj/PvLmm2+YTL4PPPA/d9xxh742DZP0efkP5ebmMo8OKr3HX5IUxSA04fHUgX4KiST3BW6CBgRt2rTplltu+e677/70pz/Pv/deRkxRlNDQ0NmzZz/88MOKQXGeIjIiQmKSEGLt2rUjR430XDXT8aJbhWS/d3QWAUCvx6l///4G2dDe3ma12n56+qIgIlIU2fVOT7twwSWSSKKKsoq5c+dWVFQMHz787rvvnjlzpr+/H5MkSZJI0KRJk6qrq3s4CyNFcdSVJ70ex8rBjFJSU1584cUHH/zr1m1bv/nmG41rjJjRaExJSZk9e/ats24lQbIi6+MSsbGxmqopilJUVNSvX78enkNzHl543B1KdQD4RfpyDMDIYDBERkbm5eVVV1efwmR3Ro62fs9dSqLbjNHS0tIXX3hR5dqyZcvmzp1rMBhcT1wJqqyscjuq53HsoULP9MlGDpxiYmKGDh26c+fO226blZqa5uvrm5CQEBUVOWTIUKOP0X4KQUSUmJikyIpVte7evXvkyJHdagu3j9mXRAAA6FM0TYuNjVU11WJp6ujo+MnPM7ueHoa1TwISRMQcpeQ333yzd+9eWZafe+658ePH6x06zkUJ9AwNrjrC2eYWxDn3nHgj3E5DJNyLXE5Dhw41m/0iwiNm3zHb1+QbHR0dHR2dmJiYmJjothMRo8zMTFmWVFUtLi4ePXp0D3fhvBL3Z89IoGcHAH6hvhwDCDIajTEx0USUn59fdawqKjrqxz7u6uTvgX0WqFuhumvXLk3TfH18//CHPxh8DPoZ9XmlqqoeOnRI36+HswjBGPOsMByv3aaY2ov1Ff9YsXr16gceeGD58uXu7+uJ3uy1FBERmf3Ngwal5BcWfPjhh7NnzzYYTzK9p8cxcVQYANC7yYqckJDgY/Tp6ur85JNP0tPTe+hM8ej7ODn3Z6X0F9u3b+eCh4eET7h4QrduI06tra3l5eX2H90CA2LdjtDj8T2uTdXUhQ8tPFpy9KMPP7r66qv1GTtc4/Zkcc5PMiKioKCg4ODghobGLVu2jBo1yn5Mj9Fdt2EB4fE7ZHoAgJ+rL+cSk8hoMl555VUGgyEvL++rrzb85B5MnyB6aiWm0WjUp2Y2NTV59MR89dVXjhig56pIiFM7hyDi4q233iISI0eNtB9NL9N5Tw13QYsXL/Ex+GzcuPGdd97hGu/xqAAAfVR8fPytt94qiJ57bpWrmP1R3crJHope11smk4kR0zSto90xyMCIiKw268KFC7tsXfajndi277EPxe09ex4IIiLSVG3Xzl2Ci+HDh9vrAkaSLLnqW2fDnVNoaOhVV/1GCLFmzZrDhw+f9DFfR8zAuoURCAAA4OfryzEAEQmaPn36mDFjOjo65s275/nnnldtquBC0zTBRfXx6i2bt7gXqScbBCAiva/cvemeOTJTkqQua9f8+fNt+sxUTsRo08aN8+bNs1gseoTAVc+GuDOzm2c2up5wLpKSkojYA3954MEHH3zxhRf+9c9/vfDCC++//35ubm57e7umau5HmDJlyvTp0zWh3X///StWrOAaF1zYQxRBO7bvWPjgws6OTs/vyTnADQDQmzFauXJlTHRMdU3N9OnT9+7Za5+No3FN1XZs3567N9eZ4efH6Hl7yPEfERGNHDmSE7dYLO+++65ms2d00FTtyUVPvvbaqzKTOPFuzwTrV+Qs0n/kbM4PcNI0LSQkhDE2c+bMZcuWvrL6lX+99M+XV7+89vO1JUdLNFXTL08fVTaZTfPmzfP19d2ft3/KlCnZ2dn2WxNERO1t7W+9+dZf/vIXj9rE3p+FXiAA+AX69lwgIpIV+fXXX583b152dvb999//zDPPZGRkcM6rqqqKi4uuuebayZdOds+Uf0oHJSKihMSEv/71r08//Y+PP/145MiRWVlZnZ2dhw4d+m7Xd2NGjXn00Ufn3DmHfuHke0aSIj3xxBM5OTnlFeUrVqzggut9PYI4EQsNCZ07d+5dd90VFR2ln8VgNCxYsKCxsXHr1i0LFy5cuXLlwIED/fz8mpubq6qqysvL4+PjHn30UY/zSFgODAD6CD8/v6XLlj7+t8cPHDwwadKkpKSk+Pj41tbWsrKy8vLy559/fvjw4e49I6fewXHZZZdNnDAxe3v2fffd9+mnn0ZFRVVXVxcXF5WUlM6cOTM+PmHJ0iX2GTunXKozj2uQyGw2z5o168knn9y1e9fOXTtJn77vyDE0ePDghx5aeNNNN0uKvVoaO27sypUrV6x4+mBR0RVXXJGQkJCcnKyqak1NTXl5eX1j/cQJE4mcaR7wJAAAnBl9OQZwSElJee+9955//vk1a9ZUVlZWVFRwwWVJjoyMnDx5MpErT38PQ7wnI4iIHnnkkX79Ap566h8HDx4sKCxgRCEhobfcfMujjz4aGxv7pz//6bTa1j1UVJw2bNiwaNGijo6O1EGpAwcONJlMRKSqqsViqagoLy0tW7xkcWVl5apVq5z5TzMzM996+60P//vhiy++WFhYcLz6uF7ByJI8cuTI2267TT+I8y5Iv3UAgD6B0c033Zw5InPRoic2b96Sn5+fn59PRIqijB49asyYMR4PCZxsog6T7M1u5yT7iMiIl19+efGSxR99+NGXX36pqqrBYIiJiV60aNGcOXO+/fZbg6LIsuyRkOc05nYyUq3q8uXL33vvPaPROGzYsLCwMB8fHyLq6uqqq6vTq5L58+81mXxnzJjhLJjvuPOOCRMmPPXUU+vXry8uLi4uLtav2WQyTbt22l133eU6Bf30oAQAwKlggl9QpUljQ2NOTk5nZ2dCQvzAgSlGo9EjncJpE0REeXl5lZWV6enp8fHxRGeiRS2IiAoLCy+77LLGxsZVq1bNmTNHcc+HLUhTtSVLljz+xOPhYeHffvttQmJCtyMwIiJbly0nJ6euri40NDQhISE0NBStfQC4cDAqOVJSWFgYGBiYlJQYGRnlWsaLfmq+pXuxr1cEnIiRpmotLS35+fk2m23UqFH2jJwnpuM8XYKI6LHHHntyyZOjR45+4403MjIyug1BC2puap4yZcqOb3eMGjlq165dPT7xXFtdu2PHDrPZHB8fHxMT7etr7vERBQCAX+iCigEEt6+yzmTmmv/zy+/PUXO4fux21p9/4Ll/nPvqq69Onz79/ffft6917xYDEKPy0vL4xHhfH9+cnJzUtNQeLoxOqOcunL8nAEB3PTb6T6vcOzFj25kqMxmVlZRde+01Bw8Wvf7667+f9Xsisk/Zd0sxtGH9hit/c2VgQGBDQ0O3qaRuq83Yl5cRhFXAAODs6ePPBHfHGCOJhBBCE2eyZOfkXAf+jHXGMCJB2dnZgsSvf/1rSZZIULd4jBER1dfXE5Gvr69rek/3D7iyFdmzCQl0FwHAhUMQEdlzoJ1Kf78HdkKLX+r+Iz9DpTojImpqajp+vFoIkZqa6row5/E5kaCammoiCg8Pt/f79HgwveNf6r47AMAZdUHFAHo7WJIl1wDrGQkD9LRu5Mjk4LH9bBINGzaMiNavX9/Z0UmMmOx22ZyaLc2vv/46I5aammo2mz13d57deSWs+wIHAAB9HSMitxL4dDtiPErpE388o2Onfn5+QUFBkiTl5OQITRARSW7dNIwOFB5YseIZiaRp06bZL8D9YsitMD8jtQwAwMnJj//t8fN9Dd7LbDZ//vnn+fn5NTXVcXHx4WHhggtN1aqqKt99973HHnvsk08+YcSWL18+duxY5IIAAOilGBGRr8k3Jydn//79BQUFmqYlJCQEBARwzjs7Og4fPrzymZVPPPFEYWFhVlbWypUr/fv5n++LBgCvdkE9D9CXMCIizaYtXbr0pZdeqqur41wzGIwBAQEWi4VzTiRMJt+4uLgFCxbMvmM2JvoDAPRejiK6+nj19OnTDxwotDQ3KZLi5+cnSVJzc7MQQlGU/v37p6amPvvssyNHjyRCqQ4A5xNigPPE0adv7bTm5uZu27YtLy+vrq6uuaW5X79+YaFhkZGRo0ePvvjii0PDQu0PhwEAQC/HqK2lbfPmzZs3b66srKyrq1NV24ABIcHBwYMGDRo/fvyYMWOMJiOKdAA47xADnCfuC9xogog45/psH8YYY4xzri9Voyc78tgFAAB6KUZCc6Wn02yarMjEiKucMcZk9OkAQK+AGKDXcEsMR+RaSR61BQBAn/EjyaPdk7mhYAeA8w0xAAAAAACAd7mwcoMCAAAAAMBPQQwAAAAAAOBdEAMAAAAAAHgXxAAAAAAAAN4FMQAAAAAAgHdBDAAAAAAA4F0QAwAAAAAAeBfEAAAAAAAA3gUxAAAAAACAd0EMAAAAAADgXRADAAAAAAB4F8QAAAAAAADeBTEAAAAAAIB3QQwAAAAAAOBdEAMAAAAAAHgXxAAAAAAAAN4FMQAAAAAAgHdBDAAAAAAA4F0QAwAAAAAAeBfEAAAAAAAA3gUxAAAAAACAd0EMAAAAAADgXRADAAAAAAB4F8QAAAAAAADeBTEAAAAAAIB3QQwAAAAAAOBdEAMAAAAAAHgXxAAAAAAAAN4FMQAAAAAAgHdBDAAAAAAA4F0QAwAAAAAAeBfEAAAAAAAA3gUxAAAAAACAd0EMAAAAAADgXRADAAAAAAB4F8QAAAAAAADeBTEAAAAAAIB3QQwAAAAAAOBdEAMAAAAAAHgXxAAAAAAAAN4FMQAAAAAAgHdBDAAAAAAA4F0QAwAAAAAAeBfEAAAAAAAA3gUxAAAAAACAd0EMAAAAAADgXRADAAAAAAB4F8QAAAAAAADeBTEAAAAAAIB3+f8Q0ZYE27+3OwAAAABJRU5ErkJggg==)"
      ],
      "metadata": {
        "id": "UBz-pyoN1oyy"
      }
    },
    {
      "cell_type": "markdown",
      "metadata": {
        "id": "6K-EOc_itF7S"
      },
      "source": [
        "The goal of lemmatization is the same as for stemming, in that it aims to reduce words to their root form. However, stemming is known to be a fairly crude method of doing this. Lemmatization, on the other hand, is a tool that performs full morphological analysis to more accurately find the root, or “lemma” for a word."
      ]
    },
    {
      "cell_type": "code",
      "execution_count": null,
      "metadata": {
        "id": "P-M4GjzG1IRQ"
      },
      "outputs": [],
      "source": [
        "data_clean = data_clean[['name_clean', 'description_clean']]"
      ]
    },
    {
      "cell_type": "markdown",
      "metadata": {
        "id": "_Qen8dy4zr89"
      },
      "source": [
        "## Features pre-processing:"
      ]
    },
    {
      "cell_type": "markdown",
      "metadata": {
        "id": "dFnwtwT7zzGX"
      },
      "source": [
        "[TF-IDF](https://towardsdatascience.com/tf-idf-explained-and-python-sklearn-implementation-b020c5e83275)"
      ]
    },
    {
      "cell_type": "markdown",
      "metadata": {
        "id": "9cRKb_79C3uI"
      },
      "source": [
        "[TF-IDF choice](https://www.analyticsvidhya.com/blog/2021/06/part-5-step-by-step-guide-to-master-nlp-text-vectorization-approaches/)"
      ]
    },
    {
      "cell_type": "markdown",
      "source": [
        "![image.png](data:image/png;base64,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)"
      ],
      "metadata": {
        "id": "a75epvu72tN-"
      }
    },
    {
      "cell_type": "markdown",
      "metadata": {
        "id": "td5R66xiz_6R"
      },
      "source": [
        "**TF-IDF** is a statistic that aims to better define how important a word is for a document, while also taking into account the relation to other documents from the same corpus."
      ]
    },
    {
      "cell_type": "markdown",
      "metadata": {
        "id": "Q7z8IMMp00IR"
      },
      "source": [
        "**TFIDFVectorizer**\n",
        "\n",
        "With Tfidfvectorizer, you will do all three steps at once. Under the hood, it computes the word counts, idf values, and tfidf scores all using the same dataset."
      ]
    },
    {
      "cell_type": "code",
      "execution_count": null,
      "metadata": {
        "id": "isFnZ3Xr6uAj"
      },
      "outputs": [],
      "source": [
        "v = TfidfVectorizer() #vectorizer\n",
        "X = v.fit_transform(data_clean['name_clean'] + data_clean['description_clean'])"
      ]
    },
    {
      "cell_type": "code",
      "execution_count": null,
      "metadata": {
        "colab": {
          "base_uri": "https://localhost:8080/"
        },
        "id": "bDKHqbQL1t3h",
        "outputId": "081ae600-5df0-4fa0-fbda-b9d0de60ed99"
      },
      "outputs": [
        {
          "output_type": "execute_result",
          "data": {
            "text/plain": [
              "array(<50965x40212 sparse matrix of type '<class 'numpy.float64'>'\n",
              "\twith 876990 stored elements in Compressed Sparse Row format>,\n",
              "      dtype=object)"
            ]
          },
          "metadata": {},
          "execution_count": 51
        }
      ],
      "source": [
        "np.asarray(X)"
      ]
    },
    {
      "cell_type": "markdown",
      "metadata": {
        "id": "G6C_tRYZ7-eX"
      },
      "source": [
        "# Labels DataFrame"
      ]
    },
    {
      "cell_type": "markdown",
      "source": [
        "## Labels cleaning:"
      ],
      "metadata": {
        "id": "wAs_JHRQ5E3a"
      }
    },
    {
      "cell_type": "code",
      "execution_count": null,
      "metadata": {
        "id": "SeDNPcPs8Bv0",
        "colab": {
          "base_uri": "https://localhost:8080/",
          "height": 423
        },
        "outputId": "242da868-b79e-4c35-9f3a-473b427db3da"
      },
      "outputs": [
        {
          "output_type": "execute_result",
          "data": {
            "text/plain": [
              "                                                category\n",
              "14162  [{'id': 'abcat0800000', 'name': 'Cell Phones'}...\n",
              "9451   [{'id': 'pcmcat312300050015', 'name': 'Connect...\n",
              "22150  [{'id': 'abcat0800000', 'name': 'Cell Phones'}...\n",
              "41229  [{'id': 'pcmcat312300050015', 'name': 'Connect...\n",
              "37474  [{'id': 'abcat0900000', 'name': 'Appliances'},...\n",
              "...                                                  ...\n",
              "5888   [{'id': 'abcat0300000', 'name': 'Car Electroni...\n",
              "19026  [{'id': 'abcat0900000', 'name': 'Appliances'},...\n",
              "39041  [{'id': 'abcat0200000', 'name': 'Audio'}, {'id...\n",
              "17872  [{'id': 'abcat0900000', 'name': 'Appliances'},...\n",
              "12187  [{'id': 'abcat0800000', 'name': 'Cell Phones'}...\n",
              "\n",
              "[50965 rows x 1 columns]"
            ],
            "text/html": [
              "\n",
              "  <div id=\"df-3cf3260d-ad4c-490f-9cfc-c51f666abd86\">\n",
              "    <div class=\"colab-df-container\">\n",
              "      <div>\n",
              "<style scoped>\n",
              "    .dataframe tbody tr th:only-of-type {\n",
              "        vertical-align: middle;\n",
              "    }\n",
              "\n",
              "    .dataframe tbody tr th {\n",
              "        vertical-align: top;\n",
              "    }\n",
              "\n",
              "    .dataframe thead th {\n",
              "        text-align: right;\n",
              "    }\n",
              "</style>\n",
              "<table border=\"1\" class=\"dataframe\">\n",
              "  <thead>\n",
              "    <tr style=\"text-align: right;\">\n",
              "      <th></th>\n",
              "      <th>category</th>\n",
              "    </tr>\n",
              "  </thead>\n",
              "  <tbody>\n",
              "    <tr>\n",
              "      <th>14162</th>\n",
              "      <td>[{'id': 'abcat0800000', 'name': 'Cell Phones'}...</td>\n",
              "    </tr>\n",
              "    <tr>\n",
              "      <th>9451</th>\n",
              "      <td>[{'id': 'pcmcat312300050015', 'name': 'Connect...</td>\n",
              "    </tr>\n",
              "    <tr>\n",
              "      <th>22150</th>\n",
              "      <td>[{'id': 'abcat0800000', 'name': 'Cell Phones'}...</td>\n",
              "    </tr>\n",
              "    <tr>\n",
              "      <th>41229</th>\n",
              "      <td>[{'id': 'pcmcat312300050015', 'name': 'Connect...</td>\n",
              "    </tr>\n",
              "    <tr>\n",
              "      <th>37474</th>\n",
              "      <td>[{'id': 'abcat0900000', 'name': 'Appliances'},...</td>\n",
              "    </tr>\n",
              "    <tr>\n",
              "      <th>...</th>\n",
              "      <td>...</td>\n",
              "    </tr>\n",
              "    <tr>\n",
              "      <th>5888</th>\n",
              "      <td>[{'id': 'abcat0300000', 'name': 'Car Electroni...</td>\n",
              "    </tr>\n",
              "    <tr>\n",
              "      <th>19026</th>\n",
              "      <td>[{'id': 'abcat0900000', 'name': 'Appliances'},...</td>\n",
              "    </tr>\n",
              "    <tr>\n",
              "      <th>39041</th>\n",
              "      <td>[{'id': 'abcat0200000', 'name': 'Audio'}, {'id...</td>\n",
              "    </tr>\n",
              "    <tr>\n",
              "      <th>17872</th>\n",
              "      <td>[{'id': 'abcat0900000', 'name': 'Appliances'},...</td>\n",
              "    </tr>\n",
              "    <tr>\n",
              "      <th>12187</th>\n",
              "      <td>[{'id': 'abcat0800000', 'name': 'Cell Phones'}...</td>\n",
              "    </tr>\n",
              "  </tbody>\n",
              "</table>\n",
              "<p>50965 rows × 1 columns</p>\n",
              "</div>\n",
              "      <button class=\"colab-df-convert\" onclick=\"convertToInteractive('df-3cf3260d-ad4c-490f-9cfc-c51f666abd86')\"\n",
              "              title=\"Convert this dataframe to an interactive table.\"\n",
              "              style=\"display:none;\">\n",
              "        \n",
              "  <svg xmlns=\"http://www.w3.org/2000/svg\" height=\"24px\"viewBox=\"0 0 24 24\"\n",
              "       width=\"24px\">\n",
              "    <path d=\"M0 0h24v24H0V0z\" fill=\"none\"/>\n",
              "    <path d=\"M18.56 5.44l.94 2.06.94-2.06 2.06-.94-2.06-.94-.94-2.06-.94 2.06-2.06.94zm-11 1L8.5 8.5l.94-2.06 2.06-.94-2.06-.94L8.5 2.5l-.94 2.06-2.06.94zm10 10l.94 2.06.94-2.06 2.06-.94-2.06-.94-.94-2.06-.94 2.06-2.06.94z\"/><path d=\"M17.41 7.96l-1.37-1.37c-.4-.4-.92-.59-1.43-.59-.52 0-1.04.2-1.43.59L10.3 9.45l-7.72 7.72c-.78.78-.78 2.05 0 2.83L4 21.41c.39.39.9.59 1.41.59.51 0 1.02-.2 1.41-.59l7.78-7.78 2.81-2.81c.8-.78.8-2.07 0-2.86zM5.41 20L4 18.59l7.72-7.72 1.47 1.35L5.41 20z\"/>\n",
              "  </svg>\n",
              "      </button>\n",
              "      \n",
              "  <style>\n",
              "    .colab-df-container {\n",
              "      display:flex;\n",
              "      flex-wrap:wrap;\n",
              "      gap: 12px;\n",
              "    }\n",
              "\n",
              "    .colab-df-convert {\n",
              "      background-color: #E8F0FE;\n",
              "      border: none;\n",
              "      border-radius: 50%;\n",
              "      cursor: pointer;\n",
              "      display: none;\n",
              "      fill: #1967D2;\n",
              "      height: 32px;\n",
              "      padding: 0 0 0 0;\n",
              "      width: 32px;\n",
              "    }\n",
              "\n",
              "    .colab-df-convert:hover {\n",
              "      background-color: #E2EBFA;\n",
              "      box-shadow: 0px 1px 2px rgba(60, 64, 67, 0.3), 0px 1px 3px 1px rgba(60, 64, 67, 0.15);\n",
              "      fill: #174EA6;\n",
              "    }\n",
              "\n",
              "    [theme=dark] .colab-df-convert {\n",
              "      background-color: #3B4455;\n",
              "      fill: #D2E3FC;\n",
              "    }\n",
              "\n",
              "    [theme=dark] .colab-df-convert:hover {\n",
              "      background-color: #434B5C;\n",
              "      box-shadow: 0px 1px 3px 1px rgba(0, 0, 0, 0.15);\n",
              "      filter: drop-shadow(0px 1px 2px rgba(0, 0, 0, 0.3));\n",
              "      fill: #FFFFFF;\n",
              "    }\n",
              "  </style>\n",
              "\n",
              "      <script>\n",
              "        const buttonEl =\n",
              "          document.querySelector('#df-3cf3260d-ad4c-490f-9cfc-c51f666abd86 button.colab-df-convert');\n",
              "        buttonEl.style.display =\n",
              "          google.colab.kernel.accessAllowed ? 'block' : 'none';\n",
              "\n",
              "        async function convertToInteractive(key) {\n",
              "          const element = document.querySelector('#df-3cf3260d-ad4c-490f-9cfc-c51f666abd86');\n",
              "          const dataTable =\n",
              "            await google.colab.kernel.invokeFunction('convertToInteractive',\n",
              "                                                     [key], {});\n",
              "          if (!dataTable) return;\n",
              "\n",
              "          const docLinkHtml = 'Like what you see? Visit the ' +\n",
              "            '<a target=\"_blank\" href=https://colab.research.google.com/notebooks/data_table.ipynb>data table notebook</a>'\n",
              "            + ' to learn more about interactive tables.';\n",
              "          element.innerHTML = '';\n",
              "          dataTable['output_type'] = 'display_data';\n",
              "          await google.colab.output.renderOutput(dataTable, element);\n",
              "          const docLink = document.createElement('div');\n",
              "          docLink.innerHTML = docLinkHtml;\n",
              "          element.appendChild(docLink);\n",
              "        }\n",
              "      </script>\n",
              "    </div>\n",
              "  </div>\n",
              "  "
            ]
          },
          "metadata": {},
          "execution_count": 52
        }
      ],
      "source": [
        "Labels_df"
      ]
    },
    {
      "cell_type": "code",
      "execution_count": null,
      "metadata": {
        "id": "iUpEonyu8bwr",
        "colab": {
          "base_uri": "https://localhost:8080/"
        },
        "outputId": "548e708d-fe36-4cff-811a-97a6990c8a04"
      },
      "outputs": [
        {
          "output_type": "execute_result",
          "data": {
            "text/plain": [
              "array([list([{'id': 'abcat0800000', 'name': 'Cell Phones'}, {'id': 'abcat0811002', 'name': 'Cell Phone Accessories'}, {'id': 'abcat0811006', 'name': 'Cell Phone Cases & Clips'}]),\n",
              "       list([{'id': 'pcmcat312300050015', 'name': 'Connected Home & Housewares'}, {'id': 'pcmcat341100050005', 'name': 'Household Essentials'}, {'id': 'pcmcat253700050018', 'name': 'Luggage, Bags & Travel'}, {'id': 'pcmcat271700050005', 'name': 'Travel Accessories'}, {'id': 'pcmcat271700050007', 'name': 'Travel Wallets'}]),\n",
              "       list([{'id': 'abcat0800000', 'name': 'Cell Phones'}, {'id': 'abcat0811002', 'name': 'Cell Phone Accessories'}, {'id': 'pcmcat191200050015', 'name': 'iPhone Accessories'}, {'id': 'pcmcat214700050000', 'name': 'iPhone Cases & Clips'}, {'id': 'pcmcat748300580023', 'name': 'iPhone 6s Cases'}]),\n",
              "       ...,\n",
              "       list([{'id': 'abcat0200000', 'name': 'Audio'}, {'id': 'pcmcat310200050004', 'name': 'Bluetooth & Wireless Speakers'}]),\n",
              "       list([{'id': 'abcat0900000', 'name': 'Appliances'}, {'id': 'pcmcat302300050021', 'name': 'Heating, Cooling & Air Quality'}, {'id': 'abcat0907006', 'name': 'Fans'}, {'id': 'pcmcat297500050013', 'name': 'Table & Portable Fans'}]),\n",
              "       list([{'id': 'abcat0800000', 'name': 'Cell Phones'}, {'id': 'abcat0811002', 'name': 'Cell Phone Accessories'}, {'id': 'abcat0811006', 'name': 'Cell Phone Cases & Clips'}])],\n",
              "      dtype=object)"
            ]
          },
          "metadata": {},
          "execution_count": 53
        }
      ],
      "source": [
        "Labels_df['category'].values"
      ]
    },
    {
      "cell_type": "code",
      "execution_count": null,
      "metadata": {
        "id": "dvUQ5BCF8nK4",
        "colab": {
          "base_uri": "https://localhost:8080/"
        },
        "outputId": "5761a3ff-e801-45a2-ccc3-6ad641988ffa"
      },
      "outputs": [
        {
          "output_type": "stream",
          "name": "stderr",
          "text": [
            "/usr/local/lib/python3.7/dist-packages/ipykernel_launcher.py:1: SettingWithCopyWarning: \n",
            "A value is trying to be set on a copy of a slice from a DataFrame.\n",
            "Try using .loc[row_indexer,col_indexer] = value instead\n",
            "\n",
            "See the caveats in the documentation: https://pandas.pydata.org/pandas-docs/stable/user_guide/indexing.html#returning-a-view-versus-a-copy\n",
            "  \"\"\"Entry point for launching an IPython kernel.\n"
          ]
        }
      ],
      "source": [
        "Labels_df['category_name'] = df['category'].apply(lambda L: [l['name'] for l in L])\n",
        "Labels_df['category_id'] = df['category'].apply(lambda L: [l['id'] for l in L] )"
      ]
    },
    {
      "cell_type": "code",
      "execution_count": null,
      "metadata": {
        "id": "c48hIqQY8vb2",
        "colab": {
          "base_uri": "https://localhost:8080/",
          "height": 206
        },
        "outputId": "7fddb932-f8df-4f1f-b8d7-8b09c091b4b5"
      },
      "outputs": [
        {
          "output_type": "execute_result",
          "data": {
            "text/plain": [
              "                                                category  \\\n",
              "14162  [{'id': 'abcat0800000', 'name': 'Cell Phones'}...   \n",
              "9451   [{'id': 'pcmcat312300050015', 'name': 'Connect...   \n",
              "22150  [{'id': 'abcat0800000', 'name': 'Cell Phones'}...   \n",
              "41229  [{'id': 'pcmcat312300050015', 'name': 'Connect...   \n",
              "37474  [{'id': 'abcat0900000', 'name': 'Appliances'},...   \n",
              "\n",
              "                                           category_name  \\\n",
              "14162  [Cell Phones, Cell Phone Accessories, Cell Pho...   \n",
              "9451   [Connected Home & Housewares, Household Essent...   \n",
              "22150  [Cell Phones, Cell Phone Accessories, iPhone A...   \n",
              "41229      [Connected Home & Housewares, Connected Home]   \n",
              "37474  [Appliances, Appliance Parts & Accessories, Tr...   \n",
              "\n",
              "                                             category_id  \n",
              "14162         [abcat0800000, abcat0811002, abcat0811006]  \n",
              "9451   [pcmcat312300050015, pcmcat341100050005, pcmca...  \n",
              "22150  [abcat0800000, abcat0811002, pcmcat19120005001...  \n",
              "41229           [pcmcat312300050015, pcmcat254000050002]  \n",
              "37474         [abcat0900000, abcat0916000, abcat0906001]  "
            ],
            "text/html": [
              "\n",
              "  <div id=\"df-aed66bb3-66eb-4d9b-a179-1148b0be05b7\">\n",
              "    <div class=\"colab-df-container\">\n",
              "      <div>\n",
              "<style scoped>\n",
              "    .dataframe tbody tr th:only-of-type {\n",
              "        vertical-align: middle;\n",
              "    }\n",
              "\n",
              "    .dataframe tbody tr th {\n",
              "        vertical-align: top;\n",
              "    }\n",
              "\n",
              "    .dataframe thead th {\n",
              "        text-align: right;\n",
              "    }\n",
              "</style>\n",
              "<table border=\"1\" class=\"dataframe\">\n",
              "  <thead>\n",
              "    <tr style=\"text-align: right;\">\n",
              "      <th></th>\n",
              "      <th>category</th>\n",
              "      <th>category_name</th>\n",
              "      <th>category_id</th>\n",
              "    </tr>\n",
              "  </thead>\n",
              "  <tbody>\n",
              "    <tr>\n",
              "      <th>14162</th>\n",
              "      <td>[{'id': 'abcat0800000', 'name': 'Cell Phones'}...</td>\n",
              "      <td>[Cell Phones, Cell Phone Accessories, Cell Pho...</td>\n",
              "      <td>[abcat0800000, abcat0811002, abcat0811006]</td>\n",
              "    </tr>\n",
              "    <tr>\n",
              "      <th>9451</th>\n",
              "      <td>[{'id': 'pcmcat312300050015', 'name': 'Connect...</td>\n",
              "      <td>[Connected Home &amp; Housewares, Household Essent...</td>\n",
              "      <td>[pcmcat312300050015, pcmcat341100050005, pcmca...</td>\n",
              "    </tr>\n",
              "    <tr>\n",
              "      <th>22150</th>\n",
              "      <td>[{'id': 'abcat0800000', 'name': 'Cell Phones'}...</td>\n",
              "      <td>[Cell Phones, Cell Phone Accessories, iPhone A...</td>\n",
              "      <td>[abcat0800000, abcat0811002, pcmcat19120005001...</td>\n",
              "    </tr>\n",
              "    <tr>\n",
              "      <th>41229</th>\n",
              "      <td>[{'id': 'pcmcat312300050015', 'name': 'Connect...</td>\n",
              "      <td>[Connected Home &amp; Housewares, Connected Home]</td>\n",
              "      <td>[pcmcat312300050015, pcmcat254000050002]</td>\n",
              "    </tr>\n",
              "    <tr>\n",
              "      <th>37474</th>\n",
              "      <td>[{'id': 'abcat0900000', 'name': 'Appliances'},...</td>\n",
              "      <td>[Appliances, Appliance Parts &amp; Accessories, Tr...</td>\n",
              "      <td>[abcat0900000, abcat0916000, abcat0906001]</td>\n",
              "    </tr>\n",
              "  </tbody>\n",
              "</table>\n",
              "</div>\n",
              "      <button class=\"colab-df-convert\" onclick=\"convertToInteractive('df-aed66bb3-66eb-4d9b-a179-1148b0be05b7')\"\n",
              "              title=\"Convert this dataframe to an interactive table.\"\n",
              "              style=\"display:none;\">\n",
              "        \n",
              "  <svg xmlns=\"http://www.w3.org/2000/svg\" height=\"24px\"viewBox=\"0 0 24 24\"\n",
              "       width=\"24px\">\n",
              "    <path d=\"M0 0h24v24H0V0z\" fill=\"none\"/>\n",
              "    <path d=\"M18.56 5.44l.94 2.06.94-2.06 2.06-.94-2.06-.94-.94-2.06-.94 2.06-2.06.94zm-11 1L8.5 8.5l.94-2.06 2.06-.94-2.06-.94L8.5 2.5l-.94 2.06-2.06.94zm10 10l.94 2.06.94-2.06 2.06-.94-2.06-.94-.94-2.06-.94 2.06-2.06.94z\"/><path d=\"M17.41 7.96l-1.37-1.37c-.4-.4-.92-.59-1.43-.59-.52 0-1.04.2-1.43.59L10.3 9.45l-7.72 7.72c-.78.78-.78 2.05 0 2.83L4 21.41c.39.39.9.59 1.41.59.51 0 1.02-.2 1.41-.59l7.78-7.78 2.81-2.81c.8-.78.8-2.07 0-2.86zM5.41 20L4 18.59l7.72-7.72 1.47 1.35L5.41 20z\"/>\n",
              "  </svg>\n",
              "      </button>\n",
              "      \n",
              "  <style>\n",
              "    .colab-df-container {\n",
              "      display:flex;\n",
              "      flex-wrap:wrap;\n",
              "      gap: 12px;\n",
              "    }\n",
              "\n",
              "    .colab-df-convert {\n",
              "      background-color: #E8F0FE;\n",
              "      border: none;\n",
              "      border-radius: 50%;\n",
              "      cursor: pointer;\n",
              "      display: none;\n",
              "      fill: #1967D2;\n",
              "      height: 32px;\n",
              "      padding: 0 0 0 0;\n",
              "      width: 32px;\n",
              "    }\n",
              "\n",
              "    .colab-df-convert:hover {\n",
              "      background-color: #E2EBFA;\n",
              "      box-shadow: 0px 1px 2px rgba(60, 64, 67, 0.3), 0px 1px 3px 1px rgba(60, 64, 67, 0.15);\n",
              "      fill: #174EA6;\n",
              "    }\n",
              "\n",
              "    [theme=dark] .colab-df-convert {\n",
              "      background-color: #3B4455;\n",
              "      fill: #D2E3FC;\n",
              "    }\n",
              "\n",
              "    [theme=dark] .colab-df-convert:hover {\n",
              "      background-color: #434B5C;\n",
              "      box-shadow: 0px 1px 3px 1px rgba(0, 0, 0, 0.15);\n",
              "      filter: drop-shadow(0px 1px 2px rgba(0, 0, 0, 0.3));\n",
              "      fill: #FFFFFF;\n",
              "    }\n",
              "  </style>\n",
              "\n",
              "      <script>\n",
              "        const buttonEl =\n",
              "          document.querySelector('#df-aed66bb3-66eb-4d9b-a179-1148b0be05b7 button.colab-df-convert');\n",
              "        buttonEl.style.display =\n",
              "          google.colab.kernel.accessAllowed ? 'block' : 'none';\n",
              "\n",
              "        async function convertToInteractive(key) {\n",
              "          const element = document.querySelector('#df-aed66bb3-66eb-4d9b-a179-1148b0be05b7');\n",
              "          const dataTable =\n",
              "            await google.colab.kernel.invokeFunction('convertToInteractive',\n",
              "                                                     [key], {});\n",
              "          if (!dataTable) return;\n",
              "\n",
              "          const docLinkHtml = 'Like what you see? Visit the ' +\n",
              "            '<a target=\"_blank\" href=https://colab.research.google.com/notebooks/data_table.ipynb>data table notebook</a>'\n",
              "            + ' to learn more about interactive tables.';\n",
              "          element.innerHTML = '';\n",
              "          dataTable['output_type'] = 'display_data';\n",
              "          await google.colab.output.renderOutput(dataTable, element);\n",
              "          const docLink = document.createElement('div');\n",
              "          docLink.innerHTML = docLinkHtml;\n",
              "          element.appendChild(docLink);\n",
              "        }\n",
              "      </script>\n",
              "    </div>\n",
              "  </div>\n",
              "  "
            ]
          },
          "metadata": {},
          "execution_count": 55
        }
      ],
      "source": [
        "Labels_df.head()"
      ]
    },
    {
      "cell_type": "code",
      "execution_count": null,
      "metadata": {
        "id": "vLM_iN8L81nM"
      },
      "outputs": [],
      "source": [
        "Labels_df['nb_categories'] = Labels_df['category_name'].apply(lambda L: len(L) )"
      ]
    },
    {
      "cell_type": "code",
      "execution_count": null,
      "metadata": {
        "id": "RFlPlsb485wR",
        "colab": {
          "base_uri": "https://localhost:8080/",
          "height": 206
        },
        "outputId": "e49fa7cb-476d-4051-e8fa-590a941660de"
      },
      "outputs": [
        {
          "output_type": "execute_result",
          "data": {
            "text/plain": [
              "                                                category  \\\n",
              "14162  [{'id': 'abcat0800000', 'name': 'Cell Phones'}...   \n",
              "9451   [{'id': 'pcmcat312300050015', 'name': 'Connect...   \n",
              "22150  [{'id': 'abcat0800000', 'name': 'Cell Phones'}...   \n",
              "41229  [{'id': 'pcmcat312300050015', 'name': 'Connect...   \n",
              "37474  [{'id': 'abcat0900000', 'name': 'Appliances'},...   \n",
              "\n",
              "                                           category_name  \\\n",
              "14162  [Cell Phones, Cell Phone Accessories, Cell Pho...   \n",
              "9451   [Connected Home & Housewares, Household Essent...   \n",
              "22150  [Cell Phones, Cell Phone Accessories, iPhone A...   \n",
              "41229      [Connected Home & Housewares, Connected Home]   \n",
              "37474  [Appliances, Appliance Parts & Accessories, Tr...   \n",
              "\n",
              "                                             category_id  nb_categories  \n",
              "14162         [abcat0800000, abcat0811002, abcat0811006]              3  \n",
              "9451   [pcmcat312300050015, pcmcat341100050005, pcmca...              5  \n",
              "22150  [abcat0800000, abcat0811002, pcmcat19120005001...              5  \n",
              "41229           [pcmcat312300050015, pcmcat254000050002]              2  \n",
              "37474         [abcat0900000, abcat0916000, abcat0906001]              3  "
            ],
            "text/html": [
              "\n",
              "  <div id=\"df-c5c3b7e3-f996-49f3-80cb-d385f923c171\">\n",
              "    <div class=\"colab-df-container\">\n",
              "      <div>\n",
              "<style scoped>\n",
              "    .dataframe tbody tr th:only-of-type {\n",
              "        vertical-align: middle;\n",
              "    }\n",
              "\n",
              "    .dataframe tbody tr th {\n",
              "        vertical-align: top;\n",
              "    }\n",
              "\n",
              "    .dataframe thead th {\n",
              "        text-align: right;\n",
              "    }\n",
              "</style>\n",
              "<table border=\"1\" class=\"dataframe\">\n",
              "  <thead>\n",
              "    <tr style=\"text-align: right;\">\n",
              "      <th></th>\n",
              "      <th>category</th>\n",
              "      <th>category_name</th>\n",
              "      <th>category_id</th>\n",
              "      <th>nb_categories</th>\n",
              "    </tr>\n",
              "  </thead>\n",
              "  <tbody>\n",
              "    <tr>\n",
              "      <th>14162</th>\n",
              "      <td>[{'id': 'abcat0800000', 'name': 'Cell Phones'}...</td>\n",
              "      <td>[Cell Phones, Cell Phone Accessories, Cell Pho...</td>\n",
              "      <td>[abcat0800000, abcat0811002, abcat0811006]</td>\n",
              "      <td>3</td>\n",
              "    </tr>\n",
              "    <tr>\n",
              "      <th>9451</th>\n",
              "      <td>[{'id': 'pcmcat312300050015', 'name': 'Connect...</td>\n",
              "      <td>[Connected Home &amp; Housewares, Household Essent...</td>\n",
              "      <td>[pcmcat312300050015, pcmcat341100050005, pcmca...</td>\n",
              "      <td>5</td>\n",
              "    </tr>\n",
              "    <tr>\n",
              "      <th>22150</th>\n",
              "      <td>[{'id': 'abcat0800000', 'name': 'Cell Phones'}...</td>\n",
              "      <td>[Cell Phones, Cell Phone Accessories, iPhone A...</td>\n",
              "      <td>[abcat0800000, abcat0811002, pcmcat19120005001...</td>\n",
              "      <td>5</td>\n",
              "    </tr>\n",
              "    <tr>\n",
              "      <th>41229</th>\n",
              "      <td>[{'id': 'pcmcat312300050015', 'name': 'Connect...</td>\n",
              "      <td>[Connected Home &amp; Housewares, Connected Home]</td>\n",
              "      <td>[pcmcat312300050015, pcmcat254000050002]</td>\n",
              "      <td>2</td>\n",
              "    </tr>\n",
              "    <tr>\n",
              "      <th>37474</th>\n",
              "      <td>[{'id': 'abcat0900000', 'name': 'Appliances'},...</td>\n",
              "      <td>[Appliances, Appliance Parts &amp; Accessories, Tr...</td>\n",
              "      <td>[abcat0900000, abcat0916000, abcat0906001]</td>\n",
              "      <td>3</td>\n",
              "    </tr>\n",
              "  </tbody>\n",
              "</table>\n",
              "</div>\n",
              "      <button class=\"colab-df-convert\" onclick=\"convertToInteractive('df-c5c3b7e3-f996-49f3-80cb-d385f923c171')\"\n",
              "              title=\"Convert this dataframe to an interactive table.\"\n",
              "              style=\"display:none;\">\n",
              "        \n",
              "  <svg xmlns=\"http://www.w3.org/2000/svg\" height=\"24px\"viewBox=\"0 0 24 24\"\n",
              "       width=\"24px\">\n",
              "    <path d=\"M0 0h24v24H0V0z\" fill=\"none\"/>\n",
              "    <path d=\"M18.56 5.44l.94 2.06.94-2.06 2.06-.94-2.06-.94-.94-2.06-.94 2.06-2.06.94zm-11 1L8.5 8.5l.94-2.06 2.06-.94-2.06-.94L8.5 2.5l-.94 2.06-2.06.94zm10 10l.94 2.06.94-2.06 2.06-.94-2.06-.94-.94-2.06-.94 2.06-2.06.94z\"/><path d=\"M17.41 7.96l-1.37-1.37c-.4-.4-.92-.59-1.43-.59-.52 0-1.04.2-1.43.59L10.3 9.45l-7.72 7.72c-.78.78-.78 2.05 0 2.83L4 21.41c.39.39.9.59 1.41.59.51 0 1.02-.2 1.41-.59l7.78-7.78 2.81-2.81c.8-.78.8-2.07 0-2.86zM5.41 20L4 18.59l7.72-7.72 1.47 1.35L5.41 20z\"/>\n",
              "  </svg>\n",
              "      </button>\n",
              "      \n",
              "  <style>\n",
              "    .colab-df-container {\n",
              "      display:flex;\n",
              "      flex-wrap:wrap;\n",
              "      gap: 12px;\n",
              "    }\n",
              "\n",
              "    .colab-df-convert {\n",
              "      background-color: #E8F0FE;\n",
              "      border: none;\n",
              "      border-radius: 50%;\n",
              "      cursor: pointer;\n",
              "      display: none;\n",
              "      fill: #1967D2;\n",
              "      height: 32px;\n",
              "      padding: 0 0 0 0;\n",
              "      width: 32px;\n",
              "    }\n",
              "\n",
              "    .colab-df-convert:hover {\n",
              "      background-color: #E2EBFA;\n",
              "      box-shadow: 0px 1px 2px rgba(60, 64, 67, 0.3), 0px 1px 3px 1px rgba(60, 64, 67, 0.15);\n",
              "      fill: #174EA6;\n",
              "    }\n",
              "\n",
              "    [theme=dark] .colab-df-convert {\n",
              "      background-color: #3B4455;\n",
              "      fill: #D2E3FC;\n",
              "    }\n",
              "\n",
              "    [theme=dark] .colab-df-convert:hover {\n",
              "      background-color: #434B5C;\n",
              "      box-shadow: 0px 1px 3px 1px rgba(0, 0, 0, 0.15);\n",
              "      filter: drop-shadow(0px 1px 2px rgba(0, 0, 0, 0.3));\n",
              "      fill: #FFFFFF;\n",
              "    }\n",
              "  </style>\n",
              "\n",
              "      <script>\n",
              "        const buttonEl =\n",
              "          document.querySelector('#df-c5c3b7e3-f996-49f3-80cb-d385f923c171 button.colab-df-convert');\n",
              "        buttonEl.style.display =\n",
              "          google.colab.kernel.accessAllowed ? 'block' : 'none';\n",
              "\n",
              "        async function convertToInteractive(key) {\n",
              "          const element = document.querySelector('#df-c5c3b7e3-f996-49f3-80cb-d385f923c171');\n",
              "          const dataTable =\n",
              "            await google.colab.kernel.invokeFunction('convertToInteractive',\n",
              "                                                     [key], {});\n",
              "          if (!dataTable) return;\n",
              "\n",
              "          const docLinkHtml = 'Like what you see? Visit the ' +\n",
              "            '<a target=\"_blank\" href=https://colab.research.google.com/notebooks/data_table.ipynb>data table notebook</a>'\n",
              "            + ' to learn more about interactive tables.';\n",
              "          element.innerHTML = '';\n",
              "          dataTable['output_type'] = 'display_data';\n",
              "          await google.colab.output.renderOutput(dataTable, element);\n",
              "          const docLink = document.createElement('div');\n",
              "          docLink.innerHTML = docLinkHtml;\n",
              "          element.appendChild(docLink);\n",
              "        }\n",
              "      </script>\n",
              "    </div>\n",
              "  </div>\n",
              "  "
            ]
          },
          "metadata": {},
          "execution_count": 57
        }
      ],
      "source": [
        "Labels_df.head()"
      ]
    },
    {
      "cell_type": "code",
      "execution_count": null,
      "metadata": {
        "id": "fptdIYMs89vK",
        "colab": {
          "base_uri": "https://localhost:8080/"
        },
        "outputId": "a8d866b7-6c36-4f0a-ae8a-0746977b13a4"
      },
      "outputs": [
        {
          "output_type": "execute_result",
          "data": {
            "text/plain": [
              "(7, 1)"
            ]
          },
          "metadata": {},
          "execution_count": 58
        }
      ],
      "source": [
        "Labels_df['nb_categories'].max(), Labels_df['nb_categories'].min()"
      ]
    },
    {
      "cell_type": "code",
      "execution_count": null,
      "metadata": {
        "id": "oOol6S419Z5s",
        "colab": {
          "base_uri": "https://localhost:8080/"
        },
        "outputId": "f5ff425b-a2a4-49f5-c631-b8784b8b85d6"
      },
      "outputs": [
        {
          "output_type": "execute_result",
          "data": {
            "text/plain": [
              "array(['Cell Phones', 'Cell Phone Accessories',\n",
              "       'Cell Phone Cases & Clips', ..., 'S-Video Cables',\n",
              "       'Serial ATA Cables', 'Remote Monitoring & Controls'], dtype=object)"
            ]
          },
          "metadata": {},
          "execution_count": 59
        }
      ],
      "source": [
        "Labels_df['category_name'].explode().unique()\n"
      ]
    },
    {
      "cell_type": "code",
      "execution_count": null,
      "metadata": {
        "id": "N5sbijil9dAn",
        "colab": {
          "base_uri": "https://localhost:8080/"
        },
        "outputId": "beb106f7-142d-4d54-a483-63788bc0ddd7"
      },
      "outputs": [
        {
          "output_type": "execute_result",
          "data": {
            "text/plain": [
              "(1802,)"
            ]
          },
          "metadata": {},
          "execution_count": 60
        }
      ],
      "source": [
        "(Labels_df['category_name'].explode().unique()).shape"
      ]
    },
    {
      "cell_type": "markdown",
      "source": [
        "We have 1802 of unique classes."
      ],
      "metadata": {
        "id": "Kd0CiYeO4kZ1"
      }
    },
    {
      "cell_type": "code",
      "execution_count": null,
      "metadata": {
        "id": "W-98gBYM9BQS",
        "colab": {
          "base_uri": "https://localhost:8080/"
        },
        "outputId": "6eb384ea-fbf3-41c0-ff72-fdf71f40f5c2"
      },
      "outputs": [
        {
          "output_type": "execute_result",
          "data": {
            "text/plain": [
              "['Connected Home & Housewares',\n",
              " 'Housewares',\n",
              " 'Household Batteries',\n",
              " 'Alkaline Batteries']"
            ]
          },
          "metadata": {},
          "execution_count": 61
        }
      ],
      "source": [
        "Labels_df['category_name'][0]"
      ]
    },
    {
      "cell_type": "markdown",
      "metadata": {
        "id": "GV-C1f3khj80"
      },
      "source": [
        "## Labels encoding"
      ]
    },
    {
      "cell_type": "markdown",
      "metadata": {
        "id": "wQ1Oa1O3_OoI"
      },
      "source": [
        "[MultiLabelBinarizer](https://github.com/prasertcbs/scikitlearn_tutorial/blob/main/notebook/preprocessing_MultiLabelBinarizer.ipynb)"
      ]
    },
    {
      "cell_type": "markdown",
      "source": [
        "[sklearn.preprocessing.MultiLabelBinarizer](https://scikit-learn.org/stable/modules/generated/sklearn.preprocessing.MultiLabelBinarizer.html)"
      ],
      "metadata": {
        "id": "LQrnT2Xm5ceA"
      }
    },
    {
      "cell_type": "code",
      "execution_count": null,
      "metadata": {
        "id": "dA9JhQOLiGYy"
      },
      "outputs": [],
      "source": [
        "labels = Labels_df['category_name']"
      ]
    },
    {
      "cell_type": "code",
      "source": [
        "mlb = MultiLabelBinarizer()"
      ],
      "metadata": {
        "id": "Mo3XHTn9A1FT"
      },
      "execution_count": null,
      "outputs": []
    },
    {
      "cell_type": "code",
      "execution_count": null,
      "metadata": {
        "colab": {
          "base_uri": "https://localhost:8080/"
        },
        "id": "s4fKg55IrPtC",
        "outputId": "111ecb4e-8e5c-48d6-b4e0-bfd6d3cd28db"
      },
      "outputs": [
        {
          "output_type": "execute_result",
          "data": {
            "text/plain": [
              "array([[0, 0, 0, ..., 0, 0, 0],\n",
              "       [0, 0, 0, ..., 0, 0, 0],\n",
              "       [0, 0, 0, ..., 0, 0, 0],\n",
              "       ...,\n",
              "       [0, 0, 0, ..., 0, 0, 0],\n",
              "       [0, 0, 0, ..., 0, 0, 0],\n",
              "       [0, 0, 0, ..., 0, 0, 0]])"
            ]
          },
          "metadata": {},
          "execution_count": 68
        }
      ],
      "source": [
        "#Encode the multilabel data in MLB Format\n",
        "y = mlb.fit_transform(labels)\n",
        "y"
      ]
    },
    {
      "cell_type": "code",
      "execution_count": null,
      "metadata": {
        "colab": {
          "base_uri": "https://localhost:8080/"
        },
        "id": "eg5fq30IrdKp",
        "outputId": "d110030f-5893-4f6f-973e-f8797ff9a0e0"
      },
      "outputs": [
        {
          "output_type": "execute_result",
          "data": {
            "text/plain": [
              "(50965, 1802)"
            ]
          },
          "metadata": {},
          "execution_count": 69
        }
      ],
      "source": [
        "y.shape"
      ]
    },
    {
      "cell_type": "code",
      "execution_count": null,
      "metadata": {
        "id": "rcikGdTErajP",
        "colab": {
          "base_uri": "https://localhost:8080/"
        },
        "outputId": "bbfbf5ab-1e44-426b-b8b8-6c7d95814bd5"
      },
      "outputs": [
        {
          "output_type": "execute_result",
          "data": {
            "text/plain": [
              "['2-Channel Amps',\n",
              " '2-Way Speakers',\n",
              " '2-in-1s',\n",
              " '3-Way Speakers',\n",
              " '3.5\" Car Speakers',\n",
              " '360 Degree Cameras',\n",
              " '3D Blu-ray Players',\n",
              " '3D Glasses',\n",
              " '3D Printer Filament',\n",
              " '3D Printers',\n",
              " '3D Printers & Filament',\n",
              " '3D Printing Accessories',\n",
              " '3D Printing Accessories & Scanners',\n",
              " '3D Scanners',\n",
              " '4\" Car Speakers',\n",
              " '4\" x 10\" Car Speakers',\n",
              " '4\" x 6\" Car Speakers',\n",
              " '4G LTE Laptops',\n",
              " '4K Ultra HD Monitors',\n",
              " '4K Ultra HD TVs',\n",
              " '5\" Speakers',\n",
              " '5\" x 7\" Car Speakers',\n",
              " '5.25\" Car Speakers',\n",
              " '6\" x 8\" Car Speakers',\n",
              " '6\" x 9\" Car Speakers',\n",
              " '6.5\" Car Speakers',\n",
              " '8mm Videotapes',\n",
              " 'A/V Adapters',\n",
              " 'A/V Cables & Adapters',\n",
              " 'A/V Cables & Connectors',\n",
              " 'A/V Component Racks',\n",
              " 'A/V Component Shelving',\n",
              " 'A/V Couplers',\n",
              " 'A/V Splitters',\n",
              " 'A/V Surge Protectors & Power',\n",
              " 'A/V Switchers',\n",
              " 'AT&T',\n",
              " 'AT&T Hotspots',\n",
              " 'AT&T Phones',\n",
              " 'AV Surge Protection',\n",
              " 'AV Surge Protectors',\n",
              " 'Accent Tables',\n",
              " 'Accents & Accessories',\n",
              " 'Accessories',\n",
              " 'Accessory Bags',\n",
              " 'Accordions',\n",
              " 'Acoustic Drums & Sets',\n",
              " 'Acoustic Guitar Amps',\n",
              " 'Acoustic Guitars',\n",
              " 'Acoustical Treatments',\n",
              " 'Action & Adventure',\n",
              " 'Action Camcorder Accessories',\n",
              " 'Action Camcorder Batteries',\n",
              " 'Action Camcorder Batteries & Power',\n",
              " 'Action Camcorder Cables',\n",
              " 'Action Camcorder Chargers',\n",
              " 'Action Camcorder Housings',\n",
              " 'Action Camcorder Mounts',\n",
              " 'Action Camcorder Remotes',\n",
              " 'Action Camcorders',\n",
              " 'Action Figures',\n",
              " 'Activity Tracker Accessories',\n",
              " 'Activity Tracker Adapters & Cables',\n",
              " 'Activity Tracker Bands',\n",
              " 'Activity Tracker Clips & Necklaces',\n",
              " 'Activity Trackers & Pedometers',\n",
              " 'Adapters',\n",
              " 'Adapters, Cables & Chargers',\n",
              " 'Advanced Cameras',\n",
              " 'Air Conditioner Accessories',\n",
              " 'Air Conditioners',\n",
              " 'Air Pots & Thermal Carafes',\n",
              " 'Air Purifier Filters & Parts',\n",
              " 'Air Purifiers',\n",
              " 'AirPort Express',\n",
              " 'Alarm Clock Radios',\n",
              " 'Alkaline Batteries',\n",
              " 'All 3D Printers',\n",
              " 'All Action Camcorders',\n",
              " 'All Bluetooth & Wireless Speakers',\n",
              " 'All Camcorders',\n",
              " 'All Camera Accessories',\n",
              " 'All Car Stereo Receivers',\n",
              " 'All Cases & Armbands',\n",
              " 'All Cell Phone Headsets',\n",
              " 'All Cell Phones with Plans',\n",
              " 'All DSLRs',\n",
              " 'All Desktops',\n",
              " 'All Digital Photo Frames',\n",
              " 'All Drones',\n",
              " 'All Flat-Panel TVs',\n",
              " 'All Hard Drives',\n",
              " 'All Headphones',\n",
              " 'All Home Theater Systems',\n",
              " 'All Laptops',\n",
              " 'All Memory Cards',\n",
              " 'All Microwaves',\n",
              " 'All Mirrorless Cameras',\n",
              " 'All Monitors',\n",
              " 'All Nikon Cameras',\n",
              " 'All No-Contract Phones',\n",
              " 'All Point & Shoot Cameras',\n",
              " 'All Printers',\n",
              " 'All Refrigerators',\n",
              " 'All Sheet Music & Videos',\n",
              " 'All TV Stands',\n",
              " 'All Tablets',\n",
              " 'All Traditional Camcorders',\n",
              " 'All Unlocked Cell Phones',\n",
              " 'All Webcams',\n",
              " 'All iPod & MP3 Players',\n",
              " 'All-In-One Inkjet Printers',\n",
              " 'All-In-One Laser Printers',\n",
              " 'All-In-One Printers',\n",
              " 'All-in-One Computers',\n",
              " 'Aluminum Tripods',\n",
              " 'Amiibo',\n",
              " 'Amp Installation Kits',\n",
              " 'Amp Installation Parts',\n",
              " 'Amplifiers',\n",
              " 'Amps & Effects',\n",
              " 'Analog Audio Cables',\n",
              " 'Antennas & Adapters',\n",
              " 'Anti-Fog Inserts',\n",
              " 'Antivirus Software',\n",
              " 'Antivirus, Security & Utilities',\n",
              " 'App-Enabled Products',\n",
              " 'App-Enabled Toys',\n",
              " 'Apple',\n",
              " 'Apple Watch',\n",
              " 'Apple Watch Accessories',\n",
              " 'Apple Watch Bands & Straps',\n",
              " 'Apple Watch Cases',\n",
              " 'Apple Watch Chargers',\n",
              " 'Apple Watch Screen Protectors',\n",
              " 'Apple Watch Sport',\n",
              " 'Apple Watch Stands & Docks',\n",
              " 'Apple iMac, Mini & Mac Pro',\n",
              " 'Appliance & Outlet Control',\n",
              " 'Appliance Parts & Accessories',\n",
              " 'Appliances',\n",
              " 'Aromatherapy Diffuser Oils',\n",
              " 'Aromatherapy Diffusers',\n",
              " 'Aromatherapy Diffusers & Oils',\n",
              " 'Arts & Crafts',\n",
              " 'Assistive Technology',\n",
              " 'Audio',\n",
              " 'Audio Interfaces',\n",
              " 'Audio Recorders',\n",
              " 'Auxiliary Input Cables',\n",
              " 'Baby Care',\n",
              " 'Baby Food Makers & Bottle Warmers',\n",
              " 'Baby Monitors',\n",
              " 'Back-Up & Dash Cameras',\n",
              " 'Back-Up Cameras',\n",
              " 'Backgrounds',\n",
              " 'Backguards',\n",
              " 'Backpacks',\n",
              " 'Backup Software',\n",
              " 'Bakeware',\n",
              " 'Ballistic',\n",
              " 'Band & Orchestra',\n",
              " 'Band & Orchestra Accessories',\n",
              " 'Banjos',\n",
              " 'Bar & Accessories',\n",
              " 'Bar Stools',\n",
              " 'Bass Amps',\n",
              " 'Bass Guitars',\n",
              " 'Batteries & Power',\n",
              " 'Battery Backup (UPS)',\n",
              " 'Battery Charger Cases',\n",
              " 'Battery Grips',\n",
              " 'Battery Packs',\n",
              " 'Bedroom',\n",
              " 'Bedroom Furniture',\n",
              " 'Beds',\n",
              " 'Beer Kegerators',\n",
              " 'Beer Making Kits',\n",
              " 'Bells & Chimes',\n",
              " 'Benches & Seats',\n",
              " 'Best Buy Gift Cards',\n",
              " 'Beverage & Wine Coolers',\n",
              " 'Beverage Coolers & Dispensers',\n",
              " 'Beverage Refrigerators',\n",
              " 'Biking',\n",
              " 'Binders, Folders & Filing',\n",
              " 'Binoculars',\n",
              " 'Binoculars, Telescopes & Optics',\n",
              " 'Black & White All-in-One Laser Printers',\n",
              " 'Black & White Contrast Filters',\n",
              " 'Black & White Laser Printers',\n",
              " 'Blank DVDs & Tapes',\n",
              " 'Blank Discs & Labels',\n",
              " 'Blank Media',\n",
              " 'Blender Accessories',\n",
              " 'Blenders',\n",
              " 'Blenders & Juicers',\n",
              " 'Blocks',\n",
              " 'Blood Pressure Monitors',\n",
              " 'Blu-ray & DVD Players',\n",
              " 'Blu-ray Discs',\n",
              " 'Blu-ray Players',\n",
              " 'Bluetooth & Wireless Speaker Accessories',\n",
              " 'Bluetooth & Wireless Speakers',\n",
              " 'Bluetooth Car Kits',\n",
              " 'Bluetooth Headsets',\n",
              " 'Bluetooth Speakerphones',\n",
              " 'Bluetooth/Hands-Free Car Kits',\n",
              " 'Board & Puzzle',\n",
              " 'Board Games',\n",
              " 'Bongos',\n",
              " 'Bookcases',\n",
              " 'Bookkeeping Software',\n",
              " 'Bookshelf Speakers',\n",
              " 'Boomboxes',\n",
              " 'Bottles & Feeding',\n",
              " 'Bottom-Freezer Refrigerators',\n",
              " 'Brass Instruments',\n",
              " 'Bread Machines',\n",
              " 'Breathalyzers',\n",
              " 'Brother',\n",
              " 'Brother Fax Machines',\n",
              " 'Brother Labelers & Laminators',\n",
              " 'Brother Printers',\n",
              " 'Brushes',\n",
              " 'Buffet Servers & Chafing Dishes',\n",
              " 'Bug Zappers',\n",
              " 'Building Sets & Blocks',\n",
              " 'Built-In Dishwashers',\n",
              " 'Built-In HD Radio Decks',\n",
              " 'Built-In Microwaves',\n",
              " 'Bunk Beds & Mattresses',\n",
              " 'Burner Rings',\n",
              " 'Business & Office',\n",
              " 'Business Paper',\n",
              " 'Business Plan Software',\n",
              " 'CB Radios & Scanners',\n",
              " 'CD & Cassette Players',\n",
              " 'CD & DVD Burning',\n",
              " 'CD & DVD Cleaners & Repairers',\n",
              " 'CD & DVD Media Storage',\n",
              " 'CD Players & Digital Media Receivers',\n",
              " 'CD Players & Recorders',\n",
              " 'CD Players & Turntables',\n",
              " 'CD-R/RW',\n",
              " 'CD/DVD Duplicators',\n",
              " 'CPUs / Processors',\n",
              " 'CSC Adapters & Chargers',\n",
              " 'Cable Installation Accessories',\n",
              " 'Cable Management & Concealment',\n",
              " 'Cables & Chargers',\n",
              " 'Cables & Connectors',\n",
              " 'Cajons',\n",
              " 'Calculators',\n",
              " 'Camcorder & Camera Batteries',\n",
              " 'Camcorder Accessories',\n",
              " 'Camcorder Accessory Kits',\n",
              " 'Camcorder Adapters & Chargers',\n",
              " 'Camcorder Bags & Cases',\n",
              " 'Camcorder Batteries',\n",
              " 'Camcorder Batteries & Power',\n",
              " 'Camcorder Lenses & Filters',\n",
              " 'Camcorder Microphones',\n",
              " 'Camcorders',\n",
              " 'Camera & Camcorder Accessories',\n",
              " 'Camera & Camcorder Services',\n",
              " 'Camera Accessory Kits',\n",
              " 'Camera Backpacks',\n",
              " 'Camera Bags & Cases',\n",
              " 'Camera Bags, Cases & Straps',\n",
              " 'Camera Batteries',\n",
              " 'Camera Batteries & Power',\n",
              " 'Camera Belts & Hip Packs',\n",
              " 'Camera Cables',\n",
              " 'Camera Chargers & Adapters',\n",
              " 'Camera Instructional DVDs',\n",
              " 'Camera Lenses',\n",
              " 'Camera Mounts',\n",
              " 'Camera Straps',\n",
              " 'Camera System Cases',\n",
              " 'Cameras & Camcorders',\n",
              " 'Can Openers',\n",
              " 'Canister Vacuums',\n",
              " 'Canon',\n",
              " 'Canon Camera Accessories',\n",
              " 'Canon DSLR Cameras',\n",
              " 'Capos & Slides',\n",
              " 'Car & GPS Accessories',\n",
              " 'Car & Travel Accessories',\n",
              " 'Car Accessories',\n",
              " 'Car Amplifiers',\n",
              " 'Car Audio',\n",
              " 'Car Audio Installation Parts',\n",
              " 'Car Chargers',\n",
              " 'Car DVD Monitors',\n",
              " 'Car Electronics & GPS',\n",
              " 'Car Electronics Professional Installation',\n",
              " 'Car Installation Parts & Accessories',\n",
              " 'Car Lights & Lighting Accessories',\n",
              " 'Car Safety & Convenience',\n",
              " 'Car Satellite Radios',\n",
              " 'Car Security & Radar Installation Parts',\n",
              " 'Car Security & Remote Start Accessories',\n",
              " 'Car Security & Remote Starters',\n",
              " 'Car Speakers',\n",
              " 'Car Stereo Accessories',\n",
              " 'Car Stereo Receivers',\n",
              " 'Car Subwoofers',\n",
              " 'Car Subwoofers & Enclosures',\n",
              " 'Car Travel Accessories',\n",
              " 'Car Tweeters',\n",
              " 'Car Video',\n",
              " 'Car Video Accessories',\n",
              " 'Carbon Fiber Tripods',\n",
              " 'Card & Puzzle',\n",
              " 'Cards, Poker & Casino Games',\n",
              " 'Care & Cleaning',\n",
              " 'Carfi Instore Only',\n",
              " 'Carpet Cleaners',\n",
              " 'Case Fans',\n",
              " 'Cases',\n",
              " 'Cases & Armbands',\n",
              " 'Cases, Covers & Keyboard Folios',\n",
              " 'Cash Handling',\n",
              " 'Casino',\n",
              " 'Casino Games & Machines',\n",
              " 'Cassette Adapters',\n",
              " 'Ceiling Fans',\n",
              " 'Ceiling TV Mounts',\n",
              " 'Cell Phone Accessories',\n",
              " 'Cell Phone Add-Ons',\n",
              " 'Cell Phone Batteries & Power',\n",
              " 'Cell Phone Camera Lenses',\n",
              " 'Cell Phone Cases & Clips',\n",
              " 'Cell Phone Docks',\n",
              " 'Cell Phone Flashes & Lights',\n",
              " 'Cell Phone Headsets',\n",
              " 'Cell Phone Mounts',\n",
              " 'Cell Phone Photography Kits',\n",
              " 'Cell Phone Speakers',\n",
              " 'Cell Phone Tripods & Mounts',\n",
              " 'Cell Phones',\n",
              " 'Center-Channel Speakers',\n",
              " 'Centrifugal Juicers',\n",
              " 'Charcoal Grills',\n",
              " 'Chargers & Sync Cables',\n",
              " 'Chest Freezers',\n",
              " 'Chest Mounts',\n",
              " 'Chicago White Sox',\n",
              " \"Children's\",\n",
              " \"Children's Music\",\n",
              " \"Children's Software\",\n",
              " 'Childrens Cameras',\n",
              " 'China Cymbals',\n",
              " 'Chocolate Fountains',\n",
              " 'Chromebooks',\n",
              " 'Citrus Juicers',\n",
              " 'City, State and Country GPS Street Maps',\n",
              " 'Clamp Mounts',\n",
              " 'Classic Video Game Systems',\n",
              " 'Cleaning Equipment',\n",
              " 'Cleaning Equipment & Kits',\n",
              " 'Cleaning Kits',\n",
              " 'Cleaning Products',\n",
              " 'Cleaning Solutions',\n",
              " 'Cleaning Wipes',\n",
              " 'Clocks',\n",
              " 'Cloths',\n",
              " 'Coax A/V Cables',\n",
              " 'Coffee & Travel Mugs',\n",
              " 'Coffee Beans',\n",
              " 'Coffee Filters',\n",
              " 'Coffee Grinders',\n",
              " 'Coffee Grinders & Filters',\n",
              " 'Coffee Makers',\n",
              " 'Coffee Pod Racks & Storage',\n",
              " 'Coffee Pods',\n",
              " 'Coffee Pods & Beans',\n",
              " 'Coffee Tables & End Tables',\n",
              " 'Coffee, Tea & Espresso',\n",
              " 'Color All-in-one Printers',\n",
              " 'Color Compensating Filters',\n",
              " 'Color Inkjet Printers',\n",
              " 'Color Laser Printers',\n",
              " 'Combo Packs',\n",
              " 'Commercial & Garage Vacuums',\n",
              " 'Compact Flash',\n",
              " 'Compact Refrigerators',\n",
              " 'Compact System Batteries',\n",
              " 'Compact System Camera Bags',\n",
              " 'Compact System Flashes',\n",
              " 'Compact System Lenses',\n",
              " 'Component Speakers',\n",
              " 'Component Video Cables',\n",
              " 'Composite Video Cables',\n",
              " 'Compressed Air',\n",
              " 'Compression/Sustain',\n",
              " 'Computer & Tablet Services',\n",
              " 'Computer Accessories & Peripherals',\n",
              " 'Computer Cards & Components',\n",
              " 'Computer Cases',\n",
              " 'Computer Desks',\n",
              " 'Computer Headsets',\n",
              " 'Computer Keyboards',\n",
              " 'Computer Microphones',\n",
              " 'Computer Speakers',\n",
              " 'Computer Vacuums',\n",
              " 'Computers & Tablets',\n",
              " 'Concert Percussion',\n",
              " 'Condenser',\n",
              " 'Conferencing Telephones',\n",
              " 'Congas',\n",
              " 'Connected Home',\n",
              " 'Connected Home & Housewares',\n",
              " 'Connectors',\n",
              " 'Cooktops',\n",
              " 'Cookware',\n",
              " 'Cookware, Bakeware & Cutlery',\n",
              " 'Coolers',\n",
              " 'Cooling & Ventilation',\n",
              " 'Cooling Pads',\n",
              " 'Corded Telephones',\n",
              " 'Cordless Phone Batteries',\n",
              " 'Cordless Phone Headsets',\n",
              " 'Cordless Telephones',\n",
              " 'Costumes & Pretend Play',\n",
              " 'Cotton Candy Machines',\n",
              " 'Counter-Depth Refrigerators',\n",
              " 'Countertop Beer Dispensers',\n",
              " 'Countertop Microwaves',\n",
              " 'Covers',\n",
              " 'Cowbells',\n",
              " 'Crash Cymbals',\n",
              " 'Cross Platform',\n",
              " 'Curlers',\n",
              " 'Curling Irons',\n",
              " 'Curved Monitors',\n",
              " 'Curved TVs',\n",
              " 'Custom Parts',\n",
              " 'Cutlery',\n",
              " 'Cymbal Packs',\n",
              " 'Cymbals',\n",
              " 'DJ & Lighting Equipment',\n",
              " 'DJ CD Players',\n",
              " 'DJ Console Systems',\n",
              " 'DJ Equipment Accessories',\n",
              " 'DJ Lighting & Effects',\n",
              " 'DJ Mixers',\n",
              " 'DJ Turntables',\n",
              " 'DSL & Cable Modems and Gateways',\n",
              " 'DSLR Adapters & Chargers',\n",
              " 'DSLR Body & Lens',\n",
              " 'DSLR Body Only',\n",
              " 'DSLR Camera Bags',\n",
              " 'DSLR Camera Batteries',\n",
              " 'DSLR Camera Chargers',\n",
              " 'DSLR Flashes',\n",
              " 'DSLR Hoods',\n",
              " 'DSLR Lenses',\n",
              " 'DSLR Package Deals',\n",
              " 'DVD Players',\n",
              " 'DVD+R/RW',\n",
              " 'DVD-R/RW',\n",
              " 'DVD/VCR Combos',\n",
              " 'Dart Board Cabinets',\n",
              " 'Darts & Dartboards',\n",
              " 'Dash Cameras',\n",
              " 'Dash Installation Kits',\n",
              " 'Data Cables',\n",
              " 'Deaf Alert Systems',\n",
              " 'Deck Harnesses',\n",
              " 'Deck Installation Parts',\n",
              " 'Deep Fryers',\n",
              " 'Dehumidifiers',\n",
              " 'Dehydrators',\n",
              " 'Delay, Reverb & Loop',\n",
              " 'Design & Illustration',\n",
              " 'Desk Lamps',\n",
              " 'Desk Supplies & Fasteners',\n",
              " 'Desks',\n",
              " 'Desktop & All-in-One Computers',\n",
              " 'Desktop Memory',\n",
              " 'Desktop Publishing Software',\n",
              " 'Digital Audio Cables',\n",
              " 'Digital Camera Accessories',\n",
              " 'Digital Cameras',\n",
              " 'Digital Coax Cables',\n",
              " 'Digital Pens',\n",
              " 'Digital Pens & Accessories',\n",
              " 'Digital Photo Frames',\n",
              " 'Digital Pianos',\n",
              " 'Digital SLR Cameras',\n",
              " 'Digital TV Tuners & Converters',\n",
              " 'Dining Gift Cards',\n",
              " 'Dishwasher Accessories',\n",
              " 'Dishwasher Installation Kits',\n",
              " 'Dishwasher Installation Services',\n",
              " 'Dishwasher Power Cords',\n",
              " 'Dishwashers',\n",
              " 'Disney Infinity',\n",
              " 'Distortion & Overdrive',\n",
              " 'Djembes',\n",
              " 'Docking Stations',\n",
              " 'Docks, Radios & Boomboxes',\n",
              " 'Door & Window Alarms',\n",
              " 'Double Electric Wall Ovens',\n",
              " 'Double Ovens',\n",
              " 'Drawer Refrigerators',\n",
              " 'Dressers',\n",
              " 'Drink & Soda Mixes',\n",
              " 'Drone Accessories',\n",
              " 'Drone Bags & Cases',\n",
              " 'Drone Batteries',\n",
              " 'Drone Parts',\n",
              " 'Drone Remotes',\n",
              " 'Drones & Accessories',\n",
              " 'Drones with Camera',\n",
              " 'Drones without Camera',\n",
              " 'Drum & Percussion Accessories',\n",
              " 'Drum Machines',\n",
              " 'Drum Pads & Inserts',\n",
              " 'Drum Pedals',\n",
              " 'Drumheads',\n",
              " 'Drums & Percussion',\n",
              " 'Drumset Hardware & Stands',\n",
              " 'Drumsticks',\n",
              " 'Dryer Accessories',\n",
              " 'Dryers',\n",
              " 'Dual-Fuel Ranges',\n",
              " 'Dynamic',\n",
              " 'E-Book Gift Cards',\n",
              " 'E-Reader Accessories',\n",
              " 'E-Reader Chargers & Adapters',\n",
              " 'E-Reader Covers & Cases',\n",
              " 'E-Readers',\n",
              " 'E-Readers & Accessories',\n",
              " 'Earbud & In-Ear Headphones',\n",
              " 'Education',\n",
              " 'Education, Reference & Language',\n",
              " 'Educational',\n",
              " 'Educational Games',\n",
              " 'Educational Toys',\n",
              " 'Effect Cymbals',\n",
              " 'Effects',\n",
              " 'Effects Pedal Accessories',\n",
              " 'Electric Bike & Scooter Accessories',\n",
              " 'Electric Car Chargers',\n",
              " 'Electric Dryers',\n",
              " 'Electric Espresso Machines',\n",
              " 'Electric Fireplaces',\n",
              " 'Electric Griddles & Hotplates',\n",
              " 'Electric Grills',\n",
              " 'Electric Guitar Amps',\n",
              " 'Electric Guitars',\n",
              " 'Electric Knives & Knife Sharpeners',\n",
              " 'Electric Ranges',\n",
              " 'Electric Shaver Replacement Heads',\n",
              " 'Electric Tea Kettles',\n",
              " 'Electric Toothbrushes',\n",
              " 'Electronic Cymbals',\n",
              " 'Electronic Dictionaries',\n",
              " 'Electronic Drum Accessories',\n",
              " 'Electronic Drum Pads',\n",
              " 'Electronic Drum Sets',\n",
              " 'Electronic Drums',\n",
              " 'Electronic Games',\n",
              " 'Emergency Preparedness',\n",
              " 'Emergency Radios',\n",
              " 'Entertainment Gift Cards',\n",
              " 'Epson',\n",
              " 'Ergonomic Mice',\n",
              " 'Espresso Machines',\n",
              " 'Ethernet Hubs & Switches',\n",
              " 'Evaporative Coolers',\n",
              " 'Exclusives',\n",
              " 'Exercise Equipment',\n",
              " 'Expansion Handsets',\n",
              " 'Extension Tubes',\n",
              " 'External DVD Drives',\n",
              " 'External Hard Drives',\n",
              " 'FM Transmitters',\n",
              " 'Fans',\n",
              " 'Fans & Cooling Kits',\n",
              " 'Fans, Heatsinks & Cooling',\n",
              " 'Fax & Scanning',\n",
              " 'Fax Machines/Copiers',\n",
              " 'Fiber Optic Cables',\n",
              " 'File Cabinets & Storage',\n",
              " 'File Conversion Software',\n",
              " 'Film & Slide Scanners',\n",
              " 'Filter Accessories',\n",
              " 'Filters & Accessories',\n",
              " 'Finance, Tax & Legal',\n",
              " 'Fire Pits',\n",
              " 'FireWire Cables',\n",
              " 'Fireplace Accessories',\n",
              " 'Fireplaces',\n",
              " 'Fitbit Charge HR',\n",
              " 'Fitbit Flex',\n",
              " 'Fitbit Health & Fitness Products',\n",
              " 'Fitness',\n",
              " 'Fitness & Exercise',\n",
              " 'Fitness & GPS Watches',\n",
              " 'Fitness Accessories',\n",
              " 'Fitted',\n",
              " 'Fitted Camera Bags & Cases',\n",
              " 'Fixed TV Mounts',\n",
              " 'Flange & Chorus',\n",
              " 'Flash Accessories',\n",
              " 'Flashes & Accessories',\n",
              " 'Flashes, Lighting & Studio',\n",
              " 'Flashlights & Portable Lights',\n",
              " 'Flatbed Scanners',\n",
              " 'Flexible Tripods',\n",
              " 'Flight',\n",
              " 'Flight Controllers',\n",
              " 'Floor & Box Fans',\n",
              " 'Floor Speakers',\n",
              " 'Folk Instruments',\n",
              " 'Fondue Sets',\n",
              " 'Fonts',\n",
              " 'Food Preparation Utensils',\n",
              " 'Food Processors',\n",
              " 'Food Processors & Baby Food Makers',\n",
              " 'Food Scales & Measuring',\n",
              " 'Foosball Tables',\n",
              " 'Fountains & Bird Baths',\n",
              " 'Freestanding Gas Ranges',\n",
              " 'Freezerless Refrigerators',\n",
              " 'Freezers & Ice Makers',\n",
              " 'French Door Refrigerators',\n",
              " 'French Presses',\n",
              " 'Front-Loading Washers',\n",
              " 'Full-Motion TV Mounts',\n",
              " 'Full-Size Blenders',\n",
              " 'Fun & Basic Cameras',\n",
              " 'Furniture',\n",
              " 'Furniture & Decor',\n",
              " 'Furniture Collections',\n",
              " 'Fuses & Capacitors',\n",
              " 'GPS Accessories',\n",
              " 'GPS Antennas & Cables',\n",
              " 'GPS Cases',\n",
              " 'GPS Chargers & Adapters',\n",
              " 'GPS Maps',\n",
              " 'GPS Mounts & Cradles',\n",
              " 'GPS Navigation & Accessories',\n",
              " 'GPUs/Video Graphics Cards',\n",
              " 'Gadgets',\n",
              " 'Game Boy Advance',\n",
              " 'Game Capture Devices',\n",
              " 'Game Downloads',\n",
              " 'Game Guides',\n",
              " 'Game Guides - Video Games',\n",
              " 'Game Pads',\n",
              " 'Game Room',\n",
              " 'Game Room & Bar Furniture',\n",
              " 'Game Table Accessories',\n",
              " 'GameCube',\n",
              " 'Games',\n",
              " 'Games, Puzzles & Cards',\n",
              " 'Gaming Accessories & Peripherals',\n",
              " 'Gaming Audio',\n",
              " 'Gaming Chairs',\n",
              " 'Gaming Collections',\n",
              " 'Gaming Eyewear',\n",
              " 'Gaming Headsets',\n",
              " 'Gaming Keyboards',\n",
              " 'Gaming Mice',\n",
              " 'Gaming PC Components',\n",
              " 'Gaming Peripherals',\n",
              " 'Garage',\n",
              " 'Garage Door Openers',\n",
              " 'Garage Storage',\n",
              " 'Garment Care',\n",
              " 'Gas Dryers',\n",
              " 'Gas Grills',\n",
              " 'Gas Lines',\n",
              " 'Gas Ranges',\n",
              " 'Geek Squad',\n",
              " 'Geek Squad Connected Home Services',\n",
              " 'Geek Squad Services',\n",
              " 'Gel Fuel Fireplaces',\n",
              " 'Genealogy',\n",
              " 'General Appliance Accessories',\n",
              " 'General Music DVDs',\n",
              " 'Geocaching GPS',\n",
              " 'Geography & Globes',\n",
              " 'Gift Bags',\n",
              " 'Gift Ideas',\n",
              " 'Gimbals',\n",
              " 'Glucose Monitors',\n",
              " 'GoPro',\n",
              " 'GoPro Camera Accessories',\n",
              " 'GoPro Camera BacPacs',\n",
              " 'GoPro Camera Mounts',\n",
              " 'GoPro Camera Remotes & BacPacs',\n",
              " 'GoPro Cameras',\n",
              " 'Golf',\n",
              " 'Golf GPS & Rangefinders',\n",
              " 'Google Play Cards',\n",
              " 'Graduated Color Filters',\n",
              " 'Graphic Design Software',\n",
              " 'Graphics Tablets',\n",
              " 'Graphics Tablets & Digital Pens',\n",
              " 'Grill Accessories',\n",
              " 'Grills',\n",
              " 'Grills & Oven Racks',\n",
              " 'Guitar Accessories',\n",
              " 'Guitar Cases & Bags',\n",
              " 'Guitar Cleaning & Care',\n",
              " 'Guitar Picks',\n",
              " 'Guitar Pickups',\n",
              " 'Guitar Stands',\n",
              " 'Guitar Straps & Strap Locks',\n",
              " 'Guitar Strings',\n",
              " 'Guitar Tuners & Metronomes',\n",
              " 'Guitar Wrenches & Winders',\n",
              " 'Guitars',\n",
              " 'H/VG_X360/Games/B2G1_20130602',\n",
              " 'HDMI Cables',\n",
              " 'Hair & Nail Cutting Kits',\n",
              " 'Hair Care',\n",
              " 'Hair Dryers',\n",
              " 'Hair Straighteners',\n",
              " 'Hand Blenders',\n",
              " 'Hand Mixers',\n",
              " 'Hand Tools',\n",
              " 'Handheld & Stick Vacuums',\n",
              " 'Handheld GPS',\n",
              " 'Handheld Scanners',\n",
              " 'Handlebar/Seatpost Mounts',\n",
              " 'Hard Drive Cables & Accessories',\n",
              " 'Hard Drive Enclosures',\n",
              " 'Hard Drives & Storage',\n",
              " 'Harmonicas',\n",
              " 'Headphone Accessories',\n",
              " 'Headphone Amps',\n",
              " 'Headphone Cases',\n",
              " 'Headphone Extension Cords',\n",
              " 'Headphone Splitters',\n",
              " 'Headphones',\n",
              " 'Headrest DVD Players',\n",
              " 'Headsets & Microphones',\n",
              " 'Health & Fitness Accessories',\n",
              " 'Health Monitoring & Testing',\n",
              " 'Health Thermometers',\n",
              " 'Health, Fitness & Beauty',\n",
              " 'Hearing',\n",
              " 'Hearing Aid Batteries',\n",
              " 'Heart Rate Monitors',\n",
              " 'Heaters',\n",
              " 'Heating, Cooling & Air Quality',\n",
              " 'Hello Kitty',\n",
              " 'Helmet/Head Mounts',\n",
              " 'Hewlett-Packard',\n",
              " 'Hi-Hat Cymbals',\n",
              " 'Him',\n",
              " 'Hobbies & Leisure',\n",
              " 'Home',\n",
              " 'Home & Landscape Design',\n",
              " 'Home Alarms & Sensors',\n",
              " 'Home Audio',\n",
              " 'Home Audio Accessories',\n",
              " 'Home Brewing',\n",
              " 'Home Energy Technology',\n",
              " 'Home Entertainment Networking',\n",
              " 'Home Office Desks',\n",
              " 'Home Satellite Radios',\n",
              " 'Home Security & Surveillance',\n",
              " 'Home Surveillance Cameras',\n",
              " 'Home Theater Furniture',\n",
              " 'Home Theater Networking',\n",
              " 'Home Theater Power Centers',\n",
              " 'Home Theater Seating',\n",
              " 'Home Theater Systems',\n",
              " 'Home Theater in a Box',\n",
              " 'Hot Dog Grillers & Carts',\n",
              " 'Household Batteries',\n",
              " 'Household Essentials',\n",
              " 'Housewares',\n",
              " 'Hulu Gift Cards',\n",
              " 'Humidifier Filters & Parts',\n",
              " 'Humidifiers',\n",
              " 'Humidors',\n",
              " 'IPS Monitors',\n",
              " 'Ice Cream & Yogurt Makers',\n",
              " 'Ice Cream Makers',\n",
              " 'Ice Makers',\n",
              " 'Image Softening Filters',\n",
              " 'Immobilizer Bypass Modules',\n",
              " 'In-Ceiling Speakers',\n",
              " 'In-Dash with DVD',\n",
              " 'In-Dash with GPS',\n",
              " 'In-Dash with HD Radio',\n",
              " 'In-Home Speakers',\n",
              " 'In-Store Only',\n",
              " 'In-Wall & In-Ceiling Speakers',\n",
              " 'In-Wall Air Conditioners',\n",
              " 'In-Wall Speaker Accessories',\n",
              " 'In-Wall Speakers',\n",
              " 'Incandescent Light Bulbs',\n",
              " 'Incase',\n",
              " 'Infrared Filters',\n",
              " 'Ink',\n",
              " 'Ink for Hewlett-Packard',\n",
              " 'Inkjet Printers',\n",
              " 'Installation & Conversion Kits',\n",
              " 'Instant Print Cameras',\n",
              " 'Instrument Instruction Software',\n",
              " 'Instrument Instructional Books',\n",
              " 'Instrument Instructional DVDs',\n",
              " 'Interactive Learning Systems',\n",
              " 'Interactive Whiteboards',\n",
              " 'Interface / Add-On Cards',\n",
              " 'Interfaces & Converters',\n",
              " 'Internal Batteries',\n",
              " 'Internal Blu-ray Drives',\n",
              " 'Internal DVD Drives',\n",
              " 'Internal Hard Drives',\n",
              " 'Internet Security',\n",
              " 'Irons',\n",
              " 'Irons, Steamers & Sewing Machines',\n",
              " 'Island Range Hoods',\n",
              " 'Jacks, Filters, Adapters',\n",
              " 'Jewel Cases',\n",
              " 'Joysticks',\n",
              " 'Juice Extractors',\n",
              " 'Juice Presses',\n",
              " 'Juicers',\n",
              " 'KVM Switches',\n",
              " 'Karaoke',\n",
              " 'Karaoke Accessories',\n",
              " 'Karaoke Machines',\n",
              " 'Karaoke Software',\n",
              " 'Keyboard & Mouse Combos',\n",
              " 'Keyboard Accessories',\n",
              " 'Keyboard Amps',\n",
              " 'Keyboard Folios',\n",
              " 'Keyboard Protection & Covers',\n",
              " 'Keyboard Trays',\n",
              " 'Keyboards',\n",
              " 'Keypads',\n",
              " 'Kicker',\n",
              " 'Kicker Vehicle Specific Solutions',\n",
              " 'Kids & Family',\n",
              " \"Kids' Cameras\",\n",
              " \"Kids' Electronics\",\n",
              " \"Kids' Handheld Games\",\n",
              " \"Kids' Headphones\",\n",
              " \"Kids' Laptops\",\n",
              " \"Kids' Tablets\",\n",
              " 'Kinect',\n",
              " 'Kinect Games',\n",
              " 'Kitchen & Dining',\n",
              " 'Kitchen Gadgets',\n",
              " 'LCD Monitors',\n",
              " 'LED Light Bulbs',\n",
              " 'LED Lighting',\n",
              " 'LED Monitors',\n",
              " 'LED TVs',\n",
              " 'LG',\n",
              " 'LG Home Theater Systems',\n",
              " 'LG Portable & Wireless Speakers',\n",
              " 'LG TV & Home Theater',\n",
              " 'Labeler Accessories',\n",
              " 'Labelers',\n",
              " 'Labelers & Accessories',\n",
              " 'Labelers & Laminators',\n",
              " 'Labels & Stickers',\n",
              " 'Laminator Accessories',\n",
              " 'Laminators',\n",
              " 'Laminators & Accessories',\n",
              " 'Lamps & Lighting',\n",
              " 'Language Learning Software',\n",
              " 'Lap Desks',\n",
              " 'Laptop Accessories',\n",
              " 'Laptop Bags & Cases',\n",
              " 'Laptop Batteries',\n",
              " 'Laptop Chargers & Adapters',\n",
              " 'Laptop Memory',\n",
              " 'Laptop Speakers',\n",
              " 'Laptops',\n",
              " 'Large',\n",
              " 'Laser Printers',\n",
              " 'Leak Sensors',\n",
              " 'Learning & Education',\n",
              " 'Learning System Accessories',\n",
              " 'Learning System Consoles',\n",
              " 'Learning System Games',\n",
              " 'Legal Forms Software',\n",
              " 'Lego Dimensions',\n",
              " 'Lens Accessories',\n",
              " 'Lens Adapters & Converters',\n",
              " 'Lens Caps',\n",
              " 'Lens Cases',\n",
              " 'Lens Filters',\n",
              " 'Lens Filters & Caps',\n",
              " 'Lens Hoods',\n",
              " 'Lens Protectors & Adapters',\n",
              " 'Light Bulbs',\n",
              " 'Light Dimmers & Controls',\n",
              " 'Light Stands',\n",
              " 'Light Therapy',\n",
              " 'Lighting',\n",
              " 'Lighting Accessories',\n",
              " 'Lithium Batteries',\n",
              " 'Live Sound Accessories',\n",
              " 'Live Sound Equipment Cases',\n",
              " 'Live Sound Speaker Systems',\n",
              " 'Live Sound Speakers',\n",
              " 'Live Sound Subwoofers',\n",
              " 'Living Room Furniture',\n",
              " 'Living Room Tables',\n",
              " 'Loaded Enclosures',\n",
              " 'Locks',\n",
              " 'Long-Range Zoom Lenses',\n",
              " 'Los Angeles Lakers',\n",
              " 'Low Light Cameras',\n",
              " 'Luggage',\n",
              " 'Luggage Accessories',\n",
              " 'Luggage Carts',\n",
              " 'Luggage Scales',\n",
              " 'Luggage Tags',\n",
              " 'Luggage, Bags & Travel',\n",
              " 'Lunch Boxes',\n",
              " 'MLB Merchandise',\n",
              " 'MP Exclusives',\n",
              " 'MP Pending',\n",
              " 'MP3 Player Cables',\n",
              " 'MP3 Player Charging Kits',\n",
              " 'MP3 Player Screen Protectors',\n",
              " 'MP3 Player Wall Chargers',\n",
              " 'MP3 Players',\n",
              " 'Mac',\n",
              " 'Mac Accessories',\n",
              " 'Mac External Hard Drives',\n",
              " 'MacBooks',\n",
              " 'Magellan GPS',\n",
              " 'Magnifiers',\n",
              " 'Magnolia Accessories',\n",
              " 'Magnolia Home Theater',\n",
              " 'Magnolia TV Stands, Mounts & Furniture',\n",
              " 'Maintenance Software',\n",
              " 'Mandolins',\n",
              " 'Maracas',\n",
              " 'Margarita Machines',\n",
              " 'Marine & Powersports',\n",
              " 'Marine Accessories & Lighting',\n",
              " 'Marine Amplifiers',\n",
              " 'Marine Antennas, Mounts & Cables',\n",
              " 'Marine Audio',\n",
              " 'Marine Audio Accessories',\n",
              " 'Marine Cables & Networking',\n",
              " 'Marine GPS',\n",
              " 'Marine GPS & Fishfinders',\n",
              " 'Marine GPS & Navigation',\n",
              " 'Marine Maps',\n",
              " 'Marine Remote Controls',\n",
              " 'Marine Speakers',\n",
              " 'Marine Stereo Receivers',\n",
              " 'Marine Subwoofers',\n",
              " 'Markers',\n",
              " 'Martini & Bar Accessories',\n",
              " 'Massagers & Spa',\n",
              " 'Masticating Juicers',\n",
              " 'Meat Slicers & Grinders',\n",
              " 'Meat Thermometers',\n",
              " 'Media Cabinets',\n",
              " 'Media Shelf Towers',\n",
              " 'Medium',\n",
              " 'Memory (RAM)',\n",
              " 'Memory Card Cases',\n",
              " 'Memory Card Readers & Adapters',\n",
              " 'Memory Cards',\n",
              " \"Men's Shavers\",\n",
              " 'Mice',\n",
              " 'Mice & Keyboards',\n",
              " 'Micro SD (SD, SDHC, SDXC)',\n",
              " 'Micro SDHC',\n",
              " 'Micro SDXC',\n",
              " 'Microphone Accessories',\n",
              " 'Microphones',\n",
              " 'Microphones & Accessories',\n",
              " 'Microphones & Live Sound',\n",
              " 'Microscopes',\n",
              " 'Microsoft',\n",
              " 'Microsoft Surface Accessories',\n",
              " 'Microsoft Surface Pro 4 Accessories',\n",
              " 'Microsoft Surface Tablets',\n",
              " 'Microwave Accessories',\n",
              " 'Microwave Air Filters',\n",
              " 'Microwave Carts and Shelves',\n",
              " 'Microwave Mounting Kits',\n",
              " 'Microwave Trim Kits',\n",
              " 'Microwaves',\n",
              " 'Mid-Size Microwaves',\n",
              " 'Midi Keyboards & Controllers',\n",
              " 'Milk Frothers',\n",
              " 'Mini DVDs',\n",
              " ...]"
            ]
          },
          "metadata": {},
          "execution_count": 70
        }
      ],
      "source": [
        "list(mlb.classes_)"
      ]
    },
    {
      "cell_type": "code",
      "execution_count": null,
      "metadata": {
        "colab": {
          "base_uri": "https://localhost:8080/",
          "height": 557
        },
        "id": "g5aZs-_bri1P",
        "outputId": "43e88d45-ad56-4816-b6e1-a11aa8b1bd27"
      },
      "outputs": [
        {
          "output_type": "execute_result",
          "data": {
            "text/plain": [
              "       2-Channel Amps  2-Way Speakers  2-in-1s  3-Way Speakers  \\\n",
              "0                   0               0        0               0   \n",
              "1                   0               0        0               0   \n",
              "2                   0               0        0               0   \n",
              "3                   0               0        0               0   \n",
              "4                   0               0        0               0   \n",
              "...               ...             ...      ...             ...   \n",
              "50960               0               0        0               0   \n",
              "50961               0               0        0               0   \n",
              "50962               0               0        0               0   \n",
              "50963               0               0        0               0   \n",
              "50964               0               0        0               0   \n",
              "\n",
              "       3.5\" Car Speakers  360 Degree Cameras  3D Blu-ray Players  3D Glasses  \\\n",
              "0                      0                   0                   0           0   \n",
              "1                      0                   0                   0           0   \n",
              "2                      0                   0                   0           0   \n",
              "3                      0                   0                   0           0   \n",
              "4                      0                   0                   0           0   \n",
              "...                  ...                 ...                 ...         ...   \n",
              "50960                  0                   0                   0           0   \n",
              "50961                  0                   0                   0           0   \n",
              "50962                  0                   0                   0           0   \n",
              "50963                  0                   0                   0           0   \n",
              "50964                  0                   0                   0           0   \n",
              "\n",
              "       3D Printer Filament  3D Printers  ...  iPod and MP3 Players  iPod nano  \\\n",
              "0                        0            0  ...                     0          0   \n",
              "1                        0            0  ...                     0          0   \n",
              "2                        0            0  ...                     0          0   \n",
              "3                        0            0  ...                     0          0   \n",
              "4                        0            0  ...                     0          0   \n",
              "...                    ...          ...  ...                   ...        ...   \n",
              "50960                    0            0  ...                     0          0   \n",
              "50961                    0            0  ...                     0          0   \n",
              "50962                    0            0  ...                     0          0   \n",
              "50963                    0            0  ...                     0          0   \n",
              "50964                    0            0  ...                     0          0   \n",
              "\n",
              "       iPod shuffle  iPod touch  iPod-Ready Decks  iPods  iRobot  \\\n",
              "0                 0           0                 0      0       0   \n",
              "1                 0           0                 0      0       0   \n",
              "2                 0           0                 0      0       0   \n",
              "3                 0           0                 0      0       0   \n",
              "4                 0           0                 0      0       0   \n",
              "...             ...         ...               ...    ...     ...   \n",
              "50960             0           0                 0      0       0   \n",
              "50961             0           0                 0      0       0   \n",
              "50962             0           0                 0      0       0   \n",
              "50963             0           0                 0      0       0   \n",
              "50964             0           0                 0      0       0   \n",
              "\n",
              "       iRobot Accessories  iRobot Hard Floor Cleaning Robots  \\\n",
              "0                       0                                  0   \n",
              "1                       0                                  0   \n",
              "2                       0                                  0   \n",
              "3                       0                                  0   \n",
              "4                       0                                  0   \n",
              "...                   ...                                ...   \n",
              "50960                   0                                  0   \n",
              "50961                   0                                  0   \n",
              "50962                   0                                  0   \n",
              "50963                   0                                  0   \n",
              "50964                   0                                  0   \n",
              "\n",
              "       iRobot Vacuum Cleaning Robots  \n",
              "0                                  0  \n",
              "1                                  0  \n",
              "2                                  0  \n",
              "3                                  0  \n",
              "4                                  0  \n",
              "...                              ...  \n",
              "50960                              0  \n",
              "50961                              0  \n",
              "50962                              0  \n",
              "50963                              0  \n",
              "50964                              0  \n",
              "\n",
              "[50965 rows x 1802 columns]"
            ],
            "text/html": [
              "\n",
              "  <div id=\"df-bde84f61-5d23-4484-a546-11b076bd5682\">\n",
              "    <div class=\"colab-df-container\">\n",
              "      <div>\n",
              "<style scoped>\n",
              "    .dataframe tbody tr th:only-of-type {\n",
              "        vertical-align: middle;\n",
              "    }\n",
              "\n",
              "    .dataframe tbody tr th {\n",
              "        vertical-align: top;\n",
              "    }\n",
              "\n",
              "    .dataframe thead th {\n",
              "        text-align: right;\n",
              "    }\n",
              "</style>\n",
              "<table border=\"1\" class=\"dataframe\">\n",
              "  <thead>\n",
              "    <tr style=\"text-align: right;\">\n",
              "      <th></th>\n",
              "      <th>2-Channel Amps</th>\n",
              "      <th>2-Way Speakers</th>\n",
              "      <th>2-in-1s</th>\n",
              "      <th>3-Way Speakers</th>\n",
              "      <th>3.5\" Car Speakers</th>\n",
              "      <th>360 Degree Cameras</th>\n",
              "      <th>3D Blu-ray Players</th>\n",
              "      <th>3D Glasses</th>\n",
              "      <th>3D Printer Filament</th>\n",
              "      <th>3D Printers</th>\n",
              "      <th>...</th>\n",
              "      <th>iPod and MP3 Players</th>\n",
              "      <th>iPod nano</th>\n",
              "      <th>iPod shuffle</th>\n",
              "      <th>iPod touch</th>\n",
              "      <th>iPod-Ready Decks</th>\n",
              "      <th>iPods</th>\n",
              "      <th>iRobot</th>\n",
              "      <th>iRobot Accessories</th>\n",
              "      <th>iRobot Hard Floor Cleaning Robots</th>\n",
              "      <th>iRobot Vacuum Cleaning Robots</th>\n",
              "    </tr>\n",
              "  </thead>\n",
              "  <tbody>\n",
              "    <tr>\n",
              "      <th>0</th>\n",
              "      <td>0</td>\n",
              "      <td>0</td>\n",
              "      <td>0</td>\n",
              "      <td>0</td>\n",
              "      <td>0</td>\n",
              "      <td>0</td>\n",
              "      <td>0</td>\n",
              "      <td>0</td>\n",
              "      <td>0</td>\n",
              "      <td>0</td>\n",
              "      <td>...</td>\n",
              "      <td>0</td>\n",
              "      <td>0</td>\n",
              "      <td>0</td>\n",
              "      <td>0</td>\n",
              "      <td>0</td>\n",
              "      <td>0</td>\n",
              "      <td>0</td>\n",
              "      <td>0</td>\n",
              "      <td>0</td>\n",
              "      <td>0</td>\n",
              "    </tr>\n",
              "    <tr>\n",
              "      <th>1</th>\n",
              "      <td>0</td>\n",
              "      <td>0</td>\n",
              "      <td>0</td>\n",
              "      <td>0</td>\n",
              "      <td>0</td>\n",
              "      <td>0</td>\n",
              "      <td>0</td>\n",
              "      <td>0</td>\n",
              "      <td>0</td>\n",
              "      <td>0</td>\n",
              "      <td>...</td>\n",
              "      <td>0</td>\n",
              "      <td>0</td>\n",
              "      <td>0</td>\n",
              "      <td>0</td>\n",
              "      <td>0</td>\n",
              "      <td>0</td>\n",
              "      <td>0</td>\n",
              "      <td>0</td>\n",
              "      <td>0</td>\n",
              "      <td>0</td>\n",
              "    </tr>\n",
              "    <tr>\n",
              "      <th>2</th>\n",
              "      <td>0</td>\n",
              "      <td>0</td>\n",
              "      <td>0</td>\n",
              "      <td>0</td>\n",
              "      <td>0</td>\n",
              "      <td>0</td>\n",
              "      <td>0</td>\n",
              "      <td>0</td>\n",
              "      <td>0</td>\n",
              "      <td>0</td>\n",
              "      <td>...</td>\n",
              "      <td>0</td>\n",
              "      <td>0</td>\n",
              "      <td>0</td>\n",
              "      <td>0</td>\n",
              "      <td>0</td>\n",
              "      <td>0</td>\n",
              "      <td>0</td>\n",
              "      <td>0</td>\n",
              "      <td>0</td>\n",
              "      <td>0</td>\n",
              "    </tr>\n",
              "    <tr>\n",
              "      <th>3</th>\n",
              "      <td>0</td>\n",
              "      <td>0</td>\n",
              "      <td>0</td>\n",
              "      <td>0</td>\n",
              "      <td>0</td>\n",
              "      <td>0</td>\n",
              "      <td>0</td>\n",
              "      <td>0</td>\n",
              "      <td>0</td>\n",
              "      <td>0</td>\n",
              "      <td>...</td>\n",
              "      <td>0</td>\n",
              "      <td>0</td>\n",
              "      <td>0</td>\n",
              "      <td>0</td>\n",
              "      <td>0</td>\n",
              "      <td>0</td>\n",
              "      <td>0</td>\n",
              "      <td>0</td>\n",
              "      <td>0</td>\n",
              "      <td>0</td>\n",
              "    </tr>\n",
              "    <tr>\n",
              "      <th>4</th>\n",
              "      <td>0</td>\n",
              "      <td>0</td>\n",
              "      <td>0</td>\n",
              "      <td>0</td>\n",
              "      <td>0</td>\n",
              "      <td>0</td>\n",
              "      <td>0</td>\n",
              "      <td>0</td>\n",
              "      <td>0</td>\n",
              "      <td>0</td>\n",
              "      <td>...</td>\n",
              "      <td>0</td>\n",
              "      <td>0</td>\n",
              "      <td>0</td>\n",
              "      <td>0</td>\n",
              "      <td>0</td>\n",
              "      <td>0</td>\n",
              "      <td>0</td>\n",
              "      <td>0</td>\n",
              "      <td>0</td>\n",
              "      <td>0</td>\n",
              "    </tr>\n",
              "    <tr>\n",
              "      <th>...</th>\n",
              "      <td>...</td>\n",
              "      <td>...</td>\n",
              "      <td>...</td>\n",
              "      <td>...</td>\n",
              "      <td>...</td>\n",
              "      <td>...</td>\n",
              "      <td>...</td>\n",
              "      <td>...</td>\n",
              "      <td>...</td>\n",
              "      <td>...</td>\n",
              "      <td>...</td>\n",
              "      <td>...</td>\n",
              "      <td>...</td>\n",
              "      <td>...</td>\n",
              "      <td>...</td>\n",
              "      <td>...</td>\n",
              "      <td>...</td>\n",
              "      <td>...</td>\n",
              "      <td>...</td>\n",
              "      <td>...</td>\n",
              "      <td>...</td>\n",
              "    </tr>\n",
              "    <tr>\n",
              "      <th>50960</th>\n",
              "      <td>0</td>\n",
              "      <td>0</td>\n",
              "      <td>0</td>\n",
              "      <td>0</td>\n",
              "      <td>0</td>\n",
              "      <td>0</td>\n",
              "      <td>0</td>\n",
              "      <td>0</td>\n",
              "      <td>0</td>\n",
              "      <td>0</td>\n",
              "      <td>...</td>\n",
              "      <td>0</td>\n",
              "      <td>0</td>\n",
              "      <td>0</td>\n",
              "      <td>0</td>\n",
              "      <td>0</td>\n",
              "      <td>0</td>\n",
              "      <td>0</td>\n",
              "      <td>0</td>\n",
              "      <td>0</td>\n",
              "      <td>0</td>\n",
              "    </tr>\n",
              "    <tr>\n",
              "      <th>50961</th>\n",
              "      <td>0</td>\n",
              "      <td>0</td>\n",
              "      <td>0</td>\n",
              "      <td>0</td>\n",
              "      <td>0</td>\n",
              "      <td>0</td>\n",
              "      <td>0</td>\n",
              "      <td>0</td>\n",
              "      <td>0</td>\n",
              "      <td>0</td>\n",
              "      <td>...</td>\n",
              "      <td>0</td>\n",
              "      <td>0</td>\n",
              "      <td>0</td>\n",
              "      <td>0</td>\n",
              "      <td>0</td>\n",
              "      <td>0</td>\n",
              "      <td>0</td>\n",
              "      <td>0</td>\n",
              "      <td>0</td>\n",
              "      <td>0</td>\n",
              "    </tr>\n",
              "    <tr>\n",
              "      <th>50962</th>\n",
              "      <td>0</td>\n",
              "      <td>0</td>\n",
              "      <td>0</td>\n",
              "      <td>0</td>\n",
              "      <td>0</td>\n",
              "      <td>0</td>\n",
              "      <td>0</td>\n",
              "      <td>0</td>\n",
              "      <td>0</td>\n",
              "      <td>0</td>\n",
              "      <td>...</td>\n",
              "      <td>0</td>\n",
              "      <td>0</td>\n",
              "      <td>0</td>\n",
              "      <td>0</td>\n",
              "      <td>0</td>\n",
              "      <td>0</td>\n",
              "      <td>0</td>\n",
              "      <td>0</td>\n",
              "      <td>0</td>\n",
              "      <td>0</td>\n",
              "    </tr>\n",
              "    <tr>\n",
              "      <th>50963</th>\n",
              "      <td>0</td>\n",
              "      <td>0</td>\n",
              "      <td>0</td>\n",
              "      <td>0</td>\n",
              "      <td>0</td>\n",
              "      <td>0</td>\n",
              "      <td>0</td>\n",
              "      <td>0</td>\n",
              "      <td>0</td>\n",
              "      <td>0</td>\n",
              "      <td>...</td>\n",
              "      <td>0</td>\n",
              "      <td>0</td>\n",
              "      <td>0</td>\n",
              "      <td>0</td>\n",
              "      <td>0</td>\n",
              "      <td>0</td>\n",
              "      <td>0</td>\n",
              "      <td>0</td>\n",
              "      <td>0</td>\n",
              "      <td>0</td>\n",
              "    </tr>\n",
              "    <tr>\n",
              "      <th>50964</th>\n",
              "      <td>0</td>\n",
              "      <td>0</td>\n",
              "      <td>0</td>\n",
              "      <td>0</td>\n",
              "      <td>0</td>\n",
              "      <td>0</td>\n",
              "      <td>0</td>\n",
              "      <td>0</td>\n",
              "      <td>0</td>\n",
              "      <td>0</td>\n",
              "      <td>...</td>\n",
              "      <td>0</td>\n",
              "      <td>0</td>\n",
              "      <td>0</td>\n",
              "      <td>0</td>\n",
              "      <td>0</td>\n",
              "      <td>0</td>\n",
              "      <td>0</td>\n",
              "      <td>0</td>\n",
              "      <td>0</td>\n",
              "      <td>0</td>\n",
              "    </tr>\n",
              "  </tbody>\n",
              "</table>\n",
              "<p>50965 rows × 1802 columns</p>\n",
              "</div>\n",
              "      <button class=\"colab-df-convert\" onclick=\"convertToInteractive('df-bde84f61-5d23-4484-a546-11b076bd5682')\"\n",
              "              title=\"Convert this dataframe to an interactive table.\"\n",
              "              style=\"display:none;\">\n",
              "        \n",
              "  <svg xmlns=\"http://www.w3.org/2000/svg\" height=\"24px\"viewBox=\"0 0 24 24\"\n",
              "       width=\"24px\">\n",
              "    <path d=\"M0 0h24v24H0V0z\" fill=\"none\"/>\n",
              "    <path d=\"M18.56 5.44l.94 2.06.94-2.06 2.06-.94-2.06-.94-.94-2.06-.94 2.06-2.06.94zm-11 1L8.5 8.5l.94-2.06 2.06-.94-2.06-.94L8.5 2.5l-.94 2.06-2.06.94zm10 10l.94 2.06.94-2.06 2.06-.94-2.06-.94-.94-2.06-.94 2.06-2.06.94z\"/><path d=\"M17.41 7.96l-1.37-1.37c-.4-.4-.92-.59-1.43-.59-.52 0-1.04.2-1.43.59L10.3 9.45l-7.72 7.72c-.78.78-.78 2.05 0 2.83L4 21.41c.39.39.9.59 1.41.59.51 0 1.02-.2 1.41-.59l7.78-7.78 2.81-2.81c.8-.78.8-2.07 0-2.86zM5.41 20L4 18.59l7.72-7.72 1.47 1.35L5.41 20z\"/>\n",
              "  </svg>\n",
              "      </button>\n",
              "      \n",
              "  <style>\n",
              "    .colab-df-container {\n",
              "      display:flex;\n",
              "      flex-wrap:wrap;\n",
              "      gap: 12px;\n",
              "    }\n",
              "\n",
              "    .colab-df-convert {\n",
              "      background-color: #E8F0FE;\n",
              "      border: none;\n",
              "      border-radius: 50%;\n",
              "      cursor: pointer;\n",
              "      display: none;\n",
              "      fill: #1967D2;\n",
              "      height: 32px;\n",
              "      padding: 0 0 0 0;\n",
              "      width: 32px;\n",
              "    }\n",
              "\n",
              "    .colab-df-convert:hover {\n",
              "      background-color: #E2EBFA;\n",
              "      box-shadow: 0px 1px 2px rgba(60, 64, 67, 0.3), 0px 1px 3px 1px rgba(60, 64, 67, 0.15);\n",
              "      fill: #174EA6;\n",
              "    }\n",
              "\n",
              "    [theme=dark] .colab-df-convert {\n",
              "      background-color: #3B4455;\n",
              "      fill: #D2E3FC;\n",
              "    }\n",
              "\n",
              "    [theme=dark] .colab-df-convert:hover {\n",
              "      background-color: #434B5C;\n",
              "      box-shadow: 0px 1px 3px 1px rgba(0, 0, 0, 0.15);\n",
              "      filter: drop-shadow(0px 1px 2px rgba(0, 0, 0, 0.3));\n",
              "      fill: #FFFFFF;\n",
              "    }\n",
              "  </style>\n",
              "\n",
              "      <script>\n",
              "        const buttonEl =\n",
              "          document.querySelector('#df-bde84f61-5d23-4484-a546-11b076bd5682 button.colab-df-convert');\n",
              "        buttonEl.style.display =\n",
              "          google.colab.kernel.accessAllowed ? 'block' : 'none';\n",
              "\n",
              "        async function convertToInteractive(key) {\n",
              "          const element = document.querySelector('#df-bde84f61-5d23-4484-a546-11b076bd5682');\n",
              "          const dataTable =\n",
              "            await google.colab.kernel.invokeFunction('convertToInteractive',\n",
              "                                                     [key], {});\n",
              "          if (!dataTable) return;\n",
              "\n",
              "          const docLinkHtml = 'Like what you see? Visit the ' +\n",
              "            '<a target=\"_blank\" href=https://colab.research.google.com/notebooks/data_table.ipynb>data table notebook</a>'\n",
              "            + ' to learn more about interactive tables.';\n",
              "          element.innerHTML = '';\n",
              "          dataTable['output_type'] = 'display_data';\n",
              "          await google.colab.output.renderOutput(dataTable, element);\n",
              "          const docLink = document.createElement('div');\n",
              "          docLink.innerHTML = docLinkHtml;\n",
              "          element.appendChild(docLink);\n",
              "        }\n",
              "      </script>\n",
              "    </div>\n",
              "  </div>\n",
              "  "
            ]
          },
          "metadata": {},
          "execution_count": 71
        }
      ],
      "source": [
        "labels_encoding = pd.DataFrame(y, columns=mlb.classes_)\n",
        "labels_encoding"
      ]
    },
    {
      "cell_type": "code",
      "execution_count": null,
      "metadata": {
        "id": "cUSruR4Prthu"
      },
      "outputs": [],
      "source": [
        "#mlb.inverse_transform(prod_categories.to_numpy())[0]"
      ]
    },
    {
      "cell_type": "markdown",
      "source": [
        "## Labels visualization:"
      ],
      "metadata": {
        "id": "_QuNYY2D6GBc"
      }
    },
    {
      "cell_type": "markdown",
      "metadata": {
        "id": "y2XsYCiarzj8"
      },
      "source": [
        "**Number of products per category:** to check most frequently occuring categories"
      ]
    },
    {
      "cell_type": "code",
      "execution_count": null,
      "metadata": {
        "colab": {
          "base_uri": "https://localhost:8080/",
          "height": 423
        },
        "id": "QnAs-ayfsJ49",
        "outputId": "1f49152e-a953-410c-c44d-63ede9b6d450"
      },
      "outputs": [
        {
          "output_type": "execute_result",
          "data": {
            "text/plain": [
              "                               label  count\n",
              "0                         Appliances   9178\n",
              "1                        Cell Phones   6784\n",
              "2             Cell Phone Accessories   6057\n",
              "3                Computers & Tablets   6009\n",
              "4                        Video Games   5815\n",
              "...                              ...    ...\n",
              "1797  Installation & Conversion Kits      1\n",
              "1798                             Ink      1\n",
              "1799        Incandescent Light Bulbs      1\n",
              "1800         Image Softening Filters      1\n",
              "1801        Light Dimmers & Controls      1\n",
              "\n",
              "[1802 rows x 2 columns]"
            ],
            "text/html": [
              "\n",
              "  <div id=\"df-2ff5c1c5-19ce-4d0e-b0f1-468b0b04e091\">\n",
              "    <div class=\"colab-df-container\">\n",
              "      <div>\n",
              "<style scoped>\n",
              "    .dataframe tbody tr th:only-of-type {\n",
              "        vertical-align: middle;\n",
              "    }\n",
              "\n",
              "    .dataframe tbody tr th {\n",
              "        vertical-align: top;\n",
              "    }\n",
              "\n",
              "    .dataframe thead th {\n",
              "        text-align: right;\n",
              "    }\n",
              "</style>\n",
              "<table border=\"1\" class=\"dataframe\">\n",
              "  <thead>\n",
              "    <tr style=\"text-align: right;\">\n",
              "      <th></th>\n",
              "      <th>label</th>\n",
              "      <th>count</th>\n",
              "    </tr>\n",
              "  </thead>\n",
              "  <tbody>\n",
              "    <tr>\n",
              "      <th>0</th>\n",
              "      <td>Appliances</td>\n",
              "      <td>9178</td>\n",
              "    </tr>\n",
              "    <tr>\n",
              "      <th>1</th>\n",
              "      <td>Cell Phones</td>\n",
              "      <td>6784</td>\n",
              "    </tr>\n",
              "    <tr>\n",
              "      <th>2</th>\n",
              "      <td>Cell Phone Accessories</td>\n",
              "      <td>6057</td>\n",
              "    </tr>\n",
              "    <tr>\n",
              "      <th>3</th>\n",
              "      <td>Computers &amp; Tablets</td>\n",
              "      <td>6009</td>\n",
              "    </tr>\n",
              "    <tr>\n",
              "      <th>4</th>\n",
              "      <td>Video Games</td>\n",
              "      <td>5815</td>\n",
              "    </tr>\n",
              "    <tr>\n",
              "      <th>...</th>\n",
              "      <td>...</td>\n",
              "      <td>...</td>\n",
              "    </tr>\n",
              "    <tr>\n",
              "      <th>1797</th>\n",
              "      <td>Installation &amp; Conversion Kits</td>\n",
              "      <td>1</td>\n",
              "    </tr>\n",
              "    <tr>\n",
              "      <th>1798</th>\n",
              "      <td>Ink</td>\n",
              "      <td>1</td>\n",
              "    </tr>\n",
              "    <tr>\n",
              "      <th>1799</th>\n",
              "      <td>Incandescent Light Bulbs</td>\n",
              "      <td>1</td>\n",
              "    </tr>\n",
              "    <tr>\n",
              "      <th>1800</th>\n",
              "      <td>Image Softening Filters</td>\n",
              "      <td>1</td>\n",
              "    </tr>\n",
              "    <tr>\n",
              "      <th>1801</th>\n",
              "      <td>Light Dimmers &amp; Controls</td>\n",
              "      <td>1</td>\n",
              "    </tr>\n",
              "  </tbody>\n",
              "</table>\n",
              "<p>1802 rows × 2 columns</p>\n",
              "</div>\n",
              "      <button class=\"colab-df-convert\" onclick=\"convertToInteractive('df-2ff5c1c5-19ce-4d0e-b0f1-468b0b04e091')\"\n",
              "              title=\"Convert this dataframe to an interactive table.\"\n",
              "              style=\"display:none;\">\n",
              "        \n",
              "  <svg xmlns=\"http://www.w3.org/2000/svg\" height=\"24px\"viewBox=\"0 0 24 24\"\n",
              "       width=\"24px\">\n",
              "    <path d=\"M0 0h24v24H0V0z\" fill=\"none\"/>\n",
              "    <path d=\"M18.56 5.44l.94 2.06.94-2.06 2.06-.94-2.06-.94-.94-2.06-.94 2.06-2.06.94zm-11 1L8.5 8.5l.94-2.06 2.06-.94-2.06-.94L8.5 2.5l-.94 2.06-2.06.94zm10 10l.94 2.06.94-2.06 2.06-.94-2.06-.94-.94-2.06-.94 2.06-2.06.94z\"/><path d=\"M17.41 7.96l-1.37-1.37c-.4-.4-.92-.59-1.43-.59-.52 0-1.04.2-1.43.59L10.3 9.45l-7.72 7.72c-.78.78-.78 2.05 0 2.83L4 21.41c.39.39.9.59 1.41.59.51 0 1.02-.2 1.41-.59l7.78-7.78 2.81-2.81c.8-.78.8-2.07 0-2.86zM5.41 20L4 18.59l7.72-7.72 1.47 1.35L5.41 20z\"/>\n",
              "  </svg>\n",
              "      </button>\n",
              "      \n",
              "  <style>\n",
              "    .colab-df-container {\n",
              "      display:flex;\n",
              "      flex-wrap:wrap;\n",
              "      gap: 12px;\n",
              "    }\n",
              "\n",
              "    .colab-df-convert {\n",
              "      background-color: #E8F0FE;\n",
              "      border: none;\n",
              "      border-radius: 50%;\n",
              "      cursor: pointer;\n",
              "      display: none;\n",
              "      fill: #1967D2;\n",
              "      height: 32px;\n",
              "      padding: 0 0 0 0;\n",
              "      width: 32px;\n",
              "    }\n",
              "\n",
              "    .colab-df-convert:hover {\n",
              "      background-color: #E2EBFA;\n",
              "      box-shadow: 0px 1px 2px rgba(60, 64, 67, 0.3), 0px 1px 3px 1px rgba(60, 64, 67, 0.15);\n",
              "      fill: #174EA6;\n",
              "    }\n",
              "\n",
              "    [theme=dark] .colab-df-convert {\n",
              "      background-color: #3B4455;\n",
              "      fill: #D2E3FC;\n",
              "    }\n",
              "\n",
              "    [theme=dark] .colab-df-convert:hover {\n",
              "      background-color: #434B5C;\n",
              "      box-shadow: 0px 1px 3px 1px rgba(0, 0, 0, 0.15);\n",
              "      filter: drop-shadow(0px 1px 2px rgba(0, 0, 0, 0.3));\n",
              "      fill: #FFFFFF;\n",
              "    }\n",
              "  </style>\n",
              "\n",
              "      <script>\n",
              "        const buttonEl =\n",
              "          document.querySelector('#df-2ff5c1c5-19ce-4d0e-b0f1-468b0b04e091 button.colab-df-convert');\n",
              "        buttonEl.style.display =\n",
              "          google.colab.kernel.accessAllowed ? 'block' : 'none';\n",
              "\n",
              "        async function convertToInteractive(key) {\n",
              "          const element = document.querySelector('#df-2ff5c1c5-19ce-4d0e-b0f1-468b0b04e091');\n",
              "          const dataTable =\n",
              "            await google.colab.kernel.invokeFunction('convertToInteractive',\n",
              "                                                     [key], {});\n",
              "          if (!dataTable) return;\n",
              "\n",
              "          const docLinkHtml = 'Like what you see? Visit the ' +\n",
              "            '<a target=\"_blank\" href=https://colab.research.google.com/notebooks/data_table.ipynb>data table notebook</a>'\n",
              "            + ' to learn more about interactive tables.';\n",
              "          element.innerHTML = '';\n",
              "          dataTable['output_type'] = 'display_data';\n",
              "          await google.colab.output.renderOutput(dataTable, element);\n",
              "          const docLink = document.createElement('div');\n",
              "          docLink.innerHTML = docLinkHtml;\n",
              "          element.appendChild(docLink);\n",
              "        }\n",
              "      </script>\n",
              "    </div>\n",
              "  </div>\n",
              "  "
            ]
          },
          "metadata": {},
          "execution_count": 72
        }
      ],
      "source": [
        "counts = []\n",
        "L = list(labels_encoding.columns.values)\n",
        "for i in L:\n",
        "    counts.append((i, labels_encoding[i].sum()))\n",
        "labels_count = pd.DataFrame(counts, columns=['label', 'count'])\n",
        "labels_count.sort_values(['count'], inplace=True, ascending=False)\n",
        "labels_count.reset_index(inplace=True, drop=True)\n",
        "labels_count"
      ]
    },
    {
      "cell_type": "markdown",
      "metadata": {
        "id": "cJOY_6-WssyR"
      },
      "source": [
        "**Visualizing lebels distribution**"
      ]
    },
    {
      "cell_type": "markdown",
      "metadata": {
        "id": "2_VMypxYwwPa"
      },
      "source": [
        " We couldn't plot all the categories so we used a filter"
      ]
    },
    {
      "cell_type": "code",
      "execution_count": null,
      "metadata": {
        "id": "0yZ_ULURvcDR"
      },
      "outputs": [],
      "source": [
        "filter = 1000\n",
        "labels_count_filted = labels_count[labels_count['count']> filter]"
      ]
    },
    {
      "cell_type": "code",
      "execution_count": null,
      "metadata": {
        "colab": {
          "base_uri": "https://localhost:8080/",
          "height": 206
        },
        "id": "m1A79SA-0NDA",
        "outputId": "7ea4f149-b52b-4653-e108-cd858b3cbd5d"
      },
      "outputs": [
        {
          "output_type": "execute_result",
          "data": {
            "text/plain": [
              "                             label  count\n",
              "25                      Headphones   1110\n",
              "26             Printer Ink & Toner   1089\n",
              "27  Heating, Cooling & Air Quality   1056\n",
              "28         Deck Installation Parts   1054\n",
              "29   TV Stands, Mounts & Furniture   1009"
            ],
            "text/html": [
              "\n",
              "  <div id=\"df-76056624-7d25-4fcb-a70d-8161d2961875\">\n",
              "    <div class=\"colab-df-container\">\n",
              "      <div>\n",
              "<style scoped>\n",
              "    .dataframe tbody tr th:only-of-type {\n",
              "        vertical-align: middle;\n",
              "    }\n",
              "\n",
              "    .dataframe tbody tr th {\n",
              "        vertical-align: top;\n",
              "    }\n",
              "\n",
              "    .dataframe thead th {\n",
              "        text-align: right;\n",
              "    }\n",
              "</style>\n",
              "<table border=\"1\" class=\"dataframe\">\n",
              "  <thead>\n",
              "    <tr style=\"text-align: right;\">\n",
              "      <th></th>\n",
              "      <th>label</th>\n",
              "      <th>count</th>\n",
              "    </tr>\n",
              "  </thead>\n",
              "  <tbody>\n",
              "    <tr>\n",
              "      <th>25</th>\n",
              "      <td>Headphones</td>\n",
              "      <td>1110</td>\n",
              "    </tr>\n",
              "    <tr>\n",
              "      <th>26</th>\n",
              "      <td>Printer Ink &amp; Toner</td>\n",
              "      <td>1089</td>\n",
              "    </tr>\n",
              "    <tr>\n",
              "      <th>27</th>\n",
              "      <td>Heating, Cooling &amp; Air Quality</td>\n",
              "      <td>1056</td>\n",
              "    </tr>\n",
              "    <tr>\n",
              "      <th>28</th>\n",
              "      <td>Deck Installation Parts</td>\n",
              "      <td>1054</td>\n",
              "    </tr>\n",
              "    <tr>\n",
              "      <th>29</th>\n",
              "      <td>TV Stands, Mounts &amp; Furniture</td>\n",
              "      <td>1009</td>\n",
              "    </tr>\n",
              "  </tbody>\n",
              "</table>\n",
              "</div>\n",
              "      <button class=\"colab-df-convert\" onclick=\"convertToInteractive('df-76056624-7d25-4fcb-a70d-8161d2961875')\"\n",
              "              title=\"Convert this dataframe to an interactive table.\"\n",
              "              style=\"display:none;\">\n",
              "        \n",
              "  <svg xmlns=\"http://www.w3.org/2000/svg\" height=\"24px\"viewBox=\"0 0 24 24\"\n",
              "       width=\"24px\">\n",
              "    <path d=\"M0 0h24v24H0V0z\" fill=\"none\"/>\n",
              "    <path d=\"M18.56 5.44l.94 2.06.94-2.06 2.06-.94-2.06-.94-.94-2.06-.94 2.06-2.06.94zm-11 1L8.5 8.5l.94-2.06 2.06-.94-2.06-.94L8.5 2.5l-.94 2.06-2.06.94zm10 10l.94 2.06.94-2.06 2.06-.94-2.06-.94-.94-2.06-.94 2.06-2.06.94z\"/><path d=\"M17.41 7.96l-1.37-1.37c-.4-.4-.92-.59-1.43-.59-.52 0-1.04.2-1.43.59L10.3 9.45l-7.72 7.72c-.78.78-.78 2.05 0 2.83L4 21.41c.39.39.9.59 1.41.59.51 0 1.02-.2 1.41-.59l7.78-7.78 2.81-2.81c.8-.78.8-2.07 0-2.86zM5.41 20L4 18.59l7.72-7.72 1.47 1.35L5.41 20z\"/>\n",
              "  </svg>\n",
              "      </button>\n",
              "      \n",
              "  <style>\n",
              "    .colab-df-container {\n",
              "      display:flex;\n",
              "      flex-wrap:wrap;\n",
              "      gap: 12px;\n",
              "    }\n",
              "\n",
              "    .colab-df-convert {\n",
              "      background-color: #E8F0FE;\n",
              "      border: none;\n",
              "      border-radius: 50%;\n",
              "      cursor: pointer;\n",
              "      display: none;\n",
              "      fill: #1967D2;\n",
              "      height: 32px;\n",
              "      padding: 0 0 0 0;\n",
              "      width: 32px;\n",
              "    }\n",
              "\n",
              "    .colab-df-convert:hover {\n",
              "      background-color: #E2EBFA;\n",
              "      box-shadow: 0px 1px 2px rgba(60, 64, 67, 0.3), 0px 1px 3px 1px rgba(60, 64, 67, 0.15);\n",
              "      fill: #174EA6;\n",
              "    }\n",
              "\n",
              "    [theme=dark] .colab-df-convert {\n",
              "      background-color: #3B4455;\n",
              "      fill: #D2E3FC;\n",
              "    }\n",
              "\n",
              "    [theme=dark] .colab-df-convert:hover {\n",
              "      background-color: #434B5C;\n",
              "      box-shadow: 0px 1px 3px 1px rgba(0, 0, 0, 0.15);\n",
              "      filter: drop-shadow(0px 1px 2px rgba(0, 0, 0, 0.3));\n",
              "      fill: #FFFFFF;\n",
              "    }\n",
              "  </style>\n",
              "\n",
              "      <script>\n",
              "        const buttonEl =\n",
              "          document.querySelector('#df-76056624-7d25-4fcb-a70d-8161d2961875 button.colab-df-convert');\n",
              "        buttonEl.style.display =\n",
              "          google.colab.kernel.accessAllowed ? 'block' : 'none';\n",
              "\n",
              "        async function convertToInteractive(key) {\n",
              "          const element = document.querySelector('#df-76056624-7d25-4fcb-a70d-8161d2961875');\n",
              "          const dataTable =\n",
              "            await google.colab.kernel.invokeFunction('convertToInteractive',\n",
              "                                                     [key], {});\n",
              "          if (!dataTable) return;\n",
              "\n",
              "          const docLinkHtml = 'Like what you see? Visit the ' +\n",
              "            '<a target=\"_blank\" href=https://colab.research.google.com/notebooks/data_table.ipynb>data table notebook</a>'\n",
              "            + ' to learn more about interactive tables.';\n",
              "          element.innerHTML = '';\n",
              "          dataTable['output_type'] = 'display_data';\n",
              "          await google.colab.output.renderOutput(dataTable, element);\n",
              "          const docLink = document.createElement('div');\n",
              "          docLink.innerHTML = docLinkHtml;\n",
              "          element.appendChild(docLink);\n",
              "        }\n",
              "      </script>\n",
              "    </div>\n",
              "  </div>\n",
              "  "
            ]
          },
          "metadata": {},
          "execution_count": 74
        }
      ],
      "source": [
        "labels_count_filted.tail()"
      ]
    },
    {
      "cell_type": "code",
      "execution_count": null,
      "metadata": {
        "colab": {
          "base_uri": "https://localhost:8080/",
          "height": 589
        },
        "id": "E-h3KpxQwOKP",
        "outputId": "186bdb4b-75cf-425f-df1d-dec144b442a3"
      },
      "outputs": [
        {
          "output_type": "stream",
          "name": "stderr",
          "text": [
            "/usr/local/lib/python3.7/dist-packages/seaborn/_decorators.py:43: FutureWarning: Pass the following variables as keyword args: x, y. From version 0.12, the only valid positional argument will be `data`, and passing other arguments without an explicit keyword will result in an error or misinterpretation.\n",
            "  FutureWarning\n"
          ]
        },
        {
          "output_type": "display_data",
          "data": {
            "text/plain": [
              "<Figure size 720x360 with 1 Axes>"
            ],
            "image/png": "[encoded data removed]"
          },
          "metadata": {
            "needs_background": "light"
          }
        }
      ],
      "source": [
        "import matplotlib.pyplot as plt\n",
        "import seaborn as sns\n",
        "\n",
        "plt.figure(figsize=(10,5))\n",
        "sns.barplot(labels_count_filted['label'], labels_count_filted['count'])\n",
        "plt.title(\"Number of products per category\", fontsize=24)\n",
        "plt.ylabel('count', fontsize=18)\n",
        "plt.xlabel('Category', fontsize=14)\n",
        "plt.xticks(rotation='vertical')\n",
        "\n",
        "plt.show()"
      ]
    },
    {
      "cell_type": "markdown",
      "source": [
        "## Labels selection:"
      ],
      "metadata": {
        "id": "-Cqm3Ygw7fth"
      }
    },
    {
      "cell_type": "markdown",
      "source": [
        "We reduced the number of categories by using the filter value. So all those categories having an occurrence count of less than the filter value will be considered as other categories."
      ],
      "metadata": {
        "id": "Y9xtUvLh67x9"
      }
    },
    {
      "cell_type": "code",
      "execution_count": null,
      "metadata": {
        "id": "4pkUFo6iyPN7"
      },
      "outputs": [],
      "source": [
        "L = labels_count_filted['label'].values\n",
        "L = np.append(L,'other_categories')\n",
        "other = []\n",
        "labels_encoding['other_categories'] = 0\n",
        "\n",
        "for i in labels_encoding.columns:\n",
        "    if i not in L:\n",
        "        labels_encoding['other_categories'][labels_encoding[i] == 1] = 1\n",
        "        other.append(i)\n",
        "\n",
        "labels_encoding.drop(other, axis=1, inplace=True)"
      ]
    },
    {
      "cell_type": "code",
      "execution_count": null,
      "metadata": {
        "colab": {
          "base_uri": "https://localhost:8080/"
        },
        "id": "4tNr1Pg80e7s",
        "outputId": "3ca25be3-a346-46be-fdbe-fa9c690cd10b"
      },
      "outputs": [
        {
          "output_type": "execute_result",
          "data": {
            "text/plain": [
              "1772"
            ]
          },
          "metadata": {},
          "execution_count": 77
        }
      ],
      "source": [
        "len(other)"
      ]
    },
    {
      "cell_type": "code",
      "execution_count": null,
      "metadata": {
        "colab": {
          "base_uri": "https://localhost:8080/"
        },
        "id": "K7n2WZwKzTy0",
        "outputId": "59e94716-2197-4f54-c886-3d8af2723e26"
      },
      "outputs": [
        {
          "output_type": "execute_result",
          "data": {
            "text/plain": [
              "(50965, 31)"
            ]
          },
          "metadata": {},
          "execution_count": 78
        }
      ],
      "source": [
        "labels_encoding.shape"
      ]
    },
    {
      "cell_type": "code",
      "execution_count": null,
      "metadata": {
        "colab": {
          "base_uri": "https://localhost:8080/",
          "height": 369
        },
        "id": "jgXffHqIzXRQ",
        "outputId": "05050af0-efd9-4304-95c7-4f34dc8be55f"
      },
      "outputs": [
        {
          "output_type": "execute_result",
          "data": {
            "text/plain": [
              "   Appliances  Audio  Cameras & Camcorders  Car Audio Installation Parts  \\\n",
              "0           0      0                     0                             0   \n",
              "1           0      0                     0                             0   \n",
              "2           0      0                     0                             0   \n",
              "3           0      0                     0                             0   \n",
              "4           1      0                     0                             0   \n",
              "\n",
              "   Car Electronics & GPS  Car Installation Parts & Accessories  \\\n",
              "0                      0                                     0   \n",
              "1                      0                                     0   \n",
              "2                      0                                     0   \n",
              "3                      0                                     0   \n",
              "4                      0                                     0   \n",
              "\n",
              "   Cell Phone Accessories  Cell Phone Cases & Clips  Cell Phones  \\\n",
              "0                       1                         1            1   \n",
              "1                       0                         0            0   \n",
              "2                       1                         0            1   \n",
              "3                       0                         0            0   \n",
              "4                       0                         0            0   \n",
              "\n",
              "   Computer Accessories & Peripherals  ...  Printer Ink & Toner  \\\n",
              "0                                   0  ...                    0   \n",
              "1                                   0  ...                    0   \n",
              "2                                   0  ...                    0   \n",
              "3                                   0  ...                    0   \n",
              "4                                   0  ...                    0   \n",
              "\n",
              "   Ranges, Cooktops & Ovens  Small Kitchen Appliances  TV & Home Theater  \\\n",
              "0                         0                         0                  0   \n",
              "1                         0                         0                  0   \n",
              "2                         0                         0                  0   \n",
              "3                         0                         0                  0   \n",
              "4                         0                         0                  0   \n",
              "\n",
              "   TV Stands, Mounts & Furniture  Video Games  iPad & Tablet Accessories  \\\n",
              "0                              0            0                          0   \n",
              "1                              0            0                          0   \n",
              "2                              0            0                          0   \n",
              "3                              0            0                          0   \n",
              "4                              0            0                          0   \n",
              "\n",
              "   iPhone Accessories  iPhone Cases & Clips  other_categories  \n",
              "0                   0                     0                 0  \n",
              "1                   0                     0                 1  \n",
              "2                   1                     1                 1  \n",
              "3                   0                     0                 1  \n",
              "4                   0                     0                 1  \n",
              "\n",
              "[5 rows x 31 columns]"
            ],
            "text/html": [
              "\n",
              "  <div id=\"df-5af7a671-e738-4eb7-ab04-ab34d4a11248\">\n",
              "    <div class=\"colab-df-container\">\n",
              "      <div>\n",
              "<style scoped>\n",
              "    .dataframe tbody tr th:only-of-type {\n",
              "        vertical-align: middle;\n",
              "    }\n",
              "\n",
              "    .dataframe tbody tr th {\n",
              "        vertical-align: top;\n",
              "    }\n",
              "\n",
              "    .dataframe thead th {\n",
              "        text-align: right;\n",
              "    }\n",
              "</style>\n",
              "<table border=\"1\" class=\"dataframe\">\n",
              "  <thead>\n",
              "    <tr style=\"text-align: right;\">\n",
              "      <th></th>\n",
              "      <th>Appliances</th>\n",
              "      <th>Audio</th>\n",
              "      <th>Cameras &amp; Camcorders</th>\n",
              "      <th>Car Audio Installation Parts</th>\n",
              "      <th>Car Electronics &amp; GPS</th>\n",
              "      <th>Car Installation Parts &amp; Accessories</th>\n",
              "      <th>Cell Phone Accessories</th>\n",
              "      <th>Cell Phone Cases &amp; Clips</th>\n",
              "      <th>Cell Phones</th>\n",
              "      <th>Computer Accessories &amp; Peripherals</th>\n",
              "      <th>...</th>\n",
              "      <th>Printer Ink &amp; Toner</th>\n",
              "      <th>Ranges, Cooktops &amp; Ovens</th>\n",
              "      <th>Small Kitchen Appliances</th>\n",
              "      <th>TV &amp; Home Theater</th>\n",
              "      <th>TV Stands, Mounts &amp; Furniture</th>\n",
              "      <th>Video Games</th>\n",
              "      <th>iPad &amp; Tablet Accessories</th>\n",
              "      <th>iPhone Accessories</th>\n",
              "      <th>iPhone Cases &amp; Clips</th>\n",
              "      <th>other_categories</th>\n",
              "    </tr>\n",
              "  </thead>\n",
              "  <tbody>\n",
              "    <tr>\n",
              "      <th>0</th>\n",
              "      <td>0</td>\n",
              "      <td>0</td>\n",
              "      <td>0</td>\n",
              "      <td>0</td>\n",
              "      <td>0</td>\n",
              "      <td>0</td>\n",
              "      <td>1</td>\n",
              "      <td>1</td>\n",
              "      <td>1</td>\n",
              "      <td>0</td>\n",
              "      <td>...</td>\n",
              "      <td>0</td>\n",
              "      <td>0</td>\n",
              "      <td>0</td>\n",
              "      <td>0</td>\n",
              "      <td>0</td>\n",
              "      <td>0</td>\n",
              "      <td>0</td>\n",
              "      <td>0</td>\n",
              "      <td>0</td>\n",
              "      <td>0</td>\n",
              "    </tr>\n",
              "    <tr>\n",
              "      <th>1</th>\n",
              "      <td>0</td>\n",
              "      <td>0</td>\n",
              "      <td>0</td>\n",
              "      <td>0</td>\n",
              "      <td>0</td>\n",
              "      <td>0</td>\n",
              "      <td>0</td>\n",
              "      <td>0</td>\n",
              "      <td>0</td>\n",
              "      <td>0</td>\n",
              "      <td>...</td>\n",
              "      <td>0</td>\n",
              "      <td>0</td>\n",
              "      <td>0</td>\n",
              "      <td>0</td>\n",
              "      <td>0</td>\n",
              "      <td>0</td>\n",
              "      <td>0</td>\n",
              "      <td>0</td>\n",
              "      <td>0</td>\n",
              "      <td>1</td>\n",
              "    </tr>\n",
              "    <tr>\n",
              "      <th>2</th>\n",
              "      <td>0</td>\n",
              "      <td>0</td>\n",
              "      <td>0</td>\n",
              "      <td>0</td>\n",
              "      <td>0</td>\n",
              "      <td>0</td>\n",
              "      <td>1</td>\n",
              "      <td>0</td>\n",
              "      <td>1</td>\n",
              "      <td>0</td>\n",
              "      <td>...</td>\n",
              "      <td>0</td>\n",
              "      <td>0</td>\n",
              "      <td>0</td>\n",
              "      <td>0</td>\n",
              "      <td>0</td>\n",
              "      <td>0</td>\n",
              "      <td>0</td>\n",
              "      <td>1</td>\n",
              "      <td>1</td>\n",
              "      <td>1</td>\n",
              "    </tr>\n",
              "    <tr>\n",
              "      <th>3</th>\n",
              "      <td>0</td>\n",
              "      <td>0</td>\n",
              "      <td>0</td>\n",
              "      <td>0</td>\n",
              "      <td>0</td>\n",
              "      <td>0</td>\n",
              "      <td>0</td>\n",
              "      <td>0</td>\n",
              "      <td>0</td>\n",
              "      <td>0</td>\n",
              "      <td>...</td>\n",
              "      <td>0</td>\n",
              "      <td>0</td>\n",
              "      <td>0</td>\n",
              "      <td>0</td>\n",
              "      <td>0</td>\n",
              "      <td>0</td>\n",
              "      <td>0</td>\n",
              "      <td>0</td>\n",
              "      <td>0</td>\n",
              "      <td>1</td>\n",
              "    </tr>\n",
              "    <tr>\n",
              "      <th>4</th>\n",
              "      <td>1</td>\n",
              "      <td>0</td>\n",
              "      <td>0</td>\n",
              "      <td>0</td>\n",
              "      <td>0</td>\n",
              "      <td>0</td>\n",
              "      <td>0</td>\n",
              "      <td>0</td>\n",
              "      <td>0</td>\n",
              "      <td>0</td>\n",
              "      <td>...</td>\n",
              "      <td>0</td>\n",
              "      <td>0</td>\n",
              "      <td>0</td>\n",
              "      <td>0</td>\n",
              "      <td>0</td>\n",
              "      <td>0</td>\n",
              "      <td>0</td>\n",
              "      <td>0</td>\n",
              "      <td>0</td>\n",
              "      <td>1</td>\n",
              "    </tr>\n",
              "  </tbody>\n",
              "</table>\n",
              "<p>5 rows × 31 columns</p>\n",
              "</div>\n",
              "      <button class=\"colab-df-convert\" onclick=\"convertToInteractive('df-5af7a671-e738-4eb7-ab04-ab34d4a11248')\"\n",
              "              title=\"Convert this dataframe to an interactive table.\"\n",
              "              style=\"display:none;\">\n",
              "        \n",
              "  <svg xmlns=\"http://www.w3.org/2000/svg\" height=\"24px\"viewBox=\"0 0 24 24\"\n",
              "       width=\"24px\">\n",
              "    <path d=\"M0 0h24v24H0V0z\" fill=\"none\"/>\n",
              "    <path d=\"M18.56 5.44l.94 2.06.94-2.06 2.06-.94-2.06-.94-.94-2.06-.94 2.06-2.06.94zm-11 1L8.5 8.5l.94-2.06 2.06-.94-2.06-.94L8.5 2.5l-.94 2.06-2.06.94zm10 10l.94 2.06.94-2.06 2.06-.94-2.06-.94-.94-2.06-.94 2.06-2.06.94z\"/><path d=\"M17.41 7.96l-1.37-1.37c-.4-.4-.92-.59-1.43-.59-.52 0-1.04.2-1.43.59L10.3 9.45l-7.72 7.72c-.78.78-.78 2.05 0 2.83L4 21.41c.39.39.9.59 1.41.59.51 0 1.02-.2 1.41-.59l7.78-7.78 2.81-2.81c.8-.78.8-2.07 0-2.86zM5.41 20L4 18.59l7.72-7.72 1.47 1.35L5.41 20z\"/>\n",
              "  </svg>\n",
              "      </button>\n",
              "      \n",
              "  <style>\n",
              "    .colab-df-container {\n",
              "      display:flex;\n",
              "      flex-wrap:wrap;\n",
              "      gap: 12px;\n",
              "    }\n",
              "\n",
              "    .colab-df-convert {\n",
              "      background-color: #E8F0FE;\n",
              "      border: none;\n",
              "      border-radius: 50%;\n",
              "      cursor: pointer;\n",
              "      display: none;\n",
              "      fill: #1967D2;\n",
              "      height: 32px;\n",
              "      padding: 0 0 0 0;\n",
              "      width: 32px;\n",
              "    }\n",
              "\n",
              "    .colab-df-convert:hover {\n",
              "      background-color: #E2EBFA;\n",
              "      box-shadow: 0px 1px 2px rgba(60, 64, 67, 0.3), 0px 1px 3px 1px rgba(60, 64, 67, 0.15);\n",
              "      fill: #174EA6;\n",
              "    }\n",
              "\n",
              "    [theme=dark] .colab-df-convert {\n",
              "      background-color: #3B4455;\n",
              "      fill: #D2E3FC;\n",
              "    }\n",
              "\n",
              "    [theme=dark] .colab-df-convert:hover {\n",
              "      background-color: #434B5C;\n",
              "      box-shadow: 0px 1px 3px 1px rgba(0, 0, 0, 0.15);\n",
              "      filter: drop-shadow(0px 1px 2px rgba(0, 0, 0, 0.3));\n",
              "      fill: #FFFFFF;\n",
              "    }\n",
              "  </style>\n",
              "\n",
              "      <script>\n",
              "        const buttonEl =\n",
              "          document.querySelector('#df-5af7a671-e738-4eb7-ab04-ab34d4a11248 button.colab-df-convert');\n",
              "        buttonEl.style.display =\n",
              "          google.colab.kernel.accessAllowed ? 'block' : 'none';\n",
              "\n",
              "        async function convertToInteractive(key) {\n",
              "          const element = document.querySelector('#df-5af7a671-e738-4eb7-ab04-ab34d4a11248');\n",
              "          const dataTable =\n",
              "            await google.colab.kernel.invokeFunction('convertToInteractive',\n",
              "                                                     [key], {});\n",
              "          if (!dataTable) return;\n",
              "\n",
              "          const docLinkHtml = 'Like what you see? Visit the ' +\n",
              "            '<a target=\"_blank\" href=https://colab.research.google.com/notebooks/data_table.ipynb>data table notebook</a>'\n",
              "            + ' to learn more about interactive tables.';\n",
              "          element.innerHTML = '';\n",
              "          dataTable['output_type'] = 'display_data';\n",
              "          await google.colab.output.renderOutput(dataTable, element);\n",
              "          const docLink = document.createElement('div');\n",
              "          docLink.innerHTML = docLinkHtml;\n",
              "          element.appendChild(docLink);\n",
              "        }\n",
              "      </script>\n",
              "    </div>\n",
              "  </div>\n",
              "  "
            ]
          },
          "metadata": {},
          "execution_count": 79
        }
      ],
      "source": [
        "labels_encoding.head()"
      ]
    },
    {
      "cell_type": "code",
      "execution_count": null,
      "metadata": {
        "colab": {
          "base_uri": "https://localhost:8080/"
        },
        "id": "LsLqSZoSzuBz",
        "outputId": "a6096c06-ef20-4861-a889-6690ec0e442c"
      },
      "outputs": [
        {
          "output_type": "execute_result",
          "data": {
            "text/plain": [
              "43571"
            ]
          },
          "metadata": {},
          "execution_count": 80
        }
      ],
      "source": [
        "labels_encoding['other_categories'].sum()\n"
      ]
    },
    {
      "cell_type": "code",
      "execution_count": null,
      "metadata": {
        "id": "J5eAUqkK2Xvu"
      },
      "outputs": [],
      "source": [
        "y = labels_encoding"
      ]
    },
    {
      "cell_type": "code",
      "execution_count": null,
      "metadata": {
        "colab": {
          "base_uri": "https://localhost:8080/"
        },
        "id": "JY9e6QMM2aWd",
        "outputId": "0e5f85d5-0ae1-454a-9d8c-8d6b091f0062"
      },
      "outputs": [
        {
          "output_type": "execute_result",
          "data": {
            "text/plain": [
              "(50965, 31)"
            ]
          },
          "metadata": {},
          "execution_count": 82
        }
      ],
      "source": [
        "y.shape"
      ]
    },
    {
      "cell_type": "markdown",
      "source": [
        "# Building the model"
      ],
      "metadata": {
        "id": "znRjU_dgD1X6"
      }
    },
    {
      "cell_type": "code",
      "execution_count": null,
      "metadata": {
        "colab": {
          "base_uri": "https://localhost:8080/"
        },
        "id": "cB17miGI2sR2",
        "outputId": "1668504d-3e54-4d87-ca4e-2205de2f6ebb"
      },
      "outputs": [
        {
          "output_type": "execute_result",
          "data": {
            "text/plain": [
              "(50965, 40212)"
            ]
          },
          "metadata": {},
          "execution_count": 84
        }
      ],
      "source": [
        "X.shape"
      ]
    },
    {
      "cell_type": "code",
      "source": [
        "y.shape"
      ],
      "metadata": {
        "colab": {
          "base_uri": "https://localhost:8080/"
        },
        "id": "Tq2MXyqp74_d",
        "outputId": "d290f7b2-8f22-457b-89e0-0c6b40c4d669"
      },
      "execution_count": null,
      "outputs": [
        {
          "output_type": "execute_result",
          "data": {
            "text/plain": [
              "(50965, 31)"
            ]
          },
          "metadata": {},
          "execution_count": 85
        }
      ]
    },
    {
      "cell_type": "code",
      "execution_count": null,
      "metadata": {
        "id": "PoefDChk2uYk"
      },
      "outputs": [],
      "source": [
        "n = 10000"
      ]
    },
    {
      "cell_type": "code",
      "execution_count": null,
      "metadata": {
        "id": "eOpnDo2U2rm7"
      },
      "outputs": [],
      "source": [
        "# Split Dataset into Train and Text\n",
        "X_train, X_test, y_train, y_test = train_test_split(X[:n][:], y[:n][:], test_size= 0.3, shuffle=True)"
      ]
    },
    {
      "cell_type": "code",
      "execution_count": null,
      "metadata": {
        "colab": {
          "base_uri": "https://localhost:8080/"
        },
        "id": "EALLtUWJ3F_Y",
        "outputId": "429abd27-5d46-4398-a830-45777bd3d3fe"
      },
      "outputs": [
        {
          "output_type": "stream",
          "name": "stdout",
          "text": [
            "X_train shape :  (7000, 40212)\n",
            "X_test shape :  (3000, 40212)\n",
            "y_train shape :  (7000, 31)\n",
            "y_test shape :  (3000, 31)\n"
          ]
        }
      ],
      "source": [
        "print(\"X_train shape : \",X_train.shape)\n",
        "print(\"X_test shape : \",X_test.shape)\n",
        "print(\"y_train shape : \",y_train.shape)\n",
        "print(\"y_test shape : \",y_test.shape)"
      ]
    },
    {
      "cell_type": "markdown",
      "source": [
        "[Comparison of Four Multi-Label Classification Methods](https://www.causeweb.org/usproc/sites/default/files/usclap/2019-1/Comparison%20of%20Four%20Multi-Label%20Classification%20Methods.pdf)"
      ],
      "metadata": {
        "id": "2wIR_-j2rqjC"
      }
    },
    {
      "cell_type": "markdown",
      "source": [
        "[OneVsRestClassifier](https://towardsdatascience.com/multi-class-classification-one-vs-all-one-vs-one-94daed32a87b)"
      ],
      "metadata": {
        "id": "UBcI6hOQ9OSS"
      }
    },
    {
      "cell_type": "markdown",
      "source": [
        "OneVsRestClassifier - when we want to do multiclass or multilabel classification and it's strategy consists of fitting one classifier per class. For each classifier, the class is fitted against all the other classes. (This is pretty clear and it means that problem of multiclass/multilabel classification is broken down to multiple binary classification problems)."
      ],
      "metadata": {
        "id": "VYEx8ggJnONI"
      }
    },
    {
      "cell_type": "markdown",
      "source": [
        "![image.png](data:image/png;base64,iVBORw0KGgoAAAANSUhEUgAABVYAAAMACAIAAABAXKuVAAAgAElEQVR4nOzdZ0AU19oH8F06LCxNRVC6KKCooMlFLKhRbIhgRUVRJMYuiSZGo9FrbIkxsVxjb1GwQERih4jEEjSKCIqKWOhKkQ5L3/cD9+USypnZNjvL/n+flD1zzrOzM2d3njlzDlcoFHIAAAAAAAAAoP3icrkcDkdF3mEAAAAAAAAAABOQAgAAAAAAAABQCkgBAAAAAAAAACgFpAAAAAAAAAAAlAJSAAAAAAAAAABKASkAAAAAAAAAAKWAFAAAAAAAAACAUkAKAAAAAAAAAEApIAUAAAAAAAAAoBSQAgAAAAAAAABQCkgBAAAAAAAAACgFpAAAAAAAAAAAlAJSAAAAAAAAAABKASkAAAAAAAAAAKWAFAAAAAAAAACAUkAKAAAAAAAAAEApIAUAAAAAAAAAoBSQAgAAAAAAAABQCkgBAAAAAAAAACgFpAAAAAAAAAAAlAJSAAAAAAAAAABKASkAAAAAAAAAAKWAFAAAAAAAAACAUkAKAAAAAAAAAEApIAUAAAAAAAAAoBSQAgAAAAAAAABQCkgBAAAAAAAAACgFpAAAAAAAAAAAlAJSAAAAAAAAAABKASkAAAAAAAAAAKWAFAAAAAAAAACAUkAKAAAAAAAAAEApIAUAAAAAAAAAoBSQAgAAAAAAAABQCkgBAAAAAAAAACgFpAAAAAAAAAAAlAJSAAAAAAAAAABKASkAAAAAAAAAAKWAFAAAAAAAAACAUkAKAAAAAAAAAEApIAUAAAAAAAAAoBSQAgAAAAAAAABQCkgBAAAAAAAAACgFpAAAAAAAAAAAlAJSAAAAAAAAAABKASkAAAAAAAAAAKWAFAAAAAAAAACAUkAKAAAAAAAAAEApIAUAAAAAAAAAoBSQAgAAAAAAAABQCkgBAAAAAAAAACgFpAAAAAAAAAAAlAJSAAAAAAAAAABKASkAAAAAAAAAAKWAFABAmzw9PblEly5dQmAKBPuNg50ACiU3N/f+/fthYWF79+7dvn37xo0bN23atHv37hMnTly4cOHp06c1NTViVIuzgM1k9+nEx8f/+OOPfn5+zs7OFhYWBgYGqqqqbbVSWVlJJ5j9+/dL9d1DK3DCAkidmrwDABlKS0v7+eefaRbW0NDYtm2bioqYWaEXL17Q/yI0MjL69ttvxWsIpCIzM/Pw4cPkMn379vX29mYmHmjH5s+fHxkZKa/WfXx86HeDwAavX7++dOlSdHR0XFxcVlYWubCGhoa9vX3//v09PT09PDx4PB4zQYICEQqFx44d27VrV2JiorxjAQBgBaQA2rN3797t2rWLfnk3NzexL/l++OGHY8eO0SxsaWmJFIB8ZWZm/vvf/yaX8ff3RwoAJJebm5uWliav1vPy8uTVNIikrKwsODh4//79jx8/pr9VdXV1YmJiYmLi0aNHtbS0Pvnkk8DAQC8vL7HT2dDOZGdn+/n53bx5U96BAACwCL4j4X92794t3ob5+fmnT5+WbjDtg7e3N3n02oULF+QdIwC0N4rV81RVVe3YscPS0nLBggUiXf83U1lZefnyZR8fHzs7u927dzcM5AZlVlhY6OHhget/JilW5wOgtJACgP+5efPm06dPxdjwwIED+LEFAACiun37tqOj48qVKwsKCqRV55s3b5YvXy7e1xm0J4GBgUlJSfKOAgCAdZACgH/Ys2ePqJvU1tbu27dPFsEAAEB7JRQK165dO3To0Ddv3sg7FmiH/v777/Pnz8s7CgAANkIKAP7h1KlThYWFIm0SFhZGOWMTAABAo8rKymnTpm3evLm+vl7esUD7dOjQIXmHAADAUpgOEP6hoqLi8OHDX375Jf1NRJpxEAAAlFxNTc2kSZOuXLki70CgPfvjjz/IBdTV1RctWuTh4dG5c2cNDY1mr2pqasosNAAAOUMKAJrbu3fvF198oaqqSqfwgwcP7t27J+uQoBlDQ0MTExNCAS0tLcaCAQAQib+/P67/oS1S+YLLy8tLTU0llzlw4MDcuXMlDEZHR4cyGJAQfvMASB1SANBcWlra77//7uPjQ6cwhgDIxcmTJ+UdAgCAOHbu3CnSCjKGhobe3t7Dhg1zcnKysLDQ09PjcDgVFRXv3r1LTU2Nj4+/c+dOTExMRUWFzEIGRknlCy43N5dcQEtLy8/Pj5lgQEL4FACkDikAaMWePXvopADev38fGhrKQDwAoLhEWgJq586dn3/+ObnMvn37FixYIFlQIB9PnjxZtWoVzcKdO3fesGHDnDlzWg7J1tfX19fXt7e3Hz16NIfDqaysDA8PP3z4cHR0tJQjBsVEucCEmZmZuro6M8EAALANpgOEVtBcHXDfvn3V1dUMxAMAAO3A0qVLaX5rTJ48+fnz55999hmdR7K1tLSmT59+48aNuLi4MWPGSBwmKLyqqipyAVz/A4AywygAaN3u3bsPHjxIKFBdXX3gwAHG4oF2pqSk5OXLl8nJycnJyRkZGe/fv8/JycnLyxMIBJWVlZWVlRwOR1NTk8fjdezY0dTU1M7OrlevXgMGDOjbt6+KCnO5y5KSkqtXr0ZHRz99+jQ7O7usrExDQ6Njx4729vbu7u4TJkwwMzOTYnNVVVW3b9++d+/e48ePU1NTs7OzS0tLBQKBqqoqj8czNTW1srJycXEZOHDgsGHDMFuV2GS0n4uKijIzM8llrKysdHV16dSWmZlZVFREKMDlcnv27EkzNjaIiIj4888/6ZQMCgr6+eefxWjCxcXlypUrUVFRCxcuFGNz8ci9N6urq7t9+/bDhw9fvHjx/PnznJycsrKy8vJygUCgoaGhra3N4/FMTEzMzMy6dOnSrVu3nj179uzZs2vXrgrRXDtWU1MTHx+fkJCQnJyclZWVk5MjEAiqq6sb9qGRkZG1tbWNjY2zs3OfPn3U1ET7xS73w1KBpKWlPXz4MCEhIT09PTs7u7y8vLKyUl1dXVtbu2PHjl27dnVwcHBxcenbty/NebJaSk9PLykpIRSwtLRseMqpUUVFxaVLl65du5aQkJCamlpSUtL4Ybm7u48aNcrNzU3ZPimQJiG0X7GxsZQHQFuJcB0dnQ8fPhAqP3HiRFt1tpxZtxlLS0tCzXl5eZRh03n727dvJ1eyfPlycg3jxo0j13Dx4sWm5Z88eUIZuagmTZokeWAt0Tk2/P396exn+nJzc3ft2jVz5kw7Ozuxd4iJicnChQufPHkiRgAi7be8vLylS5eSr9bU1NSmTJny8uVLyXfOzZs3fX19eTwezf2gp6cXEBCQkJAg053APDoXfvv27RO7fpnu58LCQisrK3KF48ePp1PV27dv+Xw+uaqgoKCGwoz1PBIaOHAgnaYnTJggeVsVFRXFxcVtvSr5WSD33qzBkydP5syZY2xsLEbrhoaGo0eP3rhxY1RUVFVVFXuaE+/TWblyZZ8mbG1tyZVoamr2kYbQ0FBRPzWBQHD69GkvLy+a2UAOh6OjozNs2LCdO3empqYSamb+sGSm85HR19arV69Wr17do0cPmoEZGRnNmDEjKiqqvr5e1LZEegtlZWXr1q0zNDQkb9K7d+9r166JGgnl19/z589FrRMUy38/aXmHATJE5zJvxowZbb30ww8/ECrv169fWxvOnDmT3ChSAPS1pxTA1atXpbRXOBwOZ8qUKRkZGSIFQH+/nTt3jvLbt5GGhsaPP/4oxm+CBnfu3BkwYIB4O4HL5fr5+WVnZ8tiJ8iF7FIAzOzn+/fvUw4wPnjwILmSurq6QYMGkSv56KOPqqurG8orRAogLi6OTrtmZmb5+fnSbbolyc8CufdmhYWFc+fOldY9wAcPHrCnOfE+nUmTJkklNlGJ1B2VlZVt3bq1Q4cOkrSYlpbWVv3MH5YKmgJ48eLF5MmTuVyueBH27NnzwoULIrVI/y1ER0d36dKFfjCLFy+uq6ujHwlSANDwQWMAibJbvnx5Wy/t3bu3rq6u1Zfu3LnT1u85c3NzmqsJAEgiNDS0T58+UVFRUq95/fr1U6dOLSwspFm+urp65cqVc+fOra2tFamh6urqzz//fPDgwXQyMq0SCoWnTp3q3bs3llgjYHI/f/zxx9u2bSOX+eKLL968eUMosHXr1jt37hAKGBgYnD17VrEeZj579iydYjt37hTvJrNCE7U3y87OHjx48LFjx+rr62UamFyaa6+uX7/es2fP1atX5+fnS1IPY5+C7L5k5ai+vn7r1q29e/cOCwtrvBYSVVJSkre3t7e3N+XCE6LavXv3iBEjsrKy6G+yd+/eWbNmSTcMUAZIASg7FxcXNze3Vl9qWB2w1Zd2797dVoWLFy8W+1kpAJEUFBSMHz/+xo0bUqxz7dq1GzduFGPDEydOBAYG0v9JUVBQMHLkyJ07d4r9K6RRfn6+l5cX5uZoFfP7+YsvvvD09CQUKCsrmzVrVlsJ1ocPH/773/8mN3HkyBFra2tyGbb57bffKMtYWVlNnDiRgWBYiH5vVl1d7eHhQWfKXqlguLl2SSgUrl+/fsyYMWlpafKORTSy+JKVo7KysgkTJqxZs0YqU1lHRER89NFHUhwHsWnTpuXLl4uR4gkJCSHP3gXQElIAQBoI0OqlfmZmZnh4eKvltbW1P/30U6lF1gaxx25B+1NVVeXr65udnS2V2k6cOLF582ZJNv/+++/plCwpKfHw8Lh165bYbTVTV1e3YMECwgwdykle+/nEiRPm5uaEAn/99Verh0pFRcXMmTNramoI2y5dulThrpOzs7Nfv35NWWzJkiXKnEGm2Ztt3bo1KSmJmZCYb679EQqFCxYs2Lhxo+RZSLmQ7pesHAkEgrFjx166dEmKdaanp7u7u0slC3D48OF169aJvfnKlStFGjsAgBQAcCZOnNjWVL0xMTEtu7a9e/e2NeDZz8/PyMhIyvEBEOXn53/99ddSqSosLEzCGtatW/fo0SNyGaFQOG3aNJqPRoskMDBQ7LHu7Y8c97ORkdGZM2fIM3hv2LAhPj6+2R+/+OKLly9fErbq16/fjz/+SD9Ulrh37x6dYhMmTJB1JCxH2ZtVV1f/9NNPjMXDcHPt0po1axT9Dq0Uv2TlyM/P7/bt21KvtrCwcPTo0ZI/ERARESHJ5qWlpfv375cwBlAqWBQQOGpqagsXLvzmm29afXXPnj1Nv70EAsGhQ4faqmrZsmXSj68FjAJoNwwMDBwdHR0cHHr06GFoaKinp6enp8flcgUCQV5e3ps3b+7du3fv3j3KMXunTp3asGGDjY0NM2ET1NbWLlq0KDY2lnCU7tix49q1a5RV2djYTJgwwdnZ2djYuLy8PDk5+fz58y0vGpu1PmPGjKSkJB0dHXGib1/ku5/d3Nw2bdpE+N1cU1Pj5+cXFxenpaXV8JdLly6RnzLg8/nnzp2jXHKFhejcJevUqVO3bt0YCEZGmOnNbty4QV5aTFNTc8yYMa6urpaWlnw+n8vlFhUVFRUVvX///smTJ0+fPn39+jX9kcYMN9f+XLx4kXJyEJlqf1+y4tm7d+/58+dlVHl2dra/v79052IUw9GjRzds2KDMA6lAJEgBAIfD4cyfP/+7775rWCe2mVOnTm3btq3x3v6pU6c+fPjQaiXDhw/v1auXDKP8f6xNAWhra/fp06fpX96+fUv+/WRlZaWvr08ooHBP/NLRt29fLy+vcePGffTRR5SfZm5u7tatW3ft2kUYRSkUCg8fPrxlyxYpBjlhwgR/f//+/fubmJgUFRW9ePEiNDT04MGDlD+V7t+/f/ny5baeBs/KytqwYQO5Bl1d3V27dvn7+zf7Ll+7dm1wcPD8+fMrKira2jY1NfX777+nfJi83WPDfv7qq6/+/PNPwu/CZ8+erV69umERhJycnHnz5pEDPnz4cKs/wdnf87x9+5ayjNjrNcgXw70Z+amWjz76KDw8nDydeGlp6c2bNyMjIyMjI1NSUsgBM9xcO1NWVrZo0SKahXv27DllypThw4dbWVl17Nixrq4uPz8/IyPj7t27MTExUVFRbc0e0irGDkv2dz4cDicnJ2fNmjV0Sk6aNGnmzJn9+/fv1KlTaWnpq1evwsPDf/nll7KyMvKG165dO3/+vLQe0TI2Np4yZcqgQYM6d+5cVFR0+/btEydOFBUVkbfKzs6+f/9+W9N7ATTH+EoEwBw6Q4JramoaCgcEBLRV5vvvv2+s08nJqa1ijUuktDVTQCMJFwVUV1en8/aZXxSwJcpxreHh4XTei9QDk8uigFFRUZMmTbpz544Y2+7Zs4ccba9evSgrodxvDbS1tSMiIlqtISkpiXLhdw6HM2zYsLZiWLp0KXlbXV3dhw8fEt7FzZs3yWl+PT09ma6ILlPSWhRQ7vu5QV5eHvkCicvl3rhxQygUjh07lhzw4sWL6e9GGfU8Yhs+fDg5Hg6HExQUxFg8kp8F8urN/P39CRvSXMu90cOHD5cuXdqhQ4e2VuljuLkGUumjKOex79GjB52YKYMhdEc0Z5bp0KHD2bNnycvKZmRkrFu3ruHK+e3bt4R3Ld8vWaFsOh8JD4kvvviC8lPg8/mRkZGtbp6ent6/f3/KGhwdHQkfIs2fHxwOx8/Pr7CwsNnmGRkZffv2pdy2YeJbMiwKCA0fNOYCgP8ijOH/5ZdfGtLP0dHRbY3ntLa2Hj9+vKyC+yfWjgIAshEjRoSFhQ0cOFCMbZcsWWJnZ0co8PTpU/rL+JGdOXPGy8ur1ZccHR0jIyP5fD65hpiYmFZnfi4tLT169Ch52z179vTr149QYOjQoUFBQYQCpaWlx44dI7fSvrFnP3fo0CEkJISQShAKhXPmzNmyZQt5uUFnZ+cdO3aQ22Iz8l3BBoo1j4y8ejNyitzBwUGkSPr167d79+7s7Oy2RvAx3Fx7UlNTQ1g7qVH37t3//vvvqVOnkn/YdO3adePGjS9fvpw7d66KSps/3RXlS5ZJ5eXlhw8fJpdRVVX9/fffR44c2eqr5ubm165do3wI4tmzZ3/88YeYUf6/gICAkydPGhgYNPt7165dIyIitLW1yZs/fPhQwgBAeSAFAP/Vp0+fIUOGtPpSWlpawzwlhO+zJUuWEL6WpIuxhoBVKH/WPH78WPJWpk6d2tb1fwM7O7u1a9eSKxEKha1OO3zx4sXy8nLChg4ODuTbbg1WrFhB/r0YGhpKWUk7xqr9PGTIEPIjCRkZGW1NxdJAT0/v3LlzmpqalG2xFuGRikaGhoYMRMISYvdmjTNHtEq82c7U1dXbqpbh5tqTyMjInJwcchkej3fhwgX64947dep09OhRCwsLiaNrHTNfsgy7cuUKZQpy/vz57u7uhALGxsY7d+6kbOvMmTOiBfdPtra2v/zyS1uvWlhYeHt7k2tQuFUnQY5wKQX/QxgIsGfPnrdv3168eLHVV3k8HuE5AqlDCkA5GRsbkwukpqZK3sqqVasoyyxevJhyKF10dHTLP5Lv9HI4HH9/fzqDXExNTR0dHQkFYmNjKZ8bbMfYtp/XrFkzYsQIymJtOXTokELPk8fhcNpaRKYpZbgsbCR2b9ahQwfCVtOmTQsODm51Wh/xMNxce0Jngvf169eLOpJCppj5kmUY5SqAXC539erVlPWMHz+ecvTK5cuXRYishe+++46c6nV1dSXXUFxcTNmKi4tLPyLKsQbQPmA6QPgfb29vS0vLVpOIMTExixYtamteX39//5bDlmQHKYB24927d3fu3ElISEhJSUlLS8vLyyssLBQIBNXV1WJMIi35wsXdunVzcXGhLKajozNu3Lhz584RyrQ6pfxff/1Frpl8I6IpKysrwmLd9fX1Dx48aGtYY7vHtv2soqJy6tSpvn37vn//nma7jRYsWDBt2jRRt2IbOr8pFT1pxUxvRr5izM3N9fPzmz9/fv/+/Xv27NmtWzc7Ozs7OzsbGxvxFpJguLn25O7du+QC+vr6CxYskHUYbPuSZR7lzEdubm7m5uZ0qvL19SWPAczJyXn79q140xny+XwfHx9yGcqHEej0ouQ5PkF5IAUA/6Oqqrpo0aK27oK2tbwWl8ulnHlLujAXgKLLy8s7dOjQmTNn6CwVRh957Dcd9Ockd3V1JacAUlNTBQJB0yufiooKynnRV6xYoa6uTieA58+fkwskJSUpZwqAnfvZxMQkODh45MiRIv3s7tOnD535EdmPziqVBQUFDEQidQz3ZnQOtoqKilu3bjX9oa+iomJlZdW7d28XFxc3Nzc3NzeaN/oYbq7dqKqqevHiBbnMiBEj9PT0ZBQAa79kGSYQCF69ekUuQ3/qBDqT7ScmJoqXAnB3d6ccCUV5s43OI1cADZACgH/49NNP//3vf4vUiXh4eNjb28supJYwCkBxVVRUfPfddzt37pTF2FHJ6yQseNEM5YBAoVCYnZ1ta2vb+Bc6D+lR3r6mT2mfCWTtfh4+fPjatWs3btxIs7yuru65c+fax/D4Tp06UZbJz89nIBIpkktv1rNnz379+sXFxYlUW319/Zs3b968eXPhwgUOh6OlpTVs2LDp06dPnTqVPPCY4ebajbS0NMpkX1uzL0mI5V+yDEtPTxe2vdJhg969e9Osjc40lmJ/89KZ8F9XV5dcgPLNAjTCpRT8g6Gh4cyZM0XahDCDAEBTaWlprq6u27Ztk9HPCDGGNTZD50KlQceOHSnLfPjwoel/KVe7lK5mrSsPNu/n9evXDx06lGbhgwcPdu/eXaygWIfOUpqPHj1iIBJpkWNvtm3bNgkrr6ysvHr16uzZsy0sLP7zn/+Qe06Gm2sf6PRClIO6xcD+L1mG0fkgTExMaNbWsWNH8kqxHA4nNzeXZm3NWFpaUpahOXgNgA6kAKA5kS7p7ezsxowZI7tgoN3Iy8sbOnSodAclSh39YZl0SgoEAsJ/ZU1pBwSyeT+rqKjQHNjfq1ev6dOnixsU69CZzjAhIUFRhhnLtzcbMWIE/bEkZLm5uUuXLvX09KyurmZJc+0DnSNZ6qtgKsSXLMPofBAiPY5BeR9e7G9eysWGORyOmhrGboPUIAUAzfXq1Wv48OE0Cy9dupT5J/Np5qGV9hKInebNm8f+yYTpH8zsn5CCzhzsIDmR9rNQKKSz5ASHw3n69OnevXvFDYp1PvroI8oytbW1UnxAQ6bk3putW7du27Zt0rol2HCLnj3NtQN0xmNT3k8WldwPSxai80GI9Gwp5acm9lB8OvNlsP+HBygQ5JOgFcuWLWt1SbNm+Hz+nDlzGIinGZq/ueksjgLMuHXrVlsrSjZjbW3t4uJiYWHB4/GafddGRkZSTu0rodLSUimWbPaNrmwTYskLm/fzli1bIiMjaRZesWLFwIED6Twgyn7Ozs6amppVVVXkYgcPHmT/HJYs6c1WrVrl7e29YcOGsLAwyfN9Z8+enTNnzujRo1nSnKKj0wtJd/5LlhyWbEPngygrK6NfYUlJieQtig0zYYEUIQUArRg/fry1tTXlrNpz586V3Xy2BJS/IxtkZGTIOhKg6cCBA5Rlhg4dun379v79+7dVoKysTNa/Tug/Rk5n6rJm4zzpTB8AkmPtfr59+/b69evpl6+qqpo6dWpcXJxculnp0tDQGDFiBOWi2eHh4enp6RYWFsxEJR729GY9evQ4ffr0rl27wsLCLl++fOfOHcrrE4JNmzaRr8kZbk6hGRsbU5bJysqSYovsOSxZhc4HQX8+l5KSEsr8l9Sf7wCQEaQAoBUqKipLlixZsWIFoQyXy12yZIksWqcc6VRfX99subVWtbowOzBPKBRev36dXMbT0zM8PJz8nBsDwzqePn1KsyRhrfhGZmZmTf9LOdmPqqpqaWkpm29iKwR27uf8/Pzp06fX1dWJtFVKSspnn30WEhIio6iYNGXKFMoUQF1d3bp1606cOMFMSGJgYW/WqVOnRYsWLVq0qK6u7vnz548fP37x4sXr169TU1PT0tLevXtHs57Y2NjCwkJDQ0NWNaeg6Mx/eefOncDAQKk0x8LDkiXo5BOfPn06efJkOrXR+d6nM6sfABtgSAm0bt68eTwej1Bg7NixdGZ4EoNURtC9fv2acjFYYEZaWhplln3Xrl2U89xkZmZKL6jW3b9/n2bJv//+m1zA0tKy2VroOjo65OWC6+rq6PzCADIW7mehUDh79mzxbvqdPn368OHDUg+JeRMnTtTX16cs9uuvv547d46BeMTD5t5MVVW1V69efn5+mzZtOn36dGxsbHZ2dsN93e3btzs7O5M3r6+vv3v3LmubUyw8Ho8yCxAVFSWtGVvYfFjKF5/P79KlC7nMgwcPaNb28OFDyjKOjo40awOQL6QAoHX6+vrkCXuWL18uo6Z1dHQopx1KTk4mFzh+/Lj0IhIf5RtRhjnbKJ/IsLCwoFweqaamhoHfi8+fP6dzcVhVVUX51GWrj3C7urqSt/r9998pWwdKbNvPP/zww9WrV8XefNmyZfTHpzRgYc+jp6f36aef0in52WefPXv2TJK2hELh/v37nz9/LkklrVKg3qwBj8dzdXVduXLlo0ePgoKCyIWzs7MVqzk2c3NzIxfIzs4+ffq0VNpi1WHJts6H8uvgjz/+KCoqolNVaGgouYCenp6DgwPdyOTEzc2tLxEmlVQSSAFAm5YtW9bWmHwHBweZTtpEebOIPHF0VlbWzp07pRqRmCgf4n3//j0zkcgR5ao8ze6Wt+r06dP05+qTxI4dOyjLHD16lPIh2FaX1Rg7dix5q2PHjkm+pt2rV6+UIbVEwKr9/Ndff61du5ZQwMDAYN68eYQCAoFg6tSpIi1xws6e54svvqAzr0FRUdHw4cMpB9q05a+//nJzc1u4cKEslhhUrN6smY0bN5KnE6MzxQlrm2Mbyl6Iw+F888039B9EJ2DVYcm2zodyyonq6up9+/ZR1hMfH3/nzh1yGQ8PD/bP2JeYmJhAVFlZKe8YgQlsP1JBjuzt7du6zl+2bJlMm6Z8mOrgwYNtXYMJBIIZM2aINMWr7FKVf3IAACAASURBVFDmMq5du8ZMJHJEuY5ueno6eYrH4uJikeZRk8Tx48djYmIIBbKysr799lvKesaNG9fyj15eXuSfYpmZmZK805SUlMDAQAcHByX/CmfPfi4oKPD19SVnCvbt27d///6PP/6YUOb58+eLFy+mHyE7ex5TU9N169bRKZmTkzNkyJDNmzeLtIB8TEzMuHHjBg4ceO/ePXFjpCD33iw3N/fFixfibaurq0seCt5yrgqGm2tPvLy8yE9TcjicjIwMX19f+tm9+vr6PXv2tJxwQe6HZVNs63y8vb01NDTIZbZs2UKeALu2tnbp0qWUC/5NmTJF5PgA5AQpACA5evTo7dbIei1AykWkMzIyJk2a1HJGgNevX3t4eNy6dUtmoYmG8iG0y5cvf/PNN7m5uczEI5KwsDArCfz6668N9ZiYmJAbqqioOHnyZFuvVlZWTp8+nbGRaUKh0Nvb+/bt262+mp6e7uHhQXnzauDAgba2ti3/Tmcdze3bt9MZidBUXV3d1atXvb297e3tjxw5ouRDADis2c9CodDf3588RnfWrFm+vr5qamohISHku2fHjx8nnCbNsLbnCQoKIic7GlVVVa1du9bGxmbr1q2EX+e1tbX3799fv369nZ3dsGHDrly5Ir1gWyH33uzNmzcODg4jRow4f/68qGd6TEwMOaXScvp0hptrT/T09OjM9vfHH38MGjSI8tlGoVAYFRU1cODAZcuWtbyYl/th2RTbOp8OHTpMmzaNXKasrGzkyJHp6emtvlpdXT179mzKpyTMzMwmTpwoZpQAzBNC+0VncZeamhqptxseHk5u1NLSklzDkSNH6By9HTt2/OKLL4KDg8PDw/fu3Ttx4kRNTU1axz2Hw+Fwli9fTg6j1Ru5TV28eJFcQ3R0NM1gOnfu7Ojo2OefFi1aJKPAGFj4Z8+ePQ1tVVVVUd4M4fF4165daxnn8+fPBwwYQLNFyT/QRioqKnPnzo2JiSkrK2t4C4mJievWraO82dIgLCysrRjS0tLojMkcO3ZsQkIC+e2Ul5dHRkYuWbKk2dIDHA6ntLRU7J1AefDI1M8//0y5c/bt20dZj9z3s1Ao/PHHH8mtW1tbFxcXN5ZvzJq1hcfjvXjxgs5ulFHPIxVv374VYx54S0tLT0/PRYsWrVq1atWqVUuXLp08eXK/fv20tLTa2uTBgwdtxSD2WSD33qxp121gYDBt2rRff/01NzeXcrfHxsZ27dqV3OiNGzfk21wDqfRRUVFR5Ep69OhBWQmdYAjdUVZWFs0VPVVVVWfOnPn777837RCEQmFFRUVMTMx3331nb2/fWPjt27fNGpL7YdmULDofCQ+J58+fU85QwOFwdHV1N23a1HT3lpaWnj59uunOJ9i9ezchBqkc1SkpKeRKjI2NKSuhPFSeP39OWQkotIYPGosCAhuNGzdOXV29pqaGXCwvL++nn35iJiTx9OvXT01Njc7Nk/fv37d8QK5z586yiYtRGhoan3zyCXkCtvLy8jFjxowcOXLcuHEN07lnZGRERkZevnxZLve06+vrjx07duzYMQ6Ho62tLdJz43369PHx8WnrVQsLi2+//fbrr78mV3LlypUrV644OzsPHjzYycnJ2NiYx+NVVVUVFxdnZmampKQ0PM5HeY4oLbnv5/v3769evZpQQFVV9eTJk3w+v/Evs2bNunbtGmEJwPLy8qlTp96/f59w3duAzT2PlZVVRETEqFGjRDqt0tLS0tLSZBcVTazqzYqKis6ePXv27FkOh2NmZtarV69evXpZWFjw+Xw+n6+rq1tTU/Phw4eUlJTo6GjKtK+2tjb5UpDh5toBMzOzzZs303lwsq6uLjg4ODg4WEVFxcjIyNjYuL6+/sOHD0VFRfX19ZSbs+qwZGHnY29vHxQUtH37dnKxsrKytWvXrl271tjYuFOnTqWlpe/fv6e5c5ycnBYuXCiNYAEYghQAsJGJiYm3tzfl5Kvsx+fzvby8zp8/L+9A5MzPz49yDnahUBgZGRkZGclMSPSJdKGioqKyd+9e8oRAX375ZXR0NJ13Gh8fHx8fT791aEqO+7mwsHDatGnkxMGaNWsGDhzY7I/79u2LjY0ljHtPTEwMCgrav38/OQCW9zyDBw8ODw/38fGRfFJG5rGzN8vOzs7OzpakRV9fXzor8sqlOcW1dOnSmJgY+mdifX19fn6+GBMlsuewZGfns2nTpujo6Li4ODqFP3z4INI0jTo6OmfOnKFccxGAVTAXALDUihUrJJlYVV1dfdSoUVKMR2yynjpRIUyePLl///6S1MDn88ePHy+teNpCuXoQpdWrV7e8rmtGRUXl7Nmz/fr1k7AtIJPjfg4ICCDfsv7Xv/7V6qSSfD4/ODiY/FPywIEDDXdiyVje84waNSomJobyGWYWUpTeTCTa2tp0ZjlV0Obk69dff3V3d5d1K6w6LFnY+WhoaERERDQMf5AuNTW1M2fOODo6Sr1mAJlCCgBY6l//+tfnn38u3raqqqrHjx8fMWKEdEMSj7u7O4aHcbncAwcOUD6B1hY1NbXg4ODu3btLN6qW1qxZM2PGDLE39/Hx2bhxI52SBgYGUVFRQ4cOFbstoEMu+3nXrl0XLlwgFNDV1SVc5w8YMIDy6mj+/PmvX78ml2F/z/Pxxx8/fPhQpuvLyoKi9GYi2bdvn5WVVXttTr54PN7ly5cnTJgg01ZYdViys/Pp0qVLdHS0g4ODFOvU0dEJDQ1lW0YPgA6kAIC9Nm3aNGTIEFG30tHR+e233yS5kJO6n3/+mXJC2nbPxcUlJCREVVVV1A3V1dWDg4M9PT1lEVUzXC73119/9ff3F2PbCRMmhISE0B+6YmhoGBUV9dVXX4mxT4A+hvfzw4cPv/rqK3KZ3bt3t7pgRKNvvvlm8ODBhAIlJSXTpk2jXDCP/T1P165dr1+/fujQIak/AGxmZmZkZCTdOhspRG9Gk5qa2r59+8Tr9NjfHEvweLzw8PCtW7dSzuIhCVYdluzsfKysrGJjY6W1dF+PHj1u377t7e0tldoAGIYUALCXlpbW9evXRepee/Xq9ffff8s63S4qTU3NM2fOHD9+nOa8su2Vl5fXjRs3TE1N6W9iZmYWHR09depU2UXVTMMQkp9//pn+6hIqKipr1qz57bffRP15p6am9v333z948MDDw0P0SFthbW29cuXK+/fv01y5QEkwtp+Li4spr8wnT548d+5ccv0qKirBwcHkafPj4uJWrlxJrkcheh4ulxsYGPjq1autW7eam5tLXqGLi8vJkydTU1NtbGwkr60t8urNNDU1pZjMcnd3/+uvvxYsWMCS5toxLpf79ddfJyYmTp48mcvlyqgV9nzJsrbz0dfXP3fuXHh4eI8ePcSuRE9Pb/369Y8fP3ZxcZFibABMwtwVwGpaWlrnz58/c+bM2rVr37x5QyjZpUuXL7/8cvHixaydkcXf39/f3//27dsxMTGPHj168eJFUVFRcXGxIk6IJTZ3d/fHjx9v2bLl0KFDFRUVhJJ8Pv+zzz5bt24dzUWVpCsoKMjT03PNmjXnz5+vq6sjlBw5cuTWrVsleeDc2dn5+vXrcXFxR44cCQsLy8vLE2lzfX19Nze3wYMHe3h4tIP5BVxdXdevX08uI94jrwzs53nz5lF2UwcOHKDTnLm5+cGDB8l3q/bs2TNs2DDC8hMNFKLn4fF4X3/99ZdffnnlypWwsLArV66IOiOas7Ozl5fXhAkTnJ2dZRRkM3LpzZydnQsLC+/evfvnn3/evn378ePH5eXlolbC5/NHjx4dEBBAOWMOw821e3Z2dqGhocnJyUeOHDl79mxbC9G3ytjY2NPT08fHh7zaIqu+ZFnb+Xh7e48fPz4iIuLQoUM3btygv+aLo6PjnDlzAgICjI2NZRohgKxxG5cHBGCzmpqaP//88/r163fv3n3//n1eXl5lZSWfz7exsenfv//YsWNHjx7dbN3XDx8+vHv3jlBnhw4dyKNPz549S16F1dfXt1u3biK9EalIT08vKSkhFLC0tJTLlTN9+fn5Fy9evHnzZnx8fF5eXkFBgaqqqp6eno2NjZOT0yeffOLp6dnyFmtpaSmhTj09PX19fUIBMT7QzMzMCxcuxMTEJCUlZWdnl5eXa2hodOzY0d7efsiQIZMmTZLuLQ6hUPjo0aO7d+8mJCSkpKRkZWV9+PBBIBDU1tbq6Ojo6urq6uoaGxvb2tra2dnZ2dn16tXLyclJpIkzWXtUM4mB/QySqK+vT0xMjIuLi4+Pf/v2bUZGRk5OjkAgEAgEKioqfD5fX1/fwMDA1tbWycmpd+/e/fv3NzMzo1+/dM8CufRmDerr61+/fp2QkPDs2bOMjIyMjIysrKyCggKBQFBRUVFTU9N4PJuYmNjb29vb2/ft23fIkCEaGho03x3zzUnlCy4rK+vixYuEAoaGhnRGql+9epU8teeQIUPEngru2bNnDYmV5OTkrKys3NxcgUBQU1OjpaXF4/GMjIysra1tbW379u07YMAAR0dHkYYPyPGwlDqZ/uYpKSm5efPmgwcPEhMT09LS3r17V1ZWVlVVpaampq2t3bFjR3Nzc3t7+379+g0fPlwWEwoCMKyhJ0EKAAAAAAAAAKCda0gB4J4GAAAAAAAAgFJACgAAAAAAAABAKSAFAAAAAAAAAKAUkAIAAAAAAAAAUApIAQAAAAAAAAAoBaQAAAAAAAAAAJQCUgAAAAAAAAAASgEpAAAAAAAAAAClgBQAAAAAAAAAgFJACgAAAAAAAABAKSAFAAAAAAAAAKAUkAIAAAAAAAAAUApIAQAAAAAAAAAoBaQAAAAAAAAAAJQCUgAAAAAAAAAASgEpAAAAAAAAAAClgBQAAAAAAAAAgFJACgAAAAAAAABAKSAFAADtnKenJ5fo0qVL8o4RoD3AuQYAAMB+avIOAADam3v37g0YMECMDdXV1dXV1XV1dQ0MDExMTMzNze3s7JycnNzc3ExNTaUeJ4CEMjMz9+/fL+pWXC5XVVVVQ0ODx+MZGRl17tzZ2trayspKTQ3fyAAAACBz+MEBAGxRU1NTU1NTUVGRm5v78uXLpi85ODhMnjw5ICDAyspKXuEBNJOZmbl582apVKWpqenk5DR06NBx48a5u7tzuVypVAsAAADQDB4EAAAF8Pz58++++65bt25z5sx5//69vMMBkLKqqqqHDx/++OOPw4YNs7Ky2rlzZ2VlpbyDAgAAgHYIKQAAUBh1dXUnTpzo3bt3TEyMvGMBkJX09PTPP//cycnp3r178o4FAAAA2hukAABAweTl5Y0dO/bWrVvyDgRAhl69ejV06NCIiAh5BwIAAADtClIAAKB4BAKBr69vYWGhvAMBkKGqqqpp06bFxcXJOxAAAABoP5ACAACF9O7du61bt8o7CgDZqqqqmjNnTn19vbwDAQAAgHYCKQAAUFSHDx+uqqqiLGZoaGhCpKWlxUC0AOJ5+vTpuXPn5B0FAAAAtBNIAQCAHPj7+wtbqK6uzsrK+v3338ePH0+nksLCwtu3b1MWO3ny5HuiESNGSPyGAGTo+PHj8g4BAAAA2gmkAACALdTV1c3MzMaPH//777/v27ePziaYMh1YrmW2q6ysLDU19dKlS/Pnz9fR0aFTyZ9//klnwAsAAAAAJaQAAICNFixYMHHiRMpir1+/ZiAYACni8XiWlpbjxo07cODAkydPbG1tKTeprKx89uwZA7EBAABAu6cm7wAAAFo3a9as8+fPk8sUFRXJOoz09PSSkhJCAUtLSz09vaZ/qaiouHTp0rVr1xISElJTU0tKSng8XseOHU1NTd3d3UeNGuXm5qaiIn4GtqSk5OXLl8nJycnJyRkZGe/fv8/JycnLyxMIBJWVlZWVlRwOR1NTs7FROzu7Xr16DRgwoG/fvuK1K8ZOyMnJiYiIuHHjRlJSUnZ2dmlpaW1trba2tpubW1hY2M6dOwm1GRgYBAUFiRRhXl7e3r17CQVMTEwWLlwoUp0MsLGxOXfuXL9+/ShLvn371tnZWZK2qqqqbt++fe/evcePH6empjZ8KAKBQFVVlcfjmZqaWllZubi4DBw4cNiwYZqampK0JQuKHj99CnGCy7qXa6mmpiY+Pj4hISE5OTkrKysnJ0cgEFRXV2tra/N4PCMjI2traxsbG2dn5z59+qipSfT7VnkONgBQUi0fxwUAkERsbCxlz9PqXADNJCUlUdbj5eVFWc+4cePIlVy8eFFam5eVla1bt87Q0JC8Se/eva9du0ZnZzbKzc3dtWvXzJkz7ezsKHdLWxoug588eSJS06LuhHfv3gUEBGhoaLRa0tbWVigUuri4kCtMSEgQKcL//Oc/5ApXrVol6rumJK1D3c3NjbKeY8eOiR3nzZs3fX19eTweZSsN9PT0AgICRP0IhBKfa3KJv0ePHuTakpOTRYo2OzubfOnbsWPHqqqqZlsp0Akuu16uVQKB4PTp015eXrq6ujT3g46OzrBhw3bu3Jmamipqc4ydLAAAcvHfzkveYQBAeyOt66KnT59S1jN79mzKehhLAURHR3fp0oUy5kaLFy+uq6ujuVevXr1Kv2ZKU6ZMycjIoNm0SDshIiKCfG1gY2MjFApPnDhBrnDRokX0wxMKhYMGDSJX+PLlS5EqpENah/qKFSso6zl69KgYEd65c2fAgAGUlbeKy+X6+fllZ2fTb07qKQAG4t++fTu5nrVr14oUM2WFX375ZcutFOUEl2kv10xZWdnWrVs7dOggya5IS0uj2RzDJwsAgFw09FqYCwAAWColJYWyjL29PQOR0LF79+4RI0ZkZWXR32Tv3r2zZs2SXUgEoaGhffr0iYqKkm61R44c8fHxKSwsJJRp+Prx9fU1MTEhFAsODq6oqKDZblZW1t27dwkFhgwZIsnNVVnr2LEjZRkDAwOR6qyurv78888HDx5MJ0/RKqFQeOrUqd69e1+5ckW8GiTBWPxz5sxpa8RKg1OnTjX+ZqLj5MmThFe5XO6nn35KvzbxyOgEZ7KXu379es+ePVevXp2fny/G5o3q6+spyyj6yQIAICqkAACApYKDgynLDBkyhIFIKG3atGn58uV0fms2ExIScvDgQVmERKmgoGD8+PE3btyQVoURERHz58+n3AkNV1MaGhrkJ/OLi4vPnDlDs+lz586RL9ICAwNpViUXtbW1lGVMTU3pV1hQUDBy5MidO3eKdO3aqvz8fC8vrwMHDkhYj0iYjL9Dhw4+Pj6EGlJTU+ksPtogMTExMTGRUGDo0KHMZKOkfoIz1ssJhcL169ePGTMmLS1N1LbEoOgnCwCAGJACAAA2Onz4cFhYGLmMra0tnYeoZe3w4cPr1q0Te/OVK1eKdFdNiqqqqnx9fbOzsyWvKjU1dfbs2SJdHixYsIB895X+L2lyskBfX3/y5Mn0A2Me5UegpqbWp08fmrWVlJR4eHjcunVL4rj+q66ubsGCBZTPbkgL8/HPnz+fXMOvv/5Ksy3yEAA6bUmRFE9wxno5oVC4YMGCjRs3Sn5BToeinywAAOJBCgAA2KK2tvb9+/eXLl3y8fGhM1Z206ZNXC6XgcDIIiIiJNm8tLR0//790gpGVPn5+V9//bXk9axZs4Y8o3ijxl/2JiYmvr6+hJJ///13QkICZYWpqal///03ocCMGTO0tbXpxCYvlFcg//rXv2i+BaFQOG3atLi4OGnE9Q+BgYFiD5OmTy7xDxs2jHxnPiwsrGEefrL6+vqQkBBCgQ4dOtBZ61SKpHWCM9bLrVmzhrGBUYp+sgAAiA2LAgKAHJw4cULC+yQzZswgX0AqkKNHj27YsEFVVVWkrQwMDBwdHR0cHHr06GFoaKinp6enp8flcgUCQV5e3ps3b+7du3fv3r3q6mpyPadOndqwYYONjY0E74BTWlpKs2TTm3tBQUHk+6sHDhz45ZdfyBWePXuWXGDevHk0Y5OLq1evUs58GRAQQLO2HTt2XLt2jbKYjY3NhAkTnJ2djY2Ny8vLk5OTz58/Hx8fT9iktrZ2xowZSUlJOjo6NIMRg1zi53K5gYGBq1atamvb4uLiiIiIadOmkaO6ceMG+Za7v78/eeRLU6w6wSVHp5e7ePHitm3bGAtJ0U8WAADxMT0LIQC0dwzc/Zg8eXJlZSXNeGS9IkBTxsbGCxYsOHXq1B9//BEWFrZ8+XKas7jdvXuX/C4aJwzv27fvt99+e//+/fr6esr3npOTExQURDlWYvXq1RLuw1Z16dLF2dnZzc3NwcGh8crH3Ny8ac2DBw8m1MDn88vKysix9e3bl1BDnz59KPeS2CRfEeDWrVvGxsbkGmxtbQUCAZ14MjMzKRcz09XVPXLkSG1tbcvNT506RXnF8u233xICkPBck2P8ubm55IvzcePGEfe9UCgUUs57R1hfUIFOcBn1cqWlpV27dqUZQ8+ePTds2HDr1q309HSBQFBWVtYwZcO2bdtGjx7dNNHw9u3bVpuT+8kCACAX/+2h5B0GALQ3Mk0BGBsb//LLL3R+HDdiLAXg5+dXWFjYbPOMjAzyNWqDhsmoCKKioiZNmnTnzh36b7zRnj17yK336tWLXINIVwjm5ua//PJLZmZm0xpqampiY2O/+eYbV1fXpn+nnPHh0KFDhMCSk5PJm+/Zs0eMPUYTnUN90qRJb/8pKSkpJibmP//5j4eHB+XFm4qKSmRkJM14li5dSq5NV1f34cOHhBpu3rxJvk+rp6dXXFzc1uYSnmvyjX/KlCmEDdXU1HJycghNl5WVkS8phw4dSthcUU5w2fVymzdvphNAhw4dzp49S/4KyMjIWLdunb6+PqftFIDcTxYAALn4bw8l7zAAoL2RXQrA0NAwPDxc1FWmmUkBBAQEtFVDWloa5YPcfn5+Ir0pUVFOQl5QUEDYnP4Vwty5cysqKghVNfvtXltba2lpSajwo48+ItS2ceNGwrZaWlrk9yUhBga87Nu3j2YwJSUllHc1jx07RlnPihUryJUQLuQkOdfkHn9kZKTYb1woFFJOGRgSEkIZvNiYOcFl18tVV1eTVwlt0L179zdv3tDcJzk5OXPnzk1LS2v5ktwPNgAAeWnonTAdIAAojMLCQh8fHwcHh4sXL8o7ln+wtbUlPLJuYWHh7e1NrkHWy18NHDiQXODx48eStzJv3rwjR46QrwSa3fdWVVVdsmQJofyDBw8Ij92SJwKYOHGioaEhoQCb8Xi8kJCQBQsW0Cx/8eLF8vJyQgEHBwd/f3/KelasWEEemxAaGkozJJHIPf4RI0aQH5gnz/ZPftXY2FimEwEycILLtJeLjIzMyckhb87j8S5cuGBtbU0u1qhTp05Hjx61sLBo+ZLcDzYAAPlCCgAAFMzLly+9vLwWLlxIZzV1Znz33XeampqEAq6uruQaiouLpRpRc5QPnKempkrYhK2t7e7du8VYoyEwMJB8R66t1QGTkpKSkpIIG7J8IkACb2/v+Pj46dOn09/kypUr5AL+/v50Ph1TU1NHR0dCgdjY2KKiIvqB0ST3+BsmBSRsGBcX9+zZs1Zfevfu3Y0bNwjb+vv7k7sICTFwgsu0l6Oz4sD69esdHBwoi9Eh94MNAEC+kAIAAIW0f//+GTNmCBlZO5qMz+f7+PiQy1BOxy3Gz8R3796FhoauXbt22rRprq6utra2RkZG2traqqqq3BZ27NhBrk3yxcPXrVsn3vTXBgYGs2fPJhQICQkpKytr+fczZ84QtrKxsRk2bJgY8ciRnp7ewoUL4+LiwsPDKYd2N/PXX3+RC7i7u9OsysrKivBqfX39gwcP6IZFGxviDwgIUFdXJ2zb1q3+4ODg+vp6woZ0VjlthlUnuKx7ubt375K31dfXpz8ihhIbDjYAADnCooAAoKhCQ0P79u27Zs0a+Ybh7u6upaVFLkM5Y3ZFRQXN5vLy8g4dOnTmzJknT57Q3IQO8rBYSnw+f+rUqWJvvmzZsv3797eV0CktLT19+nTLiyjyUwABAQFiDEmQr7KyssePHycnJzs7O4sUfEVFxdu3b8llVqxYQb6+bfT8+XNygaSkpJEjR9INjgaWxG9iYjJ+/Pjz58+3tWFwcPDmzZtVVJrfPiE/BTBkyBB7e3tySI3YeYLLtJerqqp68eIFedsRI0bo6emRy9DEkoMNAECOkAIAADnw9/c/fvx4sz8KhcLS0tLc3NxHjx6FhoY2zPxHrmfTpk0zZ84kzycna3SmwtbV1SUXoDOcoaKi4rvvvtu5c2dlZSXd4GiTsE43NzfKycAI7O3tR40aRVij+8CBA81SAI8ePUpJSWmrvKqq6pw5c8SOR16EQmFsbGxsbOzBgwfPnDlDZ4K0BnTmkqC880mf1KeuYE/88+fPJ6QAMjIyYmJihg8f3vSPiYmJiYmJhObmz59PJyo2n+Ay7eXS0tLIYyg4HM6QIUMoA6CJPQcbAIC84EEAAGALLpfL5/O7des2derU0NDQe/fumZqakjcRCAQ//vgjM+G1hU4CguYNJYK0tDRXV9dt27bJ4vKAw+FQ/gQn++ijjyQMYPny5YRX4+Li4uLimv6FPARg9OjRXbp0kTAkOYqJiXF1dc3IyKBZPi8vT6bxNPPhwwfpVsie+D08PMhDu1vO/E8eAmBkZDR58mTKkFh+gsu0l6Pz6VM+ZSDd5qRI6icLAIDkkAIAAJbq37//5cuXW465bSYkJKSmpoaZkFrF5/Mpy6ipSTTkKi8vb+jQodIdGCxd5ubmEtYwatQo8mDpgwcPNv3vuXPnCIXJ87ophNTU1NGjR7c6CUJLAoFA1vE0Rf+5FZrYEz/lpIC//fZb083r6+tDQkII5elMBMj+E1ymvRydhxSMjIzEq7wl9hxsAADyghQAALCXs7Mz5RxUBQUFUlnQTmx0BsBL+FD6vHnzJJ/QW6b09fUlrIHL5S5dupRQICQkpLS0tOHf9+/fJ+wQExMTpdffsQAAIABJREFUT09PCeORFn9//8bFeAUCQXp6ekRExIwZMyhzWxwO59mzZwsXLmQgSFGxZzEO8ZDjDwgIIFzNlpWVhYeHN/73xo0b5Jn26EwEyP4TXKa9HJ3HoFRVVcWrXO4U/WQBgHYJcwEAAKt5eHj89ttv5DJxcXGSD0SXKTrXe225devWxYsX6ZS0trZ2cXGxsLDg8XjNfjFHRkbGxsaKHQMl8dYCaMbf3/+bb75pa9rwsrKykJCQzz77jEO1FoC/v7+Ewy5kREtLy9zc3Nzc3MvL6/PPP58wYQLlPO2nTp3y9fUdN24cuZgkEzGwAaviNzU1HTduHGGZupMnT86cObPh3y2fC2hq8ODBlOvYKcQJTofYvRydT7+goEC8ysVrDgCgfWPjjyQAgEZ0RphLvqAdmx04cICyzNChQ7dv396/f/+2CpSVlcn9CoESj8cLDAwkTO5w8ODBzz77TCgUhoaGEuoJCAiQQXRS1r9//+joaFdXV8r1IJcsWTJixAjyYPKOHTtKNTqmsS3++fPnE1IAf/zxx/v37zt37lxeXt50RECr9VC2pTwneFuMjY0py2RlZUmrObYdbAAAzMODAADAanRmsaK8iFJcQqHw+vXr5DKenp5RUVGEywMOh1NcXCzVuGRlyZIlhBG/jx49evjw4Z07dwjXA4MGDerRo4dsopOyHj16NJvgoFWpqal79+4ll6GcrU1VVbWiokIoJRcuXBDhfdLAtvhHjx5tYWHR1qt1dXXBwcEcDuf8+fOE59gNDQ0pJwIUKtkJ3iry/IsN7ty5I63m2HawAQAwDykAAGC19PR0yjKK+5gopbS0NMoJpXft2kU57j0zM1N6QcmQpaXlhAkTCAUOHDhAfgpAsSYCnDJlipeXF2WxLVu2NM6D0CodHR1ra2tCgbq6uqSkJJHjYwrb4ldRUZk3bx6hQMMqAOS1AGbPnq2lpUVuSNlO8FbxeDzKLEBUVJS0Hqpn28EGAMA8pAAAgNUIa8U3knwuOtaiXBbOwsKCcrmsmpqau3fvSi8o2QoKCiK8evr0acJTAHw+f8qUKTIISoZ++OEHygu8Dx8+7Nmzh1zG1dWVXOD3338XLTJmsS3+efPmEXKLCQkJ165du3HjBqEGOk8BKOEJ3io3Nzdygezs7NOnT0urObYdbAAADEMKAADY6/79+3QmyiLf0lFolMtl0ZmH7/Tp0+R7yKwyePBgZ2fntl4tLy8nLOs9ffp0qUxMyKQePXrMmjWLstiOHTvIH+LYsWPJNRw7dkzy5dBevXoloxnO2RZ/ly5dyCHNmTOH8JjSwIEDHR0dKVtRwhO8VZSfPofD+eabbyhHTEirOZafLAAAEkIKAABY6q+//vLy8hLSWC+K/JSsQtPV1SUXSE9Pr6qqIhQoLi5ev369VIOSueXLl4u3IXnwNmutXbuWciBAQUHB7t27CQW8vLzIl4uZmZmSHAkpKSmBgYEODg6VlZViV0LAwvjJt/FzcnLE3raRcp7gLXl5efF4PHKZjIwMX1/fiooKmnXW19fv2bPn3bt3rTbHtoMNAIBJSAEAAFsIhcLS0tKUlJQzZ85MnDhx8ODBubm5lFuZm5v37NmTgfDkwsTEhFygoqKC8EByZWXl9OnTWb7keEu+vr6Ub7yl3r17s3xtyLbY2NjQGQjw008/lZSUtPUqn8+fM2cOuYbt27fv2LFDpNjq6uquXr3q7e1tb29/5MgR2d3VZGH8Y8aM6dq1q0jNNTA0NKT5QIpynuAt6enp0ZnF448//hg0aFBycjK5mFAojIqKGjhw4LJly1pNoLDwYAMAYBJSAAAgBydOnOC2oKKiwufzu3fvPn369PDwcDprAXAUZAU4sVlaWlLeHAsKCmp1UvEXL14MHz786tWrsglNhjQ1NRcsWCDqVgo6BKCBVAYCrFq1inLc+MqVK8eNG5eYmEguVlFRERUVtXTpUgsLi7Fjx0ZERNA8HyXBtvhVVVXF615mzZpFc/F55TzBW/XVV1/p6elRFouPj+/Zs6efn9/FixebZcQEAsGff/65adMmR0dHDw+Pe/fuEeph28EGAMAkih8cAABsZmhoKPagcYWgoaHxySefkOemKi8vHzNmzMiRI8eNG9cwLUJGRkZkZOTly5cV9zbUwoULt27dWl1dTbO8pqamn5+fTEOSqYaBAMeOHSMX++mnn5YtW8bn81t91cLC4ttvv/3666/JlVy5cuXKlSvOzs6DBw92cnIyNjbm8XhVVVXFxcWZmZkpKSmJiYkJCQk1NTVivhlxsTD+wMDATZs2iXpFR/MpAI4Sn+AtmZmZbd68edmyZZQlGxZlDA4OVlFRMTIyMjY2rq+v//DhQ1FREf1PioUHGwAAY5ACAAAFtm/fPkNDQ3lHIVt+fn6U01MLhcLIyMjIyEhmQmKAiYnJtGnTyIuuNeXj42NkZCTTkGRt7dq1J0+eJF/UFRYW7tq1a926dW0V+PLLL6Ojo+kcCfHx8fHx8eIEKktsi9/c3Hz06NFXrlyhv4mbm5tIjyYp5wneqqVLl8bExJw/f55m+fr6+vz8/Pz8fPGaY9vBBgDAGDwIAACKauPGjdOmTZN3FDI3efJkCec75PP548ePl1Y8jBFpfAedB4lZzsbGZvbs2ZTFfv75Z8KMACoqKmfPnu3Xr59UQ2MOC+Onf0tfvPJKe4K36tdff3V3d2emLRYebAAAzEAKAAAUj5aW1oEDBwj3QtsTLpd74MABygeG26KmphYcHNy9e3fpRsWAfv36DRo0iE5JKyur4cOHyzoeBtCZEaCwsHDnzp2EAgYGBlFRUUOHDpVqaMxhW/yenp5mZmY0CxsYGEydOlWk+pX2BG8Vj8e7fPnyhAkTmGmObQcbAAAzkAIAAAXj6emZkJAg6q02hebi4hISEqKqqirqhurq6sHBwZ6enrKIigE0BwIEBARwuVxZB8MAa2trmgMBiouLCQUMDQ2joqK++uorMY4ZNmBV/CJNCujn50dzIsCmlPYEbxWPxwsPD9+6dauWlhYDzbHqYAMAYAZSAACgGMzNzZcvX56YmHjx4sV2c8uLPi8vrxs3bpiamtLfxMzMLDo6WtR7kqzi4+NjYWFBLqOiojJ37lxm4mEAnYEARUVF5IEAHA5HTU3t+++/f/DggYeHh1QCs7a2Xrly5f379ymXspcKVsUfGBiookLr95LYqUnlPMHbwuVyv/7668TExMmTJzOQ3WPVwQYAwABMBwgA7KKurq6pqWlgYNChQwdzc3NbW9s+ffq4urra29vLOzQ5c3d3f/z48ZYtWw4dOlRRUUEoyefzP/vss3Xr1tFZZIvNVFVVFy9evGrVKkKZUaNGibd4OztZW1v7+/sfOXKEXGznzp1BQUH6+vrkYs7OztevX4+Lizty5EhYWFheXp5Iwejr67u5uQ0ePNjDw0Muj0yzJH5LS0sPD49r166Ri7m6ujo5OYndihKe4GR2dnahoaHJyclHjhw5e/Zseno6/W2NjY09PT19fHzodw4sOdgAABjAFQqF8o4BAECG0tPTCdOncTgcS0tLxfolnZ+ff/HixZs3b8bHx+fl5RUUFKiqqurp6dnY2Dg5OX3yySeenp7N7j4VFxeXlpYS6tTT06O8npSLwsJCMzOzysrKtgr89ttvEydOZDIkBSUUCh89enT37t2EhISUlJSsrKwPHz4IBILa2lodHR1dXV1dXV1jY2NbW1s7Ozs7O7tevXo5OTnRvPvd4OzZsykpKYQCvr6+3bp1Y238LKFUJzh9z549u3379uPHj5OTk7OysnJzcwUCQU1NjZaWFo/HMzIysra2trW17du374ABAxwdHSUZPqA8BxsAKJuGvhEpAAAAYK9379517dq1reW+O3XqlJmZqa6uznBUAAAAAAqnIQWAhCUAALBXSEhIW9f/HA5n9uzZuP4HAAAAoA+jAAAAgKUqKip69OiRmZnZ6qsqKiopKSk2NjYMRwUAAACgiDAKAAAA2Kumpsbf37+t638OhzN+/Hhc/wMAAACIBCsCAACAnDWdsrGqqionJycuLu7EiROvX78mbLVixQpGogMAAABoP/AgAAAAyJm3t3dERIRIm0yYMOHChQsyigcAAACg/cGDAAAAoJC0tLR++OEHeUcBAAAAoHiQAgAAAAXz008/de/eXd5RAAAAACgepAAAAECRzJs3b+HChfKOAgAAAEAhIQUAAAAKY9myZYcOHZJ3FAAAAACKCikAAABQAL169YqMjNy1a1fDTDYAAAAAIAYsCggAAGykq6traGjYrVu3jz/+2MvLy83NTd4RAQAAACg8LAoIAAAAAAAA0M5hUUAAAAAAAAAAJYIUAAAAAAAAAIBSQAoAAAAAAAAAQCkgBQAAAAAAAACgFJACAAAAAAAAAFAKSAEAAAAAAAAAKAU1eQcAAADKoqSyrlRQW1uPxWgVniFPvURQW4ePUsFxuRxzIy2uvMMAAAAmIQUAAAAM4WmoZBbWllbWyTsQkJSlsVbaB0FFdb28AwGJqKpwLYy05B0FAAAwCikAAABgSHWd8Le4vOT3FfIOBCT1r0DHkPs5GQVV8g4EJKKjodJ/tr28owAAAEZhLgAAAAAAAAAApYAUAAAAAAAAAIBSQAoAAAAAAAAAQCkgBQAAAAAAAACgFJACAAAAAAAAAFAKSAEAAAAAAAAAKAUsCggAAGyhpa7y/SRbY131hv/W1QvX//42Nb+yWTGrDlobJ9iocP/734Lymq/CXlfWYI16VlNT5f7Lmt/TjGfbSVtPS42noVJdJywor3mbX5mQURqXVlZd+79PcMtEm8b16pOyy7deSZNT1NRM9TW6ddKxM9Hu1km7q6FW42FZL+TMPvJMrqEBAAC0AikAAABgi8qa+iN33n012qLhv6oq3MDBZusj3tbVCxvLNPyx8UKLw+Ecu/se1/8sN8zecKJLR0Odf/zq0FbhdjHQ7GKgOaibfllV3X+iM59mlcsrQvHoaKhun9JN3lEAAACIAA8CAAAAiyRmlt19Vdz4XytjrbFOxk0LjHUytjLWavxv7OuS+PRS5uIDEamqcBcO7TJvkGmz6/9mdDVVTfU1GYsKAABAaSEFAAAA7HIy9n1JZV3jf32cO5rwNRr+3ZmvMdGlY+NLZVV1J++9Zzo+EIW/W+eB3fSb/TGjoOphamlcWumbPEHTIR6Kq6K67klW2bviankHAgAAQAEPAgAAALuUVdWdjH23eFjXhv9qqHEDB5tuuZzG4XDmDTZVV/3fMwCnYt+XCGrlEyXQ0M9Sb7i9YdO/PHtXfvzu++yiqsa/aKmruNnqe/YxbrG1Aqiuqz94K/tVruBdUZWQw1k4tIupvoa8gwIAACBBCgAAAFgn9nXJANtSFwu9hv86mPKG2htyORwHU15jmcTMsjtNHhkAFprUr2PT/z7NKt9+Pb3Zbf/KmvroF4W3U4qMeOqUFVp10HLqomtprGVmoKGrqaqjoaquyq2sqc8vq3mdJ7j7qjj5fUWrG3Y30RnS3aBbJ21jXXVNNRVBdV1ZVV3DZIRv8ysTMsoqquvEKFxbJ7z1skjk/QIAACA/SAEAAAAbHbv7zsGUp63+3wfWpn/cicP53/3/qtr6o3feySk0oMXCSKtxVn8Oh1NXLzx0K7utYf81dcKcEupR9GN6Gbd8rICnqcrTVLU01hpub3gnpfjgraxmjUz7qNP4Ph1abmLC12hIKu2IzGicUUKkwv/H3n3GR1F9fQA/s72k7aaHkEBIMBhCgCAdVP4oKiJdVBBEBBtKExBEkS6CKArKA4gNRSkRBURAAYGI9BpaEtJ7T3aT7fO8WNgs6QGys9n9fT+8mLlzdjl7E0jumTv3AgAANDtYCwAAAOxRkdrw88kcy6lMxJeJKn9mbT2Vm6/Sc5EXNFREgNz69EK6qkDd5F+y3mHuwzr7WLeE+8mqDOnr0KhgAACA5gizAAAAwE4dvFrUo417uJ+sSntCbsX+K4WcpAQN53vnU/HxORX3/p4sS9ezy08nl6UUaIrK9QYTKxXyW3lJnony8rv91z3RXrn7Yr5ln8joVq6Wl6cVareczMkp1TFEHjJBkKckIkAe2cLFEtCoYAAAgOYIJQAAALBTLNHGo5krRoQyzB3tG49mso6wiryDc5XwrU9L7sfCjRuPZhqqPkqgTy3UpBZoFg8NMZ9LhLwwH9mlDJX51E1S+avOoetFF9NvtWeX6q5ll++PK5QKeXwecxfBAAAAzRFKAAAAYL/a+sqYagOutr6y9CJtTeHg4AwmVshnIgNdHvCT+bmJZCKekM9jiHh3Dsv93EWXMm4dF1uVHoZ09HIR85MLNJlF2twynbmYUHF7vkBjgwEAAJojlAAAAMBOuUsFL3Tzrd7+fDffc2llRWpsB2jXyjRG61N36X34laNDoMvEPgEKeT1vJRdXLhtxKql0YOStHQfdpIJhnW9tUqA3sskFmgtpqkPXiiwzFBoVDAAA0BxhOUAAALBTY3v6uYj51dulQt74nv62zwcapcoK/2G+0nt8w0CFePrjLesd/xMRz2rqSEJuxZYTOdV3IhDymTAf6Yho75XPhj54e7PJRgUDAAA0R5gFAAAA9ig62LVbazfLaUJuBRGF+twaRnYOdu0W4nbiZik3yUEDxGWorU+jAl2UcmHhPWwK8GSkp8Bqwv+eSwV/XSksVBuMJtZdKlg7um1tL9xzqeBUclnvMPd2/rJAhaTKIgVSIW9i34Dpv8SzjQ8GAABodlACAAAAuyMT8V7qVXmf32BizUsALhkWYhkEjuvhF5ehVmmNtbwHcCytUJNWqG2pFJtP+TxmYl//lfvSqt9jJyIhn1HKhVUmDlTR2ktiOU4p0Gw5UblnpN+duw9Ul1umizmbZz6WCHmBCvHjEcqebdzNLd6uQj93UVaJ7i6CAQAAmhc8CAAAAHbnua6+Clllkfr38/npRdqMYu3Oc/mWRjepYHT3GlYKADvBEu04m2vdEtnCZdYTQVWG6xIhr1+4YvmINh0C69lvT8iv/KWlShXhqdsP8Ffn6yaSie74bUejNyXkVuw4k2fdaH7kpFHBAAAAzRFmAQAAgH1p5y97NFxhOc0o1v5+/tbIf9eF/K6tXYOUt+4G9wnz+Deh1LL9G9ib08llh68XP/KAh6UlIkC+YmRoWqEmp1THEKOUC4I9JQ3cZi+nVOd/u3zQylPy7EM+sfElcjF/QIQyOti1tld1CnIZ2cXnfJoqLkOdUawtqTAYTayXi3BgBy/rsMJyQ2ODzZ7u4Cng38rfMuWBiBiiIZ0qX3U8sbTuOQ4AAAC2gRIAAADYESGfmdA7wDIiZFnaeKRyK3ijid1wJGvB4NaWMePLvf3f3ZGoNWCrNjv1TWyWWMDr0aZyWQeGKEgpsdRxGu5ofHHHlpUzBZ6J8nom6tYYu6TCUMeOA2IBr1trN+ulJaq4nl1eoNLfRTARDe3sLRbUMKeSYWhEtI/lNKVAixIAAADYAzwIAAAAdmRYZ2/rieIHrhTG51ZYByTlV+y9VGA59XYVjuziQ2CvjCZ27aH0b2Kz6t5LT6U1ZpVo636rEzdLj9wort5eqNZ/diDtrjPMKtGt+yejKYIBAADsEGYBAACAvWjlKbF+qLtApd96Ord62I6zudHBrpZKwYAI5fGbJYl3VgrArvx9tejIjeKurd3at5C38Za6SQVSIU9vZAvV+pQCzfk01enksoZM5Vh/JPNqVvn/2ilaKsUMUb5KfyalbPfFgjqeJPjnenFWiS7MR9rGR+opF7pIBHIRz2hiSyqMaYWas6llxxJKDEb2LoIBAACaI4Zl8ZMMAABsoUJvWrkv9Xp2OdeJwL3a/MqDc2IS0wrruW8Pdk4m4q0fG851FgAAYCMMwxAeBAAAAAAAAABwEigBAAAAAAAAADgFlAAAAAAAAAAAnAJKAAAAAAAAAABOASUAAAAAAAAAAKeAEgAAAAAAAACAU0AJAAAAAAAAAMApoAQAAAAAAAAA4BRQAgAAAAAAAABwCgzLslznAAAATsHEsjmleo3exHUicK9ae0lySnXlOnwpmzcBj1oqJVxnAQAANsIwDKEEAAAAAAAAAODwzCUAPAgAAAAAAAAA4BQEXCcAAABOxGTC3DNHwOcx+FI6Bj6P4ToFAACwKZQAAADARkwmNilHrdYYuE4E7lWH1h4JWSqNzsh1InBP+DwmItid6ywAAMCm8CAAAAAAAAAAgFNACQAAAAAAAADAKaAEAAAAAAAAAOAUUAIAAAAAAAAAcAooAQAAAAAAAAA4BZQAAADAjuTlZPeKCo4KUUyeMKq2mI1frooKUUSFKI4fPWjL3OCu7dsdM2nMkEe6hHVt5z/o0ejlC9/NykznOikAAABnhBIAAADYEW9fvymz5hPR0UP79+2OqR6QmnJz/RcriGjg4JE9+vSzdX7QSCaTafaUCbPennDi33+KCvO1Wk1qys2fvv2/kU/1Pn0iluvsAAAAnA5KAAAAYF9GvjC+Y3RXIlq+cE5pSXGVqwvnTtVqNR4K5cz3l3KRHTTOmk8W/7krhogeHzh0c8yBPYfPLflknZe3b1lpyfTXX8zJzuQ6QQAAAOeCEgAAANgXhmHmL/1cKBQV5OeuWvaB9aWd2zafOn6UiGbMXaxQenGUIDRUVmb69xvXEtHjA4eu+GJTZMcugUGtnh46asOPv4tE4pLionWrl3OdIwAAgHNBCQAAAOxOSNgD4199m4h2bttsmS5ekJ/7ydL3iahbz4efGf68dfzNhBubN301d9qkwf27dmyjjApRbPl+g+3Thip2btus1+t4PN602R9at4eEth367Bgi2v3rL+Xlao6yAwAAcEYoAQAAgD2aOPmd4NahLMsunDtVp9PS7ecCxBLJvCWrqgT/8sOGFYvn7vltW/LNeJZlucgXanD04H4iah/VOSAwqMqlAU8PIyKdTvvf0UMcZAYAAOCsUAIAAAB7JBKJP1j6GcMwKUkJG9astKwO+Nrbs4OCQ6oEh4VHjH91yseff73r0BmsEWgnTEbjjWtxRBTZsUv1q+07dObxeER0Ne6CrTMDAABwYgKuEwAAAKhZl269Bo8YvXPb5k3rVnsolUTUNjxi3MTJ1SNHPP+S5ZhhGNulCLVLT0/R63VEFNiyVfWrYonEy8c3NzsrKTHe5qkBAAA4L8wCAAAA+zVj7iJPLx+DQZ+fm8Pj8eYvW83no3jdPJQUFZoPlJ7eNQZ4evkQUXFxoe1yAgAAcHooAQAAgP1yc/fo2ffWxP7+Tw5uHxXNbT7QcBUV5eYDkVhcY4BYLCGicjWWAwQAALAdlAAAAMB+xV08u2fnVvNx7OEDudlZ3OYDDWdZl7H2RzPYOq8CAADA/YcSAAAA2Cmj0bBgzhSTyeQfECiWSNRq1bIFs7hOChpKJpObD7QaTY0BWq2WiKQyme1yAgAAcHooAQAAgJ36bsOa61cvE9H8Zatfe3s2ER3ct/vwX3u5zgsaxF2hNB8UFuTVGFCQn0tEHh5K2+UEAADg9FACAAAAe5Semrzu8+VENHDwyB59+o2bOLlteAQRLZs/s7wcT483A4GBwUKhiIgy0lOqX9Vqtfm5OUTUuk2YrTMDAABwYigBAACAPVr03jStRuPuoZj5/lIi4vMFHyz9jMfjZWdlrF21hOvsoH48Pt9ctbl0/nT1q3EXz5pMJiJqFxFl68wAAACcGEoAAABgd3bF/Pxf7GEimj5noULpZW6M7Njl2dEvE9FP362/evkCl/lBw/Tp9zgRXTp/JiszvcqlfbtjiEgkEnfv8ygHmQEAADgrlAAAAMC+FBcVrFwyj4i6dO89ZOQY60tvz/zA29fPZDQunDvVZDRylCA01JCRY4RCkclkWr38Q+v2pMT4X7duJqKnh46yrBoIAAAANoASAAAA2JePF80tLioQicTvL15V5ZLcxXXOhx8T0ZXL57d8v4GL7KAR/AMCx77yJhHt3bVj1tsT4i6ezUhL2fPbtldGD9JqNe4eitemzOY6RwAAAOfCWLbtBQAAaFImE5uUo1ZrDHXEHD926LWxw4jozWlzJ701s8aYKZNeOPzXXrnc5dcDJ3z9Aogo7uLZZR/eGkwmJd5QlZUGBAZ5evkQkUgk2vTznvv8SZxeh9YeNzLKNLr6J2KYjMY50yf9uSumSrurm/tn6zZ36d67aRKEBuHzmIhgd66zAAAAG2EYhlACAAAAm6m3BKDVaIY90SM9NTkktO3WPUfN68lXl52VMfSxbuXl6n6PD/x03WYi+i/28KsvDq0xWCQSn7qWfV/yB4uGlwDM9u2O2fHz99evXq4oV/v4+vd+9LFxE9/yDwhs0iShXigBAAA4FZQAAADAphoyCwCahcaWAMA+oQQAAOBUzCUArAUAAAAAAAAA4BRQAgAAAAAAAABwCigBAAAAAAAAADgFlAAAAAAAAAAAnAJKAAAAAAAAAABOASUAAAAAAAAAAKeAEgAAAAAAAACAU0AJAAAAAAAAAMApoAQAAAAAAAAA4BRQAgAAAAAAAABwCgzLslznAAAAToEl0uqNJhN+7jR7MrFAqzca8aVs5hgiqVjAdRYAAGAjDMMQEf7fBwAAG2GI+AzDYP6ZQ+DxGK5TAAAAgEZDCQAAAGyEZUmlMegNJq4TgXvl48EvK9cbjJgF0LwxDHm787nOAgAAbAr3YgAAAAAAAACcAkoAAAAAAAAAAE4BJQAAAAAAAAAAp4ASAAAAAAAAAIBTQAkAAAAAAAAAwCmgBAAAAAAAAADgFFACAAAAO5KdnRUW7OerkI4ZNay2mNWrPvZVSH0V0sMH/7JlbnDXfovZPmLIUw+GtQzyV3SPbj/v3Xcy0tO4TgoAAMAZMSyLTX0BAMAWWJaK1Tq9wVR32Leb1s+eMYWI1n/9w+BhI6pcTbqZ+HCvLlqNZvjI575c/01T5Qp18vGQFJZpDcb6f4UwmUyvT3wTlT7uAAAgAElEQVRpZ8y2Ku3u7h7f/ri1Z68+TZMgNAjDkLe7hOssAADARhiGIcwCAAAAezNu/MSHunYnovfmzCguLq5ydcbUN7UajUKpXLR0BRfZQeN8tPhD8/h/8NDhew8cOXnuypp1X/v4+paUFI9/cVRmZgbXCQIAADgXlAAAAMC+MAyz6vMvhSJRXm7ugg/mWF/6afN3sUf/IaIFi5d7enlxlCA0VEZ62pdrVxPR4KHD12/a3LnLQ8GtWo8c9ULM73+KxOLioqKVy5dwnSMAAIBzQQkAAADsTtsH2k1+ezoRbdn83b+xR82Nebm5C95/l4j6PPzoqOfHWIJZlj3+77H582YP+F/v0CDfQB+3jg+2mTh+9H/HYzlJHix+2vydXqfj8Xjvf3jHUD+sbfjoMS8R0bZfflKrVRxlBwAA4IxQAgAAAHs0/Z1324SGsSz7ztQ3dVotEc2bM6O4uFgika5Y9YV15OGDfw0Z+Ni6tZ9funDe28cnNOyBoqKi33fGDBn42GefLOcofSAi+mv/XiLq1LlLy6DgKpfMqzzotNp/Dh3kIDMAAABnhRIAAADYI5FYvPKztQzDJCbEr1r50YH9e3fGbCeiGbPntg5pYx3JEtuxU+cvvtp4PSnz+OlLh2NPXbuZ/uobb7Esu2zxh6dO/sfRJ3B2RqMxLu4yEXXu0rX61U6do3k8HhFdvHDO1pkBAAA4MQHXCQAAANSsZ68+z48e+9Pm79as/kSp9CSiByMi35g8tUpYr9599x28Y86/VCpbuOTji+fPHf/32K/bt5oXFwQbS01J1ut0RBTcqlX1qxKJ1NfXLysrMyH+us1Tg+akXGfS6I0afT07iYD9EwkYhmG0+FI2f+4ygVzE5zoLuHsoAQAAgP2av+ijA/v35uXm5uRk83i8Vau/FAiq/uQSi2ve1axbj17H/z2WnZ3Z9GlCDYoKC80H3t4+NQZ4+/hkZWUW3g4DqJFGb3SVCAwmPdeJwL2SiwV8howm7Efe7An5mEjevKEEAAAA9svDw+PRfo9t/flHIho0eGin6C4Nf21aagoRBQQENlVyUKfycrX5oLYajUQiJSIsBwh1K9MY88r0i3Ync50I3KuXe/sr5cKV+1K5TgTu1XsDW7Xzl3GdBdw9lHAAAMB+nT97ZvvWLebjvw/sz8pq6C395KSbu3ftJKIhw0c2VXJQJ5a9da+PYeoKYGq7DAAAAE0AJQAAALBTBoNh+pQ3TCZTi8CWEolUpSqbO2taQ16o1WpemzhOq9GMHPVCl4e6NXWeUCO53MV8oNFoagzQajVEJJPJbZcTAACA00MJAAAA7NRXa1bHXb5IRKtWf/nO7PeI6I/dv+/bu7vuVxkMhtdeGXfuzOnIDlHLP1lti0ShJgql0nyQl5dbY0Bebi4RKW+HAQAAgA2gBAAAAPYoJTlp5fIlRDR85HOP9Ov/+uQpD0ZEEtGcmdPqeHrcaDS++er4P3b/Ht4uYmvMHsuNaLC9oOBWQpGIiFJTaniKW6vV5ORkE1Fo2AO2zgwAAMCJoQQAAAD26J1pkzWaCg+FYtHSFUQkEAg++Wwtj8fLyEj/aMmCGl9iNBrfmDR+Z8z2sLbhO37bq/T0tG3KcAc+nx8R0Z6Izp4+Vf3qubNnTCYTEXWI6mTrzAAAAJwYSgAAAGB3tv7845HDB4lo/sJlnl5e5sbOXR566eVJRPT1+q8uXjhf5SUGg+H1ieN2xmwLDWsbs+tPL29vG+cM1fV//EkiOnvmVEZ6WpVLv8VsJyKRWPzwo/04yAwAAMBZoQQAAAD2pbCgYP682UTUs3ffF8aMs74094MFfn7+RqPxnalvGI1GS7vBYHhj0ku//bojNKxtzK59Pj6+tk4aavLCmHFCkchkMi36cJ51e3z89R83f0tEI0e9gIc1AAAAbEnAdQIAAAB3eH/uzMKCApFYvGLVF1Uuubq6Lf3405fHPnfh/LlNG76a+NpkujX/v3L87+vrx0XWUIMWgS3feHPK6k9X/LpjK8uaXn9zqtLT89TJ/xa8P0er0XgoFOZVHgHuhUTIWz68jaeL0HxqNLHzf09Kzq+6D0UrL8nCwSG823tQFqr1s7YnavQmW6YKjSXgM91au0UEyNv4SF0lArmIpzOyhWp9Ur7mQlrZmRSVzlD5FVw6LCRIKTEfx2Wql/2RwlHW9XCXCtq3kIf6SFt5Sd2lfFeJQMRntAa2qFyfVqg9l1r2381So4nlOk1wZCgBAACAHfnn0N/bt24homkzZoeGta0eMHDQ4AFPPr1v7+6Pliwc+MzQgIAWMdt/+e3XHURkMpleGvNslfi2bcNXr11vg8yhRrPfm5+SkrwzZtvOmO07Y7Zb2t3dPb75/ueAgBYc5gaOQaM3fX0sa9YTQeZTPo95pU/A/N+SrAdR5kbL+J+IvonNxvjfzj0arhjW2Vshu2O0IuUxLTzELTzEvUPdVVrjmoPplzPUXGV4d3qHuj/frepUNZmIkYnELTzE3UPchnby/vRAWkaxlpP0wBmgBAAAAPZCo6mYOf0tIgprG/7WlBm1hX204tNjRw6rVGVzZ037dvNWnfbW70k3ExOqBxsNhibKFhqCz+f/39ffPzXwmR++3xR3+aJarfb3D+j/2BNvvDW1RWBLrrMDB3ExXRWbUNIr1N182spT8lSk564L+ZaApyI9W3lKLKfHE0vPpZbZOktoMD6PmdQ3wPIFrY2LmO/vLm52JYB6+bmL3hkQ9O6ORK0BVSpoEigBAACAvZBIpCfPXak3LKBF4M30PMvp6LHjR48d35R5wb0aPGzE4GEjuM4CHNkPx7MjA13cJHzz6dBO3ieTSnNKdUTk5yYa1rlyfVCV1vjDf9ncZAkNM66nX/Xxf1qhNqdUxzCkkAmCPSV860kdzVB2ie56Tnlemc5gZBVyYZdWrp5yoeWqt6uwSyvX2IQSDjMEB4YSAAAAAAA0byqt8YfjWW8+Gmg+FQmYV/r4L92TQkQT+vgL+ZXDxc3Hs0srMDnIfkUHu/YLV1i3XMlSfxubnWk1MV4i5PVs4/50VLPc+fVShvpiTGJa4R3z/LecyHn3qeBwP5mlJVAhtnlq4CxQAgAAAACAZu94YmmPNmWdg1zNp+385Y+EKxiidv5yS8zFdNUx3Fm1b8Oj79jS9XKGesW+1CrL42n0poPXio7GFyut7pzXppWXJLKFS7CnJMBD5CLmy0R8IZ/R6E35Kn1iXkVsQsn17PIaX9jWV9a3rUeoj9TTRSgW8Cp0RpXWaF6MMClfcyFNVa4z3kVwamHVtSqJyGBij9woti4B6I1YERCaCkoAAAAAAOAIvonNaucvlwpvbXr9fFcfosr7/1qDadOxLI5SgwYJUkosq/oTkdHEbjiSWdvy+Hoja37Wo25Ptves/liBXMyXi/nBnpJ+4Ypj8SXrj2RU+UtGPeQzKMqr+kt83UTmotIn+9MsK0o0Krg2fu4i69Pqu1oA3C88rhMAAAAAALgPitSGn0/mWE5lIr5MVPm77tZTufkqPRd5QUNFBMitTy+kqwrUTf4l6x3mPqyzj3VLuJ+sypC+Do0Krk4k4Pm5iYZ08hoYWflcQ2JeBVashKaDWQAAAAAA4CAOXi3q0cbdekK1WUJuxf4rhZykBA3ne+ed8Picint/T5al69nlp5PLUgo0ReV6g4mVCvmtvCTPRHlZbrw/0V65+2K+ZZ/I6FaulpenFWq3nMzJKdUxRB4yQZCnJCJAHtnCxRLQqGALPo/57uV21duNJvZkUummY1l4DACaDkoAAAAAAOAgWKKNRzNXjAhl7lwwfuPRTBaDKrvnentPB7OS+7Fw48ajmYaqjxLoUws1qQWaxUNDzOcSIS/MR3YpQ2U+dZNUDpEOXS+6mH6rPbtUdy27fH9coVTIs2xJ0Kjgel1IV+25WFChx3aA0IRQAgAAAAAAx9HWV8ZUG3C19ZWlF2lrCgcHZzCxQj4TGejygJ/Mz00kE/GEfB5DxLtzWO7nLrqUceu42Kr0MKSjl4uYn1ygySzS5pbpzMUE6yF6o4Lr1TnItVOQ6y8nc3ZfLGj8ZwVoEJQAAAAAAMBBuEsFL3Tzrd7+fDffc2llRWpsB2jXyjRG61N36X0YqnQIdJnYJ0Ahr+et5OLKZSNOJZVansx3kwqGdb61SYHeyCYXaC6kqQ5dK7LMUGhUsIXRxC7anUxEfB7jKRd2CHTpHuJmLl0xRM919U0v0p5PU93D5waoFZYDBAAAAAAHMbann4uYX71dKuSN7+lv+3ygUaqs8B/mK73HNwxUiKc/3rLe8T8R8aymjiTkVmw5kVN9JwIhnwnzkY6I9l75bOiDtzebbFSwtevZ5dezy69kqo/GF689lP7l4XTrqwM7eFZ/CcB9gRIAAAAAADiC6GDXbq3dLKcJuRUJuZXryXUOdu0W4lbT68BexGWorU+jAl2UcuG9vOGTkZ4Cqwn/ey4VTPslftymq2M2Xnnzxxt1vHDPpYKZ2xJjzuZdzVJXmZtARFIhb2LfAOaugmtzPLG01Oq1gQpJHcEA98JJHwQoKjcUqvVOviqMVMSXCJiicmefEecmFZhYVlXt/2tno5AJKvQmjdMvPxPiLW3wkj3QeAxJRHyhANVnRyAXC/S1bNYNzYWD/W8nE/Fe6lV5n99gYs1LAC4ZFmIZBI7r4ReXoVZpnf2Hvt1KK9SkFWpbKsXmUz6PmdjXf+W+tOr32IlIyGeUcmGViQNVtPaqHEinFGi2nKjcM9Lvzt0Hqsst08WczTMfS4S8QIX48Qhlzzbu5hZvV6GfuyirRHcXwTXiMWRdrZCK8LMSmoqTlgAUMkFiXkWN/5s4jwAhz1UiSMi7D7utNGueLkKTiWyw66ydC/AQlWmN6IdQn3udcwh1YUlvMBmMTv1/r4OQkN7I6gzOXjRs7hys4vlcV1+FrPI329/P55vX/9t5Ln9E9K3Hs92kgtHdff/vn0xuUoT6sEQ7zuZO7d/S0hLZwmXWE0HfxGZlW42fJUJezzbuT0d57r1UeKDOvR6F/MqBdJWfPU9F1jrT3tdNVKYxlOsq/4vT6E0JuRVlmjzLqJ6IzI+cNCq4tZe0Q6D88PXiKqsDMERDOnnLrIb9+WXO/isZNB0nLQEQ0fp/Mqz/rTqhQVFe/dspvvg7vf5QhzbtsZZag+nLQxn1hzq0JUNDDl8r+utqEdeJcKzbKw9ynYIjY1k2r0Sr1jj75CMHoHQVZRZWaHS4ldq88XmMh0s9N0Kbi3b+skfDFZbTjGLt7+fzzce7LuR3be0apLx1N7hPmMe/CaWW7d/A3pxOLjt8vfiRBzwsLREB8hUjQ9MKNTmlOoYYpVwQ7Clp4DZ7OaU6/9t3+1t5Sp59yCc2vkQu5g+IUEYHu9b2qk5BLiO7+JxPU8VlqDOKtSUVBqOJ9XIRDuzgZR1WWG5obLBczBvZxWdEtE9CbvnNfE2RWs8SKWXCjkEuvm53/GM8kVTakA8IcBectwQAAAAAAA5AyGcm9K581pplaeORyq3gjSZ2w5GsBYNbW8aML/f2f3dHohbTWOzVN7FZYgGvR5vKhRsYoiClxFLHabij8cUdW7pYTp+J8nom6tbIvKTCUMeOA2IBr1trN+ulJaq4nl1eoNLfRTARMQyF+crCfGW1xWeX6HZdyK/tKsA9wkMmAAAAANCMDevsbf1c94ErhfG5dzznmJRfsfdS5S7r3q7CkV18bJcfNJLRxK49lP5NbFb1vfSsqbTGrBJt3W914mbpkRvF1dsL1frPDqTddYZZJbp1/zR0AmmjgonofJpq4e5kLM8ETQezAAAAAACguWrlKbF+qLtApd96Ord62I6zudHBrpZKwYAI5fGbJYm5zr4ikj37+2rRkRvFXVu7tW8hb+MtdZMKpEKe3sgWqvUpBZrzaarTyWUNmcqx/kjm1azy/7VTtFSKGaJ8lf5MStnuiwV1PEnwz/XirBJdmI+0jY/UUy50kQjkIp7RxJZUGNMKNWdTy44llFjWtWlU8NWs8gW7ktv5y8L9ZF4ulcFqnSm7RJuQW3EyqSwpH9+W0LRQAgAAAACA5iq5QDNu09V6w3QG9p1tCTbIB+4jvZGNTSiJTShpSPDcmJu1XToaX3w0voa5AGM2XqkxvkJvupCmupDWoAUjGhVsNLHxOeXxOeW/NyQaoGngQQAAAAAAAAAAp4ASAAAAAAAAAIBTQAkAAADsSF5Odq+o4KgQxeQJo2qL2fjlqqgQRVSI4vjRg7bMDRqLZdmb8dd3bv9x0bzpowY93DnMOypE0b19C67zAgAAcF5YC6BmEiFv+fA2ni5C86nRxM7/PSk5X1MlrJWXZOHgEMtqIoVq/aztiQ68gKeAz3Rr7RYRIG/jI3WVCOQins7IFqr1SfmaC2llZ1JUOqtFWZYOC7Hs3RKXqV72RwpHWd9/6Acz9AM0BW9fvymz5i95f8bRQ/v37Y4Z8PSwKgGpKTfXf7GCiAYOHtmjTz8ucoSGSktNGjqgO9dZAAAAQCWUAGqm0Zu+PpY164kg8ymfx7zSJ2D+b0nG23vMWhqtVxP9Jjbbgcf/j4YrhnX2Vsju+J6R8pgWHuIWHuLeoe4qrXHNwfTLGWquMrQN9IMZ+gGazsgXxu/Z+cv5MyeXL5zTo08/N3cP66sL507VajUeCuXM95dylSE0ln9AYGTHLhlpKXGXznGdCwAAgFPDgwC1upiusl6AtMqWM0T0VKRnK0+J5fR4Yum51DLb5WdDfB7z+iMtJvT2rzLeq8JFzPd3F9ssK9tDP5ihH6CpMQwzf+nnQqGoID931bIPrC/t3Lb51PGjRDRj7mKF0oujBKGhlEqv1et/Onjy+p/HLq1Y801kx2iuMwIAAHB2mAVQlx+OZ0cGurhJ+ObToZ28TyaV5pTqiMjPTTSss7clUqU1/vBfNjdZNr1xPf16hbpXaUwr1OaU6hiGFDJBsKeEX8fmqo4C/WCGfgAbCAl7YPyrb69fs3Lnts1PDx3VpVsvIirIz/1k6ftE1K3nw88Mf946/o/ft584dvhq3IW83JzSkmKZXB4S+sATg4aPeH6cUCji5jMAkYur2yP9n+Q6CwAAAKiEEkBdVFrjD8ez3nw00HwqEjCv9PFfuieFiCb08RfyKwc5m49nl1YYuMmyiUUHu/YLV1i3XMlSfxubnVmstbRIhLyebdyfjvKs9mrHgX4wQz+AzUyc/M6+PTtTkhIWzp26fe8xkUi8fOGc0pJisUQyb8mqKsH/9/nHyTfjZTK5l7evt69fXk72+TMnzp85sSvm5w0//iaXu3DyEQAAAADsDUoA9TieWNqjTVnnIFfzaTt/+SPhCoaonb/cEnMxXXXM6pEBBzM82tv69HKGesW+VOs1EYhIozcdvFZ0NL5YKRfW+4atvCSRLVyCPSUBHiIXMV8m4gv5jEZvylfpE/MqYhNKrmeX1/jCtr6yvm09Qn2kni5CsYBXoTOqtEbz4nNJ+ZoLaapynfFePmnd0A9m6AewGZFI/MHSz155YVBKUsKGNSs7dHpo3+4YInrt7dlBwSFVgt96Z17rNm1DQh9gmFvF2dMnYmdOHh938ezGtZ9MmTXf1tkDwH0iE/GVcuFb/wvkOhG4V+F+MrGAhy+lA2jlJak/COwYSgD1+yY2q52/XCq8tW7C8119iCrv/2sNpk3HsjhKrckFKSWWVdyJyGhiNxzJrDLes9AbWfNTEnV7sr1n9WnkcjFfLuYHe0r6hSuOxZesP5JR5S8Z9ZDPoCiv6i/xdROZyzGf7E9rurUY0A9m6AewsS7deg0eMXrnts2b1q32UCqJqG14xLiJk6tH9n/imeqvnfTWzI8+nPXv0YMoAQA0X1IRz0XM79bajetE4P7AlxKAc1gOsH5FasPPJ3MspzIRXyaq7Letp3LzVXou8rKFiAC59emFdFWBusk/bO8w92Gdfaxbwv1kVcZ7NoZ+MEM/gO3NmLvI08vHYNDn5+bweLz5y1bz+Q0tXguFQiISi7EsJUAzJhFgcRkAgPsJswAa5ODVoh5t3MP9ZFXaE3Ir9l8p5CQl2/B1v2MZrficint/T5al69nlp5PLUgo0ReV6g4mVCvmtvCTPRHn53f7rnmiv3H0x37LDYnQrV8vL0wq1W07m5JTqGCIPmSDIUxIRII9s0bQP+qIfzNAPYHtu7h49+/bbFfMzEfV/cnD7qIYuKX/jWtzXX31KRA//D8vRAQAAANyCEkCDsEQbj2auGBHK3FmJ3ng0k615ErSDcL29G4JZyf1Y8nDj0UxD1anj+tRCTWqBZvHQW8/3SoS8MB/ZpQyV+dRNUvmNeuh60cX0W+3Zpbpr2eX74wqlQl6TLkGPfjBDP4DtxV08u2fnVvNx7OEDudlZPn7+tQVv/XHTvt0xBoMhPy8nPTWZiAYOHvnihDdslCsANAGDkdUZDEnZaq4TgXvVwlMmFDDJOfhSNnshfi5SMb/+OLBXKAE0VFtfGVNtTNHWV5ZepK0pHGplMLFCPhMZ6PKAn8zPTSQT8YR8HkPEu3PM5ucuupRx67jYaqg5pKOXi5ifXKDJLNLmlunMg8eK2/eHmxH0gxn6AepgNBoWzJliMpn8AwILC/PVatWyBbM+/eqH2uLTUpJOn4i1nD4/duKb098TifAgAEDzxrJU27oz0IwYWZZnwpfSEZgc+xaoE0AJoEHcpYIXuvlWb3++m++5tLIitWNuB0hEZZo71lR3l96Hb5gOgS4T+wQo5PW8lVxcueDCqaTSgZG3dphzkwqGdb61KL3eyCYXaC6kqQ5dK7ovd6Rrg34wQz+AjX23Yc31q5eJaP6y1VfjLq7+eMHBfbsP/7W3tq3mZ8xdNGPuIp1Om5meuvvXX77bsObQgT/WfrMttG072yYOAAAAYKewHGCDjO3p51LTdBepkDe+Z61TUh1AlRXdw3yl9/iGgQrx9Mdb1jveIyKe1aSLhNyKLSdyqpeNhXwmzEc6Itp75bOhD/rLqcmgH8zQD2BL6anJ6z5fTkQDB4/s0affuImT24ZHENGy+TPLy+uaRyoSiVuFhE2eMW/2/I+yszLefwcPAgAAAADcghJA/aKDXa33L0nIrUjIrVwFrXOwa7cQh93dJC7jjt+zowJdGrLTex2ejPQUWE3w3nOpYNov8eM2XR2z8cqbP96o44V7LhXM3JYYczbvapa6yr1oIpIKeRP7BjTdw9/oBzP0A9jSovemaTUadw/FzPeXEhGfL/hg6Wc8Hi87K2PtqiUNeYenh4zi8XhXLp/PzsqoPxoAAADACeBBgHrIRLyXelXe5zeYWPMSgEuGhViGLuN6+MVlqFXaquMQB5BWqEkr1LZU3nqSls9jJvb1X7kvrcbnuIR8RikX1r0VfGuvyl3lUwo0W05U7rbod+dq89XllulizuaZjyVCXqBC/HiEsmebW1vKe7sK/dxFWSX1b0R/F9APZugHsJldMT//F3uYiKbPWahQ3toDMrJjl2dHv/zzDxt/+m7900NGtWsfVfebiCUSoVCk1WoKC/L8/Fs0edIAAAAAdg+zAOrxXFdfhayyUPL7+fz0Im1GsXbnuXxLo5tUMLp7DSsFOACWaMfZXOuWyBYus54IqjI8kwh5/cIVy0e06RBYz2ZsQn7lt1yVUeNTt5/urs7XTSQT3fG9qtGbEnIrdpzJs26s8WGN+wL9YIZ+ANsoLipYuWQeEXXp3nvIyDHWl96e+YG3r5/JaFw4d6rJWE/h9b/Yw1qthsfnB7Zs1YTpAgAAADQfmAVQl3b+skfDFZbTjGLt7+dvjfx3Xcjv2to1SHnrHmafMI9/E0otm5Y5ktPJZYevFz/ygIelJSJAvmJkaFqhJqdUxxCjlAuCPSUN3IMtp1Tnf3u42MpT8uxDPrHxJXIxf0CEMjrYtbZXdQpyGdnF53yaKi5DnVGsLakwGE2sl4twYAcv67DC8iZcAQ79YIZ+ABv4eNHc4qICkUj8/uJVVS7JXVznfPjx9NfHXrl8fsv3G0aPf42ITh0/evpk7LBRY339AsxhJqPxwN7fli+cQ0SPPzXYzd2DgCOJ8dfUqls/HAvy84jIZDJdPHfaEhAeEYldG+Ae5eVkD3m8m6qstM+jj6/5+pcaYzZ+ueqLlYuIaN13O3r06WfbBKERWJZNSrhx8cLpS+fPXL5wJv7aFaPRIJXJ/ruMR7oA7g+UAGol5DMTelc+TsyytPFI5QbmRhO74UjWgsGtLSOdl3v7v7sjUWtwwN3IvonNEgt4PdpULnnAEAUpJZYKSMMdjS/u2LLyzvAzUV7PRN0atpVUGOpYYV4s4HVr7Wa9KEMV17PLC1T6xubTKOgHM/QDNKnjxw7t2bmViCa+OaNVSFj1gP8NGPRI/ycP/7V37aol/Z98xtcvoLi4cN3q5etWL/cPCPT09i0vV2VnpJuXDOwY3W3eoqp1BLCl+bPfunT+tHWLVqN5cfhjltNdh84EBYfYPC9wKN6+flNmzV/y/oyjh/bv2x0z4OlhVQJSU26u/2IF3V5elIscoaHSUpOGDujOdRYAjgwPAtRqWGdv6+nNB64UxlutAkhESfkVey8VWE69XYUju/jYLj8bMprYtYfSv4nNqnujNZXWmFWirfutTtwsPXKjuHp7oVr/2YG0u84wq0S37p8mrw2jH8zQD9B0tBrN4nnTiSgktO3416bUFjZnwQqZTK5Wqz76cBYRdX6ox/Q5C3s/0p/H5yfcuJKWnOTi5ta334Cln67/5pc/XN3cbfcBAIAjI18Y3zG6KxEtXzintKTqT5aFc6dqtRoPhdK8vCg0C/4BgY8/NSQishPXiQA4GswCqFkrT4n1o8gFKv3W07nVw3aczY0OdrVUCgZEKI/fLEm8s1LgMP6+WnTkRnHX1m7tW8jbeEvdpAKpkKc3soVqfUqB5nya6nRyWUMmQaw/knk1q/x/7RQtlWKGKF+lP5NStvtiQR0zx/+5Xs50wycAACAASURBVJxVogvzkbbxkXrKhS4SgVzEM5rYkgpjWqHmbGrZsYQSg7GGFemaAvrBDP0ATUEskew5fK7eMD//Fscvp1tOPb18xk18a9zEt5oyNbhLm2MOcJ0COAWGYeYv/fzZp/sW5OeuWvbBhx99brm0c9vmU8ePEtGMuYsty4uC3VIqvVav/ymyY7Snlw8RLZs/M+5S/T8XAKDhGJZ10l+UJ31/rVzngJP2G25QlFf/doopP8dznQjHpj3WUmswfXnI2W8aLxkacuha0V9Xi7hOhGObX3mQ6xQcmcnEJuWo1Ros09DsdWjtcSOjTKNzwK1wnAqfx0QE2/s0GY3OaDSxiVkNWm5p7aol69esZBhm40+7unTrRUQF+blDHutWWlLcrefD6zfvtA6+mXDj3yN/X7l0Lu7S+ZSkBJZl3/3w4+fHTmySjwFELbxkQj6TnKOuP9TKsvkzf/5hI9YCsCtt/F3kEtxIbpYYhiE8CAAAAAAAjmHi5HeCW4eyLLtw7lSdTku3nwsQSyTzllRdFuSXHzasWDx3z2/bkm/GO+0tMQBwQigBAAAAAIAjEInEHyz9jGGYlKSEDWtWmlcHJKLX3p5dfdXJsPCI8a9O+fjzr3cdOoM1AgHAeWAKBwAAAAA4iC7deg0eMXrnts2b1q32UCqJqG14xLiJk6tHjnj+JcuxeXIsAIAzwCwAAAAAAHAcM+Yu8vTyMRj0+bk5PB5v/rLVfD5uegEA3IISAAAAAAA4Djd3j559b03s7//k4PZR0dzmAwBgV1ACAAAAAADHEXfx7J6dW83HsYcP5GZncZsPAIBdQQkAAAAAAByE0WhYMGeKyWTyDwgUSyRqtWrZgllcJwUAYEdQAgAAAAAAB/HdhjXXr14movnLVr/29mwiOrhv9+G/9nKdFwCAvcDiKHCf+buLQn1kYb7SUB9poELCu73CromlsV9f4TQ12+HzmAf8ZO38ZSFeUj93kbtUIBLwNHpToVp/I6f86I3i+NwKrnO0BXepoH0LeaiPtJWX1F3Kd5UIRHxGa2CLyvVphdpzqWX/3Sw1mrAVMwAA3B/pqcnrPl9ORAMHj+zRp1/Xnn33/r79xrW4ZfNndu3ZVyaTc50gAAD3UAKA+0km4q8YGcp1FtxbPryNn7uoSqNMxJOJxIEKcb9wxbGEko1HMw1GBx/99g51f76bb5VGmYiRicQtPMTdQ9yGdvL+9EBaRrGWk/QAAMDBLHpvmlajcfdQzHx/KRHx+YIPln42dsSA7KyMtauWzJy3lOsEAQC4hwcBAO4/saCef1m9Q91f7dvCNsnYMz930TsDgurtLgAAgHrtivn5v9jDRDR9zkKF0svcGNmxy7OjXyain75bf/XyBS7zAwCwD/jNG5pEuc54KUOVVaLjOhGOJeVr9l4q+OVU7sFrRRV6k/WlHm3cwnxlXCVmS9klun9uFG8/k/vzyZx9cYUFar31VW9XYZdWrlzlBgAAjqG4qGDlknlE1KV77yEjx1hfenvmB96+fiajceHcqSajkaMEAQDsBR4EgPtJZzStP5KZkFuRVaxliV5/pIV/tfnwzsBEbGxCya4L+elFlVPcfz2bt3BwiEJe+Y8uOtg1PqeciwRt5FKG+mJMYlrhHfP8t5zIefep4HC/yvJHoEJs89QAAMChfLxobnFRgUgkfn/xqiqX5C6ucz78ePrrY69cPr/l+w2jx7/GSYbQcInx19Qqlfm4ID+PiEwm08Vzpy0B4RGRIhF+eQC4SygBQP3a+sr6tvUI9ZF6ugjFAl6FzqjSGgvV+qR8TVK+5kKaqlx3q6ZuMLJHbhRzm23TaXg/rPgz1Xrwb1ZUbvj1XN7Lvf0tLd4uQttlf/80vB9SCzXVX24wsUduFFuXAPSOviYCAAA0qePHDu3ZuZWIJr45o1VIWPWA/w0Y9Ej/Jw//tXftqiX9n3zG1y+AiOIunl324WxzQFLiDSL6fuMa8/uIRKJNP++x3QeAO82f/dal86etW7QazYvDH7Oc7jp0Jig4xOZ5ATgIlACgHqMe8hkU5WXdIhfz5WK+r5uonb+ciD7Zn3YutYyj7GynUf1Qffxvlnnnundag6nGMHt2X74fqqyVmJxfQ6UAAACgIbQazeJ504koJLTt+Nem1BY2Z8GKk/8eUatVH30469N1m4morKy0yjgzMz01Mz2ViHCHGQAcGEoAUJdwP1mV8Z5zul/94ON2x9C3tkqB3brHfhAJeEqZoHsbt4GRnpbGxLwKZyghAQBAExFLJHsOn6s3zM+/xfHL6dYt3Xs9cuFmUZPlBXdvc8wBrlMAcGQoAUBdoq3WaUsr1G45mZNTqmOIPGSCIE9JRIA8soULh+nZzH3pBz6PeaK90nJqMLGxCSVNkm6Tubt+4POY715uV73daGJPJpVuOpaFxwAAAAAAAGwDJQCoi5uk8jvk0PWii+m3lmbJLtVdyy7fH1coFfL4PIaj7GznvvTDSz39gpQSy+mvZ/NKKgxNkW3Tub/fDxfSVXsuFlTZKAEAAAAAAJoOSgBQl2KrMeqQjl4uYn5ygSazSJtbpjOxREROMn67x37gMTShT8DDbT0sLf/dLP39fH6T5dtU7u/3Q+cg105Brr+czNl9seC+pwoAAAAAANWhBAB1OZVUanls200qGNbZ23ysN7LJBZoLaapD14qa3a3su3Av/SDgM2/1C4wOrpxCfyal7KvDGc1x9vvd9YPRxC7anUxEfB7jKRd2CHTpHuLGMEREDNFzXX3Ti7Tn01S2+xgAAAAAAM6Kx3UCYNcSciu2nMgxmqoOV4V8JsxHOiLae+WzoQ/6yznJzZbuuh+kQt7sJ4Ksx/+xCSWf/51e/a2ahbvuh+vZ5dezy69kqo/GF689lP7l4TsWZBrYwbP6SwAAAAAA4L5DCQDqsedSwcxtiTFn865mqcs0xipXpULexL4Bjr8YwF31g5tU8N7TrdpZDYn/vFy47nBGMx3/m92X74fjiaWlVq8NVEjqCAYAAAAAgPsFDwJA/XLLdDFn88zHEiEvUCF+PELZs427ucXbVejnLsoq0XGXoI00qh+8XYWznwj2c6/cBfCXU7m7LjS/5/+ru/fvBx5DAqtVA6Ui1CIBAAAAAGwBv3lDXXzdRLI7h2cavSkht2LHmTzrRhcx37Z52Vpj+yFQIf5gUGvL+N9oYtcfyXSA8X+j+qG1l3RwRy93adU6I0M0pJO39fvkl+mbLGUAAAAAAKiEWQBQl05BLiO7+JxPU8VlqDOKtSUVBqOJ9XIRDuzgZR1WWF65AtzTHTwF/Fs3eFsqxZZ2hmhIp8pXHU8szSltNhMHGtsPs54IUsgq/3GVaoxdW7t1be1W5W3zy/Tf/pvV1MnfR43qB7mYN7KLz4hon4Tc8pv5miK1niVSyoQdg1x83UTW8SeSSm36MQAAAAAAnBVKAFAPsYDXrbVbt2rDV4vr2eUFqsq7uEM7e4sFNcwuYRgaEe1jOU0p0DajEgA1sh8kwjumRShkAoXMpfpL0ou09zdJG2js9wPDUJivLMxXVlt8donOAeZHAABAE+HzGAGf19K71p8j0FzIxQIej8GX0gGIhZhI3ryhBAD3JKtEt+6fDK6z4B76wayx/XA+TbX+SKZGb2q6lAAAoFnj8Rgew7hWe6wMmh0+jyF8KR2CgI8SQPOGf4RQl3+uF2eV6MJ8pG18pJ5yoYtEIBfxjCa2pMKYVqg5m1p2LKHEYGzG69s3EPrBrFH9cDWrfMGu5Hb+snA/mZdLZbBaZ8ou0SbkVpxMKkvKr+D2EwEAgJ1jWdZgYotUzWnmINTIVSbkM0yxGl/KZs/DRSSqac4vNBcoAUBdKvSmC2mqC2mqhr9kwrfXmi4frjS2HyZ974CdQI3sB6OJjc8pj88p/72p0wIAAAAAgIZB/QYAAAAAAADAKaAEAAAAAAAAAOAUUAIAAAAAAAAAcAooAQAAAAAAAAA4BZQAAAAAAAAAAJwCSgAAAAAAAAAATgElAAAAAABoxrKzs8KC/XwV0jGjhtUWs3rVx74Kqa9CevjgX7bMDe7abzHbRwx56sGwlkH+iu7R7ee9+05GehrXSQE4ApQAAAAAAKAZ8/Pzf2/+QiI6sH/vbzHbqwck3Uz8ZMUyIho+8rlH+vW3dX7QSCaT6dUJYydNePHoP4cK8vO1Gk3SzcQN/7f20d5d/409ynV2AM2egOsEOBPsKdHoTVxnwSWlTCjgM629JFwnwjG5iC9EPxDJRXx/DzH6AQAAmqNx4ydu/2XLqZP/vTdnxsP9+nt4eFhfnTH1Ta1Go1AqFy1dwVWG0HAfLf5wZ8w2Iho8dPhrb0zx9PI6eeL4wvlzc3Nyxr846tCxUwEBLbjOEaAZY1iW5ToHAABwCiYTm5SjVmsMXCcC96pDa48bGWUanZHrROCe8HlMRLA711nUw2A0sSwVqXT1Rt64frVf3+56ne6FF1/69POvLO0/bf5u2luvEdHnX24Y9fyYJswV6uQqE/IZplhdz5cyIz2tW3R7vU43eOjw9Zs2W9rjb1zr17e7TqsdPXb8qtVfNnGyUBcPF5FIgLnkzRLDMIQSAAAA2BJ+5DgGBl9KR8FwnUC9Gl4CIKKPliz4dOVHDMPE7NrXs1cfIsrLze3dLaq4uLjPw49u3/mHJZJl2f+Ox/75x67/jscmxsdrNBVeXt4Pdes+YdIb3Xv0aqoP49waWAJY8dHilcuX8Hi8k+eutAwKtr707jtTv/n6/0Ri8bXEdLncpSmThbqgBNB8oQQAAAAAAHatUSUAnVb7SO+HEhPi24SGHT52SiQWvzrhxZ0x2yUS6eHYU61D2lgiD/194LkRzxARn88PbtVaLJYk3UzUaCoYhnn3vflTZ8xuqs/jxBpYAhjQr9f5c2eju3T948A/VS4d//fYkIGPEdE3P/zy1NPPNFWiUB+UAJovcwnAedcCyC/VOnn1Qyrmy0T8grIG/Ux1YG4yIRGVluu5ToRjnq4ird6kcvoZ2t7uYq5TAACAuyQSi1d+tnbYoAGJCfGrVn4U/VDXnTHbiWjG7LnW438iYont2KnzhElvPDlwkKurGxFVVJQvW/zh/335xbLFH/bq8/BDXbtz8xmcm9FojIu7TESdu3StfrVT52gej2cymS5eOIcSAMBdc94SQE6Rxmhy6hqAt4dELOBlFVZwnQjHxEKeycSiH1ykgkKVrqBUy3UiHEMJAACgWevZq8/zo8f+tPm7Nas/USo9iejBiMg3Jk+tEtard999B2OtW6RS2cIlH188f+74v8d+3b4VJQBOpKYk63U6Igpu1ar6VYlE6uvrl5WVmRB/3eapATgOTOEAAAAAAMcxf9FH3j4+er0+Jyebx+OtWv2lQFD1ppdYXPMOON169CKi7OzMJs8SalJUWGg+8Pb2qTHA28eHiApvhwHAXUAJAAAAAAAch4eHx6P9HjMfDxo8tFN0l4a/Ni01hYgCAgKbJDOoT3m52nxQW41GIpESkVqtsl1OAA4HJQAAAAAAcBznz57ZvnWL+fjvA/uzshp6Sz856ebuXTuJaMjwkU2VHNTJsk45U8tmFeYAprbLANAAKAEAAAAAgIMwGAzTp7xhMplaBLaUSKQqVdncWdMa8kKtVvPaxHFajWbkqBe6PNStqfOEGlm2+tNoNDUGaLUaIpLJ5LbLCcDhoAQAAAAAAA7iqzWr4y5fJKJVq798Z/Z7RPTH7t/37d1d96sMBsNrr4w7d+Z0ZIeo5Z+stkWiUBOFUmk+yMvLrTEgLzeXiJS3wwDgLqAEUKu8nOxeUcFRIYrJE0bVFrPxy1VRIYqoEMXxowdtmRsn9u2OmTRmyCNdwrq28x/0aPTyhe9mZaZznRQHnLwfWJa9GX995/YfF82bPmrQw53DvKNCFN3bt+A6LwAAAEpJTlq5fAkRDR/53CP9+r8+ecqDEZFENGfmtDqeHjcajW++Ov6P3b+Ht4vYGrPHciMabC8ouJVQJCKi1JTk6le1Wk1OTjYRhYY9YOvMABwISgC18vb1mzJrPhEdPbR/3+6Y6gGpKTfXf7GCiAYOHtmjTz9b52dDJpNp9pQJs96ecOLff4oK87VaTWrKzZ++/b+RT/U+fSK2/tc7CvQDEaWlJg0d0H3+rMnbf/rmWtxFo9HAdUYAAAC3vDNtskZT4aFQLFq6gogEAsEnn63l8XgZGekfLVlQ40uMRuMbk8bvjNke1jZ8x297lZ6etk0Z7sDn8yMi2hPR2dOnql89d/aMyWQiog5RnWydGYADQQmgLiNfGN8xuisRLV84p7SkuMrVhXOnarUaD4Vy5vtLucjOdtZ8svjPXTFE9PjAoZtjDuw5fG7JJ+u8vH3LSkumv/5ijtNsnIN+sOYfEPj4U0MiIvEzGAAA7MLWn388cvggEc1fuMzTy8vc2LnLQy+9PImIvl7/1cUL56u8xGAwvD5x3M6YbaFhbWN2/enl7W3jnKG6/o8/SURnz5zKSE+rcum3mO1EJBKLH37Uke+9ATQ1lADqwjDM/KWfC4WigvzcVcs+sL60c9vmU8ePEtGMuYsVSi+OErSFrMz07zeuJaLHBw5d8cWmyI5dAoNaPT101IYffxeJxCXFRetWL+c6R1tAP5gplV6r1/908OT1P49dWrHmm8iO0VxnBAAAQIUFBfPnzSainr37vjBmnPWluR8s8PPzNxqN70x9w2g0WtoNBsMbk1767dcdoWFtY3bt8/HxtXXSUJMXxowTikQmk2nRh/Os2+Pjr/+4+VsiGjnqBTysAXAvUAKoR0jYA+NffZuIdm7bbJnsXZCf+8nS94moW8+Hnxn+vHX8zYQbmzd9NXfapMH9u3Zso4wKUWz5foPt076Pdm7brNfreDzetNkfWreHhLYd+uwYItr96y+WTVwdGPrBzMXV7ZH+T3p6+XCdCAAAQKX3584sLCgQicUrVn1R5ZKrq9vSjz8logvnz23a8JW50Wg0Wo//fX39bJ0x1KJFYMs33pxCRL/u2PrqhBfPnz2TmpK8Y9vPwwc9odVoPBQK8yqPAHDXUAKo38TJ7wS3DmVZduHcqTqdlm4/FyCWSOYtWVUl+JcfNqxYPHfPb9uSb8ZbtjZt1o4e3E9E7aM6BwQGVbk04OlhRKTTaf87eoiDzGwL/QAAAGCf/jn09/atW4ho2ozZoWFtqwcMHDR4wJNPE9FHSxZmZmYQUcz2X377dQcRmUyml8Y8++Rjfa3/THlzkm0/Adxh9nvzhwwbSUQ7Y7YP+F/vhzq2e2PS+JycbHd3j2++/zkgAIsQA9wTlADqJxKJP1j6GcMwKUkJG9astKwO+Nrbs4OCQ6oEh4VHjH91yseff73r0BkHWCPQZDTeuBZHRJEdu1S/2r5DZx6PR0RX4y7YOjPbQj8AAADYJ42mYub0t4gorG34W1Nm1Bb20YpP5XIXlaps7qxpRKTTas3tNxMTzp4+VeXP1SuXbZM81IjP5//f19+v//qHPg8/qvT0FEskrVqHvDLpjUPHTvbs3Zfr7ACaPQHXCTQPXbr1Gjxi9M5tmzetW+2hVBJR2/CIcRMnV48c8fxLlmOGYWyXYtNIT0/R63VEFNiyVfWrYonEy8c3NzsrKTHe5qnZFPoBAADAPkkk0pPnrtQbFtAi8GZ6nuV09Njxo8eOb8q84F4NHjZi8LARXGcB4IAwC6ChZsxd5OnlYzDo83NzeDze/GWr+XzHL6CUFBWaD5SeNa+Ra34mvLi40HY5cQH9AAAAAAAADgAlgIZyc/fo2ffWxP7+Tw5uH+UUC6FXVJSbD0RicY0BYrGEiMrVDr4MHvoBAAAAAAAcAEoADRV38eyenVvNx7GHD+RmZ3Gbj21YVjSs/aEGts6rDgL9AAAAAAAADgAlgAYxGg0L5kwxmUz+AYFiiUStVi1bMIvrpGxBJpObD7QaTY0BWq2WiKQyme1y4gL6AQAAAAAAHABKAA3y3YY1169eJqL5y1a/9vZsIjq4b/fhv/ZynVeTc1cozQeFBXk1BhTk5xKRh4fSdjlxAf0AAAAAAAAOACWA+qWnJq/7fDkRDRw8skeffuMmTm4bHkFEy+bPLC938Ge/AwODhUIREWX8P3v3Hidj3f9x/DMzuzOz5/PRsqxDSiIUOZZbSkhI7iJyi/yi5JxTzoQSSinVXW6V0FJIUqhtk3JmI6d12LUHu3aXXWZ25/D7Y7S2Pc5iZ3b3ej0f/rj2uj4z3tc1M+z1me/1vRLOFt1qNBrTUlNEpE7d+o5O5lgcBwAAAADVAC2Ass2aPMpoMPj4+o2bOldENBqX1+YuVqvVyUmJyxbNcXa6iqXWaGz9jsMH9hTdGndon8ViEZE7GzVxdDLH4jgAAAAAqAZoAZRhY/Tq32J3isjoiTP9/ANtKxs3bfFUv/+IyOeffnD0yEFn5qt47Tp2FpHDB/YmXUgotGnrpmgR0Wp1rdo95IRkjsVxAAAAAFDV0QIoTWZG+htzpohIi1Ztn+jTv+Cml8e9FhQSajGbZ056xWI2OymgIzzRp7+rq9ZisSyZP73g+vhTJ9avWSUi3Xr2zZ8trxrjOAAAAACo6lycHaBSWzBrUmZGularmzp7UaFNHp5eE6cvGP1/A/48cuCLlSv6DRrmlIQOEBYeMeD54R+999aWjV9ZrNaBzw/39Qs4sO/3RfOmGo0GH1+/YSMnODujI3Ac8p06cSwnO9u2nJ52UUQsFsuh/TcukWjYqLFWq3NOOABAtaNWq9y0GmenwK1y1ah4KasHjZrbYFdtqvwbnitN3Nkss6W0fd/1y45hA3qJyPBRk4a+NK7YmpFDn9n5wxYPD8/123aHhIaLSNyhffOmXz8VjD91PPvK5fCIWgGBwSKi1Wo/Xr35Nu/GLQjy1Qd6aY+ev1xmpcVsnjh66Hcbowut9/L2Wbx8VYtWbSsmoIPUDvGwWKznLl4ts7J6H4f6NbwuXclNv2wss7J/r4eLnRMh38Yde2tFRt2+aA51Tx1fZ0cAANyQZ7Ko1aprxuo84lIh3HUalUqVYzA5OwhulbvehSZAFaVSqYRRACUxGgyzp4wWkah6DQYNG1lS2cQZC3//9eecnOzXp49/a/kqEbly5XKhs6MLCecuJJwTkar7vahao5m/5KOOD3f9avXKv44euXY1JzgkrO1DDw8c8lJYeISz0zkOxwEAAAczW6y5Jsvp5GxnB8GtqhHo7qpRnUmp5rfTUoK6YZ4ees4iqzBGASiX/aMAqjf7RwFUb/aPAqjeGAVQoXJN1myjyaTsf3urB38P16xrJoX/N1oNqFQS5Kl1dooyGHLNZov1VBItgCqPFkC1QQug6mIUAADAoVQq2X8uOy07z9lBcKv63hf8R/yVrGsM6K3aXDWqXs2CnJ0CAOBQtAAAAA5islh/PZX1V7LSB91UA33vC/7peMb5S0ofN1TVuWvVtAAAQGm4KSAAAAAAAIpACwAAAAAAAEWgBQAAAAAAgCLQAgAAAEAVdjEluU2TyCZRfiMG9y2p5sN3FzWJ8msS5bcrZrsjs6G8rFbr6RN/bVj32awpo/t279CsflCTKL9Wd9dwdi6g+mA6QAAAAFRhQSGhI8dPmzN1TMyO77duin6kW69CBefOnv7g7YUi0rVHnwfadXRGRtjr/Ln4no+0cnYKoDpjFAAAAACqtj7PDGra/H4RmT9z4uWszEJbZ056xWg0+Pr5j5s61xnpcDPCwiM6P/ZEo8b3OjsIUN0wCgAAUFnoXdXze9cN8HS1/Wi2WKd9E38mzVCorHagfmaPKLXq+o+XcvLGrztlyLM4MirKy0WjalnHu1G4R91gNy+9i4dWnWu2XsrJi08zHDx/Ze/Z7FzTjVdwbq+oWv5623LchZx53551UuoyaNSqO0Ld7wxzjwp0C/XR+ri5aF3UhjzLpZy84ylXY45nnki95uyMSqFSqabNXfpUt/bpaamL5r02/fWl+Zs2rF31x64YERkzabaff6DzMsIu/v6BSz74vHHT5gGBwSIyb9q4uMP7nR0KqFZoAQAAKgtDnuWjX5LGP1rL9qNGrXq+Xfi0r+PNFmt+jW1l/vm/iPw3Npnz/0ruoYZ+vZoF+bn/47cON7Wqhq+uhq+ubT2fbKP5ne0JRxJznJXw5szvXTfUR1topbtW7a7VRfjpOjb0++Vk1ocxF0xma7EPx+0VVf+OQS+8/ME7b2xYu6pbz74tWrYRkfS01DfnThWRlq07PN776YL1336zbvcvO4/GHbyYmnI5K9PdwyOq3h2Pdu/95NMDXV0Lv6xwGE8v7wc7dXF2CqA6U24LoFGkj7MjVAr31PF1doRKwdeT/+ylRoBbjQA3Z6eA0h1KyI49mdWm3vV/omsH6B9rHLDxYFp+wWONA2oH6PN/3HXq8v5zVxydEnbTqFVD24fnv6Al8dRpwnx0Va4FoHMp44LKtvV8NCrVsh0JjsmDISPGbt284Wz8yZmTXlm35RetVme7LkCn10+Zs6hQ8ftLF5w5fcLd3SMwKCQoJPRiSvKBvbsP7N29MXr1is++9vDwdMouAEBFU24LICM716rsprybTqNzUWfm5Dk7iJN5urmIVbINJmcHcTIfD1djntmQq/SvUv29aAY53/92JTeO8PTWa2w/9rw36Pf4yymXc0Uk1Fvbq1lQfmW20fy/35KdkxL2Gdg6tOj5//lLxpTLuSqV+Lm7RAboNQUHdVRN8WmGY0k5lw3mIC/XB+r6uLneaA08UNf7+z/dT6RcdWI85dBqda/NXfz8M93Pxp9c8c4b99x739ZN0SIy7OUJtSKjChW/NHZKnboNourdoVJdfwfu2R07bsSguEP7Plz25sjx0xydHgAcQrktAJPZovAWgNmitoqYzEo/5bNaxWq1chysVjFbOA6oFLKN5v/tShr+UITtR62L6vl2YXM3nxWRwe3CXDU3ThdX7Uq+fE3p/bvKrHmkV8eGfgXX/JmU80ls8oVMY/4aRpTWzgAAIABJREFUvau6dV2fbk0CHJ7uNrCINfZk1saDaQkZN/Zo/b6LM3tE+Xnc+BWreaQXLQCHadGyTY8n+21Yu+rj5Ut8/f1FpEHDRgOHjCha2enRx4s+duhL416fPv7XmO20AABUV8ptAQAAKq1dpy4/UPdKs1peth/vDPN4sKGfSuTOMI/8mkMJ2b+czHJSQNild/Oggj8eScxZuPVcwZkdRMSQZ9l+LCPmRKa/h2uZT1g7UN+4hmdkgD7cV+up07hrNa4alSHPkpadd+ritdiTWX8lF3+m3SDEvX0D33rBbgGerjoX9bVcc7bRbJuMMD7NcPB89tVc800UL/zuXMGTf5uMq6b1+y/+p21Y/pogz7J3DbfRmEmzYnZ8n56Wmpaaolarp81botHY+xuvq6uriOh0uooMCADORAsAAFAZ/Tc26c4wj/wB1U/fHyxy4/t/o8ny8S9JTooGu9Ty1+fP6i8iZot1xc8XCp3/58szW23XepSuy90BRS8r8NBpPHSayAB9x4Z+v5zI+uDnxEJ/Sd/7grs3CSz6kBBvra2p9Ob35/NnlChXcdHzf5uCwxxExGhigJVDefv4tm7fcWP0ahHp1KXH3U2a2/nA48fiPnrvLRHp8C+mowNQbdECAABURhk5ptW/pwxqc/2rVHetpuDWNX+kpmUrfSqTSq5RuEfBHw8mZKdX/Owzbev7pGXnrdubmr+mYah7oVP6UpSruBTB3v+YVaSkTgEqSNyhfZs3rLEtx+7clpqcFBwaVlLxms8+3rop2mQypV1MSTh3RkS69ujz7OAXHZQVAByOFgAAoJLafjTjgbo+DUPdC60/mXrt+z8vOSUS7Bfyz7vlnUi5duvPabXKX8lX95y5cjbdkHE1z2SxurlqagfqH28SmH9zvkfv9t90KC3/PpHNa3vlP/z8JeMXv6ekXM5Vifi6u9QK0DcK92hc48bE7+UqLolGrXr0bv/8H00WayxXrDiQ2WyaMXGkxWIJC4+4dCktJyd73ozxb733v5Lqz5+N37M7Nv/HpwcMGT56slbLhQAAqi1aAACASsoq8mHMhYVP1lP9c8L4D2MuKHw+1yrBS/+PgRtZt2Pixg9jLpgKX0qQd+6S4Vy6YXbP6/O9613V9YPdDydm23701t/4VWfHXxmHEq6vT76ceyz56vdxl9xc1fm3JChXcUmeax1a8AqI9fsu3pZ9h50+XfHOX0ePiMi0eUuOxh1asmDG9q2bdv6wpaRbzY+ZNGvMpFm5ucYLCec2rf/y0xXv7Nj27bL/rq3X4E7HBgcAB6EFAACovBqEuKuKnHA1CHFnZLUymSxWV42qcYTnHaHuod5ad63aVaNWiaj/eVoe6qM9nHh9ObPA6fcTTQM9dZoz6YYLGcbUK7m2ZsK1vBsX6peruCi1Sga3C+/QwDd/zW+nL39zIO3mdxjllHDuzPKl80Wka48+D7TreH/r9lu+WXf8WNy8aePub93e3d2jpAdqtbraUfVHjJkSGh4xa/KoqWNf/OKbHQ4MDgCOoy67RKmSk5PqR4aG+Ln179urpJolixaE+LmF+Lnt3P6DI7M5xdfR65584rG76tesFebXqvndU14dm5hw3tmhnIDjYMNxgAP4uLk80zKk6PqnW4YUvOMaKqcrBnPBH33cbsNLdk+E56Kn6o9+uGbXxgHNI73uDPOoF+xWN9itTqC+YJmH7savN3/EX85f9nZz6dUsaPTDNd94qt5Hz9057fE6T9wbVDBYuYoLcdGoRnaqWfD8f+/ZK+/tTGTAiiPNmjzKaDD4+PqNmzpXRDQal9fmLlar1clJicsWzbHnGbo90VetVv955EByUmLZ1QBQBdECKFFoaNjkaTNFZNv3W76OXle0IP70qTcXzhOR3n3+/WDHTo7O50AWi+WFwQOGDn425qcd6WlpRoMh/vSpFe8ve6jt/b/Gxjg7neNwHGw4DnCYAa1DPXWaouvdXNWDWpc4uRcqiUIz/NcPcbvFJ4zw043uXNOe7o+6wNCRk6nXvtidUvROBK4aVf1gtyebB73xVL27/r7ZZLmKC3JzVU94tFbzyBtTCcSezFr6Y0JJd0BARdgYvfq32J0iMnriTD//69M6Nm7a4ql+/xGRzz/94OiRg2U+iU6vd3XVisil9IsVGRYAnIYWQGkGDhpy3/2tRGTyxDGZmZmFto55ZbjRYPDz9581d6Ez0jnO67Onb4heKyI9evbesu3n3/f/+c7yj4JDQrKyMgc92/fCBaW0yTkONhwHOEbzSK+WdbzzfzyZeu1k6o355JpFerWM8i7ucags4hJzCv7YJMLT38P1Vp6wS+MAlwID/jcfTh/15YmBHx/t/+Gfwz87XsoDNx9OH7f2VPS+i0eTcgqNTRARN1f1kPbhqpsqtvF2c5ncrfadBVoD3x25tHxnIuf/jpSZkf7GnCki0qJV2yf69C+46eVxrwWFhFrM5pmTXrGYC7+mhfwWu9NoNKg1moiatSswLgA4DwMpS6NSqRYtfbdj+1YXU1NnvDbxraXv5W/6fNWnsTE/iciM2fMDAm/DDYQqrcSE8+8uWyIiPXr2/uDjVbaVkbXrNL23Wcf2rTIzMt6YP2fRknedmtEROA42HAc4hrtW/VybG9/zmyxW2xSAc3pF5Z8EDnwgNC4xJ9tYxi/0cJbzlwznLxlr+l+fWV2jVg1pH/bG1vPFnhi7alT+Hq6FBg4UUnC0/9l0wxe7U/J/DP3n3QeKSr2SG73v+pe6eld1hJ+ucyP/1nV9bGuCvFxDfbRJWbk3URzk5Trh0ciCAb78I3XjQa7/d7QFsyZlZqRrtbqpsxcV2uTh6TVx+oLR/zfgzyMHvli5ot+gYSLyx66YPb/H9uo7ICQ03FZmMZu3bfl6/syJItL5sR7ePr4CJzl14lhO9vXJONPTLoqIxWI5tH9PfkHDRo25awNw0xgFUIYGd9w54uXRIvLFqk/zBzlfTE2dMfVVEWnX4aG+T9/oNFut1l2//jJtyoRH/tW2Xq2QiGDvpnfVHTKo32+7Yot98irh81Wf5uXmqtXqqdP/cRFd/QYN+/V/TkTWfvl5Tk62k9I5DsfBhuMAx/j3/SF+7jea1N8cSEvIMCZmGjfsv3Fm5e3m0q9VMTMFoJKwiny1L7XgmsY1PMc/WqvQ6breVd2xod/8J+veE1HG/fZcNTd+aSnURXiscUBJjwrx1rpr//HbjiHPcjL12ld7/zHM23bJSbmKRSTCT/da9zr5e2S2WD/4+QLn/46365cdmzesEZEhw8fUjqpftOBfj3S33RFg2aI5KckXRCQz89LyJfM7t270aNvG/Xp26vlIqzZNIse/PDg9LbVp85ZTZhXuI8CRpk146dneD9v+bNvytYgYDYb8Nc/2fpiZGoBbwSiAso0e++o3G746dfLE2FeG7/zlD61ON2XimMzMTL3ebeGitwtW7tz+w7+ffFxENBpNZO06Op0+/vSpbzZEb/x6/auTp70yZoKT9uCW/PD9FhG5t1mLmrUiC23q0evJ/370fq7R+NOO7Y91e9wZ6RyH42DDcYAD3Bnm/lBDv/wfEzON+XOqbzyYdn8dr/w7rrWr7/vrycv5t39DZbPnzJWdf2U+eMeNb1MbhXss7FPv/CVDyuVclaj8PVwiA/Rl3mbPJuVybtjfJ9u1A/RP3RcceyLLQ6d5pJF/wYvwC7m3lmefFsEHzmfHJeYkZhqzrpnMFmugp2vXe/4xgu/SVVN5i0Vk/KO1CvaqLhvM99fxvr9O4UtU0q7kffJrkj37iJtgNBhmTxktIlH1GgwaNrKksokzFv7+6885OdmvTx//1vJVze57YPTEmb/v+jn+1ImTx/80m8x+AQEtWrV9tHvvLt17q9V8SQag2qIFUDatTvfG4mW9uj9y6uSJRW+83vy++zdErxORMRMm1YmqW7DSKtam9zYbPPTFLl27e3l5i8i1a1fnzZ7+/rtvz5s9vU27DraZBaoQs9kcF3dERJq1uL/o1nubNVer1RaL5dDB/dX7lI/jYMNxgAO4alSD29641tpqlQ9/vnEreLPFuuLnpBk96uSfM/6nbdirX50ymkq7VRuc6L+xSToX9QN1b5wVq0Rq+evz+zj2izmR2bTmjZECjzcJfLzJ9TPzrGumUubq17moW9bxblnkzDzfX8lX07PzbqJY7/qP6Sr93F383IsZy8A9LCuUTq/fvHN/mWWhYTV2HUnI/zEgMHjgkJcGDnmpIqPhJq2K3ubsCEB1Ro/TLq3btHu63wAReWfJm2NeflFE7mrU+MURrxQqa9O2/dbtsU/9u5/t/F9E3NzcZ85Z8EDrtiKyft0ax6a+Dc6dPZOXmysikbWLmRRHr3cLCQkVkZMn/nJ0MsfiONhwHOAAvZoFFRwovu3PSycKzAIoIvFp17YcTs//McjLtU+LYMflQzmZLdZlOxL+G5uUdc1USlm20ZyUVcZ58u7Tl38+XnhqXhG5lJO3eNvN35Q0KSt3+U/2DiouVzEAAJUQowDsNW3W69u+33IxNTUlJVmtVi9a8q6LS+Gjp9MV/51Gywfa7Pr1l+TkCxUf8zbLuHTJthAUVPxv2EHBwUlJFy79XVZdcRxsOA6oaLUD9AUv6k7PzluzJ7Vo2Vf7UptHeuV3Ch5p5L/rdNapf3YKUKn8eDTj5+OZ99fxvruGR90gN283FzdXdZ7Zeikn72y64cD57D1nrtgzlOODny8cTbr6rzv9avrrVCJp2Xl7z17ZdCi9lCsJfvorMykrt36wW91gtwAPV0+9i4dWbbZYs66Zz18y7Dt35ZeTWSaz9SaKAQCoimgB2MvX1/ehjg+vWf2ZiHTv0fPe5i3sf+z5c2dFJDw8oqLCVZirV6/f0qmk7oZe7yYi1X76N46DDccBFe1MumHgx0fLLMs1WceuPemAPLiN8szW2JNZsSez7CmeFH26pE0xJzJjThQzFqD/h38WW38tz3LwfPbB83b9u1SuYhEZuvKYnZUAAFQSXAhgrwP79q5b84Vt+cdt3ycl2fuV/pn405s2bhCRJ3r3qahwFcZqvf5dh6qEL1hsBaqSNlcXHAcbjgMAAABQpdECsIvJZBo98kWLxVIjoqZe75adfWXS+FH2PNBoNAwbMtBoMPTp+0yL+1pWdM7bzsPj+rRGBoOh2AKj0SAi7u4ejsvkDBwHG44DAAAAUKXRArDLe+8siTtySEQWLXl37ITJIvLtpm+2btlU+qNMJtOw5wfu37un8T1N5r+5xBFBbzc/f3/bwsWLxVyOKyIXU1NFxP/vsuqK42DDcQAAAACqNFoAZTt7Jv6N+XNEpHeffz/YsdP/jRh5V6PGIjJx3KhSrnk2m83DXxj07aZvGt7ZaE305vyvT6uWWpG1XbVaETl39kzRrUajISUlWUTq1b/D0ckci+Ngw3EAAAAAqjRaAGUbO2qEwXDN189v1tyFIuLi4vLm4mVqtToxMeH1OTOKfYjZbH5x6KAN0evqN2j41ddb/AMCii2r/DQaTaNGd4vIvj1/FN26f99ei8UiIvc0udfRyRyL42DDcQAAAACqNFoAZViz+rOfd24XkWkz5wUEBtpWNmtx33P/GSoiH33w3qGDBwo9xGQy/d+QgRui19ar3yB643eBQUEOznx7dercRUT27f0jMaHwXZe/jl4nIlqdrsNDHZ2QzLE4DjYcBwAAAKDqogVQmkvp6dOmTBCR1m3bP9N/YMFNk16bERoaZjabx77yotlszl9vMpleHPrc1+u/qle/QfTGrcHBIY4Ofbs903+gq1ZrsVhmTZ9ScP2JE399tuoTEenT95kqeplDuXAcbDgOAAAAQNWlmT59urMzOMdVo6nMmrGjRuzd87tWp/vsy/WFBvPrdLpakbW/Xr8uJTnZz8+veYv75fr4/xvn/yEhoRWV/nZwdVG7atTXjObSy7y9fQzXru3+7ddjR+NOnvirZs3I3NzcH7Z99+KQQVlZmb5+fh98/D8vL2/HZK4Ieq1GRIx5ltLLqv1xcNO5mMwWk9laelm1Pw4eehdnR6jOTBbrr6ey0rPznB0Et6pXs6Afj2ZcvlbG/yCo5Fw1qu5NAp2dogwms9VqlYzsXGcHwa3ydnfVqFWZOfwXUOX5e2m1LnyRXCXNmDFDRFT5N/pWmotZhtJ3/acdPz7Vq5uITJj02uhxE4utGfBMn61bNnl6esXs3h8eXmPtl5+PGDZYRKLq1vP18ytU3KBBwyXLPrg96W8Hd72Lm1aTftlYZuXfUxusLbTex8f3k1Vftm7bvmICOoiPh9ZqtV6+WvZ/SNX7OPh76a7lmspsCUl1Pw7BvnpnR6jODHmWt7cnnEy95uwguFXvP3vHrE1nEjLK/h8ElZm7q/qtf9d3dooyGHLNZov1VFKJEzCjqqgR6O6qUZ1JyXF2ENyqumGefGVSRalUKqEFUBKD4Vr7B5qfPRNfv0HDHTG7bbOgF3UhMaFty3tzcrK7dO3+yao1n6387+iRL5b0nE2a3vv9jl9vPfntYn8LwObr6HX/W/lx3JFDOTk5YWHhnR5+9MWXXqkRUbNCQzqA/S0Am+p6HOxvAdhU1+NAC6BCWUVUzs4AoGqhBVBt0AKoNmgBVF20AMoYBVDtlbcFUF2VtwVQXZW3BVBd0QIAgEqFFkC1QQug2qAFUHXZWgBcxQEAAAAAgCLQvwEAOIjVKleNpjJnnUTl5+PhmmMwm8xlTKSKSk6tEi93V2enAAA4FC0AAICDWK3W5AxDjqHsG7Kgkrunjm9i+lVDrtIvHarqNGpVo0gfZ6cAADgUFwIAAAAAAKAItAAAAAAAAFAEWgAAAAAAACgCLQAAAAAAABSBFgAAAAAAAIpACwAAUIlcTElu0ySySZTfiMF9S6r58N1FTaL8mkT57YrZ7shsuGlbN0UP7f/Egy3q339nWPeHms+f+WrShQRnhwIAQImUe1NAlUrl7AhOprL94TiIiErFcRARlXAc4HxBIaEjx0+bM3VMzI7vt26KfqRbr0IF586e/uDthSLStUefB9p1dEZGlIPFYpk4ash3G6Pz15w7e/rzT97fGL168fuftWjZxonZAABQIJXVanV2BgCAIlgs1viUnByDqfQyq9X63FOPHtj7e0Bg8IZtu719fAtufb7f43/sivH189+wbbeff2BF5kWJ7qnjezzxiiHXXGbl0oUzP3rvLRHp3LXngMEv+vkHHti7+63Xp6VdTPHx9Vv77S8hoeEVnxfF06hVjSJ9nJ2iDIZcs9liPZWU7ewguFU1At1dNaozKTnODoJbVTfM00Ov3C+SqzTbt33KffGOJ16xWBTd/gj00ft6uJ68cMXZQZysZpC7xWpNTLvm7CBOFhXmmZWTl37Z6OwgTtawprezI0BUKtW0uUuf6tY+PS110bzXpr++NH/ThrWr/tgVIyJjJs3m/L/yS7qQsPLDZSLSuWvPhW9/bFsZUav2XY3v7dutfVZmxvIl86fNW+LUjAAAKItyWwB5JotZ2S2APLPFarXmmizODuJkZovVYuE4iNlizTVZOA6oJKLq3zHohZc/eOeNDWtXdevZ1zZcPD0t9c25U0WkZesOj/d+umD96ZPHf/35xz8P7487fOBs/Emr1frq9AVPDxjinPT424a1q/LyctVq9agJ0wuuj6rXoOdT/b9c9dGm9V+OmzrX3d3DWQkBAFAapgMEAFRGQ0aMjaxTz2q1zpz0Sm6uUUTmz5x4OStTp9dPmbOoUPGX/1uxcPakzV+vPXP6BBe4VR4x278XkbubNAuPqFVok22Wh9xc428xO5yQDAAApaIFAACojLRa3WtzF6tUqrPxJ1e884ZtdkARGfbyhFqRUYWK6zdsNOiFkQuWfrRxx17mCKwkLGbz8WNxItK4aYuiW+++p5larRaRo3EHHZ0MAAAFU+6FAACASq5FyzY9nuy3Ye2qj5cv8fX3F5EGDRsNHDKiaOWTTz+Xv8yNLSqJhISzeXm5IhJRs3bRrTq9PjA4JDU5Kf7UCYdHAwBAuRgFAACovMZMmhUQGGwy5aWlpqjV6mnzlmg0NK+rhqyMS7YF/4CgYgsCAoNFJDPzkuMyAQCgeLQAAACVl7ePb+v21wf2d+rS4+4mzZ2bB/a7du2qbUGr0xVboNPpReRqDncIAwDAcWgBAAAqr7hD+zZvWGNbjt25LTU5ybl5YL/8eRlLvjTDWupWAABw+zGcskQXU5Kf6Nwy+8rldg91fuejL4ut+fDdRW+/MUtEln/6VXWdgMpqtcafPH7o4J7DB/YeObj3xLE/zWaTm7v7b0cSnR3NObZuiv5q9crjx+Ku5mSHhIa3fejhAc+PCAuPcHYuB+H9AEcym00zJo60WCxh4RGXLqXl5GTPmzH+rff+5+xcsEv+rf6MBkOxBUajUUTc3N0dlwkAAMWjBVCioJDQkeOnzZk6xjYNte32RQWdO3v6g7cXikjXHn2q6/m/iJw/F9/zkVbOTlEpWCyWiaOGfLcxOn/NubOnP//k/Y3Rqxe//5ntvuXVHu8HONKnK9756+gREZk2b8nRuENLFszYvnXTzh+2PNipi7OjoWw+fv62hUvpF4stSE9LFRFfX3/HZQIAQPG4EKA0fZ4Z1LT5/fL3zagLbZ056RWj0eDr5z9u6lxnpHO0sPCIzo890ajxvc4O4jTvvDnbdv7fuWvPVdHbNu/cP+fN5YFBIVcuZ43+v2dTki84O6BD8X5ARUs4d2b50vnyd5t14JARDRo2EpF508ZdvcrV41VARESkq6tWRBITzhbdajQa01JTRKRO3fqOTgYAgILRAiiNSqWaNnepq6s2PS110bzXCm7asHbVH7tiRGTMpNl+/oFOCugI/v6BSz74fPvvf333y+GF7/y3cVOFzsWVdCFh5YfLRKRz154L3/64cdMWEbVqd+vZd8Vn32i1uqzMjOVL5js7oyPwfoDDzJo8ymgw+Pj62dqsGo3La3MXq9Xq5KTEZYvmODsdyqbWaGxdm8MH9hTdGndon8ViEZE7GzVxdDIAABSMFkAZourfMeiFl0Vkw9pVe3bH2lamp6W+OXeqiLRs3eHx3k8XrP/2m3XTxo94qmu7h+5r0LxBcLt76wzs8+gXK1fY7o1cFXl6eT/YqYvt1k1KtmHtqry8XLVaPWrC9ILro+o16PlUfxHZtP5LJXwzyfsBjrExevVvsTtFZPTEmflt1sZNWzzV7z8i8vmnHxw9ctCZ+WCfdh07i8jhA3uTLiQU2rR1U7SIaLW6Vu0eckIyAACUihZA2YaMGBtZp57Vap056ZXcXKP8fV2ATq+fMmdRoeL3ly7YsO6z82fjPT296jZo6OLiemDv7tenjx/Yp0tOTrYz4uP2iNn+vYjc3aRZeEStQpts80Tk5hp/i9nhhGRAtZOZkf7GnCki0qJV2yf69C+46eVxrwWFhFrM5pmTXrGYzU4KCHs90ae/q6vWYrEsmf+P5mn8qRPr16wSkW49++bPGggAAByAFkDZtFrda3MXq1Sqs/EnV7zzhm12QBEZ9vKEWpFRhYpfGjsleuuuXw+f37hj75pNP+/44/hHX2zyDwiKO7Tvw2VvOiM+bgOL2Xz8WJyING7aoujWu+9pplarReRoHF9LArfBglmTMjPStVrd1NmF26wenl4Tpy8QkT+PHPhi5QpnpEM5hIVHDHh+uIhs2fjV+JcHxx3al3j+7Oav1z7fr7vRaPDx9Rs2coKzMwIAoCzcEcAuLVq26fFkvw1rV328fImvv7+INGjYaOCQEUUrOz36eNHHDn1p3OvTx/8as33k+GmOiIvbLSHhrO1SjoiatYtu1en1gcEhqclJ8adOODwaUN3s+mXH5g1rRGTI8DG1o4qZKO5fj3R/sFOXnT9sWbZoTqcuj4eEhotI3KF986ZfP5mMP3VcRFZ++I7tebRa7cerNztuB/BPI0ZPTkw4+93G6K2bom0NdBsvb59F7660vXxAKbSuapVK1SjSx9lBcKvUKuGlrB7UapWzI+CW0AKw15hJs2J2fJ+elpqWmqJWq6fNW6LR2Hv0XF1dRUSn01VkQFSgrIxLtgX/gKBiCwICg1OTkzIzLzkwFFANGQ2G2VNGi0hUvQaDho0sqWzijIW///pzTk7269PHv7V8lYhcuXK50JxzFxLOXUg4JyJaLf/2OpNao5m/5KOOD3f9avXKv44euXY1JzgkrO1DDw8c8lJYeISz06EKUKtUIqLhlKO64KUEnI4WgL28fXxbt++4MXq1iHTq0uPuJvZOhH78WNxH770lIh3+xY2sq6pr167aFrQl9HF0Or2IXM2p/tMBAhVKp9dv3rm/zLLQsBq7jvxjerlWbR48eDqjwnLhVj3SrZdt2hQAAOBctADsFXdon21MqYjE7tyWmpwUHBpWUvGazz7euinaZDKlXUxJOHdGRLr26PPs4BcdlBW3m9VqtS2oVCW1rq2lbgUAAAAA52M6QLuYzaYZE0daLJaw8AidXp+Tkz1vxvhS6s+fjd+zO/bA3t228/+nBwyZOGMhg1GrrvwJq40GQ7EFRqNRRNzc3R2XCQAAAADKiRaAXT5d8c5fR4+IyLR5S4a9PEFEtm/dtPOHLSXVj5k06+DpjD+OJX/9w+9Dho/5avXKJ7u0OXn8qOMS47by8fO3LVxKv1hsQXpaqoj4+vo7LhMAAAAAlBMtgLIlnDuzfOl8Eenao88D7ToOHDKiQcNGIjJv2rirV0u79lur1dWOqj9izJQJ015PTkqcOpYLAaqqiIhIV1etiCQmnC261Wg0pqWmiEidusXMXg4AAAAAlQQtgLLNmjzKaDD4+PqNmzpXRDQal9fmLlar1clJicsWzbHnGbo90VetVv955EByUmIFh0WFUGs0tr5PoSnHbeIO7bNYLCJyZ6Mmjk4GAAAAAHajBVCGjdGrf4vdKSKjJ8708w+0rWzctMVT/f4jIp9/+sHRIwfLfBKdXm8Zh+xeAAAgAElEQVT7DrmkYeSo/Np17Cwihw/sTbqQUGiT7U7XWq2uVbuHnJAMAAAAAOxDC6A0mRnpb8yZIiItWrV9ok//gpteHvdaUEioxWyeOekVi9lc+vP8FrvTaDSoNZqImrUrMC4q0hN9+ru6ai0Wy5L50wuujz91Yv2aVSLSrWff/FkDAQAAAKAS4qaApVkwa1JmRrpWq5s6e1GhTR6eXhOnLxj9fwP+PHLgi5Ur+g0aJiJ/7IrZ83tsr74DQkLDbWUWs3nblq/nz5woIp0f6+Ht4+vgXbgtTp04lpOdbVtOT7soIhaL5dD+G0PiGzZqXO3vdxAWHjHg+eEfvffWlo1fWazWgc8P9/ULOLDv90XzphqNBh9fv2EjJzg7o4PwfgAAAACqKFX+Dc+VJu5sltlS2r7v+mXHsAG9RGT4qElDXxpXbM3Ioc/s/GGLh4fn+m27Q0LDt235euzw50QkLDwiICjk6tXs5MQE25SBTZu3fOejL728fSpgV25SkK8+0Et79PzlMiv793q42Gvg823csbdWZNTti+ZQtUM8LBbruYtXy6y0mM0TRw/9bmN0ofVe3j6Ll69q0aptxQR0kPo1vC5dyU2/bCyzsnq/H+6pUyX7dFWFxWKNT8nJMZicHQS36p46vscTrxhyyxgEh0pOo1Y1iqxEv5kAACqUSqUSLgQoidFgmD1ltIhE1WswaNjIksomzljo7u6Rk5P9+vTxItLsvgdGT5zZ9sFOao3m5PE/z5+J9/T2bt/xkblvffDfL7+tVOf/uAlqjWb+ko8WLP2oZesOvn4BOp2+Zq06Tw8cuvbbX6r6+T8AAAAAJWAUgHLZPwqgerN/FED1Zv8ogOqNUQAVzWxR7H871YqLRsVLWT24aFTOjgAAcBDbKADmAgAAOIjVKsZcs8Lbr9WDl7urMc9sNvNSVm0qlXi6uTo7BQDAoWgBAAAcx2iy5Jkszk6BW+Xl7mrINZtoAVRxtAAAQIGYCwAAAAAAAEWgBQAAAAAAgCLQAgAAAAAAQBFoAQAAAAAAoAi0AAAAAAAAUARaAAAAAAAAKAItAABAJZKcnFQ/MjTEz61/314l1SxZtCDEzy3Ez23n9h8cmQ037evodU8+8dhd9WvWCvNr1fzuKa+OTUw47+xQAAAoES0AAEAlEhoaNnnaTBHZ9v2Wr6PXFS2IP33qzYXzRKR3n38/2LGTo/OhnCwWywuDBwwd/GzMTzvS09KMBkP86VMr3l/2UNv7f42NcXY6AAAUhxYAAKByGThoyH33txKRyRPHZGZmFto65pXhRoPBz99/1tyFzkiH8nl99vQN0WtFpEfP3lu2/fz7/j/fWf5RcEhIVlbmoGf7XriQ6OyAAAAoCy0AAEDlolKpFi1911WrvZiaOuO1iQU3fb7q09iYn0Rkxuz5AYGBTgoIeyUmnH932RIR6dGz9wcfr2rW4r7I2nX69H0m+pvvtDpdZkbGG/PnODsjAADKQgsAAFDpNLjjzhEvjxaRL1Z9mj9c/GJq6oypr4pIuw4P9X26f36x1Wrd9esv06ZMeORfbevVCokI9m56V90hg/r9tivWKeGR7/NVn+bl5qrV6qnT/3GqX79Bw379nxORtV9+npOT7aR0AAAoES0AAEBlNHrsq3Xr1bdarWNfGZ5rNIrIlIljMjMz9Xq3hYveLli5c/sPT3R9ePmypYcPHggKDq5X/46MjIxvNkQ/0fXhxW/Od1J8iIj88P0WEbm3WYuatSILberR60kRyTUaf9qx3QnJAABQKloAAIDKSKvTvbF4mUqlOnXyxKI3Xt/2/ZYN0etEZMyESXWi6hastIq16b3N3n7vw7/iL+zac3hn7B/HTie88OJLVqt13uzpf/z+m5P2QOnMZnNc3BERadbi/qJb723WXK1Wi8ihg/sdnQwAAAWjBQAAqKRat2n3dL8BIvLOkjfHvPyiiNzVqPGLI14pVNambfut22Of+nc/Ly9v2xo3N/eZcxY80LqtiKxft8axqXHdubNn8nJzRSSydu2iW/V6t5CQUBE5eeIvRycDAEDBaAEAACqvabNeDwoOzsvLS0lJVqvVi5a86+LiUqhGp9MX+9iWD7QRkeTkCxWeEsXJuHTJthAUFFxsQVBwsIhc+rsMAAA4AC0AAEDl5evr+1DHh23L3Xv0vLd5C/sfe/7cWREJD4+okGQoy9WrObaFkno0er2biDAdIAAAjkQLAABQeR3Yt3fdmi9syz9u+z4pyd6v9M/En960cYOIPNG7T0WFQ6msVqttQaUqrUBV0mYAAFABaAEAACopk8k0euSLFoulRkRNvd4tO/vKpPGj7Hmg0WgYNmSg0WDo0/eZFve1rOicKJaHh6dtwWAwFFtgNBpExN3dw3GZAABQPFoAAIBK6r13lsQdOSQii5a8O3bCZBH5dtM3W7dsKv1RJpNp2PMD9+/d0/ieJvPfXOKIoCiOn7+/beHixdRiCy6mpoqI/99lAADAAWgBAAAqo7Nn4t+YP0dEevf594MdO/3fiJF3NWosIhPHjSrl6nGz2Tz8hUHfbvqm4Z2N1kRvzv8iGo5XK7K2q1YrIufOnim61Wg0pKQki0i9+nc4OhkAAApGCwAAUBmNHTXCYLjm6+c3a+5CEXFxcXlz8TK1Wp2YmPD6nBnFPsRsNr84dNCG6HX1GzT86ust/gEBjo2Mf9BoNI0a3S0i+/b8UXTr/n17LRaLiNzT5F5HJwMAQMFoAQAAKp01qz/7eed2EZk2c15AYKBtZbMW9z33n6Ei8tEH7x06eKDQQ0wm0/8NGbghem29+g2iN34XGBTk4MwoqlPnLiKyb+8fiQnnC236OnqdiGh1ug4PdXRCMgAAlIoWAACgcrmUnj5tygQRad22/TP9BxbcNOm1GaGhYWazeewrL5rN5vz1JpPpxaHPfb3+q3r1G0Rv3BocHOLo0CjOM/0Humq1Fotl1vQpBdefOPHXZ6s+EZE+fZ/hYg0AAByJFgAAoHKZOmncpfR0rU63cNHbhTZ5eXnPXfCWiBw8sP/jFe/ZVprN5oLn/yEhoY5OjBLUiKj54vCRIrL+qzUvDH72wL69586e+Wrt6t7dHzUaDL5+frZZHgEAgMOo8m/bqzRxZ7PMFoXuu02Qrz7QS3v0/GVnB3Gy2iEeFov13MWrzg7iZPVreF26kpt+2ejsIE52Tx1fZ0eozqxWyczJzTNZSqn5acePT/XqJiITJr02etzEYmsGPNNn65ZNnp5eMbv3h4fXWPvl5yOGDRaRqLr1fP38ChU3aNBwybIPbtMe4LpgX/2lK0aTuez/Rv+eoGFtofU+Pr6frPqyddv2FRMQdlGpJMhH7+wUAAAHUalUIuLi7BgAAFxnMFwbN/olEanfoOFLI8eUVPb6wrd++XlndvaVSeNHfbJqTa7xeuvq9KmTRYvNJlMFpYU9NBrN+x+tfKzr4/9b+XHckUM5OTlhYeGdHn70xZdeqRFR09npAABQHEYBKBejAGwYBWDDKAAbRgFUKHtGAaBKsH8UACozRgEAgKLYRgEwFwAAAAAAAIpACwAAAAAAAEWgBQAAAAAAgCLQAgAAAAAAQBFoAQAAAAAAoAi0AAAAAAAAUARaAAAAAAAAKAItAAAAAAAAFIEWAAAAAAAAikALAAAAAAAARVBZrVZnZ3COzJxcpe76dW5ajc5Vk5mT6+wgTubl5iKiunItz9lBnMzHwzU3z3It1+zsIE7m56l1doRqzmSxKPzf3urBVaM2W6y8ltWAq4ZvgwBAKVQqlSi5BQAAcDCL1ZqaaTTmKb3TVA1EBnukZhqv5ZqcHQS3RKNSRQS5OzsFAMBBbC0AF2fHAAAohlVyDKYcA+eN1UFmTq5B8eOGqjqNWhXh7AwAAAdj9BcAAAAAAIpACwAAAAAAAEWgBQAAAAAAgCLQAgAAAAAAQBFoAQAAAAAAoAi0AAAAAAAAUARaAACASuRiSnKbJpFNovxGDO5bUs2H7y5qEuXXJMpvV8x2R2bDTdu6KXpo/ycebFH//jvDuj/UfP7MV5MuJDg7FAAASkQLAABQiQSFhI4cP01EYnZ8v3VTdNGCc2dPf/D2QhHp2qPPA+06OjofyslisUwYOXj8y4N3//pTxqU0o9Fw7uzpzz95v89jbffsjnV2OgAAFIcWAACgcunzzKCmze8XkfkzJ17Oyiy0deakV4xGg6+f/7ipc52RDuXzzpuzv9sYLSKdu/ZcFb1t8879c95cHhgUcuVy1uj/ezYl+YKzAwIAoCy0AAAAlYtKpZo2d6mrqzY9LXXRvNcKbtqwdtUfu2JEZMyk2X7+gU4KCHslXUhY+eEyEenctefCtz9u3LRFRK3a3Xr2XfHZN1qtLiszY/mS+c7OCACAstACAABUOlH17xj0wssismHtqvzh4ulpqW/OnSoiLVt3eLz30wXrv/1m3bTxI57q2u6h+xo0bxDc7t46A/s8+sXKFXl5uY4Pj3wb1q7Ky8tVq9WjJkwvuD6qXoOeT/UXkU3rv7x6NcdJ6QAAUCJaAACAymjIiLGRdepZrdaZk17JzTXK39cF6PT6KXMWFSp+f+mCDes+O3823tPTq26Dhi4urgf27n59+viBfbrk5GQ7Iz5ERGK2fy8idzdpFh5Rq9CmR7r1EpHcXONvMTuckAwAAKWiBQAAqIy0Wt1rcxerVKqz8SdXvPNG/uyAw16eUCsyqlDxS2OnRG/d9evh8xt37F2z6ecdfxz/6ItN/gFBcYf2fbjsTWfEh1jM5uPH4kSkcdMWRbfefU8ztVotIkfjDjo6GQAACkYLAABQSbVo2abHk/1E5OPlS6ZPfFlEGjRsNHDIiKKVnR59vG79hiqVquBjh740TkR+5caBTpKQcNZ2IUZEzdpFt+r0+sDgEBGJP3XC0ckAAFAwWgAAgMprzKRZAYHBJlNeWmqKWq2eNm+JRuNi52NdXV1FRKfTVWRAlCgr45JtwT8gqNiCgMBgEcnMvOS4TAAAKB4tAABA5eXt49u6fUfbcqcuPe5u0tzOBx4/FvfRe2+JSId/damocCjVtWtXbQvaErowOp1eRK7mMB0gAACOY+93KQAAOF7coX2bN6yxLcfu3JaanBQcGlZS8ZrPPt66KdpkMqVdTEk4d0ZEuvbo8+zgFx2UFf9ktVptCwUv0ChUUupWAABw+zEKAABQSZnNphkTR1oslrDwCJ1en5OTPW/G+FLqz5+N37M79sDe3bbz/6cHDJk4Y6FWy4UAzuHu7mFbMBoMxRYYjUYRcXN3d1wmAAAUjxYAAKCS+nTFO38dPSIi0+YtGfbyBBHZvnXTzh+2lFQ/ZtKsg6cz/jiW/PUPvw8ZPuar1Suf7NLm5PGjjkuMAnz8/G0Ll9IvFluQnpYqIr6+/o7LBACA4tECAABURgnnzixfOl9Euvbo80C7jgOHjGjQsJGIzJs27urV0q4e12p1taPqjxgzZcK015OTEqeO5UIA54iIiHR11YpIYsLZoluNRmNaaoqI1Klb39HJAABQMFoAAIDKaNbkUUaDwcfXb9zUuSKi0bi8NnexWq1OTkpctmiOPc/Q7Ym+arX6zyMHkpMSKzgsiqHWaGxdm8MH9hTdGndon8ViEZE7GzVxdDIAABSMFgAAoNLZGL36t9idIjJ64kw//0DbysZNWzzV7z8i8vmnHxw9crDMJ9Hp9bZvoUsaiI6K1q5jZxE5fGBv0oWEQpu2booWEa1W16rdQ05IBgCAUtECAABULpkZ6W/MmSIiLVq1faJP/4KbXh73WlBIqMVsnjnpFYvZXPrz/Ba702g0qDWaiJq1KzAuSvZEn/6urlqLxbJk/vSC6+NPnVi/ZpWIdOvZN3/WQAAA4AC0AAAAlcuCWZMyM9K1Wt3U2YsKbfLw9Jo4fYGI/HnkwBcrV9hW/rEr5r0lr6ckX8gvs5jNWzdFTx49TEQ6P9bD28fXUdnxD2HhEQOeHy4iWzZ+Nf7lwXGH9iWeP7v567XP9+tuNBp8fP2GjZzg7IwAACiLKv+2vQAAVCiLxRqfkpNjMJVSs+uXHcMG9BKR4aMmDX1pXLE1I4c+s/OHLR4enuu37Q4JDd+25euxw58TkbDwiICgkKtXs5MTE2xTBjZt3vKdj7708vapgL1RtHvq+B5PvGLILWMghohYzOaJo4d+tzG60Hovb5/Fy1e1aNW2YgLCLhq1qlEknw4AUAqVSiW0AAAADlNmC8BoMPR69IGEc2ei6jVYsznGdiV/UclJiT0fbnn1ak7Hzl3fWr4qPS110/ovf9/1c/ypE+lpqWaT2S8goOFd9zzavXeX7r3Vasa73X72twBstm6K/mr1yr+OHrl2NSc4JKztQw8PHPJSWHhEhYZEmWgBAICi0AIAADiUPaMAUCWUtwWAyokWAAAoiq0FwHcjAAAAAAAoAi0AAAAAAAAUgRYAAAAAAACKQAsAAAAAAABFoAUAAAAAAIAi0AIAAAAAAEARaAEAAAAAAKAItAAAAAAAAFAEWgAAAAAAACgCLQAAAAAAABSBFgAAAAAAAIpACwAAAAAAAEWgBQAAAAAAgCLQAgAAAAAAQBFoAQAAAAAAoAi0AAAAAAAAUARaAAAAAAAAKAItAAAAAAAAFIEWAAAAAAAAikALAAAAAAAARaAFAAAAAACAItACAAAAAABAEWgBAAAAAACgCLQAAAAAAABQBFoAAAAAAAAoAi0AAAAAAAAUgRYAAAAAAACKQAsAAAAAAABFoAUAAAAAAIAi0AIAAAAAAEARaAEAAAAAAKAItAAAAAAAAFAEWgAAAAAAACgCLQAAAAAAABSBFgAAAAAAAIpACwAAAAAAAEWgBQAAAAAAgCLQAgAAAAAAQBFoAQAAAAAAoAguzg4AAFAMlbhpNSpnp8Bt4aFzcVHzYlZtahWvIAAojspqtTo7AwAAAAAAqEAqlUq4EAAAAAAAAIWgBQAAAAAAgCLQAgAAAAAAQBFoAQAAAAAAoAi0AAAAAAAAUARaAAAAAAAAKAItAAAAAAAAFIEWAAAAAAAAikALAAAAAAAARaAFAAAAAACAItACAAAAAABAEWgBAAAAAACgCLQAAAAAAABQBFoAAAAAAAAoAi0AAAAAAAAUgRYAAAAAAACKQAsAAAAAAABFoAUAAAAAAIAi0AIAAAAAAEARaAEAAAAAAKAItAAAAAAAAFAEWgAAAAAAACgCLQAAAAAAABSBFgAAAAAAAIpACwAAAAAAAEWgBQAAAAAAgCLQAgAAAAAAQBFoAQAAAAAAoAi0AAAAAAAAUARaAAAAAAAAKAItAAAAAAAAFIEWAAAAAAAAikALAAAAAAAARaAFAAAAAACAItACAAAAAABAEWgBAAAAAACgCLQAAAAAAABQBFoAAAAAAAAoAi0AAAAAAAAUgRYAbklaWpqqPDw9PZ0duTrr37+/SqXq1q3brT/V2LFjVSpVq1atKkOYYt16QuAmOOuNxxseAADcFrQAoAjDhg1TqVRt27Z1dhAA5cbnFwAA4HZxcXYAVG2+vr4xMTGFVv7444/Tp08XkXfffbdx48YFN2k0GseFAwAAAAAUQAsAt8TFxaXoV3MJCQm2hcaNG/PFHYDqZO7cudOnT6ebCQAAqihaAAAA2Eur1Wq1WmenAAAAuEnMBQDHKTg/XGxsbJ8+fSIiIlxcXJ588sn8mmvXri1evLh9+/aBgYFarTY8PLx37947duwo+mxmszkmJmbs2LEtWrTw9fV1dXUNCgr617/+9f777+fm5uaXbdq0SaVSvf/++7a/tODchCNGjMgvi4mJ+fe//x0ZGanX6z09PaOiojp06DBjxozjx4/bv4N2hrczeSEGg2HZsmWdOnUKCQnR6XQ1atRo3br17NmzT58+XWz9nj17+vTpExYWptfr69atO2bMmIyMDPv3pVg3l1xEtm7d2qVLl+DgYDc3t7vuumvmzJnXrl0rqdj+90CFhr/Ft8RNH6tbSWL/oSv4YbTn1Snv7pT+Ybf/2ez8/JZr32/xUBc7LV/B/bX/o/fLL7/06NEjKCjIzc2tQYMGr776amZm5oEDB2w7ePLkSTtjV9BHBgAAVE9W4Hb74osvbO+umJiYguv79esnIl27dn333XfV6hvtp549e9oK4uLi6tSpU+wbddSoUYX+lg8//LCkd3Xr1q0zMzNtZdu3b69bt663t7eI2H4jzzd9+nRbzfz580t6qsmTJ9u51/aHtzN5QYcPHy7pyXv06FH0CK9cudLV1bVQ5Z133lnskxdrzJgxItKyZcubTp4fZsGCBSqVqlB948aNL168eCuHsdiEpShX+Ft/S9zEq1ws+5OU6+NT3lenvLtT+ofd/mez5/Nb3n2/xUNd7BvvJj56S5cuLXrko6KiNm/ebFs+ceJEwfqS3vC3Zd8BAIASXP8VwdkxUA2V3gKoXbu2i4tL8+bNV69effjw4djY2OjoaKvVmpSUFBwcLCKRkZErVqw4derUpUuX9u/fP2TIENuzLV26tOCzffLJJz179vzwww9jY2PPnDmTmpq6b9++adOm+fr6isjAgQMLFr/wwgsi0qZNm6Jpjx8/brust0uXLj/99FNqaurly5ePHj26cePGoUOHzps3z55dLlf4ciW3Wq0JCQlBQUEi4u7uPnXq1AMHDqSnp58/f37Tpk3PP//8008/XegI16lTR6vVdujQ4dtvvz1z5syBAweGDx9uizFmzBh7dsdawvlGuZLbwtSoUUOtVnfs2HHXrl3Z2dnx8fFTpkyxHfCHH374Vg5jeVsA9oe/LW+J8r7KxbI/SXk/PuV9dcq7O6V/2Mv7bKV8fm9i32/xUJfSArD/o7dz507b+X/z5s1//PHHy5cvJyUlvfvuu97e3pGRkfa3AG7LvgMAAIWgBYCKUnoLQETatWtnMBgKPerpp58WkbCwsJSUlEKbJk+eLCJ+fn7Z2dll/u179uxRqVQajSYhISF/ZSmnEMuWLRORoKCgvLw8e/ewiNsSvtjkVqu1d+/eIqLX63fv3l30Ubm5ufnL+Uf48ccfN5lMRRMGBARYLBZ79qhcJ9jFJs8P07p164IhrVbr4sWLbZu+/fbboiHtPIzlbQHYH/62vCXs/+tKYX+S8r4Db+LVKdfulP5hL++zld4CuC2fPvsPdSktAPs/ei1atBCRO+6448qVKwWL81sDdrYAbtc/mwAAQAlsv2MwFwCcYMmSJTqdruCalJSUtWvXisjChQttX2oVNHnyZE9Pz4yMjO+//77MJ2/evHnjxo3NZvPOnTvtCWMymUTEz8/PxeUmZ8e8XeGLTZ6YmLh+/XoRGTdu3P3331/0UUVHHavV6qVLlxaasXzw4MEikp6eHh8fb++O2a30Y75gwYJCIV966aWoqCgR+eSTT/JX3sb3wC2Gv/W3RLn+ulLYmeRWDp2dr05Jytydoh/2W3m2om7X2+a2vOh2fvSOHTu2Z88eEZk2bZqnp2fB4g4dOtgmFLCHsz4yAACgSqMFAEeLiIi49957C638+eefTSaTSqXq3Llz0Ye4ubk1adJERPbt21dwvcVi2bBhw6BBg+677766detG/O3YsWMiYue0bbZnPn78+NixY9PS0m5ij24ivP3Jd+7cabFYRGTAgAF25mnUqFH+WOJ8DRs2tC2kpKSUY9+KKO8xDwoKatOmTaGVarX68ccfF5HY2Nj8lTf3HqiI8Lf+lijXX1cKO5Pc9KGz/9W5ud0p9sN+0892e/e9kNvyotv50fv1119FRKVSde3ateiTdO/e3c6/zgEfGQAAUP1wU0A4Wr169Yqu/Ouvv0TEarUW/S6roPT09Pzlixcvdu/efffu3SUVZ2Vl2ZOnQ4cOXbt23bx585tvvrl48eIWLVq0b9/+wQcf7Nixo16vt+cZyhu+XMlPnfr/9u40Koor7QP40yxNA80WcGERVDSiwHg84qggimQwEhRciQ6OS9QYQ4xjdIS4RDCJiZggJhpjNEc7GZPggmYUc4wxoggGj1tUIAEZligKLZuAaKeh3w930tNvb1YVzTL2//chp626deu5S+VQt27dKiEiOzs7vfWml4eHh+5Ge3t79uPhw4cc89EloM4HDRqkNyW7L7pz545SqWTPXQX0AV64B9/+LsHrdEZwjERw1XFvHWHFMdRpTXXxkum6jUkaneOlV15eTkTu7u5smUMtzz77LMfTdfQlAwAAAE8lDAFAZ1P/QayJ/cVvaWnp5eVl5FjNv5hffPHFvLw8R0fHhISEiRMn9uvXz8HBgd2uhISE5Obmspm9XBw+fDglJeXTTz+trKzMy8vLy8vbsmWLk5PTihUr1qxZozvTvp3B84q8sbGRiBwcHDiWhYiMz2RWvwUkgIA615rnrLu9ubnZycmJBPWBjgu+nV2C7+mM4BKJ4Krj3jrCiqP3Yhecm14m7Dbtb3SOl15zczMR2dnZ6U1mqFF0dfQlAwAAAE8lDAFAt8BuFWxtbcvKyrikv379Ovvq9YEDB55//nmtvdwfITI2Njbr169ft25dfn5+dnZ2VlbWd99919DQkJSUVFZWtnfvXhMGzzdydvPPBgK6lrA6Z3c7upqamtgP9V0i3z7AC9/g29klTNg/uUQiuOo4to5pLzfT5mbCbtPORueOxWxoPo668jnm00GXDAAAADytsBYAdAts+bGmpiY2tfWJ2Nutjo6OurcQjx8/Li4uFhCDSCQKCAhYunRpenp6ZWXllClTiEgmk92+fduEwfONnE2lfvjwIXsjoAsJq3P2areh7Z6enuoHp3z7AC/CghfcJUzeP41HIrjqOLaOaYtj2txM3m0ENzp3bL2Au3fvPnjwQHcv93UQOvSSAQAAgKcVhgCgWwgPD7ewsCBui5DTHw/QWltbdae1Z2RkKBQKrY1isZil5xiPVCp96623iEilUj3xnoRX8HwjDwsLY5l/+eWXHIPvIHwjZ+RyOVv8TFNbW9uxY8eISHMtOr59gCGWTJcAACAASURBVBdhwWvi1SXafzpekQiuOo6tY9riCMjNyPXbod2GV6NzFxwczPI8ceKE7t7jx49zzKdDyw4AAABPKwwBQLfg5eU1c+ZMIkpNTc3OztabpqSkRH17wB6jNTc3a308rLq6OjExUfdYNzc3IqqsrNTdVVpaypbc18KW7FIfa6rg+Ubu4eExbdo0IkpJSbl8+bJuAu5vTbcT38jVEhIStILcsWMHm9Qwf/589Ua+faDjgm9/lxBcV8IiaU/VcWkdUxVHcG5Grl9TdZv2Nzp3fn5+w4cPJ6KkpCStaf9nz55l4y9cdOglAwAAAE8rDAFAd5GWlubh4aFQKCIiIlavXn358uX6+vr6+vqCggKZTBYTEzNo0CD127NhYWGurq5EFBcXl56eLpfLa2trDx06FBwcfP/+fd3FsYKCgoiooqJi+/btcrlcqVQqlUr2F//mzZv9/PySk5PPnz9///79lpaWioqKzz//fPHixUTk7+8fEBBgwuD5Rs4yd3Nza2lpCQsL27hxY0FBQWNjY1VV1enTp+Pj4zXvojuUgMiJyNPTMzc3NzIyMi8vr7m5uby8fMOGDStWrCCiiIiIyMhIzcS8+kDHBd/+LiGsrnRxj0RY1XFsHVMVR3BuRq5fwWUXXNUmkZKSQkS//vrr+PHjf/zxR3ZF79y5MyYmxtvbm3s+HXfJAAAAwFNLBWBqX3/9Netd2dnZmtvj4uKIKCoqytCBRUVF/v7+hvqqlZVVQ0ODOvHBgwctLS210tjY2KSnp7MJzPHx8erECoViyJAhWolZgiVLlhg6o6en582bNzmWmnvwvCJnrl+/rvu9cSYmJoZLDdfV1bH0p06d4lKclStXEtHIkSM1N/KKXB3M+++/rxt2QECAXC5vTzXqjdAI7sGbpEsIaGVdvCLhdfnwbR2+xTF+sfPNzcj1K6Ds7axqvR1PwKW3detWkUikda7+/furXwQoLS3VTG+ow7e/7AAAAGAm2J8HmAUA3cjAgQOvXbsmk8kmT57s7u4uFoslEknfvn2jo6P37Nlz7949za9bzZgx49y5c5MmTXJxcRGLxd7e3vPmzbt48WJsbKxuztbW1mfOnImPjx84cKDWV76TkpJkMtncuXOHDh3as2dPKysrZ2fn0aNHb9q0qaCgwMjf1oKD5xU5ExgYWFhYmJqaGhoa6urqKhaLvby8QkJCNm3atG3bNo4Rtp+AyIkoISEhMzNzwoQJrq6uEolk8ODBycnJFy9e1Duzmlcf6KDgTdIlhNVVeyIRVnUcW8ckxRGcm5Hrtz1l12Sq/w9w9/e///3s2bOTJk1iNT9w4MDVq1dfunSJfYWROH8KtOMuGQAAAHgqiVTt+Eg4AAD8L5ozZ87+/fujoqK4Lz4HnUMmk82fP9/Ozq6xsZGt9gcAAABgEmwGIv68AAAA6C4yMzOJaNiwYbj/BwAAgI6AvzAAAAA624MHD3Q3nj179vDhw0TElvoHAAAAMDkMAQAAAHS28PDwFStW5ObmNjY2KhSKW7dubdq06YUXXmhra/P29l64cGFXBwgAAABPJ6uuDgAAAMDsNDU1paWlpaWlaW3v1avXt99+K5VKuyQqAAAAeOphCAAAAKCzpaWlHTlyJDc3t6qqqq6uTiqVPvvss1FRUa+//rqzs3NXRwcAAABPLXwRAAAAAAAAAOAphy8CAAAAAAAAAJgRDAEAAAAAAAAAmAUMAQAAAAAAAACYBQwBAAAAAAAAAJgFDAFAZ1u1apVIJBo1alRXB/JfxkOSyWTBwcGOjo4ikUgkEs2aNYuIPv30U5FI1B0W7u6G9dlV5syZIxKJJk2axP0Q1B4AAAAAmBUMAQAYs3nz5vnz51+4cKGxsbGrYnjllVdEItGYMWO6KgAAAAAAAHg6YAgAwKDW1tbNmzcT0dSpUysqKlpbW1Uq1TfffNPVcQEAAAAAAAiBIQAA2rRpU2Nj45kzZ7S2V1RU1NXVEdHy5cv79OljYfHf6+Wll16qq6srLy/v1ED1MRQ8AAAAAACAFquuDgCg64nFYrFYrLv94cOH7IeTkxPHQzpf94kEAAAAAAC6OcwCAFN69OjRjh07/vKXv/Tq1cvGxsbT0zM4OPidd97597//bfzA1tbW7OzsVatWBQUFOTs7W1tb9+jR47nnntu1a5dCodB7SHZ29qxZs3x8fCQSiVQq7d+//7hx45KTk4uKivgm010Tjq32FxAQwP45bNgwkT56lwPkUgkcy3v8+HGRSLRr1y4iysnJ0Tz1a6+9Zih4TeXl5cuXL/fz87O3t3dwcAgMDExMTKyurtZKprmQ3qVLl2bOnOnu7i6RSHx9fVeuXMmmQnCkmdXJkycjIyN79uxpa2s7ZMiQjRs3trS0GEmfk5Mzc+ZMLy8vKyurGTNm8C2FJi6nNq6lpSUtLW3s2LFubm5isdjDw2P69Om6sy004z937lx0dHSvXr2kUumwYcP27NmjTlZcXLxo0aK+fftKJJJ+/folJiY2NzfzigcAAAAAwARUACZy48aNfv366e1mMTEx6mQrV64kopEjR2oeq3mzpCU4OLi+vl7rXOwVfb3Wrl3LN5luSF999ZWvr2+fPn1Y4j59+vj+fz169CAiJycnYZXAsbw//vijr6+vo6MjEbEbcrWkpCQj9ckcOXLE1tZW9xROTk5ZWVmaKePi4ogoKirqiy++sLa21ko/ePBg3SYwRJ1VSkqKSCTSyiowMFAul+tN/8knn2i+ajF16lTBpeB4aiO1l5+fb6gdV6xYofeku3bt0oyfeeONN1Qq1Q8//MAaUVNoaOjvv//OsVYBAAAAANqJ/RWKWQBgGnfu3AkPDy8tLbWzs1u/fv21a9dqamp+++2348ePL1q0yM7OzvjhVlZWU6dO3bNnT05OTllZWXV19ZUrVzZs2ODs7Jybm7t8+XLNxMXFxWvWrCGiyMjIs2fPVldXP3jwoLCw8NixYy+//LJUKuWVTK/Zs2ffunXrxIkT7J//+te/bv1/GzdubE8lcCzv+PHjb926NXv2bCIaPny4ZgAbNmwwXqVXrlyJjY1taWnx9vb+6quv7t69e/v27c8++8zNza2hoWHy5Mm6UzMKCgoWLVoUHBx84sSJsrKya9euxcfHE1FhYeHbb79t/HRarl27lpiYOH78+AsXLjQ1NZWWlq5bt87S0vLGjRt//etfddPn5+e//vrrw4YN++abb27cuJGTk/O3v/1NWCn4nlrXvXv3xo8fX1pa6uPjs3v37pKSktra2qtXry5evJiItm7d+vHHH+vG/9prr02cOPH06dPl5eU5OTlhYWFElJqaeuLEidjYWB8fn0OHDpWWlv78888LFiwgouzs7N27d/OqVQAAAACA9urqkQh4SkyfPp2IJBJJXl6e7l6FQqH+beSpta5Lly6JRCJLS8vbt2+rN+7YsYOIevToYfwhKsdkRkK6ceMGu0yuXr2qtWvnzp2kMwuAeyUYore8S5YsIaKQkBBewbOPCLq5uVVUVGhuv379ukQiIaLp06erN7JH2UQUHR2tVCo107MBCFdX17a2tifGr5lVcHCwVpHT0tLYrhMnTuimDw0NffTokUlKwfHUKgO1x4rs7u5eVVWlFc/atWuJyMXFpampSeuksbGxmlXU1NTUs2dPIrKysvL393/w4IFmPqGhodyvAgAAAACA9mN/tWIWAJjAnTt3jhw5QkT/+Mc//vznP+sm0J1bztHw4cMDAwNbW1uzsrLUG5VKJRG5uLhYWRlbz5JjMlMxSSXoLa8AxcXF58+fJ6I333xT/ToDExgY+OqrrxLR0aNHa2pqNHdZWFh89NFHlpaWmhsXLlxIRDU1NaWlpbxiSElJ0SrysmXL+vfvT0T79u3TTb9t2zYbG5v2l0LAqTVVVVUdPHiQiLZs2cLu4TWtXbtWKpXW1dV9//33mtstLS1TU1M13z6wt7dnCwQolcp33nnHwcFBM/2sWbOI6OrVq6yXAgAAAAB0DgwBgAlkZWW1tbUR0dy5cwVn0tbWdvTo0QULFowYMcLX19frD7/88gsRaa7eN3ToULZl1apV9+/fN5Qhx2SmwrcSuJdXAHbnTESai+qpxcbGElFra+uFCxc0t/v7+/v4+Ggl9vPzYz+qqqq4B9CjR4+QkBCtjRYWFtHR0USUk5OjtcvLy2vYsGEmKQXfU2s5d+6cUqkUiUQTJkzQ3Wtra8v61ZUrVzS3+/v7e3p6aiUeMGAAO3VERITeXQqFora21ng8AAAAAAAmhI8CggmUlJQQkZ2dHbuxEUAul0+ePDkvL89QgoaGBvXvcePGRUVFZWZmfvjhh2lpaUFBQWPHjg0LCwsPD2eTw3klMxVelcCrvAKUl5cTkVQq9fb21t07ZMgQ9qOiokJzu4eHh25ie3t79kP9iUQuBg0apHc7G1C4c+eOUqnUnJ2ht9KElYLvqbX8+uuvRKRSqXSnAGjSmnqgt+rYKoaOjo7qOlRTLwzB9zsFAAAAAADtgVkAYAKNjY1EpDXVmZcXX3wxLy/P0dHx3XffvXz5cm1trfoF/uDgYPpjVr/a4cOHN27c6OHh0drampeXt2XLlqioqN69eycnJ//+++98k5kEr0rgW16+mpqaiMjQkocODg5syjqLWc34GxPq14e4MHRq9XatT+Lp3iST0FLwPbUWNvhiaWnpY5TWCv9ab09w3EU8axUAAAAAoJ0wCwBMgN33at2JcXf9+nX2ufUDBw48//zzWnv1Pg+3sbFZv379unXr8vPzs7Ozs7Kyvvvuu4aGhqSkpLKysr179/JKZhLcK0FAeflit7vsFloXW8qO2jdqY5yh22x1SHrv+bUIK0U7T8322tralpWVPTFCAAAAAID/LZgFACbAZnE/fPiQTYbni71W7ejoqHs//Pjx4+LiYkMHikSigICApUuXpqenV1ZWTpkyhYhkMtnt27cFJGsn7pUguLzc9e3bl4iampr0lrGgoID90H3z31TYigaGtnt6enJZo1FYKdp5arZqYFNTE3sjAAAAAADgaYIhADCBsLAwCwsLIvryyy8FHM5eMm9tbdWdFJ2RkaFQKLhkIpVK33rrLSJSqVRG7qI5JhOAeyXwLa9YLGbpuQfDvqVHRIcPH9bde+jQISKytLQcNWoU9zx5kcvlubm5Whvb2tqOHTtGRLrL9eklrBTtPHV4eDhrxyd+OwAAAAAA4H8OhgDABDw8PKZNm0ZEKSkply9f1k1g/M129hS3ublZ60t41dXViYmJuulLS0vZ2vta2OpxROTm5sY9malwrwS+5WVxVlZWcg9mwIAB7Mvz77333t27dzV3FRYW7tixg4imTJni6urKPU++EhIStNp9x44dbIrE/PnzueQguBTtObWXl9fMmTOJKDU1NTs7W2+akpISjiNTAAAAAADdCoYAwDTS0tLc3NxaWlrCwsI2btxYUFDQ2NhYVVV1+vTp+Ph44/ddYWFh7C4uLi4uPT1dLpfX1tYeOnQoODj4/v37Xl5eWuk3b97s5+eXnJx8/vz5+/fvt7S0VFRUfP7554sXLyYif3//gIAA7sk6vxL4ljcoKIiIKioqtm/fLpfLlUqlUqnUO7qhFYy1tXVVVdWYMWMyMjJqamqqq6tlMtn48eMfPnwolUpTUlJMW3xNnp6eubm5kZGReXl5zc3N5eXlGzZsWLFiBRFFRERERkZyzEdAKdp/6rS0NA8PD4VCERERsXr16suXL9fX19fX1xcUFMhkspiYmEGDBvH6PgIAAAAAQHehAjCR69evG3q3PCYmRp1s5cqVRDRy5EjNYw8ePKi7cLqNjU16ejqbuR0fH69OvGTJEkP92dPT8+bNm7ySGQpJpVLduHGDpb969arWrp07dxKRk5OTsErgVV6FQqH+AJ6aOoGh4FUqVUZGBvsunRYnJ6esrCzNlHFxcUQUFRWlm0ldXR076tSpU7p7damzev/993VPHRAQIJfLOZ5acCk4nlpluPaKior8/f31tiMRWVlZNTQ0PDH+rVu3EpGrq6vuLvX8gtLSUsN1CQAAAABgMuzvT8wCAJMJDAwsLCxMTU0NDQ11dXUVi8VeXl4hISGbNm3atm2b8WNnzJhx7ty5SZMmubi4iMVib2/vefPmXbx4MTY2VjdxUlKSTCabO3fu0KFDe/bsaWVl5ezsPHr06E2bNhUUFKjv3DgmMy2OlcCrvNbW1mfOnImPjx84cKBEIuEezNSpUwsLC5ctWzZo0CA7Ozt7e3t/f//Vq1cXFRWNGzfOBKU1KiEhITMzc8KECa6urhKJZPDgwcnJyRcvXuT7/oWAUrT/1AMHDrx27ZpMJps8ebK7u7tYLJZIJH379o2Ojt6zZ8+9e/e0PgoIAAAAAPA/QaTCV6kBwHTmzJmzf//+qKio48ePd3UsAAAAAADwHyKRiDALAAAAAAAAAMBMYAgAAAAAAAAAwCxgCAAAAAAAAADALGAIAAAAAAAAAMAsYAgAAAAAAAAAwCzgiwAAAAAAAAAATzl8EQAAAAAAAADAjGAIAAAAAAAAAMAsYAgAAAAAAAAAwCxgCABM44MPPhCJRCKR6Pbt26bNec6cOSKRaNKkSabNVm3VqlUikWjUqFF8DywqKkpKSgoJCfH09LSxsXFycho8ePD8+fOPHTvW2traEaGanOCyd6tTmJWOvhwMQTsCAAAAPB0wBADAW0tLy9KlS/39/ZOTk3NzcysrKxUKxYMHD3755ReZTBYdHe3n53fq1KmuDrOTvPLKKyKRaMyYMV0dCDwl0KMAAAAAOo5VVwcA8D+mvr4+MjLyp59+IqLevXvPnTs3NDS0d+/ejx49Ki8vP3ny5OHDh2/duvXuu+9GRER0dbAAAAAAAAD/hSEAAH4WLlzI7v/nzp27Y8cOqVSq3jVmzJi4uLiUlJSEhITy8vKui7Eb2bRpU1JSkqWlZVcHAgAAAAAAGAIA4OPIkSMZGRlENGXKlH379rFPa2rp3bu3TCbLycnp9Oi6I7FYLBaLuzoKAAAAAAAgwloA0PlaW1uzs7NXrVoVFBTk7OxsbW3do0eP5557bteuXQqFwvixJ0+ejIyM7Nmzp62t7ZAhQzZu3NjS0qI3ZUtLS1pa2tixY93c3MRisYeHx/Tp08+cOdPO4D/44AMiEovFO3fu1Hv/rxYSEqK1pby8fPny5X5+fvb29g4ODoGBgYmJidXV1brHai75lpOTM3PmTC8vLysrqxkzZjxxr0mKz7GNjh8/LhKJdu3axSIRaXjttddYGuPLyHGsE80iX7p0aebMme7u7hKJxNfXd+XKlXV1dRzLpZXVuXPnoqOje/XqJZVKhw0btmfPHnWy4uLiRYsW9e3bVyKR9OvXLzExsbm5WVgt1dfX29raikSibdu26Q2ptrbWxsZGJBLt2LGDe0GoG1wODPeOTUTZ2dmzZs3y8fGRSCRSqbR///7jxo1LTk4uKioibj0KAAAAANpFBWAKW7ZsYT3qt99+M55S80ZLS3BwcH19vVb6uLg4IoqKikpJSdG96w4MDJTL5VqH5Ofn9+vXT+8pVqxYoZV45cqVRDRy5MgnlrGqqoplMn369Ccm1nLkyBFbW1vdeJycnLKysgwV+ZNPPrGw+O843dSpU5+4l1fxDZWdYxv9+OOPvr6+jo6ORMRuyNWSkpKeWL3c60Rd5C+++MLa2lor/eDBg3W7jSHqrHbt2qVZe8wbb7yhUql++OEHVihNoaGhv//+u4BaUqlUs2fPJqJhw4bpDWn79u1EZGNjU1NTwz3+DrocDDHUjrw69ubNmw3V2Nq1a1XcehQAAAAACPOfP7y6Ogx4SnAfAti3b9/UqVP37NmTk5NTVlZWXV195cqVDRs2ODs7E9G8efO00rN7Hk9PTwsLi/Dw8AsXLjQ1NZWWlq5bt469YR4REaGZ/u7duz179iQiHx+f3bt3l5SU1NbWXr16dfHixSzCjz76SDM99yEA9goAEX388cfcauU/Ll++zG5cvb29v/rqq7t3796+ffuzzz5zc3MjIgcHh5KSEt0i9+3b18rKavjw4d98882NGzdycnIyMjKeuJdX8Q2VnVcbLVmyhIhCQkL0lt3QKXjVCStyv379xGLxuHHjTpw4UVZWdu3atfj4eFaolStXcmwLde1ZW1u/8MILp0+fLi8vz8nJCQsLY1llZmY+88wzgYGBhw4dKi0t/fnnnxcsWMB2ffLJJ8JqSf15iOvXr+uGFBQUREQzZszgHn/HXQ6G6G1HXo1YVFTEIoyMjDx79mx1dfWDBw8KCwuPHTv28ssvv/fee+qUxnsUAAAAAAiDIQAwJe5DAIZcunRJJBJZWlrevn1bczu75yGi4OBghUKhuSstLY3tOnHihHoje+Lq7u5eVVWldYq1a9cSkYuLS1NTk3oj9yGADz/8kJ3uhx9+4FU09nkzNze3iooKze3Xr1+XSCSkM61AXeTQ0NBHjx5p5WZ8L6/icy87o7eNhA0B8KoTdZGjo6OVSqVueV1dXdva2rgUQZ1VbGys5iFNTU3sVtnKysrf3//BgweaR4WGhnKvKN1aamtr69u3r96hivz8fBbP8ePHecXfQZeDIXrbkVcjstccevTooTWZQheGAAAAAAA6AvtbEWsBQHcxfPjwwMDA1tbWrKwsvQlSUlK0JoEvW7asf//+RLRv3z62paqq6uDBg0S0ZcsWdkenae3atVKptK6u7vvvvxcQofqdc/aYl6Pi4uLz588T0ZtvvtmnTx/NXYGBga+++ioRHT16tKamRvfYbdu22djYGMpZd2+HFp84tBFHwurEwsLio48+0vq4wMKFC4mopqamtLSUewCWlpapqamaE+nt7e3ZAgFKpfKdd95xcHDQTD9r1iwiunr1qlKpfGLmurUkEonmzZtHRPv3729tbdVMLJPJiMjd3X3ixInc46ducDnwbURWdS4uLlZWWIYWAAAAoMtgCAC6QFtb29GjRxcsWDBixAhfX1+vP/zyyy9ExBYG09KjRw/dBfYsLCyio6OJSL38/rlz55RKpUgkmjBhgm4mtra2Q4cOJaIrV64ICFs9csYLu00iIs3l+tRiY2OJqLW19cKFC1q7vLy8hg0bZihbvXtNWHwBbcSdsDrx9/f38fHRSuzn58d+qFdq4MLf39/T01Nr44ABA4jIwsIiIiJC7y6FQlFbW6u5nXstLViwQCQS3bt37+TJk+qNra2t//znP4lozpw5vL6b2B0uB76NyM5VVFS0atWq+/fvCzgjAAAAALQfnsZAZ5PL5ZMnT87LyzOUoKGhQXfjoEGD9CZmd4B37txRKpVWVla//vorEalUKt1nnpr0PnJ/omeeeYb9qK+v535UeXk5EUmlUm9vb929Q4YMYT8qKiq0drHbTkP07jVV8YW1EXfC6sTDw0M3sb29Pfvx8OFD7gHozYota+fo6KjOU83Ozo790Fxyn1ct+fj4hIeHnz59WiaTvfDCC2zjqVOnKisriWj+/Pncg6fucTnwbcRx48ZFRUVlZmZ++OGHaWlpQUFBY8eODQsLCw8PZ28NAAAAAEAnwBAAdLYXX3wxLy/P0dExISFh4sSJ/fr1c3BwYHODQ0JCcnNz9c61lkqlenNTb29ubnZycmI3XZaWll5eXkZi0F3vnQv2OjcRFRYWPvfccxyPampqIsPxOzg4iEQilUrV2NiotUv3RvSJe01VfGFtxJ2wOjE+gZzXHA0jj9yNP43XPAvfWnrppZdOnz797bff1tfXs3dJ2FsAI0aMUN8wc9QdLgcBjXj48OGUlJRPP/20srIyLy8vLy9vy5YtTk5OK1asWLNmje63HgAAAADA5DAEAJ3q+vXr7GvkBw4ceP7557X2Gnm2rPtVdobdh9Aft8Tsv7a2tmVlZSYJWBNb/IyIsrKyuH+lnN0jqePUwlZiIyKtl8+FMUnxBbcRd51ZJx1EQC1NmzbN2dm5vr4+PT19yZIlDQ0NR48eJSL1Fwe46w6Xg4BGtLGxWb9+/bp16/Lz87Ozs7Oysr777ruGhoakpKSysrK9e/eaPEgAAAAA0IK1AKBTsbeOHR0dde+aHj9+XFxcbOhA9nK1oe2enp7s6StbDq2pqYlNgTatnj17BgcHE9GxY8fu3bvH8Sg2d6Cpqen27du6ewsKCtgP3bfcBTBJ8QW3EXedWScdREAtSSQStj4/e/ifnp7+6NEjGxsbttYgL93hchDciCKRKCAgYOnSpenp6ZWVlVOmTCEimUymNx8AAAAAMC0MAUCnYi9st7a26k7bzsjIUCgUhg6Uy+W5ublaG9va2o4dO0ZE6qXRwsPDLSwsSGNRdNNin0ZTKBSvvvqq8Znn6mjVcwcOHz6sm+zQoUNEZGlpOWrUqPaHZ5Li820jsVjM0nM/RWfWSQcR1pNfeuklIrpw4UJRURFro5iYGBcXF75n7w6Xg0kaUSqVvvXWW0SkUqnU4yYCehQAAAAAcIQhAOhU7JFgc3Oz1lflqqurExMTjR+bkJCg9XL1jh07SkpKSGM1NS8vr5kzZxJRampqdna23nxKSkqMjDUYN23atJiYGCI6cuTIggUL9M7Hrq6unj9//po1a9g/BwwYwL4q/9577929e1czZWFhIftY+pQpU1xdXYWFpMkkxefbRm5ubkTElrXjqDPrpIMI68lBQUF/+tOfiGj9+vVsqXy+CwGqdfnlwLcRS0tL29radPNhywrSHx2JBPUoAAAAAOAIQwBgYlevXv3JgJqamrCwMHZLEBcXl56eLpfLa2trDx06FBwcfP/+fSOLlnl6eubm5kZGRubl5TU3N5eXl2/YsGHFihVEFBERERkZqU6Zlpbm4eGhUCgiIiJWr159+fLl+vr6+vr6goICmUwWExMzaNAgXqvHa9m7d++IESOISCaTDRgwIDExMTMz89KlS7m5uV9//fWCBQt8fX3ZTG/NkKytrauqqsaMGZORkVFTU1NdXS2TCT64DAAABQNJREFUycaPH//w4UOpVJqSkiI4Hi3tLz7fNgoKCiKiioqK7du3y+VypVKpVCr13uxpxdlpddIRBPdk9ub/gQMHiMjDw0Pv5/qeqJtcDrwacfPmzX5+fsnJyefPn79//35LS0tFRcXnn3++ePFiIvL39w8ICGAphfUoAAAAAOBEBWAKW7ZseWJn+/rrr1Uq1cGDB3UXXbexsUlPT2cTmOPj4zVzjouLI6KoqKj3339fN8+AgAC5XK4VTFFRkb+/v6EwrKysGhoa1InZ3P6RI0dyL2xzc/PixYuNLB0/ePDgM2fOaB6SkZHBvjmnxcnJKSsrSyt/dZH1nt34Xl7FN1R2Xm2kUCh0F7RXJzBSvdzrxEiR6+rq2FGnTp0yVCEcs9q6dSsRubq66u5SP0IvLS0VVktqcrmcTXQnooSEBC4x642/gy4HQwy1I/dGXLJkiaEYPD09b968qU5pvEcBAAAAgDDszyrMAoDONmPGjHPnzk2aNMnFxUUsFnt7e8+bN+/ixYuxsbHGD0xISMjMzJwwYYKrq6tEIhk8eHBycvLFixfV84fVBg4ceO3aNZlMNnnyZHd3d7FYLJFI+vbtGx0dvWfPnnv37gn7CpqanZ3dZ599lp+fv379+tGjR/fu3dva2trBwWHw4MELFizIzMy8efNmWFiY5iFTp04tLCxctmzZoEGD7Ozs7O3t/f39V69eXVRUNG7cuPYEo6v9xefVRtbW1mfOnImPjx84cCCvD7x3Zp10BGE92c3NbfLkyey34LcAqNtcDtwbMSkpSSaTzZ07d+jQoT179rSysnJ2dh49evSmTZsKCgo0BykE9ygAAAAAeCKRis/HtAEAoJ3mzJmzf//+kSNH/vTTT10dCwAAAACYC5FIRJgFAADQmR48eHDkyBH6Y1EAAAAAAIDOhCEAAIDOs3v37ocPH9rb28+ePburYwEAAAAAs2PV1QEAADz9WltbHz9+fPbs2bfffpuIFi9e3M4FKQAAAAAABMBaAAAAHc7Z2bmhoYH9dnd3v3nz5jPPPNO1IQEAAACAWcFaAAAAncrNzW3atGnnzp3D/T8AAAAAdAnMAgAAAAAAAAB4ymEWAAAAAAAAAIAZwRAAAAAAAAAAgFnAEAAAAAAAAACAWcAQAAAAAAAAAIBZwBAAAAAAAAAAgFnAEAAAAAAAAACAWcAQAAAAAAAAAIBZwBAAAAAAAAAAgFnAEAAAAAAAAACAWcAQAAAAAAAAAIBZwBAAAAAAAAAAgFnAEAAAAAAAAACAWcAQAAAAAAAAAIBZwBAAAAAAAAAAgFnAEAAAAAAAAACAWcAQAAAAAAAAAIBZwBAAAAAAAAAAgFnAEAAAAAAAAACAWcAQAAAAAAAAAIBZwBAAAAAAAAAAgFnAEAAAAAAAAACAWcAQAAAAAAAAAIBZwBAAAAAAAAAAgFnAEAAAAAAAAACAWcAQAAAAAAAAAIBZwBAAAAAAAAAAgFnAEAAAAAAAAACAWcAQAAAAAAAAAIBZwBAAAAAAAAAAgFnAEAAAAAAAAACAWcAQAAAAAAAAAIBZwBAAAAAAAAAAgFnAEAAAAAAAAACAWcAQAAAAAAAAAIBZwBAAAAAAAAAAgFnAEAAAAAAAAACAWcAQAAAAAAAAAIBZwBAAAAAAAAAAgFnAEAAAAAAAAACAWcAQAAAAAAAAAIBZwBAAAAAAAAAAAAAAAAAAAADA0+L/AJ8ADH32eSEWAAAAAElFTkSuQmCC)"
      ],
      "metadata": {
        "id": "RZYQUTSK_4wA"
      }
    },
    {
      "cell_type": "markdown",
      "source": [
        "## Finding best model and hyper parameter tunning using *RandomizedSearchCV*\n"
      ],
      "metadata": {
        "id": "rfL7isZC_XJF"
      }
    },
    {
      "cell_type": "markdown",
      "source": [
        "![image.png](data:image/png;base64,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)"
      ],
      "metadata": {
        "id": "f2fEWw6Z_zj1"
      }
    },
    {
      "cell_type": "code",
      "execution_count": null,
      "metadata": {
        "id": "JG3N4-vmAZKr"
      },
      "outputs": [],
      "source": [
        "\n",
        "model_params = {\n",
        "    'svm': {\n",
        "        'model':  OneVsRestClassifier(SVC()),\n",
        "        'params' : {\n",
        "            'estimator__C': [1,10,20],\n",
        "            'estimator__kernel': ['rbf','linear']\n",
        "        }  \n",
        "    },\n",
        "    'random_forest': {\n",
        "        'model': OneVsRestClassifier(RandomForestClassifier()),\n",
        "        'params' : {\n",
        "            'estimator__n_estimators': [5,10,20],\n",
        "            'estimator__max_depth': [5, 10, 15],\n",
        "        }\n",
        "    },\n",
        "\n",
        "   \n",
        "    'logistic_regression' : {\n",
        "        'model': OneVsRestClassifier(LogisticRegression()),\n",
        "        'params': {\n",
        "            'estimator__C': [1,5,10]\n",
        "        }\n",
        "    }\n",
        "}\n"
      ]
    },
    {
      "cell_type": "markdown",
      "source": [
        "[When to Use F1 Score vs. Accuracy](https://www.statology.org/f1-score-vs-accuracy/#:~:text=The%20F1%20score%20is%20a,downside%20to%20predicting%20false%20negatives.)"
      ],
      "metadata": {
        "id": "kunnno-aoRvk"
      }
    },
    {
      "cell_type": "markdown",
      "source": [
        "[Which average should I choose?](https://towardsdatascience.com/micro-macro-weighted-averages-of-f1-score-clearly-explained-b603420b292f)"
      ],
      "metadata": {
        "id": "ahEt2Lfsowk5"
      }
    },
    {
      "cell_type": "code",
      "execution_count": null,
      "metadata": {
        "colab": {
          "base_uri": "https://localhost:8080/",
          "height": 247
        },
        "id": "LfVzZSrtBrpf",
        "outputId": "0a1cef5f-6a6a-41c4-8990-9d13b47783de"
      },
      "outputs": [
        {
          "output_type": "stream",
          "name": "stdout",
          "text": [
            "OneVsRestClassifier(estimator=SVC())\n",
            "0.9249869074472576\n",
            "OneVsRestClassifier(estimator=RandomForestClassifier())\n",
            "0.4075223459098063\n",
            "OneVsRestClassifier(estimator=LogisticRegression())\n",
            "0.9179070624534713\n"
          ]
        },
        {
          "output_type": "execute_result",
          "data": {
            "text/plain": [
              "                 model  best_score  \\\n",
              "0                  svm    0.924987   \n",
              "2  logistic_regression    0.917907   \n",
              "1        random_forest    0.407522   \n",
              "\n",
              "                                         best_params  \\\n",
              "0   {'estimator__kernel': 'rbf', 'estimator__C': 20}   \n",
              "2                               {'estimator__C': 10}   \n",
              "1  {'estimator__n_estimators': 5, 'estimator__max...   \n",
              "\n",
              "                                          best_model  \n",
              "0           OneVsRestClassifier(estimator=SVC(C=20))  \n",
              "2  OneVsRestClassifier(estimator=LogisticRegressi...  \n",
              "1  OneVsRestClassifier(estimator=RandomForestClas...  "
            ],
            "text/html": [
              "\n",
              "  <div id=\"df-0a370683-1683-4d76-afda-3c68474bc781\">\n",
              "    <div class=\"colab-df-container\">\n",
              "      <div>\n",
              "<style scoped>\n",
              "    .dataframe tbody tr th:only-of-type {\n",
              "        vertical-align: middle;\n",
              "    }\n",
              "\n",
              "    .dataframe tbody tr th {\n",
              "        vertical-align: top;\n",
              "    }\n",
              "\n",
              "    .dataframe thead th {\n",
              "        text-align: right;\n",
              "    }\n",
              "</style>\n",
              "<table border=\"1\" class=\"dataframe\">\n",
              "  <thead>\n",
              "    <tr style=\"text-align: right;\">\n",
              "      <th></th>\n",
              "      <th>model</th>\n",
              "      <th>best_score</th>\n",
              "      <th>best_params</th>\n",
              "      <th>best_model</th>\n",
              "    </tr>\n",
              "  </thead>\n",
              "  <tbody>\n",
              "    <tr>\n",
              "      <th>0</th>\n",
              "      <td>svm</td>\n",
              "      <td>0.924987</td>\n",
              "      <td>{'estimator__kernel': 'rbf', 'estimator__C': 20}</td>\n",
              "      <td>OneVsRestClassifier(estimator=SVC(C=20))</td>\n",
              "    </tr>\n",
              "    <tr>\n",
              "      <th>2</th>\n",
              "      <td>logistic_regression</td>\n",
              "      <td>0.917907</td>\n",
              "      <td>{'estimator__C': 10}</td>\n",
              "      <td>OneVsRestClassifier(estimator=LogisticRegressi...</td>\n",
              "    </tr>\n",
              "    <tr>\n",
              "      <th>1</th>\n",
              "      <td>random_forest</td>\n",
              "      <td>0.407522</td>\n",
              "      <td>{'estimator__n_estimators': 5, 'estimator__max...</td>\n",
              "      <td>OneVsRestClassifier(estimator=RandomForestClas...</td>\n",
              "    </tr>\n",
              "  </tbody>\n",
              "</table>\n",
              "</div>\n",
              "      <button class=\"colab-df-convert\" onclick=\"convertToInteractive('df-0a370683-1683-4d76-afda-3c68474bc781')\"\n",
              "              title=\"Convert this dataframe to an interactive table.\"\n",
              "              style=\"display:none;\">\n",
              "        \n",
              "  <svg xmlns=\"http://www.w3.org/2000/svg\" height=\"24px\"viewBox=\"0 0 24 24\"\n",
              "       width=\"24px\">\n",
              "    <path d=\"M0 0h24v24H0V0z\" fill=\"none\"/>\n",
              "    <path d=\"M18.56 5.44l.94 2.06.94-2.06 2.06-.94-2.06-.94-.94-2.06-.94 2.06-2.06.94zm-11 1L8.5 8.5l.94-2.06 2.06-.94-2.06-.94L8.5 2.5l-.94 2.06-2.06.94zm10 10l.94 2.06.94-2.06 2.06-.94-2.06-.94-.94-2.06-.94 2.06-2.06.94z\"/><path d=\"M17.41 7.96l-1.37-1.37c-.4-.4-.92-.59-1.43-.59-.52 0-1.04.2-1.43.59L10.3 9.45l-7.72 7.72c-.78.78-.78 2.05 0 2.83L4 21.41c.39.39.9.59 1.41.59.51 0 1.02-.2 1.41-.59l7.78-7.78 2.81-2.81c.8-.78.8-2.07 0-2.86zM5.41 20L4 18.59l7.72-7.72 1.47 1.35L5.41 20z\"/>\n",
              "  </svg>\n",
              "      </button>\n",
              "      \n",
              "  <style>\n",
              "    .colab-df-container {\n",
              "      display:flex;\n",
              "      flex-wrap:wrap;\n",
              "      gap: 12px;\n",
              "    }\n",
              "\n",
              "    .colab-df-convert {\n",
              "      background-color: #E8F0FE;\n",
              "      border: none;\n",
              "      border-radius: 50%;\n",
              "      cursor: pointer;\n",
              "      display: none;\n",
              "      fill: #1967D2;\n",
              "      height: 32px;\n",
              "      padding: 0 0 0 0;\n",
              "      width: 32px;\n",
              "    }\n",
              "\n",
              "    .colab-df-convert:hover {\n",
              "      background-color: #E2EBFA;\n",
              "      box-shadow: 0px 1px 2px rgba(60, 64, 67, 0.3), 0px 1px 3px 1px rgba(60, 64, 67, 0.15);\n",
              "      fill: #174EA6;\n",
              "    }\n",
              "\n",
              "    [theme=dark] .colab-df-convert {\n",
              "      background-color: #3B4455;\n",
              "      fill: #D2E3FC;\n",
              "    }\n",
              "\n",
              "    [theme=dark] .colab-df-convert:hover {\n",
              "      background-color: #434B5C;\n",
              "      box-shadow: 0px 1px 3px 1px rgba(0, 0, 0, 0.15);\n",
              "      filter: drop-shadow(0px 1px 2px rgba(0, 0, 0, 0.3));\n",
              "      fill: #FFFFFF;\n",
              "    }\n",
              "  </style>\n",
              "\n",
              "      <script>\n",
              "        const buttonEl =\n",
              "          document.querySelector('#df-0a370683-1683-4d76-afda-3c68474bc781 button.colab-df-convert');\n",
              "        buttonEl.style.display =\n",
              "          google.colab.kernel.accessAllowed ? 'block' : 'none';\n",
              "\n",
              "        async function convertToInteractive(key) {\n",
              "          const element = document.querySelector('#df-0a370683-1683-4d76-afda-3c68474bc781');\n",
              "          const dataTable =\n",
              "            await google.colab.kernel.invokeFunction('convertToInteractive',\n",
              "                                                     [key], {});\n",
              "          if (!dataTable) return;\n",
              "\n",
              "          const docLinkHtml = 'Like what you see? Visit the ' +\n",
              "            '<a target=\"_blank\" href=https://colab.research.google.com/notebooks/data_table.ipynb>data table notebook</a>'\n",
              "            + ' to learn more about interactive tables.';\n",
              "          element.innerHTML = '';\n",
              "          dataTable['output_type'] = 'display_data';\n",
              "          await google.colab.output.renderOutput(dataTable, element);\n",
              "          const docLink = document.createElement('div');\n",
              "          docLink.innerHTML = docLinkHtml;\n",
              "          element.appendChild(docLink);\n",
              "        }\n",
              "      </script>\n",
              "    </div>\n",
              "  </div>\n",
              "  "
            ]
          },
          "metadata": {},
          "execution_count": 91
        }
      ],
      "source": [
        "\n",
        "scores = []\n",
        "\n",
        "for model_name, mp in model_params.items():\n",
        "    print(mp['model'])\n",
        "    clf =  RandomizedSearchCV(mp['model'], mp['params'],scoring ='f1_weighted', cv=5, n_iter=3) # scoring = 'f1_weighted'\n",
        "    clf.fit(X_train, y_train)\n",
        "    scores.append({\n",
        "        'model': model_name,\n",
        "        'best_score': clf.best_score_,\n",
        "        'best_params': clf.best_params_,\n",
        "        'best_model': clf.best_estimator_\n",
        "    })\n",
        "    print(clf.best_score_)\n",
        "\n",
        "    \n",
        "df = pd.DataFrame(scores,columns=['model','best_score','best_params','best_model'])\n",
        "df = df.sort_values(by=['best_score'], ascending=False)\n",
        "df"
      ]
    },
    {
      "cell_type": "code",
      "source": [
        "df = df.sort_values(by=['best_score'], ascending=False)\n",
        "df"
      ],
      "metadata": {
        "colab": {
          "base_uri": "https://localhost:8080/",
          "height": 143
        },
        "id": "ojGXxb1ks5Hh",
        "outputId": "9abdb563-f0c7-41c0-caed-aba8d994c5e4"
      },
      "execution_count": null,
      "outputs": [
        {
          "output_type": "execute_result",
          "data": {
            "text/plain": [
              "                 model  best_score  \\\n",
              "0                  svm    0.924987   \n",
              "2  logistic_regression    0.917907   \n",
              "1        random_forest    0.407522   \n",
              "\n",
              "                                         best_params  \\\n",
              "0   {'estimator__kernel': 'rbf', 'estimator__C': 20}   \n",
              "2                               {'estimator__C': 10}   \n",
              "1  {'estimator__n_estimators': 5, 'estimator__max...   \n",
              "\n",
              "                                          best_model  \n",
              "0           OneVsRestClassifier(estimator=SVC(C=20))  \n",
              "2  OneVsRestClassifier(estimator=LogisticRegressi...  \n",
              "1  OneVsRestClassifier(estimator=RandomForestClas...  "
            ],
            "text/html": [
              "\n",
              "  <div id=\"df-8ab3a5d7-d62c-45bd-b7b6-869865c73950\">\n",
              "    <div class=\"colab-df-container\">\n",
              "      <div>\n",
              "<style scoped>\n",
              "    .dataframe tbody tr th:only-of-type {\n",
              "        vertical-align: middle;\n",
              "    }\n",
              "\n",
              "    .dataframe tbody tr th {\n",
              "        vertical-align: top;\n",
              "    }\n",
              "\n",
              "    .dataframe thead th {\n",
              "        text-align: right;\n",
              "    }\n",
              "</style>\n",
              "<table border=\"1\" class=\"dataframe\">\n",
              "  <thead>\n",
              "    <tr style=\"text-align: right;\">\n",
              "      <th></th>\n",
              "      <th>model</th>\n",
              "      <th>best_score</th>\n",
              "      <th>best_params</th>\n",
              "      <th>best_model</th>\n",
              "    </tr>\n",
              "  </thead>\n",
              "  <tbody>\n",
              "    <tr>\n",
              "      <th>0</th>\n",
              "      <td>svm</td>\n",
              "      <td>0.924987</td>\n",
              "      <td>{'estimator__kernel': 'rbf', 'estimator__C': 20}</td>\n",
              "      <td>OneVsRestClassifier(estimator=SVC(C=20))</td>\n",
              "    </tr>\n",
              "    <tr>\n",
              "      <th>2</th>\n",
              "      <td>logistic_regression</td>\n",
              "      <td>0.917907</td>\n",
              "      <td>{'estimator__C': 10}</td>\n",
              "      <td>OneVsRestClassifier(estimator=LogisticRegressi...</td>\n",
              "    </tr>\n",
              "    <tr>\n",
              "      <th>1</th>\n",
              "      <td>random_forest</td>\n",
              "      <td>0.407522</td>\n",
              "      <td>{'estimator__n_estimators': 5, 'estimator__max...</td>\n",
              "      <td>OneVsRestClassifier(estimator=RandomForestClas...</td>\n",
              "    </tr>\n",
              "  </tbody>\n",
              "</table>\n",
              "</div>\n",
              "      <button class=\"colab-df-convert\" onclick=\"convertToInteractive('df-8ab3a5d7-d62c-45bd-b7b6-869865c73950')\"\n",
              "              title=\"Convert this dataframe to an interactive table.\"\n",
              "              style=\"display:none;\">\n",
              "        \n",
              "  <svg xmlns=\"http://www.w3.org/2000/svg\" height=\"24px\"viewBox=\"0 0 24 24\"\n",
              "       width=\"24px\">\n",
              "    <path d=\"M0 0h24v24H0V0z\" fill=\"none\"/>\n",
              "    <path d=\"M18.56 5.44l.94 2.06.94-2.06 2.06-.94-2.06-.94-.94-2.06-.94 2.06-2.06.94zm-11 1L8.5 8.5l.94-2.06 2.06-.94-2.06-.94L8.5 2.5l-.94 2.06-2.06.94zm10 10l.94 2.06.94-2.06 2.06-.94-2.06-.94-.94-2.06-.94 2.06-2.06.94z\"/><path d=\"M17.41 7.96l-1.37-1.37c-.4-.4-.92-.59-1.43-.59-.52 0-1.04.2-1.43.59L10.3 9.45l-7.72 7.72c-.78.78-.78 2.05 0 2.83L4 21.41c.39.39.9.59 1.41.59.51 0 1.02-.2 1.41-.59l7.78-7.78 2.81-2.81c.8-.78.8-2.07 0-2.86zM5.41 20L4 18.59l7.72-7.72 1.47 1.35L5.41 20z\"/>\n",
              "  </svg>\n",
              "      </button>\n",
              "      \n",
              "  <style>\n",
              "    .colab-df-container {\n",
              "      display:flex;\n",
              "      flex-wrap:wrap;\n",
              "      gap: 12px;\n",
              "    }\n",
              "\n",
              "    .colab-df-convert {\n",
              "      background-color: #E8F0FE;\n",
              "      border: none;\n",
              "      border-radius: 50%;\n",
              "      cursor: pointer;\n",
              "      display: none;\n",
              "      fill: #1967D2;\n",
              "      height: 32px;\n",
              "      padding: 0 0 0 0;\n",
              "      width: 32px;\n",
              "    }\n",
              "\n",
              "    .colab-df-convert:hover {\n",
              "      background-color: #E2EBFA;\n",
              "      box-shadow: 0px 1px 2px rgba(60, 64, 67, 0.3), 0px 1px 3px 1px rgba(60, 64, 67, 0.15);\n",
              "      fill: #174EA6;\n",
              "    }\n",
              "\n",
              "    [theme=dark] .colab-df-convert {\n",
              "      background-color: #3B4455;\n",
              "      fill: #D2E3FC;\n",
              "    }\n",
              "\n",
              "    [theme=dark] .colab-df-convert:hover {\n",
              "      background-color: #434B5C;\n",
              "      box-shadow: 0px 1px 3px 1px rgba(0, 0, 0, 0.15);\n",
              "      filter: drop-shadow(0px 1px 2px rgba(0, 0, 0, 0.3));\n",
              "      fill: #FFFFFF;\n",
              "    }\n",
              "  </style>\n",
              "\n",
              "      <script>\n",
              "        const buttonEl =\n",
              "          document.querySelector('#df-8ab3a5d7-d62c-45bd-b7b6-869865c73950 button.colab-df-convert');\n",
              "        buttonEl.style.display =\n",
              "          google.colab.kernel.accessAllowed ? 'block' : 'none';\n",
              "\n",
              "        async function convertToInteractive(key) {\n",
              "          const element = document.querySelector('#df-8ab3a5d7-d62c-45bd-b7b6-869865c73950');\n",
              "          const dataTable =\n",
              "            await google.colab.kernel.invokeFunction('convertToInteractive',\n",
              "                                                     [key], {});\n",
              "          if (!dataTable) return;\n",
              "\n",
              "          const docLinkHtml = 'Like what you see? Visit the ' +\n",
              "            '<a target=\"_blank\" href=https://colab.research.google.com/notebooks/data_table.ipynb>data table notebook</a>'\n",
              "            + ' to learn more about interactive tables.';\n",
              "          element.innerHTML = '';\n",
              "          dataTable['output_type'] = 'display_data';\n",
              "          await google.colab.output.renderOutput(dataTable, element);\n",
              "          const docLink = document.createElement('div');\n",
              "          docLink.innerHTML = docLinkHtml;\n",
              "          element.appendChild(docLink);\n",
              "        }\n",
              "      </script>\n",
              "    </div>\n",
              "  </div>\n",
              "  "
            ]
          },
          "metadata": {},
          "execution_count": 92
        }
      ]
    },
    {
      "cell_type": "code",
      "source": [
        "best_model = df['best_model'][0]"
      ],
      "metadata": {
        "id": "y8Lb4pIYNufD"
      },
      "execution_count": null,
      "outputs": []
    },
    {
      "cell_type": "code",
      "source": [
        "best_model"
      ],
      "metadata": {
        "colab": {
          "base_uri": "https://localhost:8080/"
        },
        "id": "iaEcD_I_N4tP",
        "outputId": "81be606c-eabb-4194-bcd7-0b0b9a21bb1d"
      },
      "execution_count": null,
      "outputs": [
        {
          "output_type": "execute_result",
          "data": {
            "text/plain": [
              "OneVsRestClassifier(estimator=SVC(C=20))"
            ]
          },
          "metadata": {},
          "execution_count": 95
        }
      ]
    },
    {
      "cell_type": "code",
      "source": [
        "y_pred = best_model.predict(X_test)"
      ],
      "metadata": {
        "id": "cD19A47vN9HJ"
      },
      "execution_count": null,
      "outputs": []
    },
    {
      "cell_type": "code",
      "source": [
        "f1_score(y_test, y_pred, average='micro')"
      ],
      "metadata": {
        "colab": {
          "base_uri": "https://localhost:8080/"
        },
        "id": "Mlz00bc1OHb2",
        "outputId": "dd938b20-23a4-42fa-84f0-695ad414c77f"
      },
      "execution_count": null,
      "outputs": [
        {
          "output_type": "execute_result",
          "data": {
            "text/plain": [
              "0.9300340987869873"
            ]
          },
          "metadata": {},
          "execution_count": 97
        }
      ]
    },
    {
      "cell_type": "code",
      "source": [
        "hamming_loss(y_test,y_pred)"
      ],
      "metadata": {
        "colab": {
          "base_uri": "https://localhost:8080/"
        },
        "id": "mi4IPVPtt7WC",
        "outputId": "800ea391-3145-4d9f-d2e7-6aa01e7c363d"
      },
      "execution_count": null,
      "outputs": [
        {
          "output_type": "execute_result",
          "data": {
            "text/plain": [
              "0.010419354838709677"
            ]
          },
          "metadata": {},
          "execution_count": 98
        }
      ]
    },
    {
      "cell_type": "markdown",
      "source": [
        "## Save the model\n"
      ],
      "metadata": {
        "id": "E7h6M7l3-MBo"
      }
    },
    {
      "cell_type": "markdown",
      "source": [
        "We need to pickle or save your model so that we can quickly load the trained model into the API script."
      ],
      "metadata": {
        "id": "X--7Z365A6I_"
      }
    },
    {
      "cell_type": "code",
      "source": [
        "import joblib"
      ],
      "metadata": {
        "id": "Dd32wKbeQReL"
      },
      "execution_count": null,
      "outputs": []
    },
    {
      "cell_type": "code",
      "source": [
        "filename = \"model.sav\"\n",
        "joblib.dump(best_model, filename)  "
      ],
      "metadata": {
        "colab": {
          "base_uri": "https://localhost:8080/"
        },
        "id": "L6JpHEQSP2Bz",
        "outputId": "779f388a-452f-423f-8a19-881212c1b6a2"
      },
      "execution_count": null,
      "outputs": [
        {
          "output_type": "execute_result",
          "data": {
            "text/plain": [
              "['model.sav']"
            ]
          },
          "metadata": {},
          "execution_count": 100
        }
      ]
    },
    {
      "cell_type": "markdown",
      "source": [
        "#  API "
      ],
      "metadata": {
        "id": "cAD-pPSHIj2Y"
      }
    },
    {
      "cell_type": "code",
      "source": [
        "# Api for category prediction\n",
        "def Prediction(name,description):\n",
        "\n",
        "    d = {'name': name, 'description': description}\n",
        "    data = pd.DataFrame(data=d, index=[0])\n",
        "    data = clean_text(data, 'name', 'name')\n",
        "    data= clean_text(data, 'description', 'description')\n",
        "\n",
        "    X = v.transform(data['name'] + data['description'])\n",
        "    filename = \"model.sav\"\n",
        "    model = joblib.load(filename) # loading already saved model\n",
        "\n",
        "\n",
        "    # calculating test accuracy\n",
        "    prediction = model.predict(X)\n",
        "    L = list(prediction[0])\n",
        "\n",
        "    for i, p in enumerate(L):\n",
        "        if p ==1:\n",
        "            label = list(labels_encoding.columns) \n",
        "            print(label[i])\n",
        "\n",
        "    return prediction\n"
      ],
      "metadata": {
        "id": "DUu4565CLcEf"
      },
      "execution_count": null,
      "outputs": []
    },
    {
      "cell_type": "code",
      "source": [
        "name = \"Duracell - AAA Batteries (4-Pack)\"\n",
        "description = \"Compatible with select electronic devices; AAA size; DURALOCK Power Preserve technology; 4-pack\"\n",
        "prediction = Prediction(name,description)"
      ],
      "metadata": {
        "colab": {
          "base_uri": "https://localhost:8080/"
        },
        "id": "6mlix7UqRbx_",
        "outputId": "12764720-5366-4ea1-f5a1-6559e7490350"
      },
      "execution_count": null,
      "outputs": [
        {
          "output_type": "stream",
          "name": "stdout",
          "text": [
            "Connected Home & Housewares\n",
            "other_categories\n"
          ]
        }
      ]
    },
    {
      "cell_type": "code",
      "source": [
        "name = \"Samsung - Galaxy S7 32GB - Black Onyx (Sprint)\"\n",
        "description = \"Qualcomm Snapdragon 820 MSM8996 2.2GHz quad-core processorAndroid 6.0 Marshmallow operating system4G mobile hotspot capability with support for up to 10 devicesWiFi Capable 802.11 a/b/g/n/ac5.1\\\" WQHD touch-screen displayBluetooth 4.2\"\n",
        "prediction = Prediction(name,description)"
      ],
      "metadata": {
        "colab": {
          "base_uri": "https://localhost:8080/"
        },
        "id": "O7Hgfw7kXHUi",
        "outputId": "63faefff-ada6-42aa-e494-e79d82811082"
      },
      "execution_count": null,
      "outputs": [
        {
          "output_type": "stream",
          "name": "stdout",
          "text": [
            "Cell Phones\n",
            "other_categories\n"
          ]
        }
      ]
    },
    {
      "cell_type": "code",
      "source": [
        "name = \"Motorola - Moto 360 2nd Generation Men's Smartwatch 42mm Stainless Steel - Gold Stainless Steel\"\n",
        "description = \"Fits most wrist sizesCompatible with most Apple&#174; iOS and Android cell phones22mm stainless steel bandWater-resistant designAt-a-glance notifications\"\n",
        "prediction = Prediction(name,description)"
      ],
      "metadata": {
        "colab": {
          "base_uri": "https://localhost:8080/"
        },
        "id": "VBLTzJtIWwO3",
        "outputId": "2b821725-c5d0-441b-84ad-cc09ee992949"
      },
      "execution_count": null,
      "outputs": [
        {
          "output_type": "stream",
          "name": "stdout",
          "text": [
            "Cell Phone Accessories\n",
            "Cell Phones\n",
            "other_categories\n"
          ]
        }
      ]
    },
    {
      "cell_type": "markdown",
      "source": [
        "# Deploy the model"
      ],
      "metadata": {
        "id": "yICBzw6aIrLg"
      }
    },
    {
      "cell_type": "markdown",
      "source": [
        "[ColabCode: Deploying Machine Learning Models From Google Colab](https://towardsdatascience.com/colabcode-deploying-machine-learning-models-from-google-colab-54e0d37a7b09)"
      ],
      "metadata": {
        "id": "-11Wj_tIUl58"
      }
    },
    {
      "cell_type": "markdown",
      "source": [
        "[Deploy ML Models from Colab](https://www.youtube.com/watch?v=7-igAakUUTY)"
      ],
      "metadata": {
        "id": "e1Ba2ynjUvMD"
      }
    },
    {
      "cell_type": "markdown",
      "source": [
        "[Deploy Your Machine Learning Model as a REST API](https://http://sparida.blogspot.com/2019/11/deploy-your-machine-learning-model-as.html)"
      ],
      "metadata": {
        "id": "bLylnLYsU6j8"
      }
    },
    {
      "cell_type": "code",
      "source": [
        "!pip install colabcode\n",
        "!pip install fastapi"
      ],
      "metadata": {
        "colab": {
          "base_uri": "https://localhost:8080/",
          "height": 1000
        },
        "id": "zq2oDREKITw_",
        "outputId": "fe776598-dd18-44bb-915e-871d22fa4988"
      },
      "execution_count": null,
      "outputs": [
        {
          "output_type": "stream",
          "name": "stdout",
          "text": [
            "Collecting colabcode\n",
            "  Downloading colabcode-0.3.0-py3-none-any.whl (5.0 kB)\n",
            "Collecting uvicorn==0.13.1\n",
            "  Downloading uvicorn-0.13.1-py3-none-any.whl (45 kB)\n",
            "\u001b[K     |████████████████████████████████| 45 kB 1.5 MB/s \n",
            "\u001b[?25hCollecting jupyterlab==3.0.7\n",
            "  Downloading jupyterlab-3.0.7-py3-none-any.whl (8.3 MB)\n",
            "\u001b[K     |████████████████████████████████| 8.3 MB 9.4 MB/s \n",
            "\u001b[?25hCollecting nest-asyncio==1.4.3\n",
            "  Downloading nest_asyncio-1.4.3-py3-none-any.whl (5.3 kB)\n",
            "Collecting pyngrok>=5.0.0\n",
            "  Downloading pyngrok-5.1.0.tar.gz (745 kB)\n",
            "\u001b[K     |████████████████████████████████| 745 kB 36.8 MB/s \n",
            "\u001b[?25hRequirement already satisfied: jupyter-core in /usr/local/lib/python3.7/dist-packages (from jupyterlab==3.0.7->colabcode) (4.9.2)\n",
            "Collecting jupyter-server~=1.2\n",
            "  Downloading jupyter_server-1.16.0-py3-none-any.whl (343 kB)\n",
            "\u001b[K     |████████████████████████████████| 343 kB 37.8 MB/s \n",
            "\u001b[?25hRequirement already satisfied: jinja2>=2.10 in /usr/local/lib/python3.7/dist-packages (from jupyterlab==3.0.7->colabcode) (2.11.3)\n",
            "Requirement already satisfied: ipython in /usr/local/lib/python3.7/dist-packages (from jupyterlab==3.0.7->colabcode) (5.5.0)\n",
            "Collecting nbclassic~=0.2\n",
            "  Downloading nbclassic-0.3.7-py3-none-any.whl (13 kB)\n",
            "Collecting tornado>=6.1.0\n",
            "  Downloading tornado-6.1-cp37-cp37m-manylinux2010_x86_64.whl (428 kB)\n",
            "\u001b[K     |████████████████████████████████| 428 kB 45.8 MB/s \n",
            "\u001b[?25hRequirement already satisfied: packaging in /usr/local/lib/python3.7/dist-packages (from jupyterlab==3.0.7->colabcode) (21.3)\n",
            "Collecting jupyterlab-server~=2.0\n",
            "  Downloading jupyterlab_server-2.12.0-py3-none-any.whl (53 kB)\n",
            "\u001b[K     |████████████████████████████████| 53 kB 1.5 MB/s \n",
            "\u001b[?25hRequirement already satisfied: typing-extensions in /usr/local/lib/python3.7/dist-packages (from uvicorn==0.13.1->colabcode) (3.10.0.2)\n",
            "Collecting h11>=0.8\n",
            "  Downloading h11-0.13.0-py3-none-any.whl (58 kB)\n",
            "\u001b[K     |████████████████████████████████| 58 kB 4.5 MB/s \n",
            "\u001b[?25hRequirement already satisfied: click==7.* in /usr/local/lib/python3.7/dist-packages (from uvicorn==0.13.1->colabcode) (7.1.2)\n",
            "Requirement already satisfied: MarkupSafe>=0.23 in /usr/local/lib/python3.7/dist-packages (from jinja2>=2.10->jupyterlab==3.0.7->colabcode) (2.0.1)\n",
            "Requirement already satisfied: argon2-cffi in /usr/local/lib/python3.7/dist-packages (from jupyter-server~=1.2->jupyterlab==3.0.7->colabcode) (21.3.0)\n",
            "Collecting nbconvert>=6.4.4\n",
            "  Downloading nbconvert-6.4.5-py3-none-any.whl (561 kB)\n",
            "\u001b[K     |████████████████████████████████| 561 kB 18.4 MB/s \n",
            "\u001b[?25hRequirement already satisfied: terminado>=0.8.3 in /usr/local/lib/python3.7/dist-packages (from jupyter-server~=1.2->jupyterlab==3.0.7->colabcode) (0.13.3)\n",
            "Collecting anyio>=3.1.0\n",
            "  Downloading anyio-3.5.0-py3-none-any.whl (79 kB)\n",
            "\u001b[K     |████████████████████████████████| 79 kB 6.2 MB/s \n",
            "\u001b[?25hRequirement already satisfied: nbformat>=5.2.0 in /usr/local/lib/python3.7/dist-packages (from jupyter-server~=1.2->jupyterlab==3.0.7->colabcode) (5.2.0)\n",
            "Collecting websocket-client\n",
            "  Downloading websocket_client-1.3.2-py3-none-any.whl (54 kB)\n",
            "\u001b[K     |████████████████████████████████| 54 kB 2.0 MB/s \n",
            "\u001b[?25hRequirement already satisfied: Send2Trash in /usr/local/lib/python3.7/dist-packages (from jupyter-server~=1.2->jupyterlab==3.0.7->colabcode) (1.8.0)\n",
            "Requirement already satisfied: prometheus-client in /usr/local/lib/python3.7/dist-packages (from jupyter-server~=1.2->jupyterlab==3.0.7->colabcode) (0.13.1)\n",
            "Requirement already satisfied: pyzmq>=17 in /usr/local/lib/python3.7/dist-packages (from jupyter-server~=1.2->jupyterlab==3.0.7->colabcode) (22.3.0)\n",
            "Collecting jupyter-client>=6.1.12\n",
            "  Downloading jupyter_client-7.2.2-py3-none-any.whl (130 kB)\n",
            "\u001b[K     |████████████████████████████████| 130 kB 49.4 MB/s \n",
            "\u001b[?25hRequirement already satisfied: traitlets>=5.1.0 in /usr/local/lib/python3.7/dist-packages (from jupyter-server~=1.2->jupyterlab==3.0.7->colabcode) (5.1.1)\n",
            "Requirement already satisfied: idna>=2.8 in /usr/local/lib/python3.7/dist-packages (from anyio>=3.1.0->jupyter-server~=1.2->jupyterlab==3.0.7->colabcode) (2.10)\n",
            "Collecting sniffio>=1.1\n",
            "  Downloading sniffio-1.2.0-py3-none-any.whl (10 kB)\n",
            "Requirement already satisfied: python-dateutil>=2.8.2 in /usr/local/lib/python3.7/dist-packages (from jupyter-client>=6.1.12->jupyter-server~=1.2->jupyterlab==3.0.7->colabcode) (2.8.2)\n",
            "Requirement already satisfied: entrypoints in /usr/local/lib/python3.7/dist-packages (from jupyter-client>=6.1.12->jupyter-server~=1.2->jupyterlab==3.0.7->colabcode) (0.4)\n",
            "Collecting jupyter-client>=6.1.12\n",
            "  Downloading jupyter_client-7.2.1-py3-none-any.whl (130 kB)\n",
            "\u001b[K     |████████████████████████████████| 130 kB 37.4 MB/s \n",
            "\u001b[?25h  Downloading jupyter_client-7.2.0-py3-none-any.whl (130 kB)\n",
            "\u001b[K     |████████████████████████████████| 130 kB 55.9 MB/s \n",
            "\u001b[?25h  Downloading jupyter_client-7.1.2-py3-none-any.whl (130 kB)\n",
            "\u001b[K     |████████████████████████████████| 130 kB 58.1 MB/s \n",
            "\u001b[?25h  Downloading jupyter_client-7.1.1-py3-none-any.whl (130 kB)\n",
            "\u001b[K     |████████████████████████████████| 130 kB 51.4 MB/s \n",
            "\u001b[?25h  Downloading jupyter_client-7.1.0-py3-none-any.whl (129 kB)\n",
            "\u001b[K     |████████████████████████████████| 129 kB 43.0 MB/s \n",
            "\u001b[?25h  Downloading jupyter_client-7.0.6-py3-none-any.whl (125 kB)\n",
            "\u001b[K     |████████████████████████████████| 125 kB 50.8 MB/s \n",
            "\u001b[?25h  Downloading jupyter_client-7.0.5-py3-none-any.whl (124 kB)\n",
            "\u001b[K     |████████████████████████████████| 124 kB 40.2 MB/s \n",
            "\u001b[?25h  Downloading jupyter_client-7.0.4-py3-none-any.whl (124 kB)\n",
            "\u001b[K     |████████████████████████████████| 124 kB 40.9 MB/s \n",
            "\u001b[?25h  Downloading jupyter_client-7.0.3-py3-none-any.whl (122 kB)\n",
            "\u001b[K     |████████████████████████████████| 122 kB 48.0 MB/s \n",
            "\u001b[?25h  Downloading jupyter_client-7.0.2-py3-none-any.whl (122 kB)\n",
            "\u001b[K     |████████████████████████████████| 122 kB 38.9 MB/s \n",
            "\u001b[?25h  Downloading jupyter_client-7.0.1-py3-none-any.whl (122 kB)\n",
            "\u001b[K     |████████████████████████████████| 122 kB 40.4 MB/s \n",
            "\u001b[?25h  Downloading jupyter_client-7.0.0-py3-none-any.whl (122 kB)\n",
            "\u001b[K     |████████████████████████████████| 122 kB 49.1 MB/s \n",
            "\u001b[?25h  Downloading jupyter_client-6.1.12-py3-none-any.whl (112 kB)\n",
            "\u001b[K     |████████████████████████████████| 112 kB 50.9 MB/s \n",
            "\u001b[?25hCollecting json5\n",
            "  Downloading json5-0.9.6-py2.py3-none-any.whl (18 kB)\n",
            "Requirement already satisfied: jsonschema>=3.0.1 in /usr/local/lib/python3.7/dist-packages (from jupyterlab-server~=2.0->jupyterlab==3.0.7->colabcode) (4.3.3)\n",
            "Requirement already satisfied: requests in /usr/local/lib/python3.7/dist-packages (from jupyterlab-server~=2.0->jupyterlab==3.0.7->colabcode) (2.23.0)\n",
            "Requirement already satisfied: babel in /usr/local/lib/python3.7/dist-packages (from jupyterlab-server~=2.0->jupyterlab==3.0.7->colabcode) (2.9.1)\n",
            "Collecting jinja2>=2.10\n",
            "  Downloading Jinja2-3.1.1-py3-none-any.whl (132 kB)\n",
            "\u001b[K     |████████████████████████████████| 132 kB 42.4 MB/s \n",
            "\u001b[?25hRequirement already satisfied: pyrsistent!=0.17.0,!=0.17.1,!=0.17.2,>=0.14.0 in /usr/local/lib/python3.7/dist-packages (from jsonschema>=3.0.1->jupyterlab-server~=2.0->jupyterlab==3.0.7->colabcode) (0.18.1)\n",
            "Requirement already satisfied: importlib-resources>=1.4.0 in /usr/local/lib/python3.7/dist-packages (from jsonschema>=3.0.1->jupyterlab-server~=2.0->jupyterlab==3.0.7->colabcode) (5.4.0)\n",
            "Requirement already satisfied: attrs>=17.4.0 in /usr/local/lib/python3.7/dist-packages (from jsonschema>=3.0.1->jupyterlab-server~=2.0->jupyterlab==3.0.7->colabcode) (21.4.0)\n",
            "Requirement already satisfied: importlib-metadata in /usr/local/lib/python3.7/dist-packages (from jsonschema>=3.0.1->jupyterlab-server~=2.0->jupyterlab==3.0.7->colabcode) (4.11.3)\n",
            "Requirement already satisfied: zipp>=3.1.0 in /usr/local/lib/python3.7/dist-packages (from importlib-resources>=1.4.0->jsonschema>=3.0.1->jupyterlab-server~=2.0->jupyterlab==3.0.7->colabcode) (3.7.0)\n",
            "Requirement already satisfied: notebook<7 in /usr/local/lib/python3.7/dist-packages (from nbclassic~=0.2->jupyterlab==3.0.7->colabcode) (5.3.1)\n",
            "Collecting notebook-shim>=0.1.0\n",
            "  Downloading notebook_shim-0.1.0-py3-none-any.whl (13 kB)\n",
            "Requirement already satisfied: testpath in /usr/local/lib/python3.7/dist-packages (from nbconvert>=6.4.4->jupyter-server~=1.2->jupyterlab==3.0.7->colabcode) (0.6.0)\n",
            "Requirement already satisfied: mistune<2,>=0.8.1 in /usr/local/lib/python3.7/dist-packages (from nbconvert>=6.4.4->jupyter-server~=1.2->jupyterlab==3.0.7->colabcode) (0.8.4)\n",
            "Requirement already satisfied: pygments>=2.4.1 in /usr/local/lib/python3.7/dist-packages (from nbconvert>=6.4.4->jupyter-server~=1.2->jupyterlab==3.0.7->colabcode) (2.6.1)\n",
            "Requirement already satisfied: nbclient<0.6.0,>=0.5.0 in /usr/local/lib/python3.7/dist-packages (from nbconvert>=6.4.4->jupyter-server~=1.2->jupyterlab==3.0.7->colabcode) (0.5.13)\n",
            "Requirement already satisfied: jupyterlab-pygments in /usr/local/lib/python3.7/dist-packages (from nbconvert>=6.4.4->jupyter-server~=1.2->jupyterlab==3.0.7->colabcode) (0.1.2)\n",
            "Requirement already satisfied: defusedxml in /usr/local/lib/python3.7/dist-packages (from nbconvert>=6.4.4->jupyter-server~=1.2->jupyterlab==3.0.7->colabcode) (0.7.1)\n",
            "Requirement already satisfied: bleach in /usr/local/lib/python3.7/dist-packages (from nbconvert>=6.4.4->jupyter-server~=1.2->jupyterlab==3.0.7->colabcode) (4.1.0)\n",
            "Requirement already satisfied: beautifulsoup4 in /usr/local/lib/python3.7/dist-packages (from nbconvert>=6.4.4->jupyter-server~=1.2->jupyterlab==3.0.7->colabcode) (4.6.3)\n",
            "Requirement already satisfied: pandocfilters>=1.4.1 in /usr/local/lib/python3.7/dist-packages (from nbconvert>=6.4.4->jupyter-server~=1.2->jupyterlab==3.0.7->colabcode) (1.5.0)\n",
            "Requirement already satisfied: ipython-genutils in /usr/local/lib/python3.7/dist-packages (from notebook<7->nbclassic~=0.2->jupyterlab==3.0.7->colabcode) (0.2.0)\n",
            "Requirement already satisfied: ipykernel in /usr/local/lib/python3.7/dist-packages (from notebook<7->nbclassic~=0.2->jupyterlab==3.0.7->colabcode) (4.10.1)\n",
            "Requirement already satisfied: PyYAML in /usr/local/lib/python3.7/dist-packages (from pyngrok>=5.0.0->colabcode) (3.13)\n",
            "Requirement already satisfied: six>=1.5 in /usr/local/lib/python3.7/dist-packages (from python-dateutil>=2.8.2->jupyter-client>=6.1.12->jupyter-server~=1.2->jupyterlab==3.0.7->colabcode) (1.15.0)\n",
            "Requirement already satisfied: ptyprocess in /usr/local/lib/python3.7/dist-packages (from terminado>=0.8.3->jupyter-server~=1.2->jupyterlab==3.0.7->colabcode) (0.7.0)\n",
            "Requirement already satisfied: argon2-cffi-bindings in /usr/local/lib/python3.7/dist-packages (from argon2-cffi->jupyter-server~=1.2->jupyterlab==3.0.7->colabcode) (21.2.0)\n",
            "Requirement already satisfied: cffi>=1.0.1 in /usr/local/lib/python3.7/dist-packages (from argon2-cffi-bindings->argon2-cffi->jupyter-server~=1.2->jupyterlab==3.0.7->colabcode) (1.15.0)\n",
            "Requirement already satisfied: pycparser in /usr/local/lib/python3.7/dist-packages (from cffi>=1.0.1->argon2-cffi-bindings->argon2-cffi->jupyter-server~=1.2->jupyterlab==3.0.7->colabcode) (2.21)\n",
            "Requirement already satisfied: pytz>=2015.7 in /usr/local/lib/python3.7/dist-packages (from babel->jupyterlab-server~=2.0->jupyterlab==3.0.7->colabcode) (2018.9)\n",
            "Requirement already satisfied: webencodings in /usr/local/lib/python3.7/dist-packages (from bleach->nbconvert>=6.4.4->jupyter-server~=1.2->jupyterlab==3.0.7->colabcode) (0.5.1)\n",
            "Requirement already satisfied: pexpect in /usr/local/lib/python3.7/dist-packages (from ipython->jupyterlab==3.0.7->colabcode) (4.8.0)\n",
            "Requirement already satisfied: simplegeneric>0.8 in /usr/local/lib/python3.7/dist-packages (from ipython->jupyterlab==3.0.7->colabcode) (0.8.1)\n",
            "Requirement already satisfied: setuptools>=18.5 in /usr/local/lib/python3.7/dist-packages (from ipython->jupyterlab==3.0.7->colabcode) (57.4.0)\n",
            "Requirement already satisfied: decorator in /usr/local/lib/python3.7/dist-packages (from ipython->jupyterlab==3.0.7->colabcode) (4.4.2)\n",
            "Requirement already satisfied: prompt-toolkit<2.0.0,>=1.0.4 in /usr/local/lib/python3.7/dist-packages (from ipython->jupyterlab==3.0.7->colabcode) (1.0.18)\n",
            "Requirement already satisfied: pickleshare in /usr/local/lib/python3.7/dist-packages (from ipython->jupyterlab==3.0.7->colabcode) (0.7.5)\n",
            "Requirement already satisfied: wcwidth in /usr/local/lib/python3.7/dist-packages (from prompt-toolkit<2.0.0,>=1.0.4->ipython->jupyterlab==3.0.7->colabcode) (0.2.5)\n",
            "Requirement already satisfied: pyparsing!=3.0.5,>=2.0.2 in /usr/local/lib/python3.7/dist-packages (from packaging->jupyterlab==3.0.7->colabcode) (3.0.7)\n",
            "Requirement already satisfied: certifi>=2017.4.17 in /usr/local/lib/python3.7/dist-packages (from requests->jupyterlab-server~=2.0->jupyterlab==3.0.7->colabcode) (2021.10.8)\n",
            "Requirement already satisfied: chardet<4,>=3.0.2 in /usr/local/lib/python3.7/dist-packages (from requests->jupyterlab-server~=2.0->jupyterlab==3.0.7->colabcode) (3.0.4)\n",
            "Requirement already satisfied: urllib3!=1.25.0,!=1.25.1,<1.26,>=1.21.1 in /usr/local/lib/python3.7/dist-packages (from requests->jupyterlab-server~=2.0->jupyterlab==3.0.7->colabcode) (1.24.3)\n",
            "Building wheels for collected packages: pyngrok\n",
            "  Building wheel for pyngrok (setup.py) ... \u001b[?25l\u001b[?25hdone\n",
            "  Created wheel for pyngrok: filename=pyngrok-5.1.0-py3-none-any.whl size=19007 sha256=a0299ebf768f8605393f0cc167ca357a418aae9929e85cd56f3fda73ee7623e2\n",
            "  Stored in directory: /root/.cache/pip/wheels/bf/e6/af/ccf6598ecefecd44104069371795cb9b3afbcd16987f6ccfb3\n",
            "Successfully built pyngrok\n",
            "Installing collected packages: tornado, nest-asyncio, jupyter-client, sniffio, jinja2, websocket-client, nbconvert, anyio, jupyter-server, notebook-shim, json5, nbclassic, jupyterlab-server, h11, uvicorn, pyngrok, jupyterlab, colabcode\n",
            "  Attempting uninstall: tornado\n",
            "    Found existing installation: tornado 5.1.1\n",
            "    Uninstalling tornado-5.1.1:\n",
            "      Successfully uninstalled tornado-5.1.1\n",
            "  Attempting uninstall: nest-asyncio\n",
            "    Found existing installation: nest-asyncio 1.5.4\n",
            "    Uninstalling nest-asyncio-1.5.4:\n",
            "      Successfully uninstalled nest-asyncio-1.5.4\n",
            "  Attempting uninstall: jupyter-client\n",
            "    Found existing installation: jupyter-client 5.3.5\n",
            "    Uninstalling jupyter-client-5.3.5:\n",
            "      Successfully uninstalled jupyter-client-5.3.5\n",
            "  Attempting uninstall: jinja2\n",
            "    Found existing installation: Jinja2 2.11.3\n",
            "    Uninstalling Jinja2-2.11.3:\n",
            "      Successfully uninstalled Jinja2-2.11.3\n",
            "  Attempting uninstall: nbconvert\n",
            "    Found existing installation: nbconvert 5.6.1\n",
            "    Uninstalling nbconvert-5.6.1:\n",
            "      Successfully uninstalled nbconvert-5.6.1\n",
            "\u001b[31mERROR: pip's dependency resolver does not currently take into account all the packages that are installed. This behaviour is the source of the following dependency conflicts.\n",
            "google-colab 1.0.0 requires tornado~=5.1.0; python_version >= \"3.0\", but you have tornado 6.1 which is incompatible.\n",
            "flask 1.1.4 requires Jinja2<3.0,>=2.10.1, but you have jinja2 3.1.1 which is incompatible.\n",
            "datascience 0.10.6 requires folium==0.2.1, but you have folium 0.8.3 which is incompatible.\u001b[0m\n",
            "Successfully installed anyio-3.5.0 colabcode-0.3.0 h11-0.13.0 jinja2-3.1.1 json5-0.9.6 jupyter-client-6.1.12 jupyter-server-1.16.0 jupyterlab-3.0.7 jupyterlab-server-2.12.0 nbclassic-0.3.7 nbconvert-6.4.5 nest-asyncio-1.4.3 notebook-shim-0.1.0 pyngrok-5.1.0 sniffio-1.2.0 tornado-6.1 uvicorn-0.13.1 websocket-client-1.3.2\n"
          ]
        },
        {
          "output_type": "display_data",
          "data": {
            "application/vnd.colab-display-data+json": {
              "pip_warning": {
                "packages": [
                  "jupyter_client",
                  "tornado"
                ]
              }
            }
          },
          "metadata": {}
        },
        {
          "output_type": "stream",
          "name": "stdout",
          "text": [
            "Collecting fastapi\n",
            "  Downloading fastapi-0.75.1-py3-none-any.whl (54 kB)\n",
            "\u001b[K     |████████████████████████████████| 54 kB 1.5 MB/s \n",
            "\u001b[?25hCollecting starlette==0.17.1\n",
            "  Downloading starlette-0.17.1-py3-none-any.whl (58 kB)\n",
            "\u001b[K     |████████████████████████████████| 58 kB 4.9 MB/s \n",
            "\u001b[?25hCollecting pydantic!=1.7,!=1.7.1,!=1.7.2,!=1.7.3,!=1.8,!=1.8.1,<2.0.0,>=1.6.2\n",
            "  Downloading pydantic-1.9.0-cp37-cp37m-manylinux_2_17_x86_64.manylinux2014_x86_64.whl (10.9 MB)\n",
            "\u001b[K     |████████████████████████████████| 10.9 MB 42.8 MB/s \n",
            "\u001b[?25hRequirement already satisfied: typing-extensions in /usr/local/lib/python3.7/dist-packages (from starlette==0.17.1->fastapi) (3.10.0.2)\n",
            "Requirement already satisfied: anyio<4,>=3.0.0 in /usr/local/lib/python3.7/dist-packages (from starlette==0.17.1->fastapi) (3.5.0)\n",
            "Requirement already satisfied: sniffio>=1.1 in /usr/local/lib/python3.7/dist-packages (from anyio<4,>=3.0.0->starlette==0.17.1->fastapi) (1.2.0)\n",
            "Requirement already satisfied: idna>=2.8 in /usr/local/lib/python3.7/dist-packages (from anyio<4,>=3.0.0->starlette==0.17.1->fastapi) (2.10)\n",
            "Installing collected packages: starlette, pydantic, fastapi\n",
            "Successfully installed fastapi-0.75.1 pydantic-1.9.0 starlette-0.17.1\n"
          ]
        }
      ]
    },
    {
      "cell_type": "code",
      "source": [
        "from colabcode import ColabCode\n",
        "from fastapi import FastAPI"
      ],
      "metadata": {
        "id": "QeAG7ikHI23x"
      },
      "execution_count": null,
      "outputs": []
    },
    {
      "cell_type": "code",
      "source": [
        "cc = ColabCode(port=12000, code=False)"
      ],
      "metadata": {
        "id": "u-TKcIghI7jU"
      },
      "execution_count": null,
      "outputs": []
    },
    {
      "cell_type": "code",
      "source": [
        "app = FastAPI()\n",
        "\n",
        "@app.get(\"/\")\n",
        "async def read_root():\n",
        "  return {\"message\": \"Hello\"}"
      ],
      "metadata": {
        "id": "Dx1w5oKXJEMI"
      },
      "execution_count": null,
      "outputs": []
    },
    {
      "cell_type": "code",
      "source": [
        "cc.run_app(app=app)"
      ],
      "metadata": {
        "colab": {
          "base_uri": "https://localhost:8080/"
        },
        "id": "7KsIFuWdJHOa",
        "outputId": "af2cf3b8-e0e1-487d-cf57-dc91ef972d4b"
      },
      "execution_count": null,
      "outputs": [
        {
          "output_type": "stream",
          "name": "stdout",
          "text": [
            "Public URL: NgrokTunnel: \"https://8f73-34-139-83-148.ngrok.io\" -> \"http://localhost:12000\"\n"
          ]
        },
        {
          "output_type": "stream",
          "name": "stderr",
          "text": [
            "INFO:     Started server process [61]\n",
            "INFO:     Waiting for application startup.\n",
            "INFO:     Application startup complete.\n",
            "INFO:     Uvicorn running on http://127.0.0.1:12000 (Press CTRL+C to quit)\n",
            "INFO:     Shutting down\n",
            "INFO:     Waiting for application shutdown.\n",
            "INFO:     Application shutdown complete.\n",
            "INFO:     Finished server process [61]\n"
          ]
        }
      ]
    },
    {
      "cell_type": "code",
      "source": [
        "import pickle\n",
        "\n",
        "\n",
        "Pkl_Filename = \"model.pkl\"  \n",
        "\n",
        "with open(Pkl_Filename, 'wb') as file:  \n",
        "    pickle.dump(best_model, file)"
      ],
      "metadata": {
        "id": "3tvRw5aoJIhM"
      },
      "execution_count": null,
      "outputs": []
    },
    {
      "cell_type": "code",
      "source": [
        "import pickle\n",
        "import logging\n",
        "from fastapi import FastAPI\n",
        "\n",
        "app = FastAPI(title=\"ML Models as API on Google Colab\", description=\"with FastAPI and ColabCode\", version=\"1.0\")\n",
        "\n",
        "# # Initialize logging\n",
        "# my_logger = logging.getLogger()\n",
        "# my_logger.setLevel(logging.DEBUG)\n",
        "# logging.basicConfig(level=logging.DEBUG, filename='logs.log')\n",
        "\n",
        "model = None\n",
        "\n",
        "@app.on_event(\"startup\")\n",
        "def load_model():\n",
        "    global model\n",
        "    model = pickle.load(open(\"model.pkl\", \"rb\"))\n",
        "\n",
        "@app.post(\"/api\", tags=[\"prediction\"])\n",
        "def Prediction(name,description):\n",
        "\n",
        "    d = {'name': name, 'description': description}\n",
        "    data = pd.DataFrame(data=d, index=[0])\n",
        "    data = clean_text(data, 'name', 'name')\n",
        "    data= clean_text(data, 'description', 'description')\n",
        "\n",
        "    X = v.transform(data['name'] + data['description'])\n",
        "    filename = \"model.sav\"\n",
        "    model = joblib.load(filename) # loading already saved model\n",
        "\n",
        "\n",
        "    # calculating test accuracy\n",
        "    prediction = model.predict(X)\n",
        "    L = list(prediction[0])\n",
        "\n",
        "    for i, p in enumerate(L):\n",
        "        if p ==1:\n",
        "            label = list(labels_encoding.columns) \n",
        "            print(label[i])\n",
        "\n",
        "    return prediction\n"
      ],
      "metadata": {
        "id": "aMVdPMNsTco4"
      },
      "execution_count": null,
      "outputs": []
    },
    {
      "cell_type": "code",
      "source": [
        ""
      ],
      "metadata": {
        "id": "HMisgQR8N-OO"
      },
      "execution_count": null,
      "outputs": []
    }
  ],
  "metadata": {
    "colab": {
      "collapsed_sections": [
        "Zu_CdHhIg_8r",
        "G6C_tRYZ7-eX",
        "ndiQQ7i6hmrJ",
        "hHrHMvbwAi6D",
        "vSPiR0TWBrLT",
        "KOCg6tgf-DBY"
      ],
      "name": "Multilabel classification using BestBuyAPIs datasets.ipynb",
      "provenance": []
    },
    "kernelspec": {
      "display_name": "Python 3",
      "name": "python3"
    },
    "language_info": {
      "name": "python"
    }
  },
  "nbformat": 4,
  "nbformat_minor": 0
}